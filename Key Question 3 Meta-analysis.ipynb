{
 "cells": [
  {
   "cell_type": "markdown",
   "metadata": {},
   "source": [
    "## KQ3: Pritts Meta-analysis Update\n",
    "\n",
    "In key question 3, we address the risk of sarcoma dissemination following morcellation of fibroids. We identified a recently published analysis conducted by Elizabeth Pritts and her colleagues (2015) to estimate the  prevalence of occult leiomyosarcoma at time of treatment for presumed benign tumors (fibroids).  We updated their search and used similar eligibility criteria to identify papers published since 2014. We extracted from these papers the number of women who were treated for uterine fibroids and the cases of leiomyosarcoma subsequently identified.  We have combined these data with the data from the 134 publications that Pritts et al included in their analysis for a total of LMS rates from 148 sources."
   ]
  },
  {
   "cell_type": "code",
   "execution_count": 1,
   "metadata": {
    "collapsed": true
   },
   "outputs": [],
   "source": [
    "%matplotlib inline\n",
    "import numpy as np\n",
    "import pandas as pd\n",
    "import pymc3 as pm\n",
    "import seaborn as sns\n",
    "import matplotlib.pyplot as plt\n",
    "import pdb\n",
    "sns.set()\n",
    "\n",
    "rseeds = 20090425, 19771114, 20161216, 19700903"
   ]
  },
  {
   "cell_type": "code",
   "execution_count": 2,
   "metadata": {
    "collapsed": true,
    "scrolled": true
   },
   "outputs": [],
   "source": [
    "keep_cols = ['Author', 'Year', 'Design', 'Procedure', 'Indication',\n",
    "                                     'Age, Mean', 'Age, SD', 'Age, Median', 'Age, Min', 'Age, Max', 'Age, Other',\n",
    "                                     'LMS','Population','Tumors','InPritts','POSTOP_HP_Done', 'Hysteroscopy']\n",
    "\n",
    "datasets = pd.read_excel('data/Pritts_EPC_KQ3_Includes_Histopathology_SK_03212017.xlsx', \n",
    "                         sheetname=['OLD_PRITTS', 'UPDATED_PRITTS', 'Updated_Pritts_With_EPC_INclude'], \n",
    "                         na_values=['NR', 'NA'],\n",
    "                        index_col=0)"
   ]
  },
  {
   "cell_type": "code",
   "execution_count": 3,
   "metadata": {
    "collapsed": true
   },
   "outputs": [],
   "source": [
    "def clean_data(kq3_data):\n",
    "\n",
    "    return (kq3_data.assign(age_max=kq3_data['Age, Max'].replace('50+', 50),\n",
    "                           design=kq3_data['Design'].str.strip().replace('prospective', 'Prospective'),\n",
    "                           Prospective=(kq3_data.Design!='Retrospective').astype(int))\n",
    "                    .rename(columns={'Age, Min': 'age_min',\n",
    "                                       'Age, Mean': 'age_mean',\n",
    "                                       'Age, SD': 'age_sd',\n",
    "                                       'Age, Median': 'age_med'})\n",
    "                    .drop(['Age, Max', 'Design'], axis=1)\n",
    "                    .dropna(thresh=7))\n",
    "    "
   ]
  },
  {
   "cell_type": "code",
   "execution_count": 4,
   "metadata": {
    "collapsed": true
   },
   "outputs": [],
   "source": [
    "datasets = {sheet: clean_data(datasets[sheet][keep_cols]) for sheet in datasets}\n",
    "\n",
    "old_pritts = datasets['OLD_PRITTS']\n",
    "updated_pritts = datasets['UPDATED_PRITTS']\n",
    "all_data = datasets['Updated_Pritts_With_EPC_INclude']"
   ]
  },
  {
   "cell_type": "markdown",
   "metadata": {},
   "source": [
    "Missing values"
   ]
  },
  {
   "cell_type": "code",
   "execution_count": 5,
   "metadata": {},
   "outputs": [
    {
     "data": {
      "text/plain": [
       "Author              0\n",
       "Year                0\n",
       "Procedure           0\n",
       "Indication          1\n",
       "age_mean           71\n",
       "age_sd            149\n",
       "age_med           150\n",
       "age_min            64\n",
       "Age, Other        127\n",
       "LMS                 0\n",
       "Population          0\n",
       "Tumors              0\n",
       "InPritts            0\n",
       "POSTOP_HP_Done      0\n",
       "Hysteroscopy        0\n",
       "Prospective         0\n",
       "age_max            65\n",
       "design              0\n",
       "dtype: int64"
      ]
     },
     "execution_count": 5,
     "metadata": {},
     "output_type": "execute_result"
    }
   ],
   "source": [
    "all_data.isnull().sum()"
   ]
  },
  {
   "cell_type": "code",
   "execution_count": 6,
   "metadata": {},
   "outputs": [
    {
     "data": {
      "text/html": [
       "<div>\n",
       "<table border=\"1\" class=\"dataframe\">\n",
       "  <thead>\n",
       "    <tr style=\"text-align: right;\">\n",
       "      <th></th>\n",
       "      <th>Year</th>\n",
       "      <th>age_mean</th>\n",
       "      <th>age_sd</th>\n",
       "      <th>age_med</th>\n",
       "      <th>age_min</th>\n",
       "      <th>LMS</th>\n",
       "      <th>Population</th>\n",
       "      <th>Tumors</th>\n",
       "      <th>InPritts</th>\n",
       "      <th>Prospective</th>\n",
       "      <th>age_max</th>\n",
       "    </tr>\n",
       "  </thead>\n",
       "  <tbody>\n",
       "    <tr>\n",
       "      <th>count</th>\n",
       "      <td>161.000000</td>\n",
       "      <td>90.000000</td>\n",
       "      <td>12.000000</td>\n",
       "      <td>11.000000</td>\n",
       "      <td>97.00000</td>\n",
       "      <td>161.000000</td>\n",
       "      <td>161.000000</td>\n",
       "      <td>161.000000</td>\n",
       "      <td>161.000000</td>\n",
       "      <td>161.000000</td>\n",
       "      <td>96.000000</td>\n",
       "    </tr>\n",
       "    <tr>\n",
       "      <th>mean</th>\n",
       "      <td>2005.155280</td>\n",
       "      <td>41.919222</td>\n",
       "      <td>7.009167</td>\n",
       "      <td>41.545455</td>\n",
       "      <td>26.91134</td>\n",
       "      <td>2.509317</td>\n",
       "      <td>973.453416</td>\n",
       "      <td>2.509317</td>\n",
       "      <td>0.832298</td>\n",
       "      <td>0.422360</td>\n",
       "      <td>61.466667</td>\n",
       "    </tr>\n",
       "    <tr>\n",
       "      <th>std</th>\n",
       "      <td>7.873658</td>\n",
       "      <td>6.130203</td>\n",
       "      <td>2.821758</td>\n",
       "      <td>5.791954</td>\n",
       "      <td>6.20752</td>\n",
       "      <td>13.280681</td>\n",
       "      <td>3902.644397</td>\n",
       "      <td>13.280681</td>\n",
       "      <td>0.374767</td>\n",
       "      <td>0.495476</td>\n",
       "      <td>13.430732</td>\n",
       "    </tr>\n",
       "    <tr>\n",
       "      <th>min</th>\n",
       "      <td>1984.000000</td>\n",
       "      <td>28.200000</td>\n",
       "      <td>1.800000</td>\n",
       "      <td>35.000000</td>\n",
       "      <td>18.00000</td>\n",
       "      <td>0.000000</td>\n",
       "      <td>5.000000</td>\n",
       "      <td>0.000000</td>\n",
       "      <td>0.000000</td>\n",
       "      <td>0.000000</td>\n",
       "      <td>34.000000</td>\n",
       "    </tr>\n",
       "    <tr>\n",
       "      <th>25%</th>\n",
       "      <td>1999.000000</td>\n",
       "      <td>37.310000</td>\n",
       "      <td>5.925000</td>\n",
       "      <td>37.450000</td>\n",
       "      <td>22.00000</td>\n",
       "      <td>0.000000</td>\n",
       "      <td>40.000000</td>\n",
       "      <td>0.000000</td>\n",
       "      <td>1.000000</td>\n",
       "      <td>0.000000</td>\n",
       "      <td>51.000000</td>\n",
       "    </tr>\n",
       "    <tr>\n",
       "      <th>50%</th>\n",
       "      <td>2006.000000</td>\n",
       "      <td>42.200000</td>\n",
       "      <td>6.600000</td>\n",
       "      <td>40.000000</td>\n",
       "      <td>26.00000</td>\n",
       "      <td>0.000000</td>\n",
       "      <td>92.000000</td>\n",
       "      <td>0.000000</td>\n",
       "      <td>1.000000</td>\n",
       "      <td>0.000000</td>\n",
       "      <td>60.000000</td>\n",
       "    </tr>\n",
       "    <tr>\n",
       "      <th>75%</th>\n",
       "      <td>2012.000000</td>\n",
       "      <td>46.000000</td>\n",
       "      <td>7.697500</td>\n",
       "      <td>45.800000</td>\n",
       "      <td>31.00000</td>\n",
       "      <td>0.000000</td>\n",
       "      <td>334.000000</td>\n",
       "      <td>0.000000</td>\n",
       "      <td>1.000000</td>\n",
       "      <td>1.000000</td>\n",
       "      <td>70.250000</td>\n",
       "    </tr>\n",
       "    <tr>\n",
       "      <th>max</th>\n",
       "      <td>2016.000000</td>\n",
       "      <td>59.600000</td>\n",
       "      <td>12.500000</td>\n",
       "      <td>52.900000</td>\n",
       "      <td>44.00000</td>\n",
       "      <td>115.000000</td>\n",
       "      <td>34728.000000</td>\n",
       "      <td>115.000000</td>\n",
       "      <td>1.000000</td>\n",
       "      <td>1.000000</td>\n",
       "      <td>96.000000</td>\n",
       "    </tr>\n",
       "  </tbody>\n",
       "</table>\n",
       "</div>"
      ],
      "text/plain": [
       "              Year   age_mean     age_sd    age_med   age_min         LMS  \\\n",
       "count   161.000000  90.000000  12.000000  11.000000  97.00000  161.000000   \n",
       "mean   2005.155280  41.919222   7.009167  41.545455  26.91134    2.509317   \n",
       "std       7.873658   6.130203   2.821758   5.791954   6.20752   13.280681   \n",
       "min    1984.000000  28.200000   1.800000  35.000000  18.00000    0.000000   \n",
       "25%    1999.000000  37.310000   5.925000  37.450000  22.00000    0.000000   \n",
       "50%    2006.000000  42.200000   6.600000  40.000000  26.00000    0.000000   \n",
       "75%    2012.000000  46.000000   7.697500  45.800000  31.00000    0.000000   \n",
       "max    2016.000000  59.600000  12.500000  52.900000  44.00000  115.000000   \n",
       "\n",
       "         Population      Tumors    InPritts  Prospective    age_max  \n",
       "count    161.000000  161.000000  161.000000   161.000000  96.000000  \n",
       "mean     973.453416    2.509317    0.832298     0.422360  61.466667  \n",
       "std     3902.644397   13.280681    0.374767     0.495476  13.430732  \n",
       "min        5.000000    0.000000    0.000000     0.000000  34.000000  \n",
       "25%       40.000000    0.000000    1.000000     0.000000  51.000000  \n",
       "50%       92.000000    0.000000    1.000000     0.000000  60.000000  \n",
       "75%      334.000000    0.000000    1.000000     1.000000  70.250000  \n",
       "max    34728.000000  115.000000    1.000000     1.000000  96.000000  "
      ]
     },
     "execution_count": 6,
     "metadata": {},
     "output_type": "execute_result"
    }
   ],
   "source": [
    "all_data.describe()"
   ]
  },
  {
   "cell_type": "code",
   "execution_count": 7,
   "metadata": {},
   "outputs": [
    {
     "data": {
      "image/png": "[encoded data removed]",
      "text/plain": [
       "<matplotlib.figure.Figure at 0x11c9c3320>"
      ]
     },
     "metadata": {},
     "output_type": "display_data"
    }
   ],
   "source": [
    "all_data[[c for c in all_data.columns if c.startswith('age')]].hist();"
   ]
  },
  {
   "cell_type": "markdown",
   "metadata": {},
   "source": [
    "Breakdown on studies by design."
   ]
  },
  {
   "cell_type": "code",
   "execution_count": 8,
   "metadata": {},
   "outputs": [
    {
     "data": {
      "text/plain": [
       "Retrospective    94\n",
       "Prospective      40\n",
       "RCT              27\n",
       "Name: design, dtype: int64"
      ]
     },
     "execution_count": 8,
     "metadata": {},
     "output_type": "execute_result"
    }
   ],
   "source": [
    "all_data.design.value_counts()"
   ]
  },
  {
   "cell_type": "markdown",
   "metadata": {},
   "source": [
    "Following [Pritts et al. (2015)](http://www.ncbi.nlm.nih.gov/pubmed/26283890), I fit a binomial random effects model, such that event probabilities on the logit scale are normally distributed with mean $\\mu$ and standard deviation $\\sigma$. This distribution describes how the probabilities vary across studies, with the degree of variation described by $\\sigma$.\n",
    "\n",
    "$$\\theta_i \\sim N(\\mu, \\sigma^2)$$\n",
    "\n",
    "the expected value for study $i$ is then inverse-logit transformed, and used as the event probability $\\pi_i$ in a binomial model describing the number of observed tumors $t$:\n",
    "\n",
    "$$\\log\\left[\\frac{\\pi_i}{1-\\pi_i}\\right] = \\theta_i$$\n",
    "\n",
    "$$t_i \\sim \\text{Bin}(n_i, \\pi_i)$$"
   ]
  },
  {
   "cell_type": "markdown",
   "metadata": {},
   "source": [
    "There appears to be no obvious relationship between age (normalized) and tumor rate (though a quadratic model might be worth considering). We will not include age as a covariate in the model."
   ]
  },
  {
   "cell_type": "code",
   "execution_count": 9,
   "metadata": {
    "scrolled": false
   },
   "outputs": [
    {
     "data": {
      "text/plain": [
       "(0, 0.03)"
      ]
     },
     "execution_count": 9,
     "metadata": {},
     "output_type": "execute_result"
    },
    {
     "data": {
      "image/png": "[encoded data removed]",
      "text/plain": [
       "<matplotlib.figure.Figure at 0x11ee80978>"
      ]
     },
     "metadata": {},
     "output_type": "display_data"
    }
   ],
   "source": [
    "(all_data.assign(age_max_norm=((all_data.age_max - 60)/10).fillna(0.5), \n",
    "                 tumor_rate=all_data.Tumors/all_data.Population)\n",
    "         .plot.scatter(x='age_max_norm', y='tumor_rate', style='ro', alpha=0.3)\n",
    "         .set_ylim(0, 0.03))"
   ]
  },
  {
   "cell_type": "markdown",
   "metadata": {},
   "source": [
    "##  Recapitulation of Pritts original  Meta-analysis\n",
    "\n",
    "Here we try to recreate the original Pritts model by exactly specifying the model as the original, and using the same dataset.\n",
    "\n",
    "Here is the model:"
   ]
  },
  {
   "cell_type": "code",
   "execution_count": 10,
   "metadata": {
    "collapsed": true
   },
   "outputs": [],
   "source": [
    "import theano.tensor as tt\n",
    "invlogit = pm.math.invlogit\n",
    "\n",
    "def original_model(model_data):\n",
    "    \n",
    "    with pm.Model() as model:\n",
    "\n",
    "        k = model_data.shape[0]\n",
    "        tumors = model_data.Tumors.values.astype(int)\n",
    "        n = model_data.Population.values.astype(int)\n",
    "\n",
    "        # Study random effect\n",
    "        μ = pm.Normal('μ', 0, sd=100)\n",
    "        σ = pm.Uniform('σ', 0, 10)\n",
    "        ζ = pm.Normal('ζ', 0, 1, shape=k)\n",
    "        θ = μ + ζ*σ\n",
    "\n",
    "        # Study-specific probabilities\n",
    "        π = pm.Deterministic('π', invlogit(θ))\n",
    "\n",
    "        # Expected probabilities by design\n",
    "        p_10000 = pm.Deterministic('p_10000', invlogit(μ)*10000)\n",
    "\n",
    "        obs = pm.Binomial('obs', n=n, p=π, observed=tumors)\n",
    "        \n",
    "    return model"
   ]
  },
  {
   "cell_type": "code",
   "execution_count": 11,
   "metadata": {
    "collapsed": true
   },
   "outputs": [],
   "source": [
    "prospective_mask = old_pritts.design=='Prospective'\n",
    "\n",
    "pritts_prospective = original_model(old_pritts[prospective_mask])\n",
    "pritts_retrospective = original_model(old_pritts[~prospective_mask])"
   ]
  },
  {
   "cell_type": "code",
   "execution_count": 12,
   "metadata": {
    "collapsed": true
   },
   "outputs": [],
   "source": [
    "iterations = 5000\n",
    "keep = 4000\n",
    "tune = iterations - keep"
   ]
  },
  {
   "cell_type": "code",
   "execution_count": 13,
   "metadata": {},
   "outputs": [
    {
     "data": {
      "text/plain": [
       "(3641, 38)"
      ]
     },
     "execution_count": 13,
     "metadata": {},
     "output_type": "execute_result"
    }
   ],
   "source": [
    "old_pritts[prospective_mask].Population.sum(), old_pritts[prospective_mask].Population.shape[0]"
   ]
  },
  {
   "cell_type": "code",
   "execution_count": 14,
   "metadata": {},
   "outputs": [
    {
     "data": {
      "text/plain": [
       "(26552, 96)"
      ]
     },
     "execution_count": 14,
     "metadata": {},
     "output_type": "execute_result"
    }
   ],
   "source": [
    "old_pritts[~prospective_mask].Population.sum(), old_pritts[~prospective_mask].Population.shape[0]"
   ]
  },
  {
   "cell_type": "markdown",
   "metadata": {},
   "source": [
    "Here's the prospective model:"
   ]
  },
  {
   "cell_type": "code",
   "execution_count": 15,
   "metadata": {
    "scrolled": true
   },
   "outputs": [
    {
     "name": "stderr",
     "output_type": "stream",
     "text": [
      "Auto-assigning NUTS sampler...\n",
      "Initializing NUTS using advi...\n",
      "Average ELBO = -17.857: 100%|██████████| 200000/200000 [00:15<00:00, 12553.79it/s]\n",
      "Finished [100%]: Average ELBO = -17.645\n",
      "Evidence of divergence detected, inspect ELBO.\n",
      " 99%|█████████▉| 4949/5000 [00:33<00:00, 149.89it/s]/Users/fonnescj/Repos/pymc3/pymc3/step_methods/hmc/nuts.py:247: UserWarning: Chain 1 contains diverging samples after tuning. If increasing `target_accept` doesn't help, try to reparameterize.\n",
      "  \"try to reparameterize.\" % chain)\n",
      "/Users/fonnescj/Repos/pymc3/pymc3/step_methods/hmc/nuts.py:268: UserWarning: The acceptance probability in chain 1 does not match the target. It is 0.477434939534, but should be close to 0.8. Try to increase the number of tuning steps.\n",
      "  % (chain, mean_accept, target_accept))\n",
      "100%|██████████| 5000/5000 [00:34<00:00, 152.05it/s]/Users/fonnescj/Repos/pymc3/pymc3/step_methods/hmc/nuts.py:247: UserWarning: Chain 0 contains diverging samples after tuning. If increasing `target_accept` doesn't help, try to reparameterize.\n",
      "  \"try to reparameterize.\" % chain)\n",
      "/Users/fonnescj/Repos/pymc3/pymc3/step_methods/hmc/nuts.py:268: UserWarning: The acceptance probability in chain 0 does not match the target. It is 0.661448503448, but should be close to 0.8. Try to increase the number of tuning steps.\n",
      "  % (chain, mean_accept, target_accept))\n",
      "\n",
      "/Users/fonnescj/Repos/pymc3/pymc3/step_methods/hmc/nuts.py:247: UserWarning: Chain 3 contains diverging samples after tuning. If increasing `target_accept` doesn't help, try to reparameterize.\n",
      "  \"try to reparameterize.\" % chain)\n",
      "/Users/fonnescj/Repos/pymc3/pymc3/step_methods/hmc/nuts.py:247: UserWarning: Chain 2 contains diverging samples after tuning. If increasing `target_accept` doesn't help, try to reparameterize.\n",
      "  \"try to reparameterize.\" % chain)\n",
      "/Users/fonnescj/Repos/pymc3/pymc3/step_methods/hmc/nuts.py:268: UserWarning: The acceptance probability in chain 2 does not match the target. It is 0.692706933416, but should be close to 0.8. Try to increase the number of tuning steps.\n",
      "  % (chain, mean_accept, target_accept))\n"
     ]
    }
   ],
   "source": [
    "with pritts_prospective:\n",
    "    prospective_trace = pm.sample(iterations, njobs=4, tune=tune,\n",
    "                                  random_seed=rseeds)"
   ]
  },
  {
   "cell_type": "code",
   "execution_count": 16,
   "metadata": {
    "scrolled": false
   },
   "outputs": [
    {
     "name": "stdout",
     "output_type": "stream",
     "text": [
      "\n",
      "p_10000:\n",
      "\n",
      "  Mean             SD               MC Error         95% HPD interval\n",
      "  -------------------------------------------------------------------\n",
      "  \n",
      "  1.9588           3.3032           0.1128           [0.0000, 8.9776]\n",
      "\n",
      "  Posterior quantiles:\n",
      "  2.5            25             50             75             97.5\n",
      "  |--------------|==============|==============|--------------|\n",
      "  \n",
      "  0.0000         0.0110         0.3515         2.5218         11.7526\n",
      "\n",
      "\n",
      "μ:\n",
      "\n",
      "  Mean             SD               MC Error         95% HPD interval\n",
      "  -------------------------------------------------------------------\n",
      "  \n",
      "  -11.4245         3.9383           0.3015           [-19.4284, -6.3467]\n",
      "\n",
      "  Posterior quantiles:\n",
      "  2.5            25             50             75             97.5\n",
      "  |--------------|==============|==============|--------------|\n",
      "  \n",
      "  -20.3921       -13.7164       -10.2558       -8.2851        -6.7451\n",
      "\n",
      "\n",
      "σ:\n",
      "\n",
      "  Mean             SD               MC Error         95% HPD interval\n",
      "  -------------------------------------------------------------------\n",
      "  \n",
      "  3.3855           2.4540           0.1794           [0.0004, 8.3111]\n",
      "\n",
      "  Posterior quantiles:\n",
      "  2.5            25             50             75             97.5\n",
      "  |--------------|==============|==============|--------------|\n",
      "  \n",
      "  0.1890         1.4175         2.7993         4.9277         9.0576\n",
      "\n"
     ]
    }
   ],
   "source": [
    "pm.summary(prospective_trace[-keep:], varnames=['p_10000', 'μ', 'σ'], roundto=4)"
   ]
  },
  {
   "cell_type": "markdown",
   "metadata": {},
   "source": [
    "The following plots are the distribution of samples from the posterior distributions for the expected (population) probability of tumor (`p_update`), the inverse-logit expected probability ($\\mu$) and the standard deviation of the probabilities on the inverse-logit scale ($\\sigma$)."
   ]
  },
  {
   "cell_type": "code",
   "execution_count": 17,
   "metadata": {},
   "outputs": [
    {
     "data": {
      "image/png": "[encoded data removed]",
      "text/plain": [
       "<matplotlib.figure.Figure at 0x11f581eb8>"
      ]
     },
     "metadata": {},
     "output_type": "display_data"
    }
   ],
   "source": [
    "pm.forestplot(prospective_trace[-keep:], varnames=['p_10000', 'μ', 'σ']);"
   ]
  },
  {
   "cell_type": "markdown",
   "metadata": {},
   "source": [
    "Here's the retrospective model:"
   ]
  },
  {
   "cell_type": "code",
   "execution_count": 18,
   "metadata": {},
   "outputs": [
    {
     "name": "stderr",
     "output_type": "stream",
     "text": [
      "Auto-assigning NUTS sampler...\n",
      "Initializing NUTS using advi...\n",
      "Average ELBO = -53.289: 100%|██████████| 200000/200000 [00:17<00:00, 11717.98it/s]\n",
      "Finished [100%]: Average ELBO = -53.333\n",
      " 55%|█████▌    | 2762/5000 [00:50<01:00, 37.10it/s] /Users/fonnescj/Repos/pymc3/pymc3/step_methods/hmc/nuts.py:247: UserWarning: Chain 3 contains diverging samples after tuning. If increasing `target_accept` doesn't help, try to reparameterize.\n",
      "  \"try to reparameterize.\" % chain)\n",
      " 83%|████████▎ | 4135/5000 [01:17<00:10, 85.06it/s]/Users/fonnescj/Repos/pymc3/pymc3/step_methods/hmc/nuts.py:247: UserWarning: Chain 2 contains diverging samples after tuning. If increasing `target_accept` doesn't help, try to reparameterize.\n",
      "  \"try to reparameterize.\" % chain)\n",
      "100%|█████████▉| 4997/5000 [01:29<00:00, 78.19it/s] /Users/fonnescj/Repos/pymc3/pymc3/step_methods/hmc/nuts.py:247: UserWarning: Chain 0 contains diverging samples after tuning. If increasing `target_accept` doesn't help, try to reparameterize.\n",
      "  \"try to reparameterize.\" % chain)\n",
      "100%|██████████| 5000/5000 [01:29<00:00, 55.69it/s]\n"
     ]
    }
   ],
   "source": [
    "with pritts_retrospective:\n",
    "    retrospective_trace = pm.sample(iterations, njobs=4, tune=tune, random_seed=rseeds)"
   ]
  },
  {
   "cell_type": "code",
   "execution_count": 19,
   "metadata": {},
   "outputs": [
    {
     "name": "stdout",
     "output_type": "stream",
     "text": [
      "\n",
      "p_10000:\n",
      "\n",
      "  Mean             SD               MC Error         95% HPD interval\n",
      "  -------------------------------------------------------------------\n",
      "  \n",
      "  5.0582           2.2933           0.0412           [0.8862, 9.5076]\n",
      "\n",
      "  Posterior quantiles:\n",
      "  2.5            25             50             75             97.5\n",
      "  |--------------|==============|==============|--------------|\n",
      "  \n",
      "  1.3305         3.3752         4.7856         6.4655         10.1989\n",
      "\n",
      "\n",
      "μ:\n",
      "\n",
      "  Mean             SD               MC Error         95% HPD interval\n",
      "  -------------------------------------------------------------------\n",
      "  \n",
      "  -7.7056          0.5166           0.0112           [-8.7333, -6.7978]\n",
      "\n",
      "  Posterior quantiles:\n",
      "  2.5            25             50             75             97.5\n",
      "  |--------------|==============|==============|--------------|\n",
      "  \n",
      "  -8.9247        -7.9936        -7.6443        -7.3432        -6.8870\n",
      "\n",
      "\n",
      "σ:\n",
      "\n",
      "  Mean             SD               MC Error         95% HPD interval\n",
      "  -------------------------------------------------------------------\n",
      "  \n",
      "  1.1573           0.3972           0.0085           [0.4473, 1.9923]\n",
      "\n",
      "  Posterior quantiles:\n",
      "  2.5            25             50             75             97.5\n",
      "  |--------------|==============|==============|--------------|\n",
      "  \n",
      "  0.4901         0.8774         1.1182         1.3891         2.0664\n",
      "\n"
     ]
    }
   ],
   "source": [
    "pm.summary(retrospective_trace[-keep:], varnames=['p_10000', 'μ', 'σ'], roundto=4)"
   ]
  },
  {
   "cell_type": "code",
   "execution_count": 20,
   "metadata": {},
   "outputs": [
    {
     "data": {
      "image/png": "[encoded data removed]",
      "text/plain": [
       "<matplotlib.figure.Figure at 0x12570fe80>"
      ]
     },
     "metadata": {},
     "output_type": "display_data"
    }
   ],
   "source": [
    "pm.forestplot(retrospective_trace[-keep:], varnames=['p_10000', 'μ', 'σ']);"
   ]
  },
  {
   "cell_type": "markdown",
   "metadata": {},
   "source": [
    "By comparison, estimates from Pritts' supplement:\n",
    "\n",
    "![pritts estimates](pritts_table.png)"
   ]
  },
  {
   "cell_type": "code",
   "execution_count": 21,
   "metadata": {
    "collapsed": true
   },
   "outputs": [],
   "source": [
    "def pritts_plot(traces, title=''):\n",
    "    \n",
    "    intervals = [pm.stats.hpd(tr['p_10000'][-keep:]) for tr in traces]\n",
    "\n",
    "    meds = [np.mean(tr['p_10000'][-keep:]) for tr in traces]\n",
    "    upper = [i[1] - m for m,i in zip(meds, intervals)]\n",
    "    lower = [m - i[0] for m,i in zip(meds, intervals)]\n",
    "\n",
    "    plt.errorbar(np.arange(2)-0.1, meds, yerr=[lower, upper], fmt='s', label='Updated MA')\n",
    "    plt.errorbar(np.arange(2)+0.1, [5.7, 1.2], yerr=[[5.7-1.7, 1.2], [11.3 - 5.7,7.5 - 1.2]], \n",
    "                 color='r', fmt='D', label='Pritts MA', elinewidth=0.5)\n",
    "    plt.xticks(range(3), ['Retrospective', 'Prospective'])\n",
    "    plt.ylabel('Rate per 10,000 surgeries')\n",
    "    plt.xlim(-0.5, 1.5)\n",
    "    plt.title(title)\n",
    "    plt.legend();"
   ]
  },
  {
   "cell_type": "code",
   "execution_count": 22,
   "metadata": {},
   "outputs": [
    {
     "data": {
      "image/png": "[encoded data removed]",
      "text/plain": [
       "<matplotlib.figure.Figure at 0x11f984048>"
      ]
     },
     "metadata": {},
     "output_type": "display_data"
    }
   ],
   "source": [
    "pritts_plot([retrospective_trace, prospective_trace], 'Original data')"
   ]
  },
  {
   "cell_type": "markdown",
   "metadata": {},
   "source": [
    "## Pritts Update\n",
    "\n",
    "This is the same Pritts model, but with updated data."
   ]
  },
  {
   "cell_type": "code",
   "execution_count": 23,
   "metadata": {
    "collapsed": true
   },
   "outputs": [],
   "source": [
    "prospective_mask = updated_pritts.design=='Prospective'\n",
    "\n",
    "pritts_updated_prosp = original_model(updated_pritts[prospective_mask])\n",
    "pritts_updated_retro = original_model(updated_pritts[~prospective_mask])"
   ]
  },
  {
   "cell_type": "code",
   "execution_count": 24,
   "metadata": {},
   "outputs": [
    {
     "data": {
      "text/plain": [
       "(3648, 38)"
      ]
     },
     "execution_count": 24,
     "metadata": {},
     "output_type": "execute_result"
    }
   ],
   "source": [
    "updated_pritts[prospective_mask].Population.sum(), updated_pritts[prospective_mask].Population.shape[0]"
   ]
  },
  {
   "cell_type": "code",
   "execution_count": 25,
   "metadata": {},
   "outputs": [
    {
     "data": {
      "text/plain": [
       "(26504, 96)"
      ]
     },
     "execution_count": 25,
     "metadata": {},
     "output_type": "execute_result"
    }
   ],
   "source": [
    "updated_pritts[~prospective_mask].Population.sum(), updated_pritts[~prospective_mask].Population.shape[0]"
   ]
  },
  {
   "cell_type": "code",
   "execution_count": 26,
   "metadata": {},
   "outputs": [
    {
     "data": {
      "text/plain": [
       "(134, 18)"
      ]
     },
     "execution_count": 26,
     "metadata": {},
     "output_type": "execute_result"
    }
   ],
   "source": [
    "updated_pritts.shape"
   ]
  },
  {
   "cell_type": "code",
   "execution_count": 27,
   "metadata": {},
   "outputs": [
    {
     "name": "stderr",
     "output_type": "stream",
     "text": [
      "Auto-assigning NUTS sampler...\n",
      "Initializing NUTS using advi...\n",
      "Average ELBO = -17.863: 100%|██████████| 200000/200000 [00:13<00:00, 14724.90it/s]\n",
      "Finished [100%]: Average ELBO = -17.647\n",
      "Evidence of divergence detected, inspect ELBO.\n",
      " 99%|█████████▉| 4947/5000 [00:09<00:00, 571.38it/s]/Users/fonnescj/Repos/pymc3/pymc3/step_methods/hmc/nuts.py:247: UserWarning: Chain 0 contains diverging samples after tuning. If increasing `target_accept` doesn't help, try to reparameterize.\n",
      "  \"try to reparameterize.\" % chain)\n",
      "/Users/fonnescj/Repos/pymc3/pymc3/step_methods/hmc/nuts.py:268: UserWarning: The acceptance probability in chain 0 does not match the target. It is 0.693615571654, but should be close to 0.8. Try to increase the number of tuning steps.\n",
      "  % (chain, mean_accept, target_accept))\n",
      "100%|██████████| 5000/5000 [00:09<00:00, 504.75it/s]\n"
     ]
    }
   ],
   "source": [
    "with pritts_updated_prosp:\n",
    "    updated_prosp_trace = pm.sample(iterations, tune=tune, random_seed=rseeds)"
   ]
  },
  {
   "cell_type": "code",
   "execution_count": 28,
   "metadata": {},
   "outputs": [
    {
     "name": "stderr",
     "output_type": "stream",
     "text": [
      "Auto-assigning NUTS sampler...\n",
      "Initializing NUTS using advi...\n",
      "Average ELBO = -53.246: 100%|██████████| 200000/200000 [00:22<00:00, 8973.25it/s] \n",
      "Finished [100%]: Average ELBO = -53.291\n",
      "100%|██████████| 5000/5000 [00:29<00:00, 167.46it/s]\n"
     ]
    }
   ],
   "source": [
    "with pritts_updated_retro:\n",
    "    updated_retro_trace = pm.sample(iterations, tune=tune, random_seed=rseeds)"
   ]
  },
  {
   "cell_type": "code",
   "execution_count": 29,
   "metadata": {},
   "outputs": [
    {
     "data": {
      "image/png": "[encoded data removed]",
      "text/plain": [
       "<matplotlib.figure.Figure at 0x1276edbe0>"
      ]
     },
     "metadata": {},
     "output_type": "display_data"
    }
   ],
   "source": [
    "pritts_plot([updated_retro_trace, updated_prosp_trace], 'Updated data')"
   ]
  },
  {
   "cell_type": "markdown",
   "metadata": {},
   "source": [
    "### Prospective estimates"
   ]
  },
  {
   "cell_type": "code",
   "execution_count": 30,
   "metadata": {
    "scrolled": false
   },
   "outputs": [
    {
     "name": "stdout",
     "output_type": "stream",
     "text": [
      "\n",
      "p_10000:\n",
      "\n",
      "  Mean             SD               MC Error         95% HPD interval\n",
      "  -------------------------------------------------------------------\n",
      "  \n",
      "  2.2593           3.4405           0.1674           [0.0003, 9.2187]\n",
      "\n",
      "  Posterior quantiles:\n",
      "  2.5            25             50             75             97.5\n",
      "  |--------------|==============|==============|--------------|\n",
      "  \n",
      "  0.0010         0.0519         0.6602         3.2118         12.1062\n",
      "\n",
      "\n",
      "μ:\n",
      "\n",
      "  Mean             SD               MC Error         95% HPD interval\n",
      "  -------------------------------------------------------------------\n",
      "  \n",
      "  -10.3119         2.7377           0.2176           [-15.8753, -6.5210]\n",
      "\n",
      "  Posterior quantiles:\n",
      "  2.5            25             50             75             97.5\n",
      "  |--------------|==============|==============|--------------|\n",
      "  \n",
      "  -16.1270       -12.1680       -9.6255        -8.0432        -6.7154\n",
      "\n",
      "\n",
      "σ:\n",
      "\n",
      "  Mean             SD               MC Error         95% HPD interval\n",
      "  -------------------------------------------------------------------\n",
      "  \n",
      "  2.8025           1.9594           0.1468           [0.0060, 6.3711]\n",
      "\n",
      "  Posterior quantiles:\n",
      "  2.5            25             50             75             97.5\n",
      "  |--------------|==============|==============|--------------|\n",
      "  \n",
      "  0.1450         1.2258         2.4075         4.0948         7.4220\n",
      "\n"
     ]
    }
   ],
   "source": [
    "pm.summary(updated_prosp_trace[-keep:], varnames=['p_10000', 'μ', 'σ'], roundto=4)"
   ]
  },
  {
   "cell_type": "markdown",
   "metadata": {},
   "source": [
    "### Retrospective estimates"
   ]
  },
  {
   "cell_type": "code",
   "execution_count": 31,
   "metadata": {},
   "outputs": [
    {
     "name": "stdout",
     "output_type": "stream",
     "text": [
      "\n",
      "p_10000:\n",
      "\n",
      "  Mean             SD               MC Error         95% HPD interval\n",
      "  -------------------------------------------------------------------\n",
      "  \n",
      "  5.1217           2.2781           0.0664           [1.0553, 9.5842]\n",
      "\n",
      "  Posterior quantiles:\n",
      "  2.5            25             50             75             97.5\n",
      "  |--------------|==============|==============|--------------|\n",
      "  \n",
      "  1.4592         3.4696         4.8894         6.5521         10.2854\n",
      "\n",
      "\n",
      "μ:\n",
      "\n",
      "  Mean             SD               MC Error         95% HPD interval\n",
      "  -------------------------------------------------------------------\n",
      "  \n",
      "  -7.6884          0.5022           0.0162           [-8.7234, -6.8169]\n",
      "\n",
      "  Posterior quantiles:\n",
      "  2.5            25             50             75             97.5\n",
      "  |--------------|==============|==============|--------------|\n",
      "  \n",
      "  -8.8323        -7.9660        -7.6228        -7.3299        -6.8786\n",
      "\n",
      "\n",
      "σ:\n",
      "\n",
      "  Mean             SD               MC Error         95% HPD interval\n",
      "  -------------------------------------------------------------------\n",
      "  \n",
      "  1.1485           0.3935           0.0135           [0.4320, 1.9387]\n",
      "\n",
      "  Posterior quantiles:\n",
      "  2.5            25             50             75             97.5\n",
      "  |--------------|==============|==============|--------------|\n",
      "  \n",
      "  0.5136         0.8698         1.0963         1.3704         2.0713\n",
      "\n"
     ]
    }
   ],
   "source": [
    "pm.summary(updated_retro_trace[-keep:], varnames=['p_10000', 'μ', 'σ'], roundto=4)"
   ]
  },
  {
   "cell_type": "markdown",
   "metadata": {},
   "source": [
    "## Pritts update with EPC includes"
   ]
  },
  {
   "cell_type": "code",
   "execution_count": 32,
   "metadata": {
    "collapsed": true
   },
   "outputs": [],
   "source": [
    "prospective_mask = all_data.design=='Prospective'\n",
    "\n",
    "pritts_epc_prospective = original_model(all_data[prospective_mask])\n",
    "pritts_epc_retrospective = original_model(all_data[~prospective_mask])"
   ]
  },
  {
   "cell_type": "code",
   "execution_count": 33,
   "metadata": {},
   "outputs": [
    {
     "data": {
      "text/plain": [
       "(3673, 40)"
      ]
     },
     "execution_count": 33,
     "metadata": {},
     "output_type": "execute_result"
    }
   ],
   "source": [
    "all_data[prospective_mask].Population.sum(), all_data[prospective_mask].Population.shape[0]"
   ]
  },
  {
   "cell_type": "code",
   "execution_count": 34,
   "metadata": {},
   "outputs": [
    {
     "data": {
      "text/plain": [
       "(153053, 121)"
      ]
     },
     "execution_count": 34,
     "metadata": {},
     "output_type": "execute_result"
    }
   ],
   "source": [
    "all_data[~prospective_mask].Population.sum(), all_data[~prospective_mask].Population.shape[0]"
   ]
  },
  {
   "cell_type": "code",
   "execution_count": 35,
   "metadata": {},
   "outputs": [
    {
     "data": {
      "text/plain": [
       "(161, 18)"
      ]
     },
     "execution_count": 35,
     "metadata": {},
     "output_type": "execute_result"
    }
   ],
   "source": [
    "all_data.shape"
   ]
  },
  {
   "cell_type": "code",
   "execution_count": 36,
   "metadata": {},
   "outputs": [
    {
     "name": "stderr",
     "output_type": "stream",
     "text": [
      "Auto-assigning NUTS sampler...\n",
      "Initializing NUTS using advi...\n",
      "Average ELBO = -124.72: 100%|██████████| 200000/200000 [00:18<00:00, 10657.10it/s]\n",
      "Finished [100%]: Average ELBO = -124.69\n",
      "100%|██████████| 5000/5000 [00:23<00:00, 212.21it/s]\n"
     ]
    }
   ],
   "source": [
    "with pritts_epc_retrospective:\n",
    "    epc_retrospective_trace = pm.sample(iterations, tune=tune, njobs=4, random_seed=rseeds)"
   ]
  },
  {
   "cell_type": "code",
   "execution_count": 37,
   "metadata": {},
   "outputs": [
    {
     "name": "stderr",
     "output_type": "stream",
     "text": [
      "Auto-assigning NUTS sampler...\n",
      "Initializing NUTS using advi...\n",
      "Average ELBO = -18.02: 100%|██████████| 200000/200000 [00:15<00:00, 13077.13it/s] \n",
      "Finished [100%]: Average ELBO = -17.514\n",
      "Evidence of divergence detected, inspect ELBO.\n",
      " 89%|████████▉ | 4459/5000 [00:32<00:03, 155.13it/s]/Users/fonnescj/Repos/pymc3/pymc3/step_methods/hmc/nuts.py:247: UserWarning: Chain 1 contains diverging samples after tuning. If increasing `target_accept` doesn't help, try to reparameterize.\n",
      "  \"try to reparameterize.\" % chain)\n",
      " 90%|████████▉ | 4475/5000 [00:32<00:03, 149.60it/s]/Users/fonnescj/Repos/pymc3/pymc3/step_methods/hmc/nuts.py:268: UserWarning: The acceptance probability in chain 1 does not match the target. It is 0.353037282524, but should be close to 0.8. Try to increase the number of tuning steps.\n",
      "  % (chain, mean_accept, target_accept))\n",
      " 95%|█████████▍| 4743/5000 [00:33<00:01, 189.99it/s]/Users/fonnescj/Repos/pymc3/pymc3/step_methods/hmc/nuts.py:247: UserWarning: Chain 2 contains diverging samples after tuning. If increasing `target_accept` doesn't help, try to reparameterize.\n",
      "  \"try to reparameterize.\" % chain)\n",
      "100%|█████████▉| 4986/5000 [00:34<00:00, 288.15it/s]/Users/fonnescj/Repos/pymc3/pymc3/step_methods/hmc/nuts.py:247: UserWarning: Chain 0 contains diverging samples after tuning. If increasing `target_accept` doesn't help, try to reparameterize.\n",
      "  \"try to reparameterize.\" % chain)\n",
      "/Users/fonnescj/Repos/pymc3/pymc3/step_methods/hmc/nuts.py:268: UserWarning: The acceptance probability in chain 0 does not match the target. It is 0.64522231014, but should be close to 0.8. Try to increase the number of tuning steps.\n",
      "  % (chain, mean_accept, target_accept))\n",
      "100%|██████████| 5000/5000 [00:34<00:00, 144.99it/s]\n",
      "/Users/fonnescj/Repos/pymc3/pymc3/step_methods/hmc/nuts.py:247: UserWarning: Chain 3 contains diverging samples after tuning. If increasing `target_accept` doesn't help, try to reparameterize.\n",
      "  \"try to reparameterize.\" % chain)\n"
     ]
    }
   ],
   "source": [
    "with pritts_epc_prospective:\n",
    "    epc_prospective_trace = pm.sample(iterations, tune=tune, njobs=4, random_seed=rseeds)"
   ]
  },
  {
   "cell_type": "code",
   "execution_count": 38,
   "metadata": {
    "scrolled": false
   },
   "outputs": [
    {
     "data": {
      "image/png": "[encoded data removed]",
      "text/plain": [
       "<matplotlib.figure.Figure at 0x12a756860>"
      ]
     },
     "metadata": {},
     "output_type": "display_data"
    }
   ],
   "source": [
    "pritts_plot([epc_retrospective_trace, epc_prospective_trace], 'Updated with EPC Includes')"
   ]
  },
  {
   "cell_type": "markdown",
   "metadata": {},
   "source": [
    "### Prospective estimates"
   ]
  },
  {
   "cell_type": "code",
   "execution_count": 39,
   "metadata": {},
   "outputs": [
    {
     "name": "stdout",
     "output_type": "stream",
     "text": [
      "\n",
      "p_10000:\n",
      "\n",
      "  Mean             SD               MC Error         95% HPD interval\n",
      "  -------------------------------------------------------------------\n",
      "  \n",
      "  1.9982           3.3126           0.1282           [0.0000, 9.0573]\n",
      "\n",
      "  Posterior quantiles:\n",
      "  2.5            25             50             75             97.5\n",
      "  |--------------|==============|==============|--------------|\n",
      "  \n",
      "  0.0000         0.0149         0.4133         2.6092         11.7667\n",
      "\n",
      "\n",
      "μ:\n",
      "\n",
      "  Mean             SD               MC Error         95% HPD interval\n",
      "  -------------------------------------------------------------------\n",
      "  \n",
      "  -11.5183         4.3499           0.3870           [-21.0954, -6.1107]\n",
      "\n",
      "  Posterior quantiles:\n",
      "  2.5            25             50             75             97.5\n",
      "  |--------------|==============|==============|--------------|\n",
      "  \n",
      "  -22.6519       -13.4175       -10.0938       -8.2510        -6.7439\n",
      "\n",
      "\n",
      "σ:\n",
      "\n",
      "  Mean             SD               MC Error         95% HPD interval\n",
      "  -------------------------------------------------------------------\n",
      "  \n",
      "  3.3585           2.5020           0.2028           [0.0029, 8.4687]\n",
      "\n",
      "  Posterior quantiles:\n",
      "  2.5            25             50             75             97.5\n",
      "  |--------------|==============|==============|--------------|\n",
      "  \n",
      "  0.1630         1.4041         2.6812         4.8136         9.0969\n",
      "\n"
     ]
    }
   ],
   "source": [
    "pm.summary(epc_prospective_trace[-keep:], varnames=['p_10000', 'μ', 'σ'], roundto=4)"
   ]
  },
  {
   "cell_type": "markdown",
   "metadata": {},
   "source": [
    "### Retrospective estimates"
   ]
  },
  {
   "cell_type": "code",
   "execution_count": 40,
   "metadata": {},
   "outputs": [
    {
     "name": "stdout",
     "output_type": "stream",
     "text": [
      "\n",
      "p_10000:\n",
      "\n",
      "  Mean             SD               MC Error         95% HPD interval\n",
      "  -------------------------------------------------------------------\n",
      "  \n",
      "  8.8355           2.1765           0.0952           [4.4360, 13.0039]\n",
      "\n",
      "  Posterior quantiles:\n",
      "  2.5            25             50             75             97.5\n",
      "  |--------------|==============|==============|--------------|\n",
      "  \n",
      "  4.7590         7.3396         8.7305         10.2367        13.3558\n",
      "\n",
      "\n",
      "μ:\n",
      "\n",
      "  Mean             SD               MC Error         95% HPD interval\n",
      "  -------------------------------------------------------------------\n",
      "  \n",
      "  -7.0630          0.2619           0.0123           [-7.5715, -6.5717]\n",
      "\n",
      "  Posterior quantiles:\n",
      "  2.5            25             50             75             97.5\n",
      "  |--------------|==============|==============|--------------|\n",
      "  \n",
      "  -7.6498        -7.2163        -7.0426        -6.8833        -6.6171\n",
      "\n",
      "\n",
      "σ:\n",
      "\n",
      "  Mean             SD               MC Error         95% HPD interval\n",
      "  -------------------------------------------------------------------\n",
      "  \n",
      "  1.1349           0.1904           0.0092           [0.7735, 1.4942]\n",
      "\n",
      "  Posterior quantiles:\n",
      "  2.5            25             50             75             97.5\n",
      "  |--------------|==============|==============|--------------|\n",
      "  \n",
      "  0.8135         1.0020         1.1191         1.2478         1.5610\n",
      "\n"
     ]
    }
   ],
   "source": [
    "pm.summary(epc_retrospective_trace[-keep:], varnames=['p_10000', 'μ', 'σ'], roundto=4)"
   ]
  },
  {
   "cell_type": "markdown",
   "metadata": {},
   "source": [
    "## No hysteroscopy subset\n",
    "\n",
    "Remove studies that used hysteroscopy"
   ]
  },
  {
   "cell_type": "code",
   "execution_count": 41,
   "metadata": {},
   "outputs": [
    {
     "data": {
      "text/plain": [
       "no     125\n",
       "yes     36\n",
       "Name: Hysteroscopy, dtype: int64"
      ]
     },
     "execution_count": 41,
     "metadata": {},
     "output_type": "execute_result"
    }
   ],
   "source": [
    "all_data.Hysteroscopy.value_counts()"
   ]
  },
  {
   "cell_type": "code",
   "execution_count": 42,
   "metadata": {},
   "outputs": [
    {
     "data": {
      "text/plain": [
       "(28, 18)"
      ]
     },
     "execution_count": 42,
     "metadata": {},
     "output_type": "execute_result"
    }
   ],
   "source": [
    "hysteroscopy_mask = all_data.Hysteroscopy=='no'\n",
    "\n",
    "all_data[prospective_mask & hysteroscopy_mask].shape"
   ]
  },
  {
   "cell_type": "code",
   "execution_count": 43,
   "metadata": {},
   "outputs": [
    {
     "data": {
      "text/plain": [
       "(97, 18)"
      ]
     },
     "execution_count": 43,
     "metadata": {},
     "output_type": "execute_result"
    }
   ],
   "source": [
    "all_data[(~prospective_mask) & hysteroscopy_mask].shape"
   ]
  },
  {
   "cell_type": "code",
   "execution_count": 44,
   "metadata": {
    "collapsed": true
   },
   "outputs": [],
   "source": [
    "no_hysteroscopy_prospective = original_model(all_data[prospective_mask & hysteroscopy_mask])\n",
    "no_hysteroscopy_retrospective = original_model(all_data[(~prospective_mask) & hysteroscopy_mask])"
   ]
  },
  {
   "cell_type": "code",
   "execution_count": 45,
   "metadata": {
    "scrolled": false
   },
   "outputs": [
    {
     "data": {
      "text/html": [
       "<div>\n",
       "<table border=\"1\" class=\"dataframe\">\n",
       "  <thead>\n",
       "    <tr style=\"text-align: right;\">\n",
       "      <th>Hysteroscopy</th>\n",
       "      <th>no</th>\n",
       "      <th>yes</th>\n",
       "    </tr>\n",
       "    <tr>\n",
       "      <th>Prospective</th>\n",
       "      <th></th>\n",
       "      <th></th>\n",
       "    </tr>\n",
       "  </thead>\n",
       "  <tbody>\n",
       "    <tr>\n",
       "      <th>0</th>\n",
       "      <td>2.72</td>\n",
       "      <td>9.45</td>\n",
       "    </tr>\n",
       "    <tr>\n",
       "      <th>1</th>\n",
       "      <td>0.00</td>\n",
       "      <td>0.21</td>\n",
       "    </tr>\n",
       "  </tbody>\n",
       "</table>\n",
       "</div>"
      ],
      "text/plain": [
       "Hysteroscopy    no   yes\n",
       "Prospective             \n",
       "0             2.72  9.45\n",
       "1             0.00  0.21"
      ]
     },
     "execution_count": 45,
     "metadata": {},
     "output_type": "execute_result"
    }
   ],
   "source": [
    "all_data.pivot_table(index='Prospective', columns='Hysteroscopy', values='Tumors').round(2)"
   ]
  },
  {
   "cell_type": "code",
   "execution_count": 46,
   "metadata": {},
   "outputs": [
    {
     "name": "stderr",
     "output_type": "stream",
     "text": [
      "Auto-assigning NUTS sampler...\n",
      "Initializing NUTS using advi...\n",
      "Average ELBO = -95.089: 100%|██████████| 200000/200000 [00:18<00:00, 10927.64it/s]\n",
      "Finished [100%]: Average ELBO = -95.111\n",
      "100%|██████████| 5000/5000 [00:21<00:00, 232.95it/s]\n"
     ]
    }
   ],
   "source": [
    "with no_hysteroscopy_retrospective:\n",
    "    hyst_retrospective_trace = pm.sample(iterations, njobs=4, tune=tune, random_seed=rseeds)"
   ]
  },
  {
   "cell_type": "markdown",
   "metadata": {},
   "source": [
    "### Retrospective estimates"
   ]
  },
  {
   "cell_type": "code",
   "execution_count": 47,
   "metadata": {},
   "outputs": [
    {
     "data": {
      "text/plain": [
       "<matplotlib.gridspec.GridSpec at 0x128d40320>"
      ]
     },
     "execution_count": 47,
     "metadata": {},
     "output_type": "execute_result"
    },
    {
     "data": {
      "image/png": "[encoded data removed]",
      "text/plain": [
       "<matplotlib.figure.Figure at 0x128d403c8>"
      ]
     },
     "metadata": {},
     "output_type": "display_data"
    }
   ],
   "source": [
    "pm.forestplot(hyst_retrospective_trace[-keep:], varnames=['p_10000', 'μ', 'σ'])"
   ]
  },
  {
   "cell_type": "code",
   "execution_count": 48,
   "metadata": {},
   "outputs": [
    {
     "name": "stdout",
     "output_type": "stream",
     "text": [
      "\n",
      "p_10000:\n",
      "\n",
      "  Mean             SD               MC Error         95% HPD interval\n",
      "  -------------------------------------------------------------------\n",
      "  \n",
      "  7.3396           2.2570           0.1044           [3.0750, 11.7897]\n",
      "\n",
      "  Posterior quantiles:\n",
      "  2.5            25             50             75             97.5\n",
      "  |--------------|==============|==============|--------------|\n",
      "  \n",
      "  3.3267         5.7493         7.1715         8.7936         12.2000\n",
      "\n",
      "\n",
      "μ:\n",
      "\n",
      "  Mean             SD               MC Error         95% HPD interval\n",
      "  -------------------------------------------------------------------\n",
      "  \n",
      "  -7.2669          0.3284           0.0165           [-7.9369, -6.6643]\n",
      "\n",
      "  Posterior quantiles:\n",
      "  2.5            25             50             75             97.5\n",
      "  |--------------|==============|==============|--------------|\n",
      "  \n",
      "  -8.0080        -7.4607        -7.2395        -7.0354        -6.7077\n",
      "\n",
      "\n",
      "σ:\n",
      "\n",
      "  Mean             SD               MC Error         95% HPD interval\n",
      "  -------------------------------------------------------------------\n",
      "  \n",
      "  1.2492           0.2422           0.0142           [0.8068, 1.7429]\n",
      "\n",
      "  Posterior quantiles:\n",
      "  2.5            25             50             75             97.5\n",
      "  |--------------|==============|==============|--------------|\n",
      "  \n",
      "  0.8530         1.0791         1.2208         1.3867         1.8249\n",
      "\n"
     ]
    }
   ],
   "source": [
    "pm.summary(hyst_retrospective_trace[-keep:], varnames=['p_10000', 'μ', 'σ'], roundto=4)"
   ]
  },
  {
   "cell_type": "code",
   "execution_count": 49,
   "metadata": {
    "scrolled": true
   },
   "outputs": [
    {
     "name": "stderr",
     "output_type": "stream",
     "text": [
      "Auto-assigning NUTS sampler...\n",
      "Initializing NUTS using advi...\n",
      "Average ELBO = -88.595: 100%|██████████| 200000/200000 [00:16<00:00, 12276.49it/s]\n",
      "Finished [100%]: Average ELBO = -126.38\n",
      "Evidence of divergence detected, inspect ELBO.\n",
      "100%|█████████▉| 4975/5000 [00:14<00:00, 380.66it/s]/Users/fonnescj/Repos/pymc3/pymc3/step_methods/hmc/nuts.py:247: UserWarning: Chain 0 contains diverging samples after tuning. If increasing `target_accept` doesn't help, try to reparameterize.\n",
      "  \"try to reparameterize.\" % chain)\n",
      "100%|██████████| 5000/5000 [00:14<00:00, 340.43it/s]\n",
      "/Users/fonnescj/Repos/pymc3/pymc3/step_methods/hmc/nuts.py:247: UserWarning: Chain 2 contains diverging samples after tuning. If increasing `target_accept` doesn't help, try to reparameterize.\n",
      "  \"try to reparameterize.\" % chain)\n",
      "/Users/fonnescj/Repos/pymc3/pymc3/step_methods/hmc/nuts.py:247: UserWarning: Chain 1 contains diverging samples after tuning. If increasing `target_accept` doesn't help, try to reparameterize.\n",
      "  \"try to reparameterize.\" % chain)\n",
      "/Users/fonnescj/Repos/pymc3/pymc3/step_methods/hmc/nuts.py:247: UserWarning: Chain 3 contains diverging samples after tuning. If increasing `target_accept` doesn't help, try to reparameterize.\n",
      "  \"try to reparameterize.\" % chain)\n"
     ]
    }
   ],
   "source": [
    "with no_hysteroscopy_prospective:\n",
    "    hyst_prospective_trace = pm.sample(iterations, njobs=4, tune=tune, random_seed=rseeds)"
   ]
  },
  {
   "cell_type": "markdown",
   "metadata": {},
   "source": [
    "### Prospective estimates"
   ]
  },
  {
   "cell_type": "code",
   "execution_count": 50,
   "metadata": {},
   "outputs": [
    {
     "data": {
      "text/plain": [
       "<matplotlib.gridspec.GridSpec at 0x121683240>"
      ]
     },
     "execution_count": 50,
     "metadata": {},
     "output_type": "execute_result"
    },
    {
     "data": {
      "image/png": "[encoded data removed]",
      "text/plain": [
       "<matplotlib.figure.Figure at 0x121683400>"
      ]
     },
     "metadata": {},
     "output_type": "display_data"
    }
   ],
   "source": [
    "pm.forestplot(hyst_prospective_trace[-keep:], varnames=['p_10000', 'μ', 'σ'])"
   ]
  },
  {
   "cell_type": "code",
   "execution_count": 51,
   "metadata": {},
   "outputs": [
    {
     "name": "stdout",
     "output_type": "stream",
     "text": [
      "\n",
      "p_10000:\n",
      "\n",
      "  Mean             SD               MC Error         95% HPD interval\n",
      "  -------------------------------------------------------------------\n",
      "  \n",
      "  0.0119           0.2595           0.0082           [0.0000, 0.0000]\n",
      "\n",
      "  Posterior quantiles:\n",
      "  2.5            25             50             75             97.5\n",
      "  |--------------|==============|==============|--------------|\n",
      "  \n",
      "  0.0000         0.0000         0.0000         0.0000         0.0012\n",
      "\n",
      "\n",
      "μ:\n",
      "\n",
      "  Mean             SD               MC Error         95% HPD interval\n",
      "  -------------------------------------------------------------------\n",
      "  \n",
      "  -86.4395         55.3460          2.0146           [-196.4894, -9.1525]\n",
      "\n",
      "  Posterior quantiles:\n",
      "  2.5            25             50             75             97.5\n",
      "  |--------------|==============|==============|--------------|\n",
      "  \n",
      "  -221.3887      -117.4831      -74.7120       -43.0138       -15.9012\n",
      "\n",
      "\n",
      "σ:\n",
      "\n",
      "  Mean             SD               MC Error         95% HPD interval\n",
      "  -------------------------------------------------------------------\n",
      "  \n",
      "  4.8141           2.8549           0.0252           [0.0102, 9.3989]\n",
      "\n",
      "  Posterior quantiles:\n",
      "  2.5            25             50             75             97.5\n",
      "  |--------------|==============|==============|--------------|\n",
      "  \n",
      "  0.2247         2.3213         4.7455         7.2384         9.6817\n",
      "\n"
     ]
    }
   ],
   "source": [
    "pm.summary(hyst_prospective_trace[-keep:], varnames=['p_10000', 'μ', 'σ'], roundto=4)"
   ]
  },
  {
   "cell_type": "code",
   "execution_count": 52,
   "metadata": {},
   "outputs": [
    {
     "data": {
      "image/png": "[encoded data removed]",
      "text/plain": [
       "<matplotlib.figure.Figure at 0x11faba940>"
      ]
     },
     "metadata": {},
     "output_type": "display_data"
    }
   ],
   "source": [
    "pritts_plot([hyst_retrospective_trace, hyst_prospective_trace], 'No Hysteroscopy Subset')"
   ]
  },
  {
   "cell_type": "markdown",
   "metadata": {},
   "source": [
    "## Confirmed histopathology subset\n",
    "\n",
    "Include only studies that had post-surgical histopathology"
   ]
  },
  {
   "cell_type": "code",
   "execution_count": 53,
   "metadata": {},
   "outputs": [
    {
     "data": {
      "text/plain": [
       "yes        144\n",
       "unclear     16\n",
       "NO           1\n",
       "Name: POSTOP_HP_Done, dtype: int64"
      ]
     },
     "execution_count": 53,
     "metadata": {},
     "output_type": "execute_result"
    }
   ],
   "source": [
    "all_data.POSTOP_HP_Done.value_counts()"
   ]
  },
  {
   "cell_type": "code",
   "execution_count": 54,
   "metadata": {},
   "outputs": [
    {
     "data": {
      "text/plain": [
       "(36, 18)"
      ]
     },
     "execution_count": 54,
     "metadata": {},
     "output_type": "execute_result"
    }
   ],
   "source": [
    "histopath_mask = all_data.POSTOP_HP_Done=='yes'\n",
    "\n",
    "all_data[prospective_mask & histopath_mask].shape"
   ]
  },
  {
   "cell_type": "code",
   "execution_count": 55,
   "metadata": {},
   "outputs": [
    {
     "data": {
      "text/plain": [
       "(108, 18)"
      ]
     },
     "execution_count": 55,
     "metadata": {},
     "output_type": "execute_result"
    }
   ],
   "source": [
    "all_data[(~prospective_mask) & histopath_mask].shape"
   ]
  },
  {
   "cell_type": "code",
   "execution_count": 56,
   "metadata": {
    "collapsed": true
   },
   "outputs": [],
   "source": [
    "histo_prospective = original_model(all_data[prospective_mask & histopath_mask])\n",
    "histo_retrospective = original_model(all_data[(~prospective_mask) & histopath_mask])"
   ]
  },
  {
   "cell_type": "code",
   "execution_count": 57,
   "metadata": {
    "scrolled": true
   },
   "outputs": [
    {
     "name": "stderr",
     "output_type": "stream",
     "text": [
      "Auto-assigning NUTS sampler...\n",
      "Initializing NUTS using advi...\n",
      "Average ELBO = -95.44: 100%|██████████| 200000/200000 [00:17<00:00, 11365.00it/s] \n",
      "Finished [100%]: Average ELBO = -95.381\n",
      "100%|██████████| 5000/5000 [00:20<00:00, 243.26it/s]\n"
     ]
    }
   ],
   "source": [
    "with histo_retrospective:\n",
    "    histo_retrospective_trace = pm.sample(iterations, njobs=4, tune=tune, random_seed=rseeds)"
   ]
  },
  {
   "cell_type": "markdown",
   "metadata": {},
   "source": [
    "### Retrospective estimates"
   ]
  },
  {
   "cell_type": "code",
   "execution_count": 58,
   "metadata": {},
   "outputs": [
    {
     "data": {
      "text/plain": [
       "<matplotlib.gridspec.GridSpec at 0x12b904c18>"
      ]
     },
     "execution_count": 58,
     "metadata": {},
     "output_type": "execute_result"
    },
    {
     "data": {
      "image/png": "[encoded data removed]",
      "text/plain": [
       "<matplotlib.figure.Figure at 0x12b904a20>"
      ]
     },
     "metadata": {},
     "output_type": "display_data"
    }
   ],
   "source": [
    "pm.forestplot(histo_retrospective_trace[-keep:], varnames=['p_10000', 'μ', 'σ'])"
   ]
  },
  {
   "cell_type": "code",
   "execution_count": 59,
   "metadata": {},
   "outputs": [
    {
     "name": "stdout",
     "output_type": "stream",
     "text": [
      "\n",
      "p_10000:\n",
      "\n",
      "  Mean             SD               MC Error         95% HPD interval\n",
      "  -------------------------------------------------------------------\n",
      "  \n",
      "  7.4572           2.3637           0.1135           [3.1288, 12.1969]\n",
      "\n",
      "  Posterior quantiles:\n",
      "  2.5            25             50             75             97.5\n",
      "  |--------------|==============|==============|--------------|\n",
      "  \n",
      "  3.3115         5.7645         7.2750         8.9890         12.4594\n",
      "\n",
      "\n",
      "μ:\n",
      "\n",
      "  Mean             SD               MC Error         95% HPD interval\n",
      "  -------------------------------------------------------------------\n",
      "  \n",
      "  -7.2540          0.3377           0.0171           [-7.9438, -6.6420]\n",
      "\n",
      "  Posterior quantiles:\n",
      "  2.5            25             50             75             97.5\n",
      "  |--------------|==============|==============|--------------|\n",
      "  \n",
      "  -8.0126        -7.4580        -7.2252        -7.0134        -6.6866\n",
      "\n",
      "\n",
      "σ:\n",
      "\n",
      "  Mean             SD               MC Error         95% HPD interval\n",
      "  -------------------------------------------------------------------\n",
      "  \n",
      "  1.2662           0.2418           0.0138           [0.8339, 1.7567]\n",
      "\n",
      "  Posterior quantiles:\n",
      "  2.5            25             50             75             97.5\n",
      "  |--------------|==============|==============|--------------|\n",
      "  \n",
      "  0.8698         1.0922         1.2368         1.4065         1.8126\n",
      "\n"
     ]
    }
   ],
   "source": [
    "pm.summary(histo_retrospective_trace[-keep:], varnames=['p_10000', 'μ', 'σ'], roundto=4)"
   ]
  },
  {
   "cell_type": "code",
   "execution_count": 60,
   "metadata": {
    "scrolled": true
   },
   "outputs": [
    {
     "name": "stderr",
     "output_type": "stream",
     "text": [
      "Auto-assigning NUTS sampler...\n",
      "Initializing NUTS using advi...\n",
      "Average ELBO = -15.601: 100%|██████████| 200000/200000 [00:13<00:00, 14431.92it/s]\n",
      "Finished [100%]: Average ELBO = -14.98\n",
      "Evidence of divergence detected, inspect ELBO.\n",
      " 93%|█████████▎| 4642/5000 [00:44<00:03, 104.67it/s]/Users/fonnescj/Repos/pymc3/pymc3/step_methods/hmc/nuts.py:247: UserWarning: Chain 3 contains diverging samples after tuning. If increasing `target_accept` doesn't help, try to reparameterize.\n",
      "  \"try to reparameterize.\" % chain)\n",
      "/Users/fonnescj/Repos/pymc3/pymc3/step_methods/hmc/nuts.py:268: UserWarning: The acceptance probability in chain 3 does not match the target. It is 0.676364722334, but should be close to 0.8. Try to increase the number of tuning steps.\n",
      "  % (chain, mean_accept, target_accept))\n",
      "100%|█████████▉| 4996/5000 [00:46<00:00, 153.70it/s]/Users/fonnescj/Repos/pymc3/pymc3/step_methods/hmc/nuts.py:247: UserWarning: Chain 0 contains diverging samples after tuning. If increasing `target_accept` doesn't help, try to reparameterize.\n",
      "  \"try to reparameterize.\" % chain)\n",
      "/Users/fonnescj/Repos/pymc3/pymc3/step_methods/hmc/nuts.py:268: UserWarning: The acceptance probability in chain 0 does not match the target. It is 0.645708562201, but should be close to 0.8. Try to increase the number of tuning steps.\n",
      "  % (chain, mean_accept, target_accept))\n",
      "100%|██████████| 5000/5000 [00:46<00:00, 106.91it/s]\n",
      "/Users/fonnescj/Repos/pymc3/pymc3/step_methods/hmc/nuts.py:247: UserWarning: Chain 2 contains diverging samples after tuning. If increasing `target_accept` doesn't help, try to reparameterize.\n",
      "  \"try to reparameterize.\" % chain)\n",
      "/Users/fonnescj/Repos/pymc3/pymc3/step_methods/hmc/nuts.py:247: UserWarning: Chain 1 contains diverging samples after tuning. If increasing `target_accept` doesn't help, try to reparameterize.\n",
      "  \"try to reparameterize.\" % chain)\n"
     ]
    }
   ],
   "source": [
    "with histo_prospective:\n",
    "    histo_prospective_trace = pm.sample(iterations, njobs=4, tune=tune, random_seed=rseeds)"
   ]
  },
  {
   "cell_type": "markdown",
   "metadata": {},
   "source": [
    "### Prospective estimates"
   ]
  },
  {
   "cell_type": "code",
   "execution_count": 61,
   "metadata": {},
   "outputs": [
    {
     "data": {
      "text/plain": [
       "<matplotlib.gridspec.GridSpec at 0x129541cf8>"
      ]
     },
     "execution_count": 61,
     "metadata": {},
     "output_type": "execute_result"
    },
    {
     "data": {
      "image/png": "[encoded data removed]",
      "text/plain": [
       "<matplotlib.figure.Figure at 0x125d377f0>"
      ]
     },
     "metadata": {},
     "output_type": "display_data"
    }
   ],
   "source": [
    "pm.forestplot(histo_prospective_trace[-keep:], varnames=['p_10000', 'μ', 'σ'])"
   ]
  },
  {
   "cell_type": "code",
   "execution_count": 62,
   "metadata": {},
   "outputs": [
    {
     "name": "stdout",
     "output_type": "stream",
     "text": [
      "\n",
      "p_10000:\n",
      "\n",
      "  Mean             SD               MC Error         95% HPD interval\n",
      "  -------------------------------------------------------------------\n",
      "  \n",
      "  0.4646           1.3548           0.0259           [0.0000, 2.7287]\n",
      "\n",
      "  Posterior quantiles:\n",
      "  2.5            25             50             75             97.5\n",
      "  |--------------|==============|==============|--------------|\n",
      "  \n",
      "  0.0000         0.0000         0.0041         0.2021         4.4032\n",
      "\n",
      "\n",
      "μ:\n",
      "\n",
      "  Mean             SD               MC Error         95% HPD interval\n",
      "  -------------------------------------------------------------------\n",
      "  \n",
      "  -15.8167         6.0483           0.2555           [-27.5459, -7.0274]\n",
      "\n",
      "  Posterior quantiles:\n",
      "  2.5            25             50             75             97.5\n",
      "  |--------------|==============|==============|--------------|\n",
      "  \n",
      "  -29.2739       -19.7695       -14.7015       -10.8092       -7.7276\n",
      "\n",
      "\n",
      "σ:\n",
      "\n",
      "  Mean             SD               MC Error         95% HPD interval\n",
      "  -------------------------------------------------------------------\n",
      "  \n",
      "  4.8968           2.8152           0.1083           [0.3401, 9.7358]\n",
      "\n",
      "  Posterior quantiles:\n",
      "  2.5            25             50             75             97.5\n",
      "  |--------------|==============|==============|--------------|\n",
      "  \n",
      "  0.2850         2.5031         4.7767         7.2896         9.6920\n",
      "\n"
     ]
    }
   ],
   "source": [
    "pm.summary(histo_prospective_trace[-keep:], varnames=['p_10000', 'μ', 'σ'], roundto=4)"
   ]
  },
  {
   "cell_type": "code",
   "execution_count": 63,
   "metadata": {},
   "outputs": [
    {
     "data": {
      "image/png": "[encoded data removed]",
      "text/plain": [
       "<matplotlib.figure.Figure at 0x11f7c5860>"
      ]
     },
     "metadata": {},
     "output_type": "display_data"
    }
   ],
   "source": [
    "pritts_plot([histo_retrospective_trace, histo_prospective_trace], 'Histopathology Subset')"
   ]
  },
  {
   "cell_type": "markdown",
   "metadata": {},
   "source": [
    "### Goodness of fit\n",
    "\n",
    "To check how well the model fits the data, I conducted posteior predictive checks. This simulates data from the model for each data point (*i.e.* study) in the meta-analysis, and compares the distribution of these simulated values (here, 500 replicates) with the value of the data itself. If the percentile of the datum is very extreme (either large or small), then it is evidence that the model does not adequately fit the data. The distribution of percentiles in the bottom histogram shows that there is no evidence of lack of fit."
   ]
  },
  {
   "cell_type": "code",
   "execution_count": 64,
   "metadata": {},
   "outputs": [
    {
     "name": "stderr",
     "output_type": "stream",
     "text": [
      "100%|██████████| 500/500 [00:10<00:00, 49.93it/s]\n",
      "100%|██████████| 500/500 [00:10<00:00, 49.76it/s]\n"
     ]
    }
   ],
   "source": [
    "ppc_retro = pm.sample_ppc(epc_retrospective_trace, model=pritts_epc_retrospective, samples=500)\n",
    "ppc_prosp = pm.sample_ppc(epc_prospective_trace, model=pritts_epc_prospective, samples=500)"
   ]
  },
  {
   "cell_type": "code",
   "execution_count": 65,
   "metadata": {
    "scrolled": true
   },
   "outputs": [
    {
     "data": {
      "image/png": "[encoded data removed]",
      "text/plain": [
       "<matplotlib.figure.Figure at 0x13a203cf8>"
      ]
     },
     "metadata": {},
     "output_type": "display_data"
    }
   ],
   "source": [
    "from scipy.stats import percentileofscore\n",
    "        \n",
    "p = [percentileofscore(s, o).round(2) for s,o in zip(ppc_retro['obs'].T, all_data[~prospective_mask].Tumors)]\n",
    "p += [percentileofscore(s, o).round(2) for s,o in zip(ppc_prosp['obs'].T, all_data[prospective_mask].Tumors)]\n",
    "        \n",
    "plt.hist(p)\n",
    "plt.xlabel('percentile')\n",
    "plt.ylabel('frequency');"
   ]
  },
  {
   "cell_type": "markdown",
   "metadata": {},
   "source": [
    "## Combined models\n",
    "\n",
    "Additional model runs that pool retrospective and prospective designs.\n",
    "\n",
    "First, the original Pritts data:"
   ]
  },
  {
   "cell_type": "code",
   "execution_count": 66,
   "metadata": {},
   "outputs": [
    {
     "name": "stderr",
     "output_type": "stream",
     "text": [
      "Auto-assigning NUTS sampler...\n",
      "Initializing NUTS using advi...\n",
      "Average ELBO = -61.653: 100%|██████████| 200000/200000 [00:19<00:00, 10077.01it/s]\n",
      "Finished [100%]: Average ELBO = -61.66\n",
      " 87%|████████▋ | 4355/5000 [02:32<00:25, 25.78it/s] /Users/fonnescj/Repos/pymc3/pymc3/step_methods/hmc/nuts.py:247: UserWarning: Chain 1 contains diverging samples after tuning. If increasing `target_accept` doesn't help, try to reparameterize.\n",
      "  \"try to reparameterize.\" % chain)\n",
      " 94%|█████████▎| 4680/5000 [02:40<00:06, 46.89it/s]/Users/fonnescj/Repos/pymc3/pymc3/step_methods/hmc/nuts.py:247: UserWarning: Chain 2 contains diverging samples after tuning. If increasing `target_accept` doesn't help, try to reparameterize.\n",
      "  \"try to reparameterize.\" % chain)\n",
      "100%|██████████| 5000/5000 [02:48<00:00, 29.67it/s]\n"
     ]
    }
   ],
   "source": [
    "with original_model(old_pritts) as pritts_pooled:\n",
    "    pooled_trace = pm.sample(iterations, njobs=4, tune=tune, \n",
    "                                  random_seed=rseeds)"
   ]
  },
  {
   "cell_type": "code",
   "execution_count": 67,
   "metadata": {},
   "outputs": [
    {
     "name": "stdout",
     "output_type": "stream",
     "text": [
      "\n",
      "p_10000:\n",
      "\n",
      "  Mean             SD               MC Error         95% HPD interval\n",
      "  -------------------------------------------------------------------\n",
      "  \n",
      "  5.0753           2.1013           0.0293           [1.3750, 9.2468]\n",
      "\n",
      "  Posterior quantiles:\n",
      "  2.5            25             50             75             97.5\n",
      "  |--------------|==============|==============|--------------|\n",
      "  \n",
      "  1.6358         3.5398         4.8523         6.4062         9.6339\n",
      "\n",
      "\n",
      "μ:\n",
      "\n",
      "  Mean             SD               MC Error         95% HPD interval\n",
      "  -------------------------------------------------------------------\n",
      "  \n",
      "  -7.6807          0.4602           0.0071           [-8.6576, -6.9057]\n",
      "\n",
      "  Posterior quantiles:\n",
      "  2.5            25             50             75             97.5\n",
      "  |--------------|==============|==============|--------------|\n",
      "  \n",
      "  -8.7180        -7.9459        -7.6304        -7.3524        -6.9441\n",
      "\n",
      "\n",
      "σ:\n",
      "\n",
      "  Mean             SD               MC Error         95% HPD interval\n",
      "  -------------------------------------------------------------------\n",
      "  \n",
      "  1.1105           0.3578           0.0058           [0.4358, 1.8276]\n",
      "\n",
      "  Posterior quantiles:\n",
      "  2.5            25             50             75             97.5\n",
      "  |--------------|==============|==============|--------------|\n",
      "  \n",
      "  0.5017         0.8606         1.0799         1.3232         1.9143\n",
      "\n"
     ]
    }
   ],
   "source": [
    "pm.summary(pooled_trace[-keep:], varnames=['p_10000', 'μ', 'σ'], roundto=4)"
   ]
  },
  {
   "cell_type": "code",
   "execution_count": 68,
   "metadata": {},
   "outputs": [
    {
     "data": {
      "image/png": "[encoded data removed]",
      "text/plain": [
       "<matplotlib.figure.Figure at 0x12ba75f98>"
      ]
     },
     "metadata": {},
     "output_type": "display_data"
    }
   ],
   "source": [
    "pm.forestplot(pooled_trace[-keep:], varnames=['p_10000', 'μ', 'σ']);"
   ]
  },
  {
   "cell_type": "markdown",
   "metadata": {},
   "source": [
    "Updated Pritts data:"
   ]
  },
  {
   "cell_type": "code",
   "execution_count": 69,
   "metadata": {},
   "outputs": [
    {
     "name": "stderr",
     "output_type": "stream",
     "text": [
      "Auto-assigning NUTS sampler...\n",
      "Initializing NUTS using advi...\n",
      "Average ELBO = -61.617: 100%|██████████| 200000/200000 [00:19<00:00, 10348.54it/s]\n",
      "Finished [100%]: Average ELBO = -61.625\n",
      "100%|█████████▉| 4988/5000 [00:37<00:00, 109.71it/s]/Users/fonnescj/Repos/pymc3/pymc3/step_methods/hmc/nuts.py:247: UserWarning: Chain 0 contains diverging samples after tuning. If increasing `target_accept` doesn't help, try to reparameterize.\n",
      "  \"try to reparameterize.\" % chain)\n",
      "100%|██████████| 5000/5000 [00:37<00:00, 133.75it/s]\n"
     ]
    }
   ],
   "source": [
    "with original_model(updated_pritts) as updated_pooled:\n",
    "    updated_pooled_trace = pm.sample(iterations, njobs=4, tune=tune, \n",
    "                                  random_seed=rseeds)"
   ]
  },
  {
   "cell_type": "code",
   "execution_count": 70,
   "metadata": {},
   "outputs": [
    {
     "name": "stdout",
     "output_type": "stream",
     "text": [
      "\n",
      "p_10000:\n",
      "\n",
      "  Mean             SD               MC Error         95% HPD interval\n",
      "  -------------------------------------------------------------------\n",
      "  \n",
      "  5.0641           2.1205           0.0309           [1.2639, 9.2061]\n",
      "\n",
      "  Posterior quantiles:\n",
      "  2.5            25             50             75             97.5\n",
      "  |--------------|==============|==============|--------------|\n",
      "  \n",
      "  1.5535         3.5157         4.8610         6.3780         9.7401\n",
      "\n",
      "\n",
      "μ:\n",
      "\n",
      "  Mean             SD               MC Error         95% HPD interval\n",
      "  -------------------------------------------------------------------\n",
      "  \n",
      "  -7.6858          0.4685           0.0079           [-8.6319, -6.8580]\n",
      "\n",
      "  Posterior quantiles:\n",
      "  2.5            25             50             75             97.5\n",
      "  |--------------|==============|==============|--------------|\n",
      "  \n",
      "  -8.7697        -7.9528        -7.6286        -7.3569        -6.9331\n",
      "\n",
      "\n",
      "σ:\n",
      "\n",
      "  Mean             SD               MC Error         95% HPD interval\n",
      "  -------------------------------------------------------------------\n",
      "  \n",
      "  1.1171           0.3641           0.0065           [0.4485, 1.8481]\n",
      "\n",
      "  Posterior quantiles:\n",
      "  2.5            25             50             75             97.5\n",
      "  |--------------|==============|==============|--------------|\n",
      "  \n",
      "  0.5199         0.8596         1.0801         1.3310         1.9468\n",
      "\n"
     ]
    }
   ],
   "source": [
    "pm.summary(updated_pooled_trace[-keep:], varnames=['p_10000', 'μ', 'σ'], roundto=4)"
   ]
  },
  {
   "cell_type": "code",
   "execution_count": 71,
   "metadata": {},
   "outputs": [
    {
     "data": {
      "image/png": "[encoded data removed]",
      "text/plain": [
       "<matplotlib.figure.Figure at 0x12654e4a8>"
      ]
     },
     "metadata": {},
     "output_type": "display_data"
    }
   ],
   "source": [
    "pm.forestplot(updated_pooled_trace[-keep:], varnames=['p_10000', 'μ', 'σ']);"
   ]
  },
  {
   "cell_type": "markdown",
   "metadata": {},
   "source": [
    "Updated Pritts data with EPC includes:"
   ]
  },
  {
   "cell_type": "code",
   "execution_count": 72,
   "metadata": {},
   "outputs": [
    {
     "name": "stderr",
     "output_type": "stream",
     "text": [
      "Auto-assigning NUTS sampler...\n",
      "Initializing NUTS using advi...\n",
      "Average ELBO = -133.73: 100%|██████████| 200000/200000 [00:20<00:00, 9586.01it/s] \n",
      "Finished [100%]: Average ELBO = -133.73\n",
      "100%|██████████| 5000/5000 [00:50<00:00, 99.66it/s] \n"
     ]
    }
   ],
   "source": [
    "with original_model(all_data) as all_pooled:\n",
    "    all_pooled_trace = pm.sample(iterations, njobs=4, tune=tune, \n",
    "                                  random_seed=rseeds)"
   ]
  },
  {
   "cell_type": "code",
   "execution_count": 73,
   "metadata": {},
   "outputs": [
    {
     "name": "stdout",
     "output_type": "stream",
     "text": [
      "\n",
      "p_10000:\n",
      "\n",
      "  Mean             SD               MC Error         95% HPD interval\n",
      "  -------------------------------------------------------------------\n",
      "  \n",
      "  8.2447           1.9865           0.0635           [4.4998, 12.1750]\n",
      "\n",
      "  Posterior quantiles:\n",
      "  2.5            25             50             75             97.5\n",
      "  |--------------|==============|==============|--------------|\n",
      "  \n",
      "  4.6802         6.8286         8.1388         9.5437         12.4366\n",
      "\n",
      "\n",
      "μ:\n",
      "\n",
      "  Mean             SD               MC Error         95% HPD interval\n",
      "  -------------------------------------------------------------------\n",
      "  \n",
      "  -7.1300          0.2494           0.0084           [-7.6263, -6.6617]\n",
      "\n",
      "  Posterior quantiles:\n",
      "  2.5            25             50             75             97.5\n",
      "  |--------------|==============|==============|--------------|\n",
      "  \n",
      "  -7.6665        -7.2885        -7.1129        -6.9535        -6.6885\n",
      "\n",
      "\n",
      "σ:\n",
      "\n",
      "  Mean             SD               MC Error         95% HPD interval\n",
      "  -------------------------------------------------------------------\n",
      "  \n",
      "  1.1212           0.1841           0.0065           [0.7820, 1.4933]\n",
      "\n",
      "  Posterior quantiles:\n",
      "  2.5            25             50             75             97.5\n",
      "  |--------------|==============|==============|--------------|\n",
      "  \n",
      "  0.8064         0.9911         1.1060         1.2310         1.5338\n",
      "\n"
     ]
    }
   ],
   "source": [
    "pm.summary(all_pooled_trace[-keep:], varnames=['p_10000', 'μ', 'σ'], roundto=4)"
   ]
  },
  {
   "cell_type": "code",
   "execution_count": 74,
   "metadata": {},
   "outputs": [
    {
     "data": {
      "image/png": "[encoded data removed]",
      "text/plain": [
       "<matplotlib.figure.Figure at 0x1357ed940>"
      ]
     },
     "metadata": {},
     "output_type": "display_data"
    }
   ],
   "source": [
    "pm.forestplot(all_pooled_trace[-keep:], varnames=['p_10000', 'μ', 'σ']);"
   ]
  },
  {
   "cell_type": "markdown",
   "metadata": {},
   "source": [
    "No hysteroscopy subset"
   ]
  },
  {
   "cell_type": "code",
   "execution_count": 81,
   "metadata": {},
   "outputs": [
    {
     "name": "stderr",
     "output_type": "stream",
     "text": [
      "Auto-assigning NUTS sampler...\n",
      "Initializing NUTS using advi...\n",
      "Average ELBO = -98.008: 100%|██████████| 200000/200000 [00:18<00:00, 10920.10it/s]\n",
      "Finished [100%]: Average ELBO = -97.957\n",
      "100%|██████████| 5000/5000 [00:24<00:00, 205.97it/s]\n"
     ]
    }
   ],
   "source": [
    "with original_model(all_data[hysteroscopy_mask]) as no_hyst:\n",
    "    no_hyst_trace = pm.sample(iterations, njobs=4, tune=tune, \n",
    "                                  random_seed=rseeds)"
   ]
  },
  {
   "cell_type": "code",
   "execution_count": 82,
   "metadata": {},
   "outputs": [
    {
     "name": "stdout",
     "output_type": "stream",
     "text": [
      "\n",
      "p_10000:\n",
      "\n",
      "  Mean             SD               MC Error         95% HPD interval\n",
      "  -------------------------------------------------------------------\n",
      "  \n",
      "  6.3259           1.9486           0.0818           [2.6956, 10.1464]\n",
      "\n",
      "  Posterior quantiles:\n",
      "  2.5            25             50             75             97.5\n",
      "  |--------------|==============|==============|--------------|\n",
      "  \n",
      "  2.9233         4.9090         6.1903         7.5932         10.4877\n",
      "\n",
      "\n",
      "μ:\n",
      "\n",
      "  Mean             SD               MC Error         95% HPD interval\n",
      "  -------------------------------------------------------------------\n",
      "  \n",
      "  -7.4151          0.3248           0.0142           [-8.0618, -6.8020]\n",
      "\n",
      "  Posterior quantiles:\n",
      "  2.5            25             50             75             97.5\n",
      "  |--------------|==============|==============|--------------|\n",
      "  \n",
      "  -8.1374        -7.6188        -7.3867        -7.1823        -6.8591\n",
      "\n",
      "\n",
      "σ:\n",
      "\n",
      "  Mean             SD               MC Error         95% HPD interval\n",
      "  -------------------------------------------------------------------\n",
      "  \n",
      "  1.2672           0.2249           0.0110           [0.8541, 1.7121]\n",
      "\n",
      "  Posterior quantiles:\n",
      "  2.5            25             50             75             97.5\n",
      "  |--------------|==============|==============|--------------|\n",
      "  \n",
      "  0.8980         1.1044         1.2425         1.4001         1.7840\n",
      "\n"
     ]
    }
   ],
   "source": [
    "pm.summary(no_hyst_trace[-keep:], varnames=['p_10000', 'μ', 'σ'], roundto=4)"
   ]
  },
  {
   "cell_type": "code",
   "execution_count": 83,
   "metadata": {},
   "outputs": [
    {
     "data": {
      "image/png": "[encoded data removed]",
      "text/plain": [
       "<matplotlib.figure.Figure at 0x13cfd11d0>"
      ]
     },
     "metadata": {},
     "output_type": "display_data"
    }
   ],
   "source": [
    "pm.forestplot(no_hyst_trace[-keep:], varnames=['p_10000', 'μ', 'σ']);"
   ]
  },
  {
   "cell_type": "markdown",
   "metadata": {},
   "source": [
    "Histopathology subset"
   ]
  },
  {
   "cell_type": "code",
   "execution_count": 84,
   "metadata": {},
   "outputs": [
    {
     "name": "stderr",
     "output_type": "stream",
     "text": [
      "Auto-assigning NUTS sampler...\n",
      "Initializing NUTS using advi...\n",
      "Average ELBO = -101.7: 100%|██████████| 200000/200000 [00:22<00:00, 8878.56it/s]  \n",
      "Finished [100%]: Average ELBO = -101.69\n",
      "100%|██████████| 5000/5000 [00:35<00:00, 142.15it/s]\n"
     ]
    }
   ],
   "source": [
    "with original_model(all_data[histopath_mask]) as histopath:\n",
    "    histopath_trace = pm.sample(iterations, njobs=4, tune=tune, \n",
    "                                  random_seed=rseeds)"
   ]
  },
  {
   "cell_type": "code",
   "execution_count": 85,
   "metadata": {},
   "outputs": [
    {
     "name": "stdout",
     "output_type": "stream",
     "text": [
      "\n",
      "p_10000:\n",
      "\n",
      "  Mean             SD               MC Error         95% HPD interval\n",
      "  -------------------------------------------------------------------\n",
      "  \n",
      "  6.4682           2.0589           0.0738           [2.6904, 10.5387]\n",
      "\n",
      "  Posterior quantiles:\n",
      "  2.5            25             50             75             97.5\n",
      "  |--------------|==============|==============|--------------|\n",
      "  \n",
      "  2.9756         4.9976         6.2673         7.7792         10.9316\n",
      "\n",
      "\n",
      "μ:\n",
      "\n",
      "  Mean             SD               MC Error         95% HPD interval\n",
      "  -------------------------------------------------------------------\n",
      "  \n",
      "  -7.3961          0.3361           0.0128           [-8.0563, -6.7813]\n",
      "\n",
      "  Posterior quantiles:\n",
      "  2.5            25             50             75             97.5\n",
      "  |--------------|==============|==============|--------------|\n",
      "  \n",
      "  -8.1196        -7.6009        -7.3744        -7.1581        -6.8176\n",
      "\n",
      "\n",
      "σ:\n",
      "\n",
      "  Mean             SD               MC Error         95% HPD interval\n",
      "  -------------------------------------------------------------------\n",
      "  \n",
      "  1.2888           0.2386           0.0101           [0.8452, 1.7531]\n",
      "\n",
      "  Posterior quantiles:\n",
      "  2.5            25             50             75             97.5\n",
      "  |--------------|==============|==============|--------------|\n",
      "  \n",
      "  0.8947         1.1206         1.2618         1.4309         1.8300\n",
      "\n"
     ]
    }
   ],
   "source": [
    "pm.summary(histopath_trace[-keep:], varnames=['p_10000', 'μ', 'σ'], roundto=4)"
   ]
  },
  {
   "cell_type": "code",
   "execution_count": 86,
   "metadata": {},
   "outputs": [
    {
     "data": {
      "image/png": "[encoded data removed]",
      "text/plain": [
       "<matplotlib.figure.Figure at 0x13aa4edd8>"
      ]
     },
     "metadata": {},
     "output_type": "display_data"
    }
   ],
   "source": [
    "pm.forestplot(histopath_trace[-keep:], varnames=['p_10000', 'μ', 'σ']);"
   ]
  }
 ],
 "metadata": {
  "anaconda-cloud": {},
  "kernelspec": {
   "display_name": "Python 3",
   "language": "python",
   "name": "python3"
  },
  "language_info": {
   "codemirror_mode": {
    "name": "ipython",
    "version": 3
   },
   "file_extension": ".py",
   "mimetype": "text/x-python",
   "name": "python",
   "nbconvert_exporter": "python",
   "pygments_lexer": "ipython3",
   "version": "3.6.1"
  },
  "latex_envs": {
   "bibliofile": "biblio.bib",
   "cite_by": "apalike",
   "current_citInitial": 1,
   "eqLabelWithNumbers": true,
   "eqNumInitial": 0
  }
 },
 "nbformat": 4,
 "nbformat_minor": 1
}
