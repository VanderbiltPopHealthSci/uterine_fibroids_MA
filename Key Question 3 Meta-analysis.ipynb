{
 "cells": [
  {
   "cell_type": "markdown",
   "metadata": {},
   "source": [
    "## KQ3: Pritts Meta-analysis Update\n",
    "\n",
    "In key question 3, we address the risk of sarcoma dissemination following morcellation of fibroids. We identified a recently published analysis conducted by Elizabeth Pritts and her colleagues (2015) to estimate the  prevalence of occult leiomyosarcoma at time of treatment for presumed benign tumors (fibroids).  We updated their search and used similar eligibility criteria to identify papers published since 2014. We extracted from these papers the number of women who were treated for uterine fibroids and the cases of leiomyosarcoma subsequently identified.  We have combined these data with the data from the 134 publications that Pritts et al included in their analysis for a total of LMS rates from 148 sources."
   ]
  },
  {
   "cell_type": "code",
   "execution_count": 1,
   "metadata": {},
   "outputs": [],
   "source": [
    "%matplotlib inline\n",
    "import numpy as np\n",
    "import pandas as pd\n",
    "import pymc3 as pm\n",
    "import seaborn as sns\n",
    "import matplotlib.pyplot as plt\n",
    "import pdb\n",
    "sns.set()\n",
    "\n",
    "rseeds = 20090425, 19771114, 20161216, 19700903"
   ]
  },
  {
   "cell_type": "code",
   "execution_count": 2,
   "metadata": {
    "scrolled": true
   },
   "outputs": [],
   "source": [
    "keep_cols = ['Author', 'Year', 'Design', 'Procedure', 'Indication',\n",
    "                                     'Age, Mean', 'Age, SD', 'Age, Median', 'Age, Min', 'Age, Max', 'Age, Other',\n",
    "                                     'LMS','Population','Tumors','InPritts','POSTOP_HP_Done', 'Hysteroscopy']\n",
    "\n",
    "datasets = pd.read_excel('data/Pritts_EPC_KQ3_Includes_Histopathology_SK_03212017.xlsx', \n",
    "                         sheetname=['OLD_PRITTS', 'UPDATED_PRITTS', 'Updated_Pritts_With_EPC_INclude'], \n",
    "                         na_values=['NR', 'NA'],\n",
    "                        index_col=0)"
   ]
  },
  {
   "cell_type": "code",
   "execution_count": 3,
   "metadata": {},
   "outputs": [],
   "source": [
    "def clean_data(kq3_data):\n",
    "\n",
    "    return (kq3_data.assign(age_max=kq3_data['Age, Max'].replace('50+', 50),\n",
    "                           design=kq3_data['Design'].str.strip().replace('prospective', 'Prospective'),\n",
    "                           Prospective=(kq3_data.Design!='Retrospective').astype(int))\n",
    "                    .rename(columns={'Age, Min': 'age_min',\n",
    "                                       'Age, Mean': 'age_mean',\n",
    "                                       'Age, SD': 'age_sd',\n",
    "                                       'Age, Median': 'age_med'})\n",
    "                    .drop(['Age, Max', 'Design'], axis=1)\n",
    "                    .dropna(thresh=7))\n",
    "    "
   ]
  },
  {
   "cell_type": "code",
   "execution_count": 4,
   "metadata": {},
   "outputs": [],
   "source": [
    "datasets = {sheet: clean_data(datasets[sheet][keep_cols]) for sheet in datasets}\n",
    "\n",
    "old_pritts = datasets['OLD_PRITTS']\n",
    "updated_pritts = datasets['UPDATED_PRITTS']\n",
    "all_data = datasets['Updated_Pritts_With_EPC_INclude']"
   ]
  },
  {
   "cell_type": "markdown",
   "metadata": {},
   "source": [
    "Missing values"
   ]
  },
  {
   "cell_type": "code",
   "execution_count": 5,
   "metadata": {},
   "outputs": [
    {
     "data": {
      "text/plain": [
       "Author              0\n",
       "Year                0\n",
       "Procedure           0\n",
       "Indication          1\n",
       "age_mean           71\n",
       "age_sd            149\n",
       "age_med           150\n",
       "age_min            64\n",
       "Age, Other        127\n",
       "LMS                 0\n",
       "Population          0\n",
       "Tumors              0\n",
       "InPritts            0\n",
       "POSTOP_HP_Done      0\n",
       "Hysteroscopy        0\n",
       "Prospective         0\n",
       "age_max            65\n",
       "design              0\n",
       "dtype: int64"
      ]
     },
     "execution_count": 5,
     "metadata": {},
     "output_type": "execute_result"
    }
   ],
   "source": [
    "all_data.isnull().sum()"
   ]
  },
  {
   "cell_type": "code",
   "execution_count": 6,
   "metadata": {},
   "outputs": [
    {
     "data": {
      "text/html": [
       "<div>\n",
       "<table border=\"1\" class=\"dataframe\">\n",
       "  <thead>\n",
       "    <tr style=\"text-align: right;\">\n",
       "      <th></th>\n",
       "      <th>Year</th>\n",
       "      <th>age_mean</th>\n",
       "      <th>age_sd</th>\n",
       "      <th>age_med</th>\n",
       "      <th>age_min</th>\n",
       "      <th>LMS</th>\n",
       "      <th>Population</th>\n",
       "      <th>Tumors</th>\n",
       "      <th>InPritts</th>\n",
       "      <th>Prospective</th>\n",
       "      <th>age_max</th>\n",
       "    </tr>\n",
       "  </thead>\n",
       "  <tbody>\n",
       "    <tr>\n",
       "      <th>count</th>\n",
       "      <td>161.000000</td>\n",
       "      <td>90.000000</td>\n",
       "      <td>12.000000</td>\n",
       "      <td>11.000000</td>\n",
       "      <td>97.00000</td>\n",
       "      <td>161.000000</td>\n",
       "      <td>161.000000</td>\n",
       "      <td>161.000000</td>\n",
       "      <td>161.000000</td>\n",
       "      <td>161.000000</td>\n",
       "      <td>96.000000</td>\n",
       "    </tr>\n",
       "    <tr>\n",
       "      <th>mean</th>\n",
       "      <td>2005.155280</td>\n",
       "      <td>41.919222</td>\n",
       "      <td>7.009167</td>\n",
       "      <td>41.545455</td>\n",
       "      <td>26.91134</td>\n",
       "      <td>2.509317</td>\n",
       "      <td>973.453416</td>\n",
       "      <td>2.509317</td>\n",
       "      <td>0.832298</td>\n",
       "      <td>0.422360</td>\n",
       "      <td>61.466667</td>\n",
       "    </tr>\n",
       "    <tr>\n",
       "      <th>std</th>\n",
       "      <td>7.873658</td>\n",
       "      <td>6.130203</td>\n",
       "      <td>2.821758</td>\n",
       "      <td>5.791954</td>\n",
       "      <td>6.20752</td>\n",
       "      <td>13.280681</td>\n",
       "      <td>3902.644397</td>\n",
       "      <td>13.280681</td>\n",
       "      <td>0.374767</td>\n",
       "      <td>0.495476</td>\n",
       "      <td>13.430732</td>\n",
       "    </tr>\n",
       "    <tr>\n",
       "      <th>min</th>\n",
       "      <td>1984.000000</td>\n",
       "      <td>28.200000</td>\n",
       "      <td>1.800000</td>\n",
       "      <td>35.000000</td>\n",
       "      <td>18.00000</td>\n",
       "      <td>0.000000</td>\n",
       "      <td>5.000000</td>\n",
       "      <td>0.000000</td>\n",
       "      <td>0.000000</td>\n",
       "      <td>0.000000</td>\n",
       "      <td>34.000000</td>\n",
       "    </tr>\n",
       "    <tr>\n",
       "      <th>25%</th>\n",
       "      <td>1999.000000</td>\n",
       "      <td>37.310000</td>\n",
       "      <td>5.925000</td>\n",
       "      <td>37.450000</td>\n",
       "      <td>22.00000</td>\n",
       "      <td>0.000000</td>\n",
       "      <td>40.000000</td>\n",
       "      <td>0.000000</td>\n",
       "      <td>1.000000</td>\n",
       "      <td>0.000000</td>\n",
       "      <td>51.000000</td>\n",
       "    </tr>\n",
       "    <tr>\n",
       "      <th>50%</th>\n",
       "      <td>2006.000000</td>\n",
       "      <td>42.200000</td>\n",
       "      <td>6.600000</td>\n",
       "      <td>40.000000</td>\n",
       "      <td>26.00000</td>\n",
       "      <td>0.000000</td>\n",
       "      <td>92.000000</td>\n",
       "      <td>0.000000</td>\n",
       "      <td>1.000000</td>\n",
       "      <td>0.000000</td>\n",
       "      <td>60.000000</td>\n",
       "    </tr>\n",
       "    <tr>\n",
       "      <th>75%</th>\n",
       "      <td>2012.000000</td>\n",
       "      <td>46.000000</td>\n",
       "      <td>7.697500</td>\n",
       "      <td>45.800000</td>\n",
       "      <td>31.00000</td>\n",
       "      <td>0.000000</td>\n",
       "      <td>334.000000</td>\n",
       "      <td>0.000000</td>\n",
       "      <td>1.000000</td>\n",
       "      <td>1.000000</td>\n",
       "      <td>70.250000</td>\n",
       "    </tr>\n",
       "    <tr>\n",
       "      <th>max</th>\n",
       "      <td>2016.000000</td>\n",
       "      <td>59.600000</td>\n",
       "      <td>12.500000</td>\n",
       "      <td>52.900000</td>\n",
       "      <td>44.00000</td>\n",
       "      <td>115.000000</td>\n",
       "      <td>34728.000000</td>\n",
       "      <td>115.000000</td>\n",
       "      <td>1.000000</td>\n",
       "      <td>1.000000</td>\n",
       "      <td>96.000000</td>\n",
       "    </tr>\n",
       "  </tbody>\n",
       "</table>\n",
       "</div>"
      ],
      "text/plain": [
       "              Year   age_mean     age_sd    age_med   age_min         LMS  \\\n",
       "count   161.000000  90.000000  12.000000  11.000000  97.00000  161.000000   \n",
       "mean   2005.155280  41.919222   7.009167  41.545455  26.91134    2.509317   \n",
       "std       7.873658   6.130203   2.821758   5.791954   6.20752   13.280681   \n",
       "min    1984.000000  28.200000   1.800000  35.000000  18.00000    0.000000   \n",
       "25%    1999.000000  37.310000   5.925000  37.450000  22.00000    0.000000   \n",
       "50%    2006.000000  42.200000   6.600000  40.000000  26.00000    0.000000   \n",
       "75%    2012.000000  46.000000   7.697500  45.800000  31.00000    0.000000   \n",
       "max    2016.000000  59.600000  12.500000  52.900000  44.00000  115.000000   \n",
       "\n",
       "         Population      Tumors    InPritts  Prospective    age_max  \n",
       "count    161.000000  161.000000  161.000000   161.000000  96.000000  \n",
       "mean     973.453416    2.509317    0.832298     0.422360  61.466667  \n",
       "std     3902.644397   13.280681    0.374767     0.495476  13.430732  \n",
       "min        5.000000    0.000000    0.000000     0.000000  34.000000  \n",
       "25%       40.000000    0.000000    1.000000     0.000000  51.000000  \n",
       "50%       92.000000    0.000000    1.000000     0.000000  60.000000  \n",
       "75%      334.000000    0.000000    1.000000     1.000000  70.250000  \n",
       "max    34728.000000  115.000000    1.000000     1.000000  96.000000  "
      ]
     },
     "execution_count": 6,
     "metadata": {},
     "output_type": "execute_result"
    }
   ],
   "source": [
    "all_data.describe()"
   ]
  },
  {
   "cell_type": "code",
   "execution_count": 7,
   "metadata": {},
   "outputs": [
    {
     "data": {
      "image/png": "[encoded data removed]",
      "text/plain": [
       "<matplotlib.figure.Figure at 0x1062ab0b8>"
      ]
     },
     "metadata": {},
     "output_type": "display_data"
    }
   ],
   "source": [
    "all_data[[c for c in all_data.columns if c.startswith('age')]].hist();"
   ]
  },
  {
   "cell_type": "markdown",
   "metadata": {},
   "source": [
    "Breakdown on studies by design."
   ]
  },
  {
   "cell_type": "code",
   "execution_count": 8,
   "metadata": {},
   "outputs": [
    {
     "data": {
      "text/plain": [
       "Retrospective    94\n",
       "Prospective      40\n",
       "RCT              27\n",
       "Name: design, dtype: int64"
      ]
     },
     "execution_count": 8,
     "metadata": {},
     "output_type": "execute_result"
    }
   ],
   "source": [
    "all_data.design.value_counts()"
   ]
  },
  {
   "cell_type": "markdown",
   "metadata": {},
   "source": [
    "Following [Pritts et al. (2015)](http://www.ncbi.nlm.nih.gov/pubmed/26283890), I fit a binomial random effects model, such that event probabilities on the logit scale are normally distributed with mean $\\mu$ and standard deviation $\\sigma$. This distribution describes how the probabilities vary across studies, with the degree of variation described by $\\sigma$.\n",
    "\n",
    "$$\\theta_i \\sim N(\\mu, \\sigma^2)$$\n",
    "\n",
    "the expected value for study $i$ is then inverse-logit transformed, and used as the event probability $\\pi_i$ in a binomial model describing the number of observed tumors $t$:\n",
    "\n",
    "$$\\log\\left[\\frac{\\pi_i}{1-\\pi_i}\\right] = \\theta_i$$\n",
    "\n",
    "$$t_i \\sim \\text{Bin}(n_i, \\pi_i)$$"
   ]
  },
  {
   "cell_type": "markdown",
   "metadata": {},
   "source": [
    "There appears to be no obvious relationship between age (normalized) and tumor rate (though a quadratic model might be worth considering). We will not include age as a covariate in the model."
   ]
  },
  {
   "cell_type": "code",
   "execution_count": 9,
   "metadata": {
    "scrolled": false
   },
   "outputs": [
    {
     "data": {
      "text/plain": [
       "(0, 0.03)"
      ]
     },
     "execution_count": 9,
     "metadata": {},
     "output_type": "execute_result"
    },
    {
     "data": {
      "image/png": "[encoded data removed]",
      "text/plain": [
       "<matplotlib.figure.Figure at 0x117f32ba8>"
      ]
     },
     "metadata": {},
     "output_type": "display_data"
    }
   ],
   "source": [
    "(all_data.assign(age_max_norm=((all_data.age_max - 60)/10).fillna(0.5), \n",
    "                 tumor_rate=all_data.Tumors/all_data.Population)\n",
    "         .plot.scatter(x='age_max_norm', y='tumor_rate', style='ro', alpha=0.3)\n",
    "         .set_ylim(0, 0.03))"
   ]
  },
  {
   "cell_type": "markdown",
   "metadata": {},
   "source": [
    "##  Recapitulation of Pritts original  Meta-analysis\n",
    "\n",
    "Here we try to recreate the original Pritts model by exactly specifying the model as the original, and using the same dataset.\n",
    "\n",
    "Here is the model:"
   ]
  },
  {
   "cell_type": "code",
   "execution_count": 10,
   "metadata": {},
   "outputs": [],
   "source": [
    "import theano.tensor as tt\n",
    "invlogit = pm.math.invlogit\n",
    "\n",
    "def original_model(model_data):\n",
    "    \n",
    "    with pm.Model() as model:\n",
    "\n",
    "        k = model_data.shape[0]\n",
    "        tumors = model_data.Tumors.values.astype(int)\n",
    "        n = model_data.Population.values.astype(int)\n",
    "\n",
    "        # Study random effect\n",
    "        μ = pm.Normal('μ', 0, sd=100)\n",
    "        σ = pm.Uniform('σ', 0, 10)\n",
    "        ζ = pm.Normal('ζ', 0, 1, shape=k)\n",
    "        θ = μ + ζ*σ\n",
    "\n",
    "        # Study-specific probabilities\n",
    "        π = pm.Deterministic('π', invlogit(θ))\n",
    "\n",
    "        # Expected probabilities by design\n",
    "        p_10000 = pm.Deterministic('p_10000', invlogit(μ)*10000)\n",
    "\n",
    "        obs = pm.Binomial('obs', n=n, p=π, observed=tumors)\n",
    "        \n",
    "    return model"
   ]
  },
  {
   "cell_type": "code",
   "execution_count": 11,
   "metadata": {},
   "outputs": [],
   "source": [
    "prospective_mask = old_pritts.design=='Prospective'\n",
    "\n",
    "pritts_prospective = original_model(old_pritts[prospective_mask])\n",
    "pritts_retrospective = original_model(old_pritts[~prospective_mask])"
   ]
  },
  {
   "cell_type": "code",
   "execution_count": 67,
   "metadata": {
    "collapsed": true
   },
   "outputs": [],
   "source": [
    "iterations = 5000\n",
    "keep = 4000\n",
    "tune = iterations - keep"
   ]
  },
  {
   "cell_type": "code",
   "execution_count": 13,
   "metadata": {},
   "outputs": [
    {
     "data": {
      "text/plain": [
       "(3641, 38)"
      ]
     },
     "execution_count": 13,
     "metadata": {},
     "output_type": "execute_result"
    }
   ],
   "source": [
    "old_pritts[prospective_mask].Population.sum(), old_pritts[prospective_mask].Population.shape[0]"
   ]
  },
  {
   "cell_type": "code",
   "execution_count": 14,
   "metadata": {},
   "outputs": [
    {
     "data": {
      "text/plain": [
       "(26552, 96)"
      ]
     },
     "execution_count": 14,
     "metadata": {},
     "output_type": "execute_result"
    }
   ],
   "source": [
    "old_pritts[~prospective_mask].Population.sum(), old_pritts[~prospective_mask].Population.shape[0]"
   ]
  },
  {
   "cell_type": "markdown",
   "metadata": {},
   "source": [
    "Here's the prospective model:"
   ]
  },
  {
   "cell_type": "code",
   "execution_count": 15,
   "metadata": {
    "scrolled": true
   },
   "outputs": [
    {
     "name": "stderr",
     "output_type": "stream",
     "text": [
      "Auto-assigning NUTS sampler...\n",
      "Initializing NUTS using advi...\n",
      "Average ELBO = -17.857: 100%|██████████| 200000/200000 [00:16<00:00, 11787.92it/s]\n",
      "Finished [100%]: Average ELBO = -17.645\n",
      "Evidence of divergence detected, inspect ELBO.\n",
      "100%|█████████▉| 4988/5000 [00:41<00:00, 137.65it/s]/Users/fonnescj/Repos/pymc3/pymc3/step_methods/hmc/nuts.py:237: UserWarning: Step size tuning was enabled throughout the whole trace. You might want to specify the number of tuning steps.\n",
      "  warnings.warn('Step size tuning was enabled throughout the whole '\n",
      "/Users/fonnescj/anaconda3/envs/dev/lib/python3.6/site-packages/numpy/core/fromnumeric.py:2889: RuntimeWarning: Mean of empty slice.\n",
      "  out=out, **kwargs)\n",
      "100%|██████████| 5000/5000 [00:41<00:00, 120.89it/s]\n",
      "/Users/fonnescj/Repos/pymc3/pymc3/step_methods/hmc/nuts.py:237: UserWarning: Step size tuning was enabled throughout the whole trace. You might want to specify the number of tuning steps.\n",
      "  warnings.warn('Step size tuning was enabled throughout the whole '\n",
      "/Users/fonnescj/anaconda3/envs/dev/lib/python3.6/site-packages/numpy/core/fromnumeric.py:2889: RuntimeWarning: Mean of empty slice.\n",
      "  out=out, **kwargs)\n",
      "/Users/fonnescj/Repos/pymc3/pymc3/step_methods/hmc/nuts.py:237: UserWarning: Step size tuning was enabled throughout the whole trace. You might want to specify the number of tuning steps.\n",
      "  warnings.warn('Step size tuning was enabled throughout the whole '\n",
      "/Users/fonnescj/anaconda3/envs/dev/lib/python3.6/site-packages/numpy/core/fromnumeric.py:2889: RuntimeWarning: Mean of empty slice.\n",
      "  out=out, **kwargs)\n",
      "/Users/fonnescj/Repos/pymc3/pymc3/step_methods/hmc/nuts.py:237: UserWarning: Step size tuning was enabled throughout the whole trace. You might want to specify the number of tuning steps.\n",
      "  warnings.warn('Step size tuning was enabled throughout the whole '\n",
      "/Users/fonnescj/anaconda3/envs/dev/lib/python3.6/site-packages/numpy/core/fromnumeric.py:2889: RuntimeWarning: Mean of empty slice.\n",
      "  out=out, **kwargs)\n"
     ]
    }
   ],
   "source": [
    "with pritts_prospective:\n",
    "    prospective_trace = pm.sample(iterations, njobs=4, tune=tune,\n",
    "                                  random_seed=rseeds)"
   ]
  },
  {
   "cell_type": "code",
   "execution_count": 16,
   "metadata": {
    "scrolled": false
   },
   "outputs": [
    {
     "name": "stdout",
     "output_type": "stream",
     "text": [
      "\n",
      "p_10000:\n",
      "\n",
      "  Mean             SD               MC Error         95% HPD interval\n",
      "  -------------------------------------------------------------------\n",
      "  \n",
      "  2.8504           3.7520           0.1057           [0.0000, 10.7090]\n",
      "\n",
      "  Posterior quantiles:\n",
      "  2.5            25             50             75             97.5\n",
      "  |--------------|==============|==============|--------------|\n",
      "  \n",
      "  0.0001         0.2086         1.3168         4.1425         13.2840\n",
      "\n",
      "\n",
      "μ:\n",
      "\n",
      "  Mean             SD               MC Error         95% HPD interval\n",
      "  -------------------------------------------------------------------\n",
      "  \n",
      "  -9.8176          3.1250           0.1860           [-16.4207, -6.1048]\n",
      "\n",
      "  Posterior quantiles:\n",
      "  2.5            25             50             75             97.5\n",
      "  |--------------|==============|==============|--------------|\n",
      "  \n",
      "  -18.6919       -10.7778       -8.9350        -7.7886        -6.6225\n",
      "\n",
      "\n",
      "σ:\n",
      "\n",
      "  Mean             SD               MC Error         95% HPD interval\n",
      "  -------------------------------------------------------------------\n",
      "  \n",
      "  2.4002           1.9214           0.1038           [0.0005, 6.5650]\n",
      "\n",
      "  Posterior quantiles:\n",
      "  2.5            25             50             75             97.5\n",
      "  |--------------|==============|==============|--------------|\n",
      "  \n",
      "  0.1098         1.0184         1.9344         3.2270         7.8210\n",
      "\n"
     ]
    }
   ],
   "source": [
    "pm.summary(prospective_trace[-keep:], varnames=['p_10000', 'μ', 'σ'], roundto=4)"
   ]
  },
  {
   "cell_type": "markdown",
   "metadata": {},
   "source": [
    "The following plots are the distribution of samples from the posterior distributions for the expected (population) probability of tumor (`p_update`), the inverse-logit expected probability ($\\mu$) and the standard deviation of the probabilities on the inverse-logit scale ($\\sigma$)."
   ]
  },
  {
   "cell_type": "code",
   "execution_count": 17,
   "metadata": {},
   "outputs": [
    {
     "data": {
      "image/png": "[encoded data removed]",
      "text/plain": [
       "<matplotlib.figure.Figure at 0x120b29400>"
      ]
     },
     "metadata": {},
     "output_type": "display_data"
    }
   ],
   "source": [
    "pm.forestplot(prospective_trace[-keep:], varnames=['p_10000', 'μ', 'σ']);"
   ]
  },
  {
   "cell_type": "markdown",
   "metadata": {},
   "source": [
    "Here's the retrospective model:"
   ]
  },
  {
   "cell_type": "code",
   "execution_count": 18,
   "metadata": {},
   "outputs": [
    {
     "name": "stderr",
     "output_type": "stream",
     "text": [
      "Auto-assigning NUTS sampler...\n",
      "Initializing NUTS using advi...\n",
      "Average ELBO = -53.289: 100%|██████████| 200000/200000 [00:21<00:00, 9121.49it/s] \n",
      "Finished [100%]: Average ELBO = -53.333\n",
      " 99%|█████████▉| 4957/5000 [00:35<00:00, 219.41it/s]/Users/fonnescj/Repos/pymc3/pymc3/step_methods/hmc/nuts.py:237: UserWarning: Step size tuning was enabled throughout the whole trace. You might want to specify the number of tuning steps.\n",
      "  warnings.warn('Step size tuning was enabled throughout the whole '\n",
      "/Users/fonnescj/anaconda3/envs/dev/lib/python3.6/site-packages/numpy/core/fromnumeric.py:2889: RuntimeWarning: Mean of empty slice.\n",
      "  out=out, **kwargs)\n",
      "100%|█████████▉| 4980/5000 [00:35<00:00, 203.62it/s]/Users/fonnescj/Repos/pymc3/pymc3/step_methods/hmc/nuts.py:237: UserWarning: Step size tuning was enabled throughout the whole trace. You might want to specify the number of tuning steps.\n",
      "  warnings.warn('Step size tuning was enabled throughout the whole '\n",
      "/Users/fonnescj/anaconda3/envs/dev/lib/python3.6/site-packages/numpy/core/fromnumeric.py:2889: RuntimeWarning: Mean of empty slice.\n",
      "  out=out, **kwargs)\n",
      "100%|██████████| 5000/5000 [00:35<00:00, 140.94it/s]\n",
      "/Users/fonnescj/Repos/pymc3/pymc3/step_methods/hmc/nuts.py:237: UserWarning: Step size tuning was enabled throughout the whole trace. You might want to specify the number of tuning steps.\n",
      "  warnings.warn('Step size tuning was enabled throughout the whole '\n",
      "/Users/fonnescj/anaconda3/envs/dev/lib/python3.6/site-packages/numpy/core/fromnumeric.py:2889: RuntimeWarning: Mean of empty slice.\n",
      "  out=out, **kwargs)\n",
      "/Users/fonnescj/Repos/pymc3/pymc3/step_methods/hmc/nuts.py:237: UserWarning: Step size tuning was enabled throughout the whole trace. You might want to specify the number of tuning steps.\n",
      "  warnings.warn('Step size tuning was enabled throughout the whole '\n",
      "/Users/fonnescj/anaconda3/envs/dev/lib/python3.6/site-packages/numpy/core/fromnumeric.py:2889: RuntimeWarning: Mean of empty slice.\n",
      "  out=out, **kwargs)\n"
     ]
    }
   ],
   "source": [
    "with pritts_retrospective:\n",
    "    retrospective_trace = pm.sample(iterations, njobs=4, tune=tune, random_seed=rseeds)"
   ]
  },
  {
   "cell_type": "code",
   "execution_count": 19,
   "metadata": {},
   "outputs": [
    {
     "name": "stdout",
     "output_type": "stream",
     "text": [
      "\n",
      "p_10000:\n",
      "\n",
      "  Mean             SD               MC Error         95% HPD interval\n",
      "  -------------------------------------------------------------------\n",
      "  \n",
      "  5.1366           2.2753           0.0443           [1.1105, 9.7129]\n",
      "\n",
      "  Posterior quantiles:\n",
      "  2.5            25             50             75             97.5\n",
      "  |--------------|==============|==============|--------------|\n",
      "  \n",
      "  1.4226         3.4555         4.8728         6.5604         10.1993\n",
      "\n",
      "\n",
      "μ:\n",
      "\n",
      "  Mean             SD               MC Error         95% HPD interval\n",
      "  -------------------------------------------------------------------\n",
      "  \n",
      "  -7.6847          0.5048           0.0115           [-8.6602, -6.7799]\n",
      "\n",
      "  Posterior quantiles:\n",
      "  2.5            25             50             75             97.5\n",
      "  |--------------|==============|==============|--------------|\n",
      "  \n",
      "  -8.8577        -7.9700        -7.6262        -7.3286        -6.8870\n",
      "\n",
      "\n",
      "σ:\n",
      "\n",
      "  Mean             SD               MC Error         95% HPD interval\n",
      "  -------------------------------------------------------------------\n",
      "  \n",
      "  1.1422           0.3892           0.0088           [0.4495, 1.9696]\n",
      "\n",
      "  Posterior quantiles:\n",
      "  2.5            25             50             75             97.5\n",
      "  |--------------|==============|==============|--------------|\n",
      "  \n",
      "  0.4885         0.8752         1.0989         1.3670         2.0272\n",
      "\n"
     ]
    }
   ],
   "source": [
    "pm.summary(retrospective_trace[-keep:], varnames=['p_10000', 'μ', 'σ'], roundto=4)"
   ]
  },
  {
   "cell_type": "code",
   "execution_count": 20,
   "metadata": {},
   "outputs": [
    {
     "data": {
      "image/png": "[encoded data removed]",
      "text/plain": [
       "<matplotlib.figure.Figure at 0x11ade6f60>"
      ]
     },
     "metadata": {},
     "output_type": "display_data"
    }
   ],
   "source": [
    "pm.forestplot(retrospective_trace[-keep:], varnames=['p_10000', 'μ', 'σ']);"
   ]
  },
  {
   "cell_type": "markdown",
   "metadata": {},
   "source": [
    "By comparison, estimates from Pritts' supplement:\n",
    "\n",
    "![pritts estimates](pritts_table.png)"
   ]
  },
  {
   "cell_type": "code",
   "execution_count": 21,
   "metadata": {},
   "outputs": [],
   "source": [
    "def pritts_plot(traces, title=''):\n",
    "    \n",
    "    intervals = [pm.stats.hpd(tr['p_10000'][-keep:]) for tr in traces]\n",
    "\n",
    "    meds = [np.mean(tr['p_10000'][-keep:]) for tr in traces]\n",
    "    upper = [i[1] - m for m,i in zip(meds, intervals)]\n",
    "    lower = [m - i[0] for m,i in zip(meds, intervals)]\n",
    "\n",
    "    plt.errorbar(np.arange(2)-0.1, meds, yerr=[lower, upper], fmt='s', label='Updated MA')\n",
    "    plt.errorbar(np.arange(2)+0.1, [5.7, 1.2], yerr=[[5.7-1.7, 1.2], [11.3 - 5.7,7.5 - 1.2]], \n",
    "                 color='r', fmt='D', label='Pritts MA', elinewidth=0.5)\n",
    "    plt.xticks(range(3), ['Retrospective', 'Prospective'])\n",
    "    plt.ylabel('Rate per 10,000 surgeries')\n",
    "    plt.xlim(-0.5, 1.5)\n",
    "    plt.title(title)\n",
    "    plt.legend();"
   ]
  },
  {
   "cell_type": "code",
   "execution_count": 22,
   "metadata": {},
   "outputs": [
    {
     "data": {
      "image/png": "[encoded data removed]",
      "text/plain": [
       "<matplotlib.figure.Figure at 0x11b9646a0>"
      ]
     },
     "metadata": {},
     "output_type": "display_data"
    }
   ],
   "source": [
    "pritts_plot([retrospective_trace, prospective_trace], 'Original data')"
   ]
  },
  {
   "cell_type": "markdown",
   "metadata": {},
   "source": [
    "## Pritts Update\n",
    "\n",
    "This is the same Pritts model, but with updated data."
   ]
  },
  {
   "cell_type": "code",
   "execution_count": 23,
   "metadata": {},
   "outputs": [],
   "source": [
    "prospective_mask = updated_pritts.design=='Prospective'\n",
    "\n",
    "pritts_updated_prosp = original_model(updated_pritts[prospective_mask])\n",
    "pritts_updated_retro = original_model(updated_pritts[~prospective_mask])"
   ]
  },
  {
   "cell_type": "code",
   "execution_count": 24,
   "metadata": {},
   "outputs": [
    {
     "data": {
      "text/plain": [
       "(3648, 38)"
      ]
     },
     "execution_count": 24,
     "metadata": {},
     "output_type": "execute_result"
    }
   ],
   "source": [
    "updated_pritts[prospective_mask].Population.sum(), updated_pritts[prospective_mask].Population.shape[0]"
   ]
  },
  {
   "cell_type": "code",
   "execution_count": 25,
   "metadata": {},
   "outputs": [
    {
     "data": {
      "text/plain": [
       "(26504, 96)"
      ]
     },
     "execution_count": 25,
     "metadata": {},
     "output_type": "execute_result"
    }
   ],
   "source": [
    "updated_pritts[~prospective_mask].Population.sum(), updated_pritts[~prospective_mask].Population.shape[0]"
   ]
  },
  {
   "cell_type": "code",
   "execution_count": 26,
   "metadata": {},
   "outputs": [
    {
     "data": {
      "text/plain": [
       "(134, 18)"
      ]
     },
     "execution_count": 26,
     "metadata": {},
     "output_type": "execute_result"
    }
   ],
   "source": [
    "updated_pritts.shape"
   ]
  },
  {
   "cell_type": "code",
   "execution_count": 27,
   "metadata": {},
   "outputs": [
    {
     "name": "stderr",
     "output_type": "stream",
     "text": [
      "Auto-assigning NUTS sampler...\n",
      "Initializing NUTS using advi...\n",
      "Average ELBO = -17.863: 100%|██████████| 200000/200000 [00:17<00:00, 11511.41it/s]\n",
      "Finished [100%]: Average ELBO = -17.647\n",
      "Evidence of divergence detected, inspect ELBO.\n",
      "100%|█████████▉| 4986/5000 [00:18<00:00, 372.34it/s]/Users/fonnescj/Repos/pymc3/pymc3/step_methods/hmc/nuts.py:237: UserWarning: Step size tuning was enabled throughout the whole trace. You might want to specify the number of tuning steps.\n",
      "  warnings.warn('Step size tuning was enabled throughout the whole '\n",
      "/Users/fonnescj/anaconda3/envs/dev/lib/python3.6/site-packages/numpy/core/fromnumeric.py:2889: RuntimeWarning: Mean of empty slice.\n",
      "  out=out, **kwargs)\n",
      "100%|██████████| 5000/5000 [00:18<00:00, 275.07it/s]\n"
     ]
    }
   ],
   "source": [
    "with pritts_updated_prosp:\n",
    "    updated_prosp_trace = pm.sample(iterations, tune=tune, random_seed=rseeds)"
   ]
  },
  {
   "cell_type": "code",
   "execution_count": 28,
   "metadata": {},
   "outputs": [
    {
     "name": "stderr",
     "output_type": "stream",
     "text": [
      "Auto-assigning NUTS sampler...\n",
      "Initializing NUTS using advi...\n",
      "Average ELBO = -53.246: 100%|██████████| 200000/200000 [00:25<00:00, 7930.74it/s]\n",
      "Finished [100%]: Average ELBO = -53.291\n",
      "100%|█████████▉| 4985/5000 [00:23<00:00, 139.66it/s]/Users/fonnescj/Repos/pymc3/pymc3/step_methods/hmc/nuts.py:237: UserWarning: Step size tuning was enabled throughout the whole trace. You might want to specify the number of tuning steps.\n",
      "  warnings.warn('Step size tuning was enabled throughout the whole '\n",
      "/Users/fonnescj/anaconda3/envs/dev/lib/python3.6/site-packages/numpy/core/fromnumeric.py:2889: RuntimeWarning: Mean of empty slice.\n",
      "  out=out, **kwargs)\n",
      "100%|██████████| 5000/5000 [00:23<00:00, 210.55it/s]\n"
     ]
    }
   ],
   "source": [
    "with pritts_updated_retro:\n",
    "    updated_retro_trace = pm.sample(iterations, tune=tune, random_seed=rseeds)"
   ]
  },
  {
   "cell_type": "code",
   "execution_count": 29,
   "metadata": {},
   "outputs": [
    {
     "data": {
      "image/png": "[encoded data removed]",
      "text/plain": [
       "<matplotlib.figure.Figure at 0x11a50b080>"
      ]
     },
     "metadata": {},
     "output_type": "display_data"
    }
   ],
   "source": [
    "pritts_plot([updated_retro_trace, updated_prosp_trace], 'Updated data')"
   ]
  },
  {
   "cell_type": "markdown",
   "metadata": {},
   "source": [
    "### Prospective estimates"
   ]
  },
  {
   "cell_type": "code",
   "execution_count": 30,
   "metadata": {
    "scrolled": false
   },
   "outputs": [
    {
     "name": "stdout",
     "output_type": "stream",
     "text": [
      "\n",
      "p_10000:\n",
      "\n",
      "  Mean             SD               MC Error         95% HPD interval\n",
      "  -------------------------------------------------------------------\n",
      "  \n",
      "  2.6196           3.6278           0.1624           [0.0000, 10.2377]\n",
      "\n",
      "  Posterior quantiles:\n",
      "  2.5            25             50             75             97.5\n",
      "  |--------------|==============|==============|--------------|\n",
      "  \n",
      "  0.0002         0.1272         1.0159         3.7268         12.6710\n",
      "\n",
      "\n",
      "μ:\n",
      "\n",
      "  Mean             SD               MC Error         95% HPD interval\n",
      "  -------------------------------------------------------------------\n",
      "  \n",
      "  -9.9829          2.8737           0.2049           [-16.2213, -6.2387]\n",
      "\n",
      "  Posterior quantiles:\n",
      "  2.5            25             50             75             97.5\n",
      "  |--------------|==============|==============|--------------|\n",
      "  \n",
      "  -17.5054       -11.2722       -9.1944        -7.8944        -6.6698\n",
      "\n",
      "\n",
      "σ:\n",
      "\n",
      "  Mean             SD               MC Error         95% HPD interval\n",
      "  -------------------------------------------------------------------\n",
      "  \n",
      "  2.5425           1.9170           0.1304           [0.0059, 6.4221]\n",
      "\n",
      "  Posterior quantiles:\n",
      "  2.5            25             50             75             97.5\n",
      "  |--------------|==============|==============|--------------|\n",
      "  \n",
      "  0.1600         1.0853         2.0936         3.5129         7.5249\n",
      "\n"
     ]
    }
   ],
   "source": [
    "pm.summary(updated_prosp_trace[-keep:], varnames=['p_10000', 'μ', 'σ'], roundto=4)"
   ]
  },
  {
   "cell_type": "markdown",
   "metadata": {},
   "source": [
    "### Retrospective estimates"
   ]
  },
  {
   "cell_type": "code",
   "execution_count": 31,
   "metadata": {},
   "outputs": [
    {
     "name": "stdout",
     "output_type": "stream",
     "text": [
      "\n",
      "p_10000:\n",
      "\n",
      "  Mean             SD               MC Error         95% HPD interval\n",
      "  -------------------------------------------------------------------\n",
      "  \n",
      "  5.2770           2.2290           0.0860           [1.2331, 9.6566]\n",
      "\n",
      "  Posterior quantiles:\n",
      "  2.5            25             50             75             97.5\n",
      "  |--------------|==============|==============|--------------|\n",
      "  \n",
      "  1.6245         3.6371         5.0085         6.6249         10.2262\n",
      "\n",
      "\n",
      "μ:\n",
      "\n",
      "  Mean             SD               MC Error         95% HPD interval\n",
      "  -------------------------------------------------------------------\n",
      "  \n",
      "  -7.6448          0.4668           0.0194           [-8.5907, -6.8155]\n",
      "\n",
      "  Posterior quantiles:\n",
      "  2.5            25             50             75             97.5\n",
      "  |--------------|==============|==============|--------------|\n",
      "  \n",
      "  -8.7250        -7.9188        -7.5987        -7.3188        -6.8844\n",
      "\n",
      "\n",
      "σ:\n",
      "\n",
      "  Mean             SD               MC Error         95% HPD interval\n",
      "  -------------------------------------------------------------------\n",
      "  \n",
      "  1.1174           0.3731           0.0165           [0.4360, 1.8708]\n",
      "\n",
      "  Posterior quantiles:\n",
      "  2.5            25             50             75             97.5\n",
      "  |--------------|==============|==============|--------------|\n",
      "  \n",
      "  0.5056         0.8563         1.0742         1.3319         1.9700\n",
      "\n"
     ]
    }
   ],
   "source": [
    "pm.summary(updated_retro_trace[-keep:], varnames=['p_10000', 'μ', 'σ'], roundto=4)"
   ]
  },
  {
   "cell_type": "markdown",
   "metadata": {},
   "source": [
    "## Pritts update with EPC includes"
   ]
  },
  {
   "cell_type": "code",
   "execution_count": 32,
   "metadata": {},
   "outputs": [],
   "source": [
    "prospective_mask = all_data.design=='Prospective'\n",
    "\n",
    "pritts_epc_prospective = original_model(all_data[prospective_mask])\n",
    "pritts_epc_retrospective = original_model(all_data[~prospective_mask])"
   ]
  },
  {
   "cell_type": "code",
   "execution_count": 33,
   "metadata": {},
   "outputs": [
    {
     "data": {
      "text/plain": [
       "(3673, 40)"
      ]
     },
     "execution_count": 33,
     "metadata": {},
     "output_type": "execute_result"
    }
   ],
   "source": [
    "all_data[prospective_mask].Population.sum(), all_data[prospective_mask].Population.shape[0]"
   ]
  },
  {
   "cell_type": "code",
   "execution_count": 34,
   "metadata": {},
   "outputs": [
    {
     "data": {
      "text/plain": [
       "(153053, 121)"
      ]
     },
     "execution_count": 34,
     "metadata": {},
     "output_type": "execute_result"
    }
   ],
   "source": [
    "all_data[~prospective_mask].Population.sum(), all_data[~prospective_mask].Population.shape[0]"
   ]
  },
  {
   "cell_type": "code",
   "execution_count": 35,
   "metadata": {},
   "outputs": [
    {
     "data": {
      "text/plain": [
       "(161, 18)"
      ]
     },
     "execution_count": 35,
     "metadata": {},
     "output_type": "execute_result"
    }
   ],
   "source": [
    "all_data.shape"
   ]
  },
  {
   "cell_type": "code",
   "execution_count": 36,
   "metadata": {},
   "outputs": [
    {
     "name": "stderr",
     "output_type": "stream",
     "text": [
      "Auto-assigning NUTS sampler...\n",
      "Initializing NUTS using advi...\n",
      "Average ELBO = -124.72: 100%|██████████| 200000/200000 [00:26<00:00, 7412.29it/s]\n",
      "Finished [100%]: Average ELBO = -124.69\n",
      "100%|█████████▉| 4992/5000 [00:43<00:00, 129.18it/s]/Users/fonnescj/Repos/pymc3/pymc3/step_methods/hmc/nuts.py:237: UserWarning: Step size tuning was enabled throughout the whole trace. You might want to specify the number of tuning steps.\n",
      "  warnings.warn('Step size tuning was enabled throughout the whole '\n",
      "/Users/fonnescj/anaconda3/envs/dev/lib/python3.6/site-packages/numpy/core/fromnumeric.py:2889: RuntimeWarning: Mean of empty slice.\n",
      "  out=out, **kwargs)\n",
      "100%|██████████| 5000/5000 [00:43<00:00, 115.66it/s]\n",
      "/Users/fonnescj/Repos/pymc3/pymc3/step_methods/hmc/nuts.py:237: UserWarning: Step size tuning was enabled throughout the whole trace. You might want to specify the number of tuning steps.\n",
      "  warnings.warn('Step size tuning was enabled throughout the whole '\n",
      "/Users/fonnescj/anaconda3/envs/dev/lib/python3.6/site-packages/numpy/core/fromnumeric.py:2889: RuntimeWarning: Mean of empty slice.\n",
      "  out=out, **kwargs)\n",
      "/Users/fonnescj/Repos/pymc3/pymc3/step_methods/hmc/nuts.py:237: UserWarning: Step size tuning was enabled throughout the whole trace. You might want to specify the number of tuning steps.\n",
      "  warnings.warn('Step size tuning was enabled throughout the whole '\n",
      "/Users/fonnescj/anaconda3/envs/dev/lib/python3.6/site-packages/numpy/core/fromnumeric.py:2889: RuntimeWarning: Mean of empty slice.\n",
      "  out=out, **kwargs)\n",
      "/Users/fonnescj/Repos/pymc3/pymc3/step_methods/hmc/nuts.py:237: UserWarning: Step size tuning was enabled throughout the whole trace. You might want to specify the number of tuning steps.\n",
      "  warnings.warn('Step size tuning was enabled throughout the whole '\n",
      "/Users/fonnescj/anaconda3/envs/dev/lib/python3.6/site-packages/numpy/core/fromnumeric.py:2889: RuntimeWarning: Mean of empty slice.\n",
      "  out=out, **kwargs)\n"
     ]
    }
   ],
   "source": [
    "with pritts_epc_retrospective:\n",
    "    epc_retrospective_trace = pm.sample(iterations, tune=tune, njobs=4, random_seed=rseeds)"
   ]
  },
  {
   "cell_type": "code",
   "execution_count": 37,
   "metadata": {},
   "outputs": [
    {
     "name": "stderr",
     "output_type": "stream",
     "text": [
      "Auto-assigning NUTS sampler...\n",
      "Initializing NUTS using advi...\n",
      "Average ELBO = -18.02: 100%|██████████| 200000/200000 [00:17<00:00, 11421.68it/s] \n",
      "Finished [100%]: Average ELBO = -17.514\n",
      "Evidence of divergence detected, inspect ELBO.\n",
      " 94%|█████████▍| 4705/5000 [00:41<00:04, 66.29it/s] /Users/fonnescj/Repos/pymc3/pymc3/step_methods/hmc/nuts.py:237: UserWarning: Step size tuning was enabled throughout the whole trace. You might want to specify the number of tuning steps.\n",
      "  warnings.warn('Step size tuning was enabled throughout the whole '\n",
      "/Users/fonnescj/anaconda3/envs/dev/lib/python3.6/site-packages/numpy/core/fromnumeric.py:2889: RuntimeWarning: Mean of empty slice.\n",
      "  out=out, **kwargs)\n",
      " 95%|█████████▌| 4768/5000 [00:42<00:03, 76.00it/s]/Users/fonnescj/Repos/pymc3/pymc3/step_methods/hmc/nuts.py:237: UserWarning: Step size tuning was enabled throughout the whole trace. You might want to specify the number of tuning steps.\n",
      "  warnings.warn('Step size tuning was enabled throughout the whole '\n",
      "/Users/fonnescj/anaconda3/envs/dev/lib/python3.6/site-packages/numpy/core/fromnumeric.py:2889: RuntimeWarning: Mean of empty slice.\n",
      "  out=out, **kwargs)\n",
      " 96%|█████████▌| 4779/5000 [00:42<00:02, 83.59it/s]/Users/fonnescj/Repos/pymc3/pymc3/step_methods/hmc/nuts.py:237: UserWarning: Step size tuning was enabled throughout the whole trace. You might want to specify the number of tuning steps.\n",
      "  warnings.warn('Step size tuning was enabled throughout the whole '\n",
      "/Users/fonnescj/anaconda3/envs/dev/lib/python3.6/site-packages/numpy/core/fromnumeric.py:2889: RuntimeWarning: Mean of empty slice.\n",
      "  out=out, **kwargs)\n",
      "100%|█████████▉| 4984/5000 [00:42<00:00, 211.48it/s]/Users/fonnescj/Repos/pymc3/pymc3/step_methods/hmc/nuts.py:237: UserWarning: Step size tuning was enabled throughout the whole trace. You might want to specify the number of tuning steps.\n",
      "  warnings.warn('Step size tuning was enabled throughout the whole '\n",
      "/Users/fonnescj/anaconda3/envs/dev/lib/python3.6/site-packages/numpy/core/fromnumeric.py:2889: RuntimeWarning: Mean of empty slice.\n",
      "  out=out, **kwargs)\n",
      "100%|██████████| 5000/5000 [00:43<00:00, 115.96it/s]\n"
     ]
    }
   ],
   "source": [
    "with pritts_epc_prospective:\n",
    "    epc_prospective_trace = pm.sample(iterations, tune=tune, njobs=4, random_seed=rseeds)"
   ]
  },
  {
   "cell_type": "code",
   "execution_count": 38,
   "metadata": {
    "scrolled": false
   },
   "outputs": [
    {
     "data": {
      "image/png": "[encoded data removed]",
      "text/plain": [
       "<matplotlib.figure.Figure at 0x11af3ae80>"
      ]
     },
     "metadata": {},
     "output_type": "display_data"
    }
   ],
   "source": [
    "pritts_plot([epc_retrospective_trace, epc_prospective_trace], 'Updated with EPC Includes')"
   ]
  },
  {
   "cell_type": "markdown",
   "metadata": {},
   "source": [
    "### Prospective estimates"
   ]
  },
  {
   "cell_type": "code",
   "execution_count": 39,
   "metadata": {},
   "outputs": [
    {
     "name": "stdout",
     "output_type": "stream",
     "text": [
      "\n",
      "p_10000:\n",
      "\n",
      "  Mean             SD               MC Error         95% HPD interval\n",
      "  -------------------------------------------------------------------\n",
      "  \n",
      "  2.6678           3.6069           0.1002           [0.0000, 10.1321]\n",
      "\n",
      "  Posterior quantiles:\n",
      "  2.5            25             50             75             97.5\n",
      "  |--------------|==============|==============|--------------|\n",
      "  \n",
      "  0.0001         0.1432         1.1706         3.8541         13.0137\n",
      "\n",
      "\n",
      "μ:\n",
      "\n",
      "  Mean             SD               MC Error         95% HPD interval\n",
      "  -------------------------------------------------------------------\n",
      "  \n",
      "  -10.0585         3.2194           0.1747           [-17.1839, -6.2177]\n",
      "\n",
      "  Posterior quantiles:\n",
      "  2.5            25             50             75             97.5\n",
      "  |--------------|==============|==============|--------------|\n",
      "  \n",
      "  -19.0045       -11.1536       -9.0527        -7.8608        -6.6430\n",
      "\n",
      "\n",
      "σ:\n",
      "\n",
      "  Mean             SD               MC Error         95% HPD interval\n",
      "  -------------------------------------------------------------------\n",
      "  \n",
      "  2.5460           2.0189           0.1016           [0.0024, 6.8810]\n",
      "\n",
      "  Posterior quantiles:\n",
      "  2.5            25             50             75             97.5\n",
      "  |--------------|==============|==============|--------------|\n",
      "  \n",
      "  0.1460         1.0678         2.0276         3.4540         8.1002\n",
      "\n"
     ]
    }
   ],
   "source": [
    "pm.summary(epc_prospective_trace[-keep:], varnames=['p_10000', 'μ', 'σ'], roundto=4)"
   ]
  },
  {
   "cell_type": "markdown",
   "metadata": {},
   "source": [
    "### Retrospective estimates"
   ]
  },
  {
   "cell_type": "code",
   "execution_count": 40,
   "metadata": {},
   "outputs": [
    {
     "name": "stdout",
     "output_type": "stream",
     "text": [
      "\n",
      "p_10000:\n",
      "\n",
      "  Mean             SD               MC Error         95% HPD interval\n",
      "  -------------------------------------------------------------------\n",
      "  \n",
      "  9.1492           2.1055           0.0666           [5.3064, 13.4267]\n",
      "\n",
      "  Posterior quantiles:\n",
      "  2.5            25             50             75             97.5\n",
      "  |--------------|==============|==============|--------------|\n",
      "  \n",
      "  5.3749         7.6754         9.0359         10.5226        13.5260\n",
      "\n",
      "\n",
      "μ:\n",
      "\n",
      "  Mean             SD               MC Error         95% HPD interval\n",
      "  -------------------------------------------------------------------\n",
      "  \n",
      "  -7.0233          0.2390           0.0076           [-7.4894, -6.5821]\n",
      "\n",
      "  Posterior quantiles:\n",
      "  2.5            25             50             75             97.5\n",
      "  |--------------|==============|==============|--------------|\n",
      "  \n",
      "  -7.5281        -7.1716        -7.0082        -6.8558        -6.6044\n",
      "\n",
      "\n",
      "σ:\n",
      "\n",
      "  Mean             SD               MC Error         95% HPD interval\n",
      "  -------------------------------------------------------------------\n",
      "  \n",
      "  1.0888           0.1795           0.0064           [0.7424, 1.4336]\n",
      "\n",
      "  Posterior quantiles:\n",
      "  2.5            25             50             75             97.5\n",
      "  |--------------|==============|==============|--------------|\n",
      "  \n",
      "  0.7806         0.9652         1.0740         1.1956         1.4926\n",
      "\n"
     ]
    }
   ],
   "source": [
    "pm.summary(epc_retrospective_trace[-keep:], varnames=['p_10000', 'μ', 'σ'], roundto=4)"
   ]
  },
  {
   "cell_type": "markdown",
   "metadata": {},
   "source": [
    "## No hysteroscopy subset\n",
    "\n",
    "Remove studies that used hysteroscopy"
   ]
  },
  {
   "cell_type": "code",
   "execution_count": 41,
   "metadata": {},
   "outputs": [
    {
     "data": {
      "text/plain": [
       "no     125\n",
       "yes     36\n",
       "Name: Hysteroscopy, dtype: int64"
      ]
     },
     "execution_count": 41,
     "metadata": {},
     "output_type": "execute_result"
    }
   ],
   "source": [
    "all_data.Hysteroscopy.value_counts()"
   ]
  },
  {
   "cell_type": "code",
   "execution_count": 42,
   "metadata": {},
   "outputs": [
    {
     "data": {
      "text/plain": [
       "(28, 18)"
      ]
     },
     "execution_count": 42,
     "metadata": {},
     "output_type": "execute_result"
    }
   ],
   "source": [
    "hysteroscopy_mask = all_data.Hysteroscopy=='no'\n",
    "\n",
    "all_data[prospective_mask & hysteroscopy_mask].shape"
   ]
  },
  {
   "cell_type": "code",
   "execution_count": 43,
   "metadata": {},
   "outputs": [
    {
     "data": {
      "text/plain": [
       "(97, 18)"
      ]
     },
     "execution_count": 43,
     "metadata": {},
     "output_type": "execute_result"
    }
   ],
   "source": [
    "all_data[(~prospective_mask) & hysteroscopy_mask].shape"
   ]
  },
  {
   "cell_type": "code",
   "execution_count": 44,
   "metadata": {
    "collapsed": true
   },
   "outputs": [],
   "source": [
    "no_hysteroscopy_prospective = original_model(all_data[prospective_mask & hysteroscopy_mask])\n",
    "no_hysteroscopy_retrospective = original_model(all_data[(~prospective_mask) & hysteroscopy_mask])"
   ]
  },
  {
   "cell_type": "code",
   "execution_count": 45,
   "metadata": {
    "scrolled": false
   },
   "outputs": [
    {
     "data": {
      "text/html": [
       "<div>\n",
       "<table border=\"1\" class=\"dataframe\">\n",
       "  <thead>\n",
       "    <tr style=\"text-align: right;\">\n",
       "      <th>Hysteroscopy</th>\n",
       "      <th>no</th>\n",
       "      <th>yes</th>\n",
       "    </tr>\n",
       "    <tr>\n",
       "      <th>Prospective</th>\n",
       "      <th></th>\n",
       "      <th></th>\n",
       "    </tr>\n",
       "  </thead>\n",
       "  <tbody>\n",
       "    <tr>\n",
       "      <th>0</th>\n",
       "      <td>2.72</td>\n",
       "      <td>9.45</td>\n",
       "    </tr>\n",
       "    <tr>\n",
       "      <th>1</th>\n",
       "      <td>0.00</td>\n",
       "      <td>0.21</td>\n",
       "    </tr>\n",
       "  </tbody>\n",
       "</table>\n",
       "</div>"
      ],
      "text/plain": [
       "Hysteroscopy    no   yes\n",
       "Prospective             \n",
       "0             2.72  9.45\n",
       "1             0.00  0.21"
      ]
     },
     "execution_count": 45,
     "metadata": {},
     "output_type": "execute_result"
    }
   ],
   "source": [
    "all_data.pivot_table(index='Prospective', columns='Hysteroscopy', values='Tumors').round(2)"
   ]
  },
  {
   "cell_type": "code",
   "execution_count": 46,
   "metadata": {},
   "outputs": [
    {
     "name": "stderr",
     "output_type": "stream",
     "text": [
      "Auto-assigning NUTS sampler...\n",
      "Initializing NUTS using advi...\n",
      "Average ELBO = -95.089: 100%|██████████| 200000/200000 [00:23<00:00, 8652.87it/s] \n",
      "Finished [100%]: Average ELBO = -95.111\n",
      "100%|█████████▉| 4993/5000 [00:34<00:00, 155.73it/s]/Users/fonnescj/Repos/pymc3/pymc3/step_methods/hmc/nuts.py:237: UserWarning: Step size tuning was enabled throughout the whole trace. You might want to specify the number of tuning steps.\n",
      "  warnings.warn('Step size tuning was enabled throughout the whole '\n",
      "/Users/fonnescj/anaconda3/envs/dev/lib/python3.6/site-packages/numpy/core/fromnumeric.py:2889: RuntimeWarning: Mean of empty slice.\n",
      "  out=out, **kwargs)\n",
      "100%|██████████| 5000/5000 [00:34<00:00, 144.28it/s]\n",
      "/Users/fonnescj/Repos/pymc3/pymc3/step_methods/hmc/nuts.py:237: UserWarning: Step size tuning was enabled throughout the whole trace. You might want to specify the number of tuning steps.\n",
      "  warnings.warn('Step size tuning was enabled throughout the whole '\n",
      "/Users/fonnescj/anaconda3/envs/dev/lib/python3.6/site-packages/numpy/core/fromnumeric.py:2889: RuntimeWarning: Mean of empty slice.\n",
      "  out=out, **kwargs)\n",
      "/Users/fonnescj/Repos/pymc3/pymc3/step_methods/hmc/nuts.py:237: UserWarning: Step size tuning was enabled throughout the whole trace. You might want to specify the number of tuning steps.\n",
      "  warnings.warn('Step size tuning was enabled throughout the whole '\n",
      "/Users/fonnescj/anaconda3/envs/dev/lib/python3.6/site-packages/numpy/core/fromnumeric.py:2889: RuntimeWarning: Mean of empty slice.\n",
      "  out=out, **kwargs)\n",
      "/Users/fonnescj/Repos/pymc3/pymc3/step_methods/hmc/nuts.py:237: UserWarning: Step size tuning was enabled throughout the whole trace. You might want to specify the number of tuning steps.\n",
      "  warnings.warn('Step size tuning was enabled throughout the whole '\n",
      "/Users/fonnescj/anaconda3/envs/dev/lib/python3.6/site-packages/numpy/core/fromnumeric.py:2889: RuntimeWarning: Mean of empty slice.\n",
      "  out=out, **kwargs)\n"
     ]
    }
   ],
   "source": [
    "with no_hysteroscopy_retrospective:\n",
    "    hyst_retrospective_trace = pm.sample(iterations, njobs=4, tune=tune, random_seed=rseeds)"
   ]
  },
  {
   "cell_type": "markdown",
   "metadata": {},
   "source": [
    "### Retrospective estimates"
   ]
  },
  {
   "cell_type": "code",
   "execution_count": 47,
   "metadata": {},
   "outputs": [
    {
     "data": {
      "text/plain": [
       "<matplotlib.gridspec.GridSpec at 0x122c145f8>"
      ]
     },
     "execution_count": 47,
     "metadata": {},
     "output_type": "execute_result"
    },
    {
     "data": {
      "image/png": "[encoded data removed]",
      "text/plain": [
       "<matplotlib.figure.Figure at 0x122c146a0>"
      ]
     },
     "metadata": {},
     "output_type": "display_data"
    }
   ],
   "source": [
    "pm.forestplot(hyst_retrospective_trace[-keep:], varnames=['p_10000', 'μ', 'σ'])"
   ]
  },
  {
   "cell_type": "code",
   "execution_count": 48,
   "metadata": {},
   "outputs": [
    {
     "name": "stdout",
     "output_type": "stream",
     "text": [
      "\n",
      "p_10000:\n",
      "\n",
      "  Mean             SD               MC Error         95% HPD interval\n",
      "  -------------------------------------------------------------------\n",
      "  \n",
      "  7.5869           2.2270           0.0748           [3.3578, 11.9806]\n",
      "\n",
      "  Posterior quantiles:\n",
      "  2.5            25             50             75             97.5\n",
      "  |--------------|==============|==============|--------------|\n",
      "  \n",
      "  3.6717         6.0281         7.4199         8.9876         12.4315\n",
      "\n",
      "\n",
      "μ:\n",
      "\n",
      "  Mean             SD               MC Error         95% HPD interval\n",
      "  -------------------------------------------------------------------\n",
      "  \n",
      "  -7.2286          0.3099           0.0107           [-7.8354, -6.6436]\n",
      "\n",
      "  Posterior quantiles:\n",
      "  2.5            25             50             75             97.5\n",
      "  |--------------|==============|==============|--------------|\n",
      "  \n",
      "  -7.9093        -7.4133        -7.2054        -7.0136        -6.6889\n",
      "\n",
      "\n",
      "σ:\n",
      "\n",
      "  Mean             SD               MC Error         95% HPD interval\n",
      "  -------------------------------------------------------------------\n",
      "  \n",
      "  1.2003           0.2239           0.0098           [0.7964, 1.6365]\n",
      "\n",
      "  Posterior quantiles:\n",
      "  2.5            25             50             75             97.5\n",
      "  |--------------|==============|==============|--------------|\n",
      "  \n",
      "  0.8388         1.0406         1.1771         1.3330         1.7012\n",
      "\n"
     ]
    }
   ],
   "source": [
    "pm.summary(hyst_retrospective_trace[-keep:], varnames=['p_10000', 'μ', 'σ'], roundto=4)"
   ]
  },
  {
   "cell_type": "code",
   "execution_count": 49,
   "metadata": {
    "scrolled": true
   },
   "outputs": [
    {
     "name": "stderr",
     "output_type": "stream",
     "text": [
      "Auto-assigning NUTS sampler...\n",
      "Initializing NUTS using advi...\n",
      "Average ELBO = -88.595: 100%|██████████| 200000/200000 [00:20<00:00, 9791.51it/s] \n",
      "Finished [100%]: Average ELBO = -126.38\n",
      "Evidence of divergence detected, inspect ELBO.\n",
      "100%|█████████▉| 4975/5000 [00:20<00:00, 375.13it/s]/Users/fonnescj/Repos/pymc3/pymc3/step_methods/hmc/nuts.py:237: UserWarning: Step size tuning was enabled throughout the whole trace. You might want to specify the number of tuning steps.\n",
      "  warnings.warn('Step size tuning was enabled throughout the whole '\n",
      "/Users/fonnescj/anaconda3/envs/dev/lib/python3.6/site-packages/numpy/core/fromnumeric.py:2889: RuntimeWarning: Mean of empty slice.\n",
      "  out=out, **kwargs)\n",
      "100%|██████████| 5000/5000 [00:20<00:00, 240.02it/s]\n",
      "/Users/fonnescj/Repos/pymc3/pymc3/step_methods/hmc/nuts.py:237: UserWarning: Step size tuning was enabled throughout the whole trace. You might want to specify the number of tuning steps.\n",
      "  warnings.warn('Step size tuning was enabled throughout the whole '\n",
      "/Users/fonnescj/anaconda3/envs/dev/lib/python3.6/site-packages/numpy/core/fromnumeric.py:2889: RuntimeWarning: Mean of empty slice.\n",
      "  out=out, **kwargs)\n",
      "/Users/fonnescj/Repos/pymc3/pymc3/step_methods/hmc/nuts.py:237: UserWarning: Step size tuning was enabled throughout the whole trace. You might want to specify the number of tuning steps.\n",
      "  warnings.warn('Step size tuning was enabled throughout the whole '\n",
      "/Users/fonnescj/anaconda3/envs/dev/lib/python3.6/site-packages/numpy/core/fromnumeric.py:2889: RuntimeWarning: Mean of empty slice.\n",
      "  out=out, **kwargs)\n",
      "/Users/fonnescj/Repos/pymc3/pymc3/step_methods/hmc/nuts.py:237: UserWarning: Step size tuning was enabled throughout the whole trace. You might want to specify the number of tuning steps.\n",
      "  warnings.warn('Step size tuning was enabled throughout the whole '\n",
      "/Users/fonnescj/anaconda3/envs/dev/lib/python3.6/site-packages/numpy/core/fromnumeric.py:2889: RuntimeWarning: Mean of empty slice.\n",
      "  out=out, **kwargs)\n"
     ]
    }
   ],
   "source": [
    "with no_hysteroscopy_prospective:\n",
    "    hyst_prospective_trace = pm.sample(iterations, njobs=4, tune=tune, random_seed=rseeds)"
   ]
  },
  {
   "cell_type": "markdown",
   "metadata": {},
   "source": [
    "### Prospective estimates"
   ]
  },
  {
   "cell_type": "code",
   "execution_count": 50,
   "metadata": {},
   "outputs": [
    {
     "data": {
      "text/plain": [
       "<matplotlib.gridspec.GridSpec at 0x12604ba58>"
      ]
     },
     "execution_count": 50,
     "metadata": {},
     "output_type": "execute_result"
    },
    {
     "data": {
      "image/png": "[encoded data removed]",
      "text/plain": [
       "<matplotlib.figure.Figure at 0x12604b4e0>"
      ]
     },
     "metadata": {},
     "output_type": "display_data"
    }
   ],
   "source": [
    "pm.forestplot(hyst_prospective_trace[-keep:], varnames=['p_10000', 'μ', 'σ'])"
   ]
  },
  {
   "cell_type": "code",
   "execution_count": 51,
   "metadata": {},
   "outputs": [
    {
     "name": "stdout",
     "output_type": "stream",
     "text": [
      "\n",
      "p_10000:\n",
      "\n",
      "  Mean             SD               MC Error         95% HPD interval\n",
      "  -------------------------------------------------------------------\n",
      "  \n",
      "  0.0068           0.1214           0.0015           [0.0000, 0.0000]\n",
      "\n",
      "  Posterior quantiles:\n",
      "  2.5            25             50             75             97.5\n",
      "  |--------------|==============|==============|--------------|\n",
      "  \n",
      "  0.0000         0.0000         0.0000         0.0000         0.0008\n",
      "\n",
      "\n",
      "μ:\n",
      "\n",
      "  Mean             SD               MC Error         95% HPD interval\n",
      "  -------------------------------------------------------------------\n",
      "  \n",
      "  -90.3683         56.8332          1.5144           [-201.0519, -8.9410]\n",
      "\n",
      "  Posterior quantiles:\n",
      "  2.5            25             50             75             97.5\n",
      "  |--------------|==============|==============|--------------|\n",
      "  \n",
      "  -226.9124      -123.7155      -79.2219       -44.9413       -16.3167\n",
      "\n",
      "\n",
      "σ:\n",
      "\n",
      "  Mean             SD               MC Error         95% HPD interval\n",
      "  -------------------------------------------------------------------\n",
      "  \n",
      "  4.8590           2.8838           0.0219           [0.0215, 9.5004]\n",
      "\n",
      "  Posterior quantiles:\n",
      "  2.5            25             50             75             97.5\n",
      "  |--------------|==============|==============|--------------|\n",
      "  \n",
      "  0.2386         2.3432         4.7922         7.3213         9.7463\n",
      "\n"
     ]
    }
   ],
   "source": [
    "pm.summary(hyst_prospective_trace[-keep:], varnames=['p_10000', 'μ', 'σ'], roundto=4)"
   ]
  },
  {
   "cell_type": "code",
   "execution_count": 52,
   "metadata": {},
   "outputs": [
    {
     "data": {
      "image/png": "[encoded data removed]",
      "text/plain": [
       "<matplotlib.figure.Figure at 0x1305b7f28>"
      ]
     },
     "metadata": {},
     "output_type": "display_data"
    }
   ],
   "source": [
    "pritts_plot([hyst_retrospective_trace, hyst_prospective_trace], 'No Hysteroscopy Subset')"
   ]
  },
  {
   "cell_type": "markdown",
   "metadata": {},
   "source": [
    "## Confirmed histopathology subset\n",
    "\n",
    "Include only studies that had post-surgical histopathology"
   ]
  },
  {
   "cell_type": "code",
   "execution_count": 53,
   "metadata": {},
   "outputs": [
    {
     "data": {
      "text/plain": [
       "yes        144\n",
       "unclear     16\n",
       "NO           1\n",
       "Name: POSTOP_HP_Done, dtype: int64"
      ]
     },
     "execution_count": 53,
     "metadata": {},
     "output_type": "execute_result"
    }
   ],
   "source": [
    "all_data.POSTOP_HP_Done.value_counts()"
   ]
  },
  {
   "cell_type": "code",
   "execution_count": 54,
   "metadata": {},
   "outputs": [
    {
     "data": {
      "text/plain": [
       "(36, 18)"
      ]
     },
     "execution_count": 54,
     "metadata": {},
     "output_type": "execute_result"
    }
   ],
   "source": [
    "histopath_mask = all_data.POSTOP_HP_Done=='yes'\n",
    "\n",
    "all_data[prospective_mask & histopath_mask].shape"
   ]
  },
  {
   "cell_type": "code",
   "execution_count": 55,
   "metadata": {},
   "outputs": [
    {
     "data": {
      "text/plain": [
       "(108, 18)"
      ]
     },
     "execution_count": 55,
     "metadata": {},
     "output_type": "execute_result"
    }
   ],
   "source": [
    "all_data[(~prospective_mask) & histopath_mask].shape"
   ]
  },
  {
   "cell_type": "code",
   "execution_count": 56,
   "metadata": {
    "collapsed": true
   },
   "outputs": [],
   "source": [
    "histo_prospective = original_model(all_data[prospective_mask & histopath_mask])\n",
    "histo_retrospective = original_model(all_data[(~prospective_mask) & histopath_mask])"
   ]
  },
  {
   "cell_type": "code",
   "execution_count": 57,
   "metadata": {
    "scrolled": true
   },
   "outputs": [
    {
     "name": "stderr",
     "output_type": "stream",
     "text": [
      "Auto-assigning NUTS sampler...\n",
      "Initializing NUTS using advi...\n",
      "Average ELBO = -95.44: 100%|██████████| 200000/200000 [00:22<00:00, 8718.84it/s]  \n",
      "Finished [100%]: Average ELBO = -95.381\n",
      " 97%|█████████▋| 4867/5000 [00:57<00:01, 97.07it/s] /Users/fonnescj/Repos/pymc3/pymc3/step_methods/hmc/nuts.py:237: UserWarning: Step size tuning was enabled throughout the whole trace. You might want to specify the number of tuning steps.\n",
      "  warnings.warn('Step size tuning was enabled throughout the whole '\n",
      "/Users/fonnescj/anaconda3/envs/dev/lib/python3.6/site-packages/numpy/core/fromnumeric.py:2889: RuntimeWarning: Mean of empty slice.\n",
      "  out=out, **kwargs)\n",
      "100%|█████████▉| 4990/5000 [00:58<00:00, 115.26it/s]/Users/fonnescj/Repos/pymc3/pymc3/step_methods/hmc/nuts.py:237: UserWarning: Step size tuning was enabled throughout the whole trace. You might want to specify the number of tuning steps.\n",
      "  warnings.warn('Step size tuning was enabled throughout the whole '\n",
      "/Users/fonnescj/anaconda3/envs/dev/lib/python3.6/site-packages/numpy/core/fromnumeric.py:2889: RuntimeWarning: Mean of empty slice.\n",
      "  out=out, **kwargs)\n",
      "100%|██████████| 5000/5000 [00:59<00:00, 84.72it/s] \n",
      "/Users/fonnescj/Repos/pymc3/pymc3/step_methods/hmc/nuts.py:237: UserWarning: Step size tuning was enabled throughout the whole trace. You might want to specify the number of tuning steps.\n",
      "  warnings.warn('Step size tuning was enabled throughout the whole '\n",
      "/Users/fonnescj/anaconda3/envs/dev/lib/python3.6/site-packages/numpy/core/fromnumeric.py:2889: RuntimeWarning: Mean of empty slice.\n",
      "  out=out, **kwargs)\n",
      "/Users/fonnescj/Repos/pymc3/pymc3/step_methods/hmc/nuts.py:237: UserWarning: Step size tuning was enabled throughout the whole trace. You might want to specify the number of tuning steps.\n",
      "  warnings.warn('Step size tuning was enabled throughout the whole '\n",
      "/Users/fonnescj/anaconda3/envs/dev/lib/python3.6/site-packages/numpy/core/fromnumeric.py:2889: RuntimeWarning: Mean of empty slice.\n",
      "  out=out, **kwargs)\n"
     ]
    }
   ],
   "source": [
    "with histo_retrospective:\n",
    "    histo_retrospective_trace = pm.sample(iterations, njobs=4, tune=tune, random_seed=rseeds)"
   ]
  },
  {
   "cell_type": "markdown",
   "metadata": {},
   "source": [
    "### Retrospective estimates"
   ]
  },
  {
   "cell_type": "code",
   "execution_count": 58,
   "metadata": {},
   "outputs": [
    {
     "data": {
      "text/plain": [
       "<matplotlib.gridspec.GridSpec at 0x133840160>"
      ]
     },
     "execution_count": 58,
     "metadata": {},
     "output_type": "execute_result"
    },
    {
     "data": {
      "image/png": "[encoded data removed]",
      "text/plain": [
       "<matplotlib.figure.Figure at 0x1338404a8>"
      ]
     },
     "metadata": {},
     "output_type": "display_data"
    }
   ],
   "source": [
    "pm.forestplot(histo_retrospective_trace[-keep:], varnames=['p_10000', 'μ', 'σ'])"
   ]
  },
  {
   "cell_type": "code",
   "execution_count": 59,
   "metadata": {},
   "outputs": [
    {
     "name": "stdout",
     "output_type": "stream",
     "text": [
      "\n",
      "p_10000:\n",
      "\n",
      "  Mean             SD               MC Error         95% HPD interval\n",
      "  -------------------------------------------------------------------\n",
      "  \n",
      "  7.8203           2.4128           0.0888           [3.5104, 12.7097]\n",
      "\n",
      "  Posterior quantiles:\n",
      "  2.5            25             50             75             97.5\n",
      "  |--------------|==============|==============|--------------|\n",
      "  \n",
      "  3.6611         6.0633         7.6665         9.3900         12.8936\n",
      "\n",
      "\n",
      "μ:\n",
      "\n",
      "  Mean             SD               MC Error         95% HPD interval\n",
      "  -------------------------------------------------------------------\n",
      "  \n",
      "  -7.2040          0.3309           0.0126           [-7.8513, -6.6190]\n",
      "\n",
      "  Posterior quantiles:\n",
      "  2.5            25             50             75             97.5\n",
      "  |--------------|==============|==============|--------------|\n",
      "  \n",
      "  -7.9122        -7.4075        -7.1727        -6.9698        -6.6523\n",
      "\n",
      "\n",
      "σ:\n",
      "\n",
      "  Mean             SD               MC Error         95% HPD interval\n",
      "  -------------------------------------------------------------------\n",
      "  \n",
      "  1.2090           0.2377           0.0097           [0.7838, 1.6521]\n",
      "\n",
      "  Posterior quantiles:\n",
      "  2.5            25             50             75             97.5\n",
      "  |--------------|==============|==============|--------------|\n",
      "  \n",
      "  0.8317         1.0463         1.1806         1.3361         1.7408\n",
      "\n"
     ]
    }
   ],
   "source": [
    "pm.summary(histo_retrospective_trace[-keep:], varnames=['p_10000', 'μ', 'σ'], roundto=4)"
   ]
  },
  {
   "cell_type": "code",
   "execution_count": 60,
   "metadata": {
    "scrolled": true
   },
   "outputs": [
    {
     "name": "stderr",
     "output_type": "stream",
     "text": [
      "Auto-assigning NUTS sampler...\n",
      "Initializing NUTS using advi...\n",
      "Average ELBO = -15.601: 100%|██████████| 200000/200000 [00:21<00:00, 9457.21it/s] \n",
      "Finished [100%]: Average ELBO = -14.98\n",
      "Evidence of divergence detected, inspect ELBO.\n",
      " 97%|█████████▋| 4865/5000 [00:55<00:01, 100.57it/s]/Users/fonnescj/Repos/pymc3/pymc3/step_methods/hmc/nuts.py:237: UserWarning: Step size tuning was enabled throughout the whole trace. You might want to specify the number of tuning steps.\n",
      "  warnings.warn('Step size tuning was enabled throughout the whole '\n",
      "/Users/fonnescj/anaconda3/envs/dev/lib/python3.6/site-packages/numpy/core/fromnumeric.py:2889: RuntimeWarning: Mean of empty slice.\n",
      "  out=out, **kwargs)\n",
      "100%|█████████▉| 4988/5000 [00:56<00:00, 116.49it/s]/Users/fonnescj/Repos/pymc3/pymc3/step_methods/hmc/nuts.py:237: UserWarning: Step size tuning was enabled throughout the whole trace. You might want to specify the number of tuning steps.\n",
      "  warnings.warn('Step size tuning was enabled throughout the whole '\n",
      "/Users/fonnescj/anaconda3/envs/dev/lib/python3.6/site-packages/numpy/core/fromnumeric.py:2889: RuntimeWarning: Mean of empty slice.\n",
      "  out=out, **kwargs)\n",
      "100%|██████████| 5000/5000 [00:56<00:00, 88.43it/s] \n",
      "/Users/fonnescj/Repos/pymc3/pymc3/step_methods/hmc/nuts.py:237: UserWarning: Step size tuning was enabled throughout the whole trace. You might want to specify the number of tuning steps.\n",
      "  warnings.warn('Step size tuning was enabled throughout the whole '\n",
      "/Users/fonnescj/anaconda3/envs/dev/lib/python3.6/site-packages/numpy/core/fromnumeric.py:2889: RuntimeWarning: Mean of empty slice.\n",
      "  out=out, **kwargs)\n",
      "/Users/fonnescj/Repos/pymc3/pymc3/step_methods/hmc/nuts.py:237: UserWarning: Step size tuning was enabled throughout the whole trace. You might want to specify the number of tuning steps.\n",
      "  warnings.warn('Step size tuning was enabled throughout the whole '\n",
      "/Users/fonnescj/anaconda3/envs/dev/lib/python3.6/site-packages/numpy/core/fromnumeric.py:2889: RuntimeWarning: Mean of empty slice.\n",
      "  out=out, **kwargs)\n"
     ]
    }
   ],
   "source": [
    "with histo_prospective:\n",
    "    histo_prospective_trace = pm.sample(iterations, njobs=4, tune=tune, random_seed=rseeds)"
   ]
  },
  {
   "cell_type": "markdown",
   "metadata": {},
   "source": [
    "### Prospective estimates"
   ]
  },
  {
   "cell_type": "code",
   "execution_count": 61,
   "metadata": {},
   "outputs": [
    {
     "data": {
      "text/plain": [
       "<matplotlib.gridspec.GridSpec at 0x135008400>"
      ]
     },
     "execution_count": 61,
     "metadata": {},
     "output_type": "execute_result"
    },
    {
     "data": {
      "image/png": "[encoded data removed]",
      "text/plain": [
       "<matplotlib.figure.Figure at 0x135008240>"
      ]
     },
     "metadata": {},
     "output_type": "display_data"
    }
   ],
   "source": [
    "pm.forestplot(histo_prospective_trace[-keep:], varnames=['p_10000', 'μ', 'σ'])"
   ]
  },
  {
   "cell_type": "code",
   "execution_count": 62,
   "metadata": {},
   "outputs": [
    {
     "name": "stdout",
     "output_type": "stream",
     "text": [
      "\n",
      "p_10000:\n",
      "\n",
      "  Mean             SD               MC Error         95% HPD interval\n",
      "  -------------------------------------------------------------------\n",
      "  \n",
      "  0.6474           1.6403           0.0334           [0.0000, 3.5771]\n",
      "\n",
      "  Posterior quantiles:\n",
      "  2.5            25             50             75             97.5\n",
      "  |--------------|==============|==============|--------------|\n",
      "  \n",
      "  0.0000         0.0002         0.0229         0.4389         5.4536\n",
      "\n",
      "\n",
      "μ:\n",
      "\n",
      "  Mean             SD               MC Error         95% HPD interval\n",
      "  -------------------------------------------------------------------\n",
      "  \n",
      "  -14.3196         5.3916           0.2220           [-25.1932, -6.7721]\n",
      "\n",
      "  Posterior quantiles:\n",
      "  2.5            25             50             75             97.5\n",
      "  |--------------|==============|==============|--------------|\n",
      "  \n",
      "  -27.0264       -17.6013       -12.9888       -10.0338       -7.5135\n",
      "\n",
      "\n",
      "σ:\n",
      "\n",
      "  Mean             SD               MC Error         95% HPD interval\n",
      "  -------------------------------------------------------------------\n",
      "  \n",
      "  4.2267           2.7001           0.1066           [0.0046, 9.0943]\n",
      "\n",
      "  Posterior quantiles:\n",
      "  2.5            25             50             75             97.5\n",
      "  |--------------|==============|==============|--------------|\n",
      "  \n",
      "  0.2174         1.9420         3.8990         6.2617         9.5581\n",
      "\n"
     ]
    }
   ],
   "source": [
    "pm.summary(histo_prospective_trace[-keep:], varnames=['p_10000', 'μ', 'σ'], roundto=4)"
   ]
  },
  {
   "cell_type": "code",
   "execution_count": 63,
   "metadata": {},
   "outputs": [
    {
     "data": {
      "image/png": "[encoded data removed]",
      "text/plain": [
       "<matplotlib.figure.Figure at 0x139740390>"
      ]
     },
     "metadata": {},
     "output_type": "display_data"
    }
   ],
   "source": [
    "pritts_plot([histo_retrospective_trace, histo_prospective_trace], 'Histopathology Subset')"
   ]
  },
  {
   "cell_type": "markdown",
   "metadata": {},
   "source": [
    "### Goodness of fit\n",
    "\n",
    "To check how well the model fits the data, I conducted posteior predictive checks. This simulates data from the model for each data point (*i.e.* study) in the meta-analysis, and compares the distribution of these simulated values (here, 500 replicates) with the value of the data itself. If the percentile of the datum is very extreme (either large or small), then it is evidence that the model does not adequately fit the data. The distribution of percentiles in the bottom histogram shows that there is no evidence of lack of fit."
   ]
  },
  {
   "cell_type": "code",
   "execution_count": 64,
   "metadata": {},
   "outputs": [
    {
     "name": "stderr",
     "output_type": "stream",
     "text": [
      "100%|██████████| 500/500 [00:10<00:00, 45.77it/s]\n",
      "100%|██████████| 500/500 [00:10<00:00, 45.93it/s]\n"
     ]
    }
   ],
   "source": [
    "ppc_retro = pm.sample_ppc(epc_retrospective_trace, model=pritts_epc_retrospective, samples=500)\n",
    "ppc_prosp = pm.sample_ppc(epc_prospective_trace, model=pritts_epc_prospective, samples=500)"
   ]
  },
  {
   "cell_type": "code",
   "execution_count": 65,
   "metadata": {
    "scrolled": true
   },
   "outputs": [
    {
     "data": {
      "image/png": "[encoded data removed]",
      "text/plain": [
       "<matplotlib.figure.Figure at 0x12f0f8550>"
      ]
     },
     "metadata": {},
     "output_type": "display_data"
    }
   ],
   "source": [
    "from scipy.stats import percentileofscore\n",
    "        \n",
    "p = [percentileofscore(s, o).round(2) for s,o in zip(ppc_retro['obs'].T, all_data[~prospective_mask].Tumors)]\n",
    "p += [percentileofscore(s, o).round(2) for s,o in zip(ppc_prosp['obs'].T, all_data[prospective_mask].Tumors)]\n",
    "        \n",
    "plt.hist(p)\n",
    "plt.xlabel('percentile')\n",
    "plt.ylabel('frequency');"
   ]
  },
  {
   "cell_type": "markdown",
   "metadata": {},
   "source": [
    "## Combined models\n",
    "\n",
    "Additional model runs that pool retrospective and prospective designs.\n",
    "\n",
    "First, the original Pritts data:"
   ]
  },
  {
   "cell_type": "code",
   "execution_count": 68,
   "metadata": {},
   "outputs": [
    {
     "name": "stderr",
     "output_type": "stream",
     "text": [
      "Auto-assigning NUTS sampler...\n",
      "Initializing NUTS using advi...\n",
      "Average ELBO = -61.653: 100%|██████████| 200000/200000 [00:22<00:00, 8789.74it/s] \n",
      "Finished [100%]: Average ELBO = -61.66\n",
      "100%|██████████| 5000/5000 [02:08<00:00, 38.90it/s]\n"
     ]
    }
   ],
   "source": [
    "with original_model(old_pritts) as pritts_pooled:\n",
    "    pooled_trace = pm.sample(iterations, njobs=4, tune=tune, \n",
    "                                  random_seed=rseeds)"
   ]
  },
  {
   "cell_type": "code",
   "execution_count": 69,
   "metadata": {},
   "outputs": [
    {
     "name": "stdout",
     "output_type": "stream",
     "text": [
      "\n",
      "p_10000:\n",
      "\n",
      "  Mean             SD               MC Error         95% HPD interval\n",
      "  -------------------------------------------------------------------\n",
      "  \n",
      "  5.0709           2.1184           0.0288           [1.3895, 9.3628]\n",
      "\n",
      "  Posterior quantiles:\n",
      "  2.5            25             50             75             97.5\n",
      "  |--------------|==============|==============|--------------|\n",
      "  \n",
      "  1.5932         3.5122         4.8480         6.3882         9.8184\n",
      "\n",
      "\n",
      "μ:\n",
      "\n",
      "  Mean             SD               MC Error         95% HPD interval\n",
      "  -------------------------------------------------------------------\n",
      "  \n",
      "  -7.6826          0.4617           0.0069           [-8.6059, -6.8583]\n",
      "\n",
      "  Posterior quantiles:\n",
      "  2.5            25             50             75             97.5\n",
      "  |--------------|==============|==============|--------------|\n",
      "  \n",
      "  -8.7445        -7.9537        -7.6313        -7.3552        -6.9251\n",
      "\n",
      "\n",
      "σ:\n",
      "\n",
      "  Mean             SD               MC Error         95% HPD interval\n",
      "  -------------------------------------------------------------------\n",
      "  \n",
      "  1.1114           0.3549           0.0056           [0.4511, 1.8321]\n",
      "\n",
      "  Posterior quantiles:\n",
      "  2.5            25             50             75             97.5\n",
      "  |--------------|==============|==============|--------------|\n",
      "  \n",
      "  0.5013         0.8631         1.0806         1.3207         1.9130\n",
      "\n"
     ]
    }
   ],
   "source": [
    "pm.summary(pooled_trace[-keep:], varnames=['p_10000', 'μ', 'σ'], roundto=4)"
   ]
  },
  {
   "cell_type": "code",
   "execution_count": 70,
   "metadata": {},
   "outputs": [
    {
     "data": {
      "image/png": "[encoded data removed]",
      "text/plain": [
       "<matplotlib.figure.Figure at 0x12f60def0>"
      ]
     },
     "metadata": {},
     "output_type": "display_data"
    }
   ],
   "source": [
    "pm.forestplot(pooled_trace[-keep:], varnames=['p_10000', 'μ', 'σ']);"
   ]
  },
  {
   "cell_type": "markdown",
   "metadata": {},
   "source": [
    "Updated Pritts data:"
   ]
  },
  {
   "cell_type": "code",
   "execution_count": 71,
   "metadata": {},
   "outputs": [
    {
     "name": "stderr",
     "output_type": "stream",
     "text": [
      "Auto-assigning NUTS sampler...\n",
      "Initializing NUTS using advi...\n",
      "Average ELBO = -61.617: 100%|██████████| 200000/200000 [00:26<00:00, 7571.80it/s] \n",
      "Finished [100%]: Average ELBO = -61.625\n",
      "100%|██████████| 5000/5000 [01:39<00:00, 50.46it/s] \n",
      "/Users/fonnescj/Repos/pymc3/pymc3/step_methods/hmc/nuts.py:247: UserWarning: Chain 1 contains diverging samples after tuning. If increasing `target_accept` doesn't help, try to reparameterize.\n",
      "  \"try to reparameterize.\" % chain)\n"
     ]
    }
   ],
   "source": [
    "with original_model(updated_pritts) as updated_pooled:\n",
    "    updated_pooled_trace = pm.sample(iterations, njobs=4, tune=tune, \n",
    "                                  random_seed=rseeds)"
   ]
  },
  {
   "cell_type": "code",
   "execution_count": 72,
   "metadata": {},
   "outputs": [
    {
     "name": "stdout",
     "output_type": "stream",
     "text": [
      "\n",
      "p_10000:\n",
      "\n",
      "  Mean             SD               MC Error         95% HPD interval\n",
      "  -------------------------------------------------------------------\n",
      "  \n",
      "  5.0402           2.1630           0.0367           [1.1668, 9.3947]\n",
      "\n",
      "  Posterior quantiles:\n",
      "  2.5            25             50             75             97.5\n",
      "  |--------------|==============|==============|--------------|\n",
      "  \n",
      "  1.4411         3.4738         4.8046         6.4022         9.8616\n",
      "\n",
      "\n",
      "μ:\n",
      "\n",
      "  Mean             SD               MC Error         95% HPD interval\n",
      "  -------------------------------------------------------------------\n",
      "  \n",
      "  -7.6981          0.4920           0.0104           [-8.6738, -6.8261]\n",
      "\n",
      "  Posterior quantiles:\n",
      "  2.5            25             50             75             97.5\n",
      "  |--------------|==============|==============|--------------|\n",
      "  \n",
      "  -8.8448        -7.9647        -7.6403        -7.3531        -6.9207\n",
      "\n",
      "\n",
      "σ:\n",
      "\n",
      "  Mean             SD               MC Error         95% HPD interval\n",
      "  -------------------------------------------------------------------\n",
      "  \n",
      "  1.1281           0.3804           0.0080           [0.4400, 1.8679]\n",
      "\n",
      "  Posterior quantiles:\n",
      "  2.5            25             50             75             97.5\n",
      "  |--------------|==============|==============|--------------|\n",
      "  \n",
      "  0.5075         0.8647         1.0888         1.3380         1.9917\n",
      "\n"
     ]
    }
   ],
   "source": [
    "pm.summary(updated_pooled_trace[-keep:], varnames=['p_10000', 'μ', 'σ'], roundto=4)"
   ]
  },
  {
   "cell_type": "code",
   "execution_count": 73,
   "metadata": {},
   "outputs": [
    {
     "data": {
      "image/png": "[encoded data removed]",
      "text/plain": [
       "<matplotlib.figure.Figure at 0x134f6b278>"
      ]
     },
     "metadata": {},
     "output_type": "display_data"
    }
   ],
   "source": [
    "pm.forestplot(updated_pooled_trace[-keep:], varnames=['p_10000', 'μ', 'σ']);"
   ]
  },
  {
   "cell_type": "markdown",
   "metadata": {},
   "source": [
    "Updated Pritts data with EPC includes:"
   ]
  },
  {
   "cell_type": "code",
   "execution_count": 74,
   "metadata": {},
   "outputs": [
    {
     "name": "stderr",
     "output_type": "stream",
     "text": [
      "Auto-assigning NUTS sampler...\n",
      "Initializing NUTS using advi...\n",
      "Average ELBO = -133.73: 100%|██████████| 200000/200000 [00:23<00:00, 8410.93it/s]\n",
      "Finished [100%]: Average ELBO = -133.73\n",
      "100%|██████████| 5000/5000 [01:00<00:00, 82.77it/s] \n"
     ]
    }
   ],
   "source": [
    "with original_model(all_data) as all_pooled:\n",
    "    all_pooled_trace = pm.sample(iterations, njobs=4, tune=tune, \n",
    "                                  random_seed=rseeds)"
   ]
  },
  {
   "cell_type": "code",
   "execution_count": 75,
   "metadata": {},
   "outputs": [
    {
     "name": "stdout",
     "output_type": "stream",
     "text": [
      "\n",
      "p_10000:\n",
      "\n",
      "  Mean             SD               MC Error         95% HPD interval\n",
      "  -------------------------------------------------------------------\n",
      "  \n",
      "  8.3415           1.9983           0.0530           [4.6762, 12.4238]\n",
      "\n",
      "  Posterior quantiles:\n",
      "  2.5            25             50             75             97.5\n",
      "  |--------------|==============|==============|--------------|\n",
      "  \n",
      "  4.7489         6.9557         8.2497         9.6246         12.5220\n",
      "\n",
      "\n",
      "μ:\n",
      "\n",
      "  Mean             SD               MC Error         95% HPD interval\n",
      "  -------------------------------------------------------------------\n",
      "  \n",
      "  -7.1182          0.2495           0.0071           [-7.5895, -6.6350]\n",
      "\n",
      "  Posterior quantiles:\n",
      "  2.5            25             50             75             97.5\n",
      "  |--------------|==============|==============|--------------|\n",
      "  \n",
      "  -7.6519        -7.2701        -7.0993        -6.9451        -6.6816\n",
      "\n",
      "\n",
      "σ:\n",
      "\n",
      "  Mean             SD               MC Error         95% HPD interval\n",
      "  -------------------------------------------------------------------\n",
      "  \n",
      "  1.1129           0.1851           0.0066           [0.7831, 1.4931]\n",
      "\n",
      "  Posterior quantiles:\n",
      "  2.5            25             50             75             97.5\n",
      "  |--------------|==============|==============|--------------|\n",
      "  \n",
      "  0.7973         0.9816         1.0987         1.2273         1.5187\n",
      "\n"
     ]
    }
   ],
   "source": [
    "pm.summary(all_pooled_trace[-keep:], varnames=['p_10000', 'μ', 'σ'], roundto=4)"
   ]
  },
  {
   "cell_type": "code",
   "execution_count": 76,
   "metadata": {},
   "outputs": [
    {
     "data": {
      "image/png": "[encoded data removed]",
      "text/plain": [
       "<matplotlib.figure.Figure at 0x134a07048>"
      ]
     },
     "metadata": {},
     "output_type": "display_data"
    }
   ],
   "source": [
    "pm.forestplot(all_pooled_trace[-keep:], varnames=['p_10000', 'μ', 'σ']);"
   ]
  }
 ],
 "metadata": {
  "anaconda-cloud": {},
  "kernelspec": {
   "display_name": "Python 3",
   "language": "python",
   "name": "python3"
  },
  "language_info": {
   "codemirror_mode": {
    "name": "ipython",
    "version": 3
   },
   "file_extension": ".py",
   "mimetype": "text/x-python",
   "name": "python",
   "nbconvert_exporter": "python",
   "pygments_lexer": "ipython3",
   "version": "3.6.1"
  },
  "latex_envs": {
   "bibliofile": "biblio.bib",
   "cite_by": "apalike",
   "current_citInitial": 1,
   "eqLabelWithNumbers": true,
   "eqNumInitial": 0
  }
 },
 "nbformat": 4,
 "nbformat_minor": 1
}
