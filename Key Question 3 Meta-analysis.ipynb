{
 "cells": [
  {
   "cell_type": "code",
   "execution_count": 1,
   "metadata": {
    "collapsed": true
   },
   "outputs": [],
   "source": [
    "%matplotlib inline\n",
    "import numpy as np\n",
    "import pandas as pd\n",
    "import pymc3 as pm\n",
    "import seaborn as sns\n",
    "import matplotlib.pyplot as plt\n",
    "import pdb\n",
    "sns.set()"
   ]
  },
  {
   "cell_type": "code",
   "execution_count": 2,
   "metadata": {
    "collapsed": false
   },
   "outputs": [
    {
     "data": {
      "text/html": [
       "<div>\n",
       "<table border=\"1\" class=\"dataframe\">\n",
       "  <thead>\n",
       "    <tr style=\"text-align: right;\">\n",
       "      <th></th>\n",
       "      <th>Author</th>\n",
       "      <th>RefID</th>\n",
       "      <th>LMS Total</th>\n",
       "      <th>Pre-op</th>\n",
       "      <th>Initial Surgery</th>\n",
       "      <th>Morcellation</th>\n",
       "      <th>Power</th>\n",
       "      <th>Cancer Stage</th>\n",
       "      <th>Upstaged</th>\n",
       "      <th>Months follow-up</th>\n",
       "      <th>Outcome</th>\n",
       "      <th>Age</th>\n",
       "      <th>Menopausal Status</th>\n",
       "    </tr>\n",
       "  </thead>\n",
       "  <tbody>\n",
       "    <tr>\n",
       "      <th>0</th>\n",
       "      <td>Einstein</td>\n",
       "      <td>405</td>\n",
       "      <td>5</td>\n",
       "      <td>Benign</td>\n",
       "      <td>LSC SCC</td>\n",
       "      <td>Yes</td>\n",
       "      <td>Yes</td>\n",
       "      <td>I</td>\n",
       "      <td>No</td>\n",
       "      <td>30</td>\n",
       "      <td>NED</td>\n",
       "      <td>NaN</td>\n",
       "      <td>NaN</td>\n",
       "    </tr>\n",
       "    <tr>\n",
       "      <th>1</th>\n",
       "      <td>Einstein</td>\n",
       "      <td>405</td>\n",
       "      <td>NaN</td>\n",
       "      <td>Benign</td>\n",
       "      <td>LMYOM</td>\n",
       "      <td>Yes</td>\n",
       "      <td>Yes</td>\n",
       "      <td>I to III</td>\n",
       "      <td>Yes</td>\n",
       "      <td>61</td>\n",
       "      <td>NED</td>\n",
       "      <td>NaN</td>\n",
       "      <td>NaN</td>\n",
       "    </tr>\n",
       "    <tr>\n",
       "      <th>2</th>\n",
       "      <td>Einstein</td>\n",
       "      <td>405</td>\n",
       "      <td>NaN</td>\n",
       "      <td>Benign</td>\n",
       "      <td>SCH</td>\n",
       "      <td>Yes</td>\n",
       "      <td>No</td>\n",
       "      <td>I to III</td>\n",
       "      <td>Yes</td>\n",
       "      <td>31</td>\n",
       "      <td>AWD</td>\n",
       "      <td>NaN</td>\n",
       "      <td>NaN</td>\n",
       "    </tr>\n",
       "    <tr>\n",
       "      <th>3</th>\n",
       "      <td>Einstein</td>\n",
       "      <td>405</td>\n",
       "      <td>NaN</td>\n",
       "      <td>Benign</td>\n",
       "      <td>SCH BSO</td>\n",
       "      <td>No</td>\n",
       "      <td>No</td>\n",
       "      <td>I</td>\n",
       "      <td>No</td>\n",
       "      <td>37</td>\n",
       "      <td>NED</td>\n",
       "      <td>NaN</td>\n",
       "      <td>NaN</td>\n",
       "    </tr>\n",
       "    <tr>\n",
       "      <th>4</th>\n",
       "      <td>Einstein</td>\n",
       "      <td>405</td>\n",
       "      <td>NaN</td>\n",
       "      <td>Benign</td>\n",
       "      <td>SCH BSO</td>\n",
       "      <td>No</td>\n",
       "      <td>No</td>\n",
       "      <td>I to IV</td>\n",
       "      <td>Yes</td>\n",
       "      <td>6</td>\n",
       "      <td>AWD</td>\n",
       "      <td>NaN</td>\n",
       "      <td>NaN</td>\n",
       "    </tr>\n",
       "  </tbody>\n",
       "</table>\n",
       "</div>"
      ],
      "text/plain": [
       "     Author  RefID  LMS Total  Pre-op Initial Surgery Morcellation Power  \\\n",
       "0  Einstein    405          5  Benign         LSC SCC          Yes   Yes   \n",
       "1  Einstein    405        NaN  Benign           LMYOM          Yes   Yes   \n",
       "2  Einstein    405        NaN  Benign             SCH          Yes    No   \n",
       "3  Einstein    405        NaN  Benign         SCH BSO           No    No   \n",
       "4  Einstein    405        NaN  Benign         SCH BSO           No    No   \n",
       "\n",
       "  Cancer Stage Upstaged  Months follow-up Outcome  Age Menopausal Status  \n",
       "0            I       No                30     NED  NaN               NaN  \n",
       "1     I to III      Yes                61     NED  NaN               NaN  \n",
       "2     I to III      Yes                31     AWD  NaN               NaN  \n",
       "3           I        No                37     NED  NaN               NaN  \n",
       "4      I to IV      Yes                 6     AWD  NaN               NaN  "
      ]
     },
     "execution_count": 2,
     "metadata": {},
     "output_type": "execute_result"
    }
   ],
   "source": [
    "kq4_data = pd.read_excel('data/KQ4 Workbook.xlsx', sheetname='Sheet1', na_values=['NR', 'NA']).drop(['Notes'], axis=1)\n",
    "kq4_data.head()"
   ]
  },
  {
   "cell_type": "markdown",
   "metadata": {},
   "source": [
    "Some studies show event time truncated to the end of the followup period"
   ]
  },
  {
   "cell_type": "code",
   "execution_count": 3,
   "metadata": {
    "collapsed": false
   },
   "outputs": [
    {
     "data": {
      "text/plain": [
       "True     127\n",
       "False     70\n",
       "Name: followup_event_time, dtype: int64"
      ]
     },
     "execution_count": 3,
     "metadata": {},
     "output_type": "execute_result"
    }
   ],
   "source": [
    "followup_event_time = ['Lin', 'Perri', 'Park']\n",
    "kq4_data['followup_event_time'] = kq4_data.Author.isin(followup_event_time)\n",
    "kq4_data.followup_event_time.value_counts()"
   ]
  },
  {
   "cell_type": "code",
   "execution_count": 4,
   "metadata": {
    "collapsed": false
   },
   "outputs": [
    {
     "data": {
      "text/plain": [
       "Author                 0.00\n",
       "RefID                  0.48\n",
       "LMS Total              0.91\n",
       "Pre-op                 0.19\n",
       "Initial Surgery        0.01\n",
       "Morcellation           0.01\n",
       "Power                  0.22\n",
       "Cancer Stage           0.17\n",
       "Upstaged               0.81\n",
       "Months follow-up       0.14\n",
       "Outcome                0.01\n",
       "Age                    0.27\n",
       "Menopausal Status      0.46\n",
       "followup_event_time    0.00\n",
       "dtype: float64"
      ]
     },
     "execution_count": 4,
     "metadata": {},
     "output_type": "execute_result"
    }
   ],
   "source": [
    "kq4_data.isnull().mean().round(2)"
   ]
  },
  {
   "cell_type": "code",
   "execution_count": 5,
   "metadata": {
    "collapsed": false
   },
   "outputs": [],
   "source": [
    "kq4_data = kq4_data.dropna(axis='rows', subset=['Months follow-up'])"
   ]
  },
  {
   "cell_type": "code",
   "execution_count": 6,
   "metadata": {
    "collapsed": false
   },
   "outputs": [
    {
     "data": {
      "text/plain": [
       "Alive    78\n",
       "Dead     51\n",
       "NED      20\n",
       "AWD      13\n",
       "Died      8\n",
       "Name: Outcome, dtype: int64"
      ]
     },
     "execution_count": 6,
     "metadata": {},
     "output_type": "execute_result"
    }
   ],
   "source": [
    "kq4_data.Outcome.value_counts()"
   ]
  },
  {
   "cell_type": "code",
   "execution_count": 7,
   "metadata": {
    "collapsed": false
   },
   "outputs": [
    {
     "data": {
      "text/plain": [
       "Benign    133\n",
       "Name: Pre-op, dtype: int64"
      ]
     },
     "execution_count": 7,
     "metadata": {},
     "output_type": "execute_result"
    }
   ],
   "source": [
    "kq4_data['Pre-op'].value_counts()"
   ]
  },
  {
   "cell_type": "code",
   "execution_count": 8,
   "metadata": {
    "collapsed": false
   },
   "outputs": [
    {
     "data": {
      "text/html": [
       "<div>\n",
       "<table border=\"1\" class=\"dataframe\">\n",
       "  <thead>\n",
       "    <tr style=\"text-align: right;\">\n",
       "      <th>Power</th>\n",
       "      <th>No</th>\n",
       "      <th>Yes</th>\n",
       "    </tr>\n",
       "    <tr>\n",
       "      <th>Morcellation</th>\n",
       "      <th></th>\n",
       "      <th></th>\n",
       "    </tr>\n",
       "  </thead>\n",
       "  <tbody>\n",
       "    <tr>\n",
       "      <th>No</th>\n",
       "      <td>76</td>\n",
       "      <td>0</td>\n",
       "    </tr>\n",
       "    <tr>\n",
       "      <th>Yes</th>\n",
       "      <td>22</td>\n",
       "      <td>30</td>\n",
       "    </tr>\n",
       "  </tbody>\n",
       "</table>\n",
       "</div>"
      ],
      "text/plain": [
       "Power         No  Yes\n",
       "Morcellation         \n",
       "No            76    0\n",
       "Yes           22   30"
      ]
     },
     "execution_count": 8,
     "metadata": {},
     "output_type": "execute_result"
    }
   ],
   "source": [
    "pd.crosstab(kq4_data.Morcellation, kq4_data.Power)"
   ]
  },
  {
   "cell_type": "code",
   "execution_count": 9,
   "metadata": {
    "collapsed": false
   },
   "outputs": [
    {
     "data": {
      "text/plain": [
       "TAH            73\n",
       "LSC ASST VH    18\n",
       "ABD MYOM       12\n",
       "LSC SCH        11\n",
       "LSC TVH         8\n",
       "Varied          7\n",
       "LSC HYST        6\n",
       "H'SCOPE MYO     6\n",
       "LSC MYOM        6\n",
       "SCH             5\n",
       "LMYOM           3\n",
       "VAG HYST        2\n",
       "LAVH            2\n",
       "TVH             2\n",
       "SCH BSO         2\n",
       "TAH UT INJ      2\n",
       "MIS HYST        2\n",
       "TAH BSO         1\n",
       "Robotic TLH     1\n",
       "LSC SCC         1\n",
       "Name: Initial Surgery, dtype: int64"
      ]
     },
     "execution_count": 9,
     "metadata": {},
     "output_type": "execute_result"
    }
   ],
   "source": [
    "kq4_data['Initial Surgery'].value_counts()"
   ]
  },
  {
   "cell_type": "code",
   "execution_count": 10,
   "metadata": {
    "collapsed": false
   },
   "outputs": [
    {
     "data": {
      "text/plain": [
       "<matplotlib.text.Text at 0x10a2ac240>"
      ]
     },
     "execution_count": 10,
     "metadata": {},
     "output_type": "execute_result"
    },
    {
     "data": {
      "image/png": "[encoded data removed]",
      "text/plain": [
       "<matplotlib.figure.Figure at 0x10a226cc0>"
      ]
     },
     "metadata": {},
     "output_type": "display_data"
    }
   ],
   "source": [
    "axes = kq4_data.Age.hist(bins=15)\n",
    "axes.set_xlabel('Age')"
   ]
  },
  {
   "cell_type": "code",
   "execution_count": 11,
   "metadata": {
    "collapsed": false
   },
   "outputs": [
    {
     "data": {
      "text/plain": [
       "<matplotlib.text.Text at 0x10a328940>"
      ]
     },
     "execution_count": 11,
     "metadata": {},
     "output_type": "execute_result"
    },
    {
     "data": {
      "image/png": "[encoded data removed]",
      "text/plain": [
       "<matplotlib.figure.Figure at 0x10a32ca90>"
      ]
     },
     "metadata": {},
     "output_type": "display_data"
    }
   ],
   "source": [
    "axes = kq4_data['Months follow-up'].hist()\n",
    "axes.set_xlabel('Followup (months)')"
   ]
  },
  {
   "cell_type": "markdown",
   "metadata": {},
   "source": [
    "Create death outcome column"
   ]
  },
  {
   "cell_type": "code",
   "execution_count": 12,
   "metadata": {
    "collapsed": false
   },
   "outputs": [
    {
     "data": {
      "text/plain": [
       "0    111\n",
       "1     59\n",
       "Name: died, dtype: int64"
      ]
     },
     "execution_count": 12,
     "metadata": {},
     "output_type": "execute_result"
    }
   ],
   "source": [
    "kq4_data['died'] = kq4_data.Outcome.isin(['Dead', 'Died'])\n",
    "kq4_data.loc[kq4_data.Outcome.isnull(), 'died'] = np.nan\n",
    "kq4_data.died.value_counts()"
   ]
  },
  {
   "cell_type": "code",
   "execution_count": 13,
   "metadata": {
    "collapsed": true
   },
   "outputs": [],
   "source": [
    "from lifelines import KaplanMeierFitter\n",
    "kmf = KaplanMeierFitter()"
   ]
  },
  {
   "cell_type": "code",
   "execution_count": 14,
   "metadata": {
    "collapsed": false
   },
   "outputs": [
    {
     "data": {
      "text/plain": [
       "<lifelines.KaplanMeierFitter: fitted with 170 observations, 111 censored>"
      ]
     },
     "execution_count": 14,
     "metadata": {},
     "output_type": "execute_result"
    }
   ],
   "source": [
    "kmf.fit(kq4_data['Months follow-up'], event_observed=kq4_data.died)"
   ]
  },
  {
   "cell_type": "code",
   "execution_count": 17,
   "metadata": {
    "collapsed": false
   },
   "outputs": [
    {
     "data": {
      "text/plain": [
       "<matplotlib.axes._subplots.AxesSubplot at 0x10a4d1b70>"
      ]
     },
     "execution_count": 17,
     "metadata": {},
     "output_type": "execute_result"
    },
    {
     "data": {
      "image/png": "[encoded data removed]",
      "text/plain": [
       "<matplotlib.figure.Figure at 0x10a34c0f0>"
      ]
     },
     "metadata": {},
     "output_type": "display_data"
    }
   ],
   "source": [
    "time = kq4_data['Months follow-up']\n",
    "event = event_observed=kq4_data.died\n",
    "ix0 = kq4_data.Morcellation=='No'\n",
    "ix1 = (kq4_data.Morcellation=='Yes') & (kq4_data.Power=='No')\n",
    "ix2 = (kq4_data.Morcellation=='Yes') & (kq4_data.Power=='Yes')\n",
    "\n",
    "\n",
    "\n",
    "kmf.fit(time[ix0], event[ix0], label='no morcellation')\n",
    "ax = kmf.plot()\n",
    "\n",
    "kmf.fit(time[ix1], event[ix1], label='non-power morcellation')\n",
    "kmf.plot(ax=ax)\n",
    "\n",
    "kmf.fit(time[ix2], event[ix2], label='power morcellation')\n",
    "kmf.plot(ax=ax)"
   ]
  },
  {
   "cell_type": "code",
   "execution_count": 18,
   "metadata": {
    "collapsed": false
   },
   "outputs": [
    {
     "data": {
      "text/plain": [
       "<matplotlib.axes._subplots.AxesSubplot at 0x10a4ca8d0>"
      ]
     },
     "execution_count": 18,
     "metadata": {},
     "output_type": "execute_result"
    },
    {
     "data": {
      "image/png": "[encoded data removed]",
      "text/plain": [
       "<matplotlib.figure.Figure at 0x10a36dba8>"
      ]
     },
     "metadata": {},
     "output_type": "display_data"
    }
   ],
   "source": [
    "time_sim = kq4_data['Months follow-up'].copy()\n",
    "time_sim.loc[kq4_data.followup_event_time] = np.random.uniform(0, time_sim[kq4_data.followup_event_time])\n",
    "\n",
    "\n",
    "kmf.fit(time_sim[ix0], event[ix0], label='no morcellation')\n",
    "ax = kmf.plot()\n",
    "\n",
    "kmf.fit(time_sim[ix1], event[ix1], label='non-power morcellation')\n",
    "kmf.plot(ax=ax)\n",
    "\n",
    "kmf.fit(time_sim[ix2], event[ix2], label='power morcellation')\n",
    "kmf.plot(ax=ax)"
   ]
  },
  {
   "cell_type": "code",
   "execution_count": 89,
   "metadata": {
    "collapsed": true
   },
   "outputs": [],
   "source": [
    "age = kq4_data.Age.copy()\n",
    "age[kq4_data.Age.isnull()] = -1"
   ]
  },
  {
   "cell_type": "code",
   "execution_count": 94,
   "metadata": {
    "collapsed": false
   },
   "outputs": [
    {
     "name": "stdout",
     "output_type": "stream",
     "text": [
      "Applied log-transform to alpha_fup and added transformed alpha_fup_log to model.\n",
      "Applied logodds-transform to beta_fup and added transformed beta_fup_logodds to model.\n",
      "Applied log-transform to σ and added transformed σ_log to model.\n"
     ]
    }
   ],
   "source": [
    "from numpy.ma import masked_values\n",
    "import theano.tensor as T\n",
    "\n",
    "with pm.Model() as survival_model:\n",
    "    \n",
    "    K = 30\n",
    "    N = kq4_data.shape[0]\n",
    "    \n",
    "    alpha_fup = pm.Gamma('alpha_fup', 1., 1.)\n",
    "    beta_fup = pm.Beta('beta_fup', 1., alpha_fup, shape=K)\n",
    "    w_fup = pm.Deterministic('w_fup', beta_fup * T.concatenate([[1], T.extra_ops.cumprod(1 - beta_fup[:-1])]))\n",
    "    fup_component = pm.Categorical('fup_component', w_fup, shape=N)\n",
    "    \n",
    "    σ = pm.HalfCauchy('σ', 5)\n",
    "    μ = pm.Normal('μ', 0, 1e-6, shape=K)\n",
    "    ages = pm.Normal('ages', μ[fup_component], sd=σ, observed=masked_values(age, value=-1))                                                           "
   ]
  },
  {
   "cell_type": "code",
   "execution_count": 95,
   "metadata": {
    "collapsed": false
   },
   "outputs": [
    {
     "name": "stdout",
     "output_type": "stream",
     "text": [
      " [-----------------100%-----------------] 10000 of 10000 complete in 87.7 sec"
     ]
    }
   ],
   "source": [
    "with survival_model:\n",
    "    step1 = pm.Metropolis(vars=survival_model.cont_vars)\n",
    "    step2 = pm.ElemwiseCategoricalStep([fup_component], np.arange(K))\n",
    "    tr = pm.sample(10000, step=[step1, step2])"
   ]
  },
  {
   "cell_type": "code",
   "execution_count": 96,
   "metadata": {
    "collapsed": false
   },
   "outputs": [
    {
     "data": {
      "text/plain": [
       "<matplotlib.gridspec.GridSpec at 0x126134940>"
      ]
     },
     "execution_count": 96,
     "metadata": {},
     "output_type": "execute_result"
    },
    {
     "data": {
      "image/png": "[encoded data removed]",
      "text/plain": [
       "<matplotlib.figure.Figure at 0x11603c3c8>"
      ]
     },
     "metadata": {},
     "output_type": "display_data"
    }
   ],
   "source": [
    "pm.forestplot(tr, varnames=['μ'])"
   ]
  },
  {
   "cell_type": "code",
   "execution_count": null,
   "metadata": {
    "collapsed": true
   },
   "outputs": [],
   "source": [
    "sp.stats.no"
   ]
  },
  {
   "cell_type": "code",
   "execution_count": 104,
   "metadata": {
    "collapsed": false
   },
   "outputs": [],
   "source": [
    "import scipy as sp\n",
    "\n",
    "x_plot = np.linspace(30, 80, 200)\n",
    "\n",
    "post_pdf_contribs = sp.stats.norm.pdf(np.atleast_3d(x_plot),\n",
    "                                      tr['μ'][:, np.newaxis, :],\n",
    "                                      1. / np.sqrt(tr['σ'])[:, np.newaxis, np.newaxis])\n",
    "post_pdfs = (tr['w_fup'][:, np.newaxis, :] * post_pdf_contribs).sum(axis=-1)\n",
    "\n",
    "post_pdf_low, post_pdf_high = np.percentile(post_pdfs, [2.5, 97.5], axis=0)"
   ]
  },
  {
   "cell_type": "code",
   "execution_count": 112,
   "metadata": {
    "collapsed": false
   },
   "outputs": [
    {
     "data": {
      "image/png": "[encoded data removed]",
      "text/plain": [
       "<matplotlib.figure.Figure at 0x12d435ba8>"
      ]
     },
     "metadata": {},
     "output_type": "display_data"
    }
   ],
   "source": [
    "fig, ax = plt.subplots(figsize=(8, 6))\n",
    "\n",
    "# kq4_data.Age.hist(normed=True, ax=ax, lw=0, bins=20, alpha=0.75)\n",
    "ax.hist(kq4_data.Age.dropna().values, bins=20, normed=True, lw=0, alpha=0.5);\n",
    "\n",
    "ax.fill_between(x_plot, post_pdf_low, post_pdf_high,\n",
    "                 color='gray', alpha=0.45)\n",
    "ax.plot(x_plot, post_pdfs[0],\n",
    "        c='gray', label='Posterior sample densities');\n",
    "ax.plot(x_plot, post_pdfs[::200].T, c='gray');\n",
    "ax.plot(x_plot, post_pdfs.mean(axis=0),\n",
    "        c='k', label='Posterior expected density');\n",
    "\n",
    "ax.set_xlabel('Yearly sunspot count');\n",
    "ax.set_yticklabels([]);\n",
    "ax.legend(loc=1);"
   ]
  },
  {
   "cell_type": "code",
   "execution_count": null,
   "metadata": {
    "collapsed": true
   },
   "outputs": [],
   "source": []
  }
 ],
 "metadata": {
  "kernelspec": {
   "display_name": "Python 3",
   "language": "python",
   "name": "python3"
  },
  "language_info": {
   "codemirror_mode": {
    "name": "ipython",
    "version": 3
   },
   "file_extension": ".py",
   "mimetype": "text/x-python",
   "name": "python",
   "nbconvert_exporter": "python",
   "pygments_lexer": "ipython3",
   "version": "3.5.1"
  }
 },
 "nbformat": 4,
 "nbformat_minor": 1
}
