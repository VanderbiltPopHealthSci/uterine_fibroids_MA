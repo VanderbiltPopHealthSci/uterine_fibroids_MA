{
 "cells": [
  {
   "cell_type": "markdown",
   "metadata": {
    "deletable": true,
    "editable": true
   },
   "source": [
    "## KQ3: Pritts Meta-analysis Update\n",
    "\n",
    "In key question 3, we address the risk of sarcoma dissemination following morcellation of fibroids. We identified a recently published analysis conducted by Elizabeth Pritts and her colleagues (2015) to estimate the  prevalence of occult leiomyosarcoma at time of treatment for presumed benign tumors (fibroids).  We updated their search and used similar eligibility criteria to identify papers published since 2014. We extracted from these papers the number of women who were treated for uterine fibroids and the cases of leiomyosarcoma subsequently identified.  We have combined these data with the data from the 134 publications that Pritts et al included in their analysis for a total of LMS rates from 148 sources."
   ]
  },
  {
   "cell_type": "code",
   "execution_count": 1,
   "metadata": {
    "collapsed": false,
    "deletable": true,
    "editable": true
   },
   "outputs": [],
   "source": [
    "%matplotlib inline\n",
    "import numpy as np\n",
    "import pandas as pd\n",
    "import pymc3 as pm\n",
    "import seaborn as sns\n",
    "import matplotlib.pyplot as plt\n",
    "import pdb\n",
    "sns.set()\n",
    "\n",
    "rseeds = 20090425, 19771114, 20161216, 19700903"
   ]
  },
  {
   "cell_type": "code",
   "execution_count": 2,
   "metadata": {
    "collapsed": false,
    "deletable": true,
    "editable": true,
    "scrolled": true
   },
   "outputs": [],
   "source": [
    "keep_cols = ['Author', 'Year', 'Design', 'Procedure', 'Indication',\n",
    "                                     'Age, Mean', 'Age, SD', 'Age, Median', 'Age, Min', 'Age, Max', 'Age, Other',\n",
    "                                     'LMS','Population','Tumors','InPritts','POSTOP_HP_Done', 'Hysteroscopy']\n",
    "\n",
    "datasets = pd.read_excel('data/Pritts_EPC_KQ3_Includes_Histopathology_SK_03212017.xlsx', \n",
    "                         sheetname=['OLD_PRITTS', 'UPDATED_PRITTS', 'Updated_Pritts_With_EPC_INclude'], \n",
    "                         na_values=['NR', 'NA'],\n",
    "                        index_col=0)"
   ]
  },
  {
   "cell_type": "code",
   "execution_count": 3,
   "metadata": {
    "collapsed": false,
    "deletable": true,
    "editable": true
   },
   "outputs": [],
   "source": [
    "def clean_data(kq3_data):\n",
    "\n",
    "    return (kq3_data.assign(age_max=kq3_data['Age, Max'].replace('50+', 50),\n",
    "                           design=kq3_data['Design'].str.strip().replace('prospective', 'Prospective'),\n",
    "                           Prospective=(kq3_data.Design!='Retrospective').astype(int))\n",
    "                    .rename(columns={'Age, Min': 'age_min',\n",
    "                                       'Age, Mean': 'age_mean',\n",
    "                                       'Age, SD': 'age_sd',\n",
    "                                       'Age, Median': 'age_med'})\n",
    "                    .drop(['Age, Max', 'Design'], axis=1)\n",
    "                    .dropna(thresh=7))\n",
    "    "
   ]
  },
  {
   "cell_type": "code",
   "execution_count": 4,
   "metadata": {
    "collapsed": false,
    "deletable": true,
    "editable": true
   },
   "outputs": [],
   "source": [
    "datasets = {sheet: clean_data(datasets[sheet][keep_cols]) for sheet in datasets}\n",
    "\n",
    "old_pritts = datasets['OLD_PRITTS']\n",
    "updated_pritts = datasets['UPDATED_PRITTS']\n",
    "all_data = datasets['Updated_Pritts_With_EPC_INclude']"
   ]
  },
  {
   "cell_type": "markdown",
   "metadata": {
    "deletable": true,
    "editable": true
   },
   "source": [
    "Missing values"
   ]
  },
  {
   "cell_type": "code",
   "execution_count": 5,
   "metadata": {
    "collapsed": false,
    "deletable": true,
    "editable": true
   },
   "outputs": [
    {
     "data": {
      "text/plain": [
       "Author              0\n",
       "Year                0\n",
       "Procedure           0\n",
       "Indication          1\n",
       "age_mean           71\n",
       "age_sd            149\n",
       "age_med           150\n",
       "age_min            64\n",
       "Age, Other        127\n",
       "LMS                 0\n",
       "Population          0\n",
       "Tumors              0\n",
       "InPritts            0\n",
       "POSTOP_HP_Done      0\n",
       "Hysteroscopy        0\n",
       "Prospective         0\n",
       "age_max            65\n",
       "design              0\n",
       "dtype: int64"
      ]
     },
     "execution_count": 5,
     "metadata": {},
     "output_type": "execute_result"
    }
   ],
   "source": [
    "all_data.isnull().sum()"
   ]
  },
  {
   "cell_type": "code",
   "execution_count": 6,
   "metadata": {
    "collapsed": false,
    "deletable": true,
    "editable": true
   },
   "outputs": [
    {
     "data": {
      "text/html": [
       "<div>\n",
       "<table border=\"1\" class=\"dataframe\">\n",
       "  <thead>\n",
       "    <tr style=\"text-align: right;\">\n",
       "      <th></th>\n",
       "      <th>Year</th>\n",
       "      <th>age_mean</th>\n",
       "      <th>age_sd</th>\n",
       "      <th>age_med</th>\n",
       "      <th>age_min</th>\n",
       "      <th>LMS</th>\n",
       "      <th>Population</th>\n",
       "      <th>Tumors</th>\n",
       "      <th>InPritts</th>\n",
       "      <th>Prospective</th>\n",
       "      <th>age_max</th>\n",
       "    </tr>\n",
       "  </thead>\n",
       "  <tbody>\n",
       "    <tr>\n",
       "      <th>count</th>\n",
       "      <td>161.000000</td>\n",
       "      <td>90.000000</td>\n",
       "      <td>12.000000</td>\n",
       "      <td>11.000000</td>\n",
       "      <td>97.00000</td>\n",
       "      <td>161.000000</td>\n",
       "      <td>161.000000</td>\n",
       "      <td>161.000000</td>\n",
       "      <td>161.000000</td>\n",
       "      <td>161.000000</td>\n",
       "      <td>96.000000</td>\n",
       "    </tr>\n",
       "    <tr>\n",
       "      <th>mean</th>\n",
       "      <td>2005.155280</td>\n",
       "      <td>41.919222</td>\n",
       "      <td>7.009167</td>\n",
       "      <td>41.545455</td>\n",
       "      <td>26.91134</td>\n",
       "      <td>2.509317</td>\n",
       "      <td>973.453416</td>\n",
       "      <td>2.509317</td>\n",
       "      <td>0.832298</td>\n",
       "      <td>0.422360</td>\n",
       "      <td>61.466667</td>\n",
       "    </tr>\n",
       "    <tr>\n",
       "      <th>std</th>\n",
       "      <td>7.873658</td>\n",
       "      <td>6.130203</td>\n",
       "      <td>2.821758</td>\n",
       "      <td>5.791954</td>\n",
       "      <td>6.20752</td>\n",
       "      <td>13.280681</td>\n",
       "      <td>3902.644397</td>\n",
       "      <td>13.280681</td>\n",
       "      <td>0.374767</td>\n",
       "      <td>0.495476</td>\n",
       "      <td>13.430732</td>\n",
       "    </tr>\n",
       "    <tr>\n",
       "      <th>min</th>\n",
       "      <td>1984.000000</td>\n",
       "      <td>28.200000</td>\n",
       "      <td>1.800000</td>\n",
       "      <td>35.000000</td>\n",
       "      <td>18.00000</td>\n",
       "      <td>0.000000</td>\n",
       "      <td>5.000000</td>\n",
       "      <td>0.000000</td>\n",
       "      <td>0.000000</td>\n",
       "      <td>0.000000</td>\n",
       "      <td>34.000000</td>\n",
       "    </tr>\n",
       "    <tr>\n",
       "      <th>25%</th>\n",
       "      <td>1999.000000</td>\n",
       "      <td>37.310000</td>\n",
       "      <td>5.925000</td>\n",
       "      <td>37.450000</td>\n",
       "      <td>22.00000</td>\n",
       "      <td>0.000000</td>\n",
       "      <td>40.000000</td>\n",
       "      <td>0.000000</td>\n",
       "      <td>1.000000</td>\n",
       "      <td>0.000000</td>\n",
       "      <td>51.000000</td>\n",
       "    </tr>\n",
       "    <tr>\n",
       "      <th>50%</th>\n",
       "      <td>2006.000000</td>\n",
       "      <td>42.200000</td>\n",
       "      <td>6.600000</td>\n",
       "      <td>40.000000</td>\n",
       "      <td>26.00000</td>\n",
       "      <td>0.000000</td>\n",
       "      <td>92.000000</td>\n",
       "      <td>0.000000</td>\n",
       "      <td>1.000000</td>\n",
       "      <td>0.000000</td>\n",
       "      <td>60.000000</td>\n",
       "    </tr>\n",
       "    <tr>\n",
       "      <th>75%</th>\n",
       "      <td>2012.000000</td>\n",
       "      <td>46.000000</td>\n",
       "      <td>7.697500</td>\n",
       "      <td>45.800000</td>\n",
       "      <td>31.00000</td>\n",
       "      <td>0.000000</td>\n",
       "      <td>334.000000</td>\n",
       "      <td>0.000000</td>\n",
       "      <td>1.000000</td>\n",
       "      <td>1.000000</td>\n",
       "      <td>70.250000</td>\n",
       "    </tr>\n",
       "    <tr>\n",
       "      <th>max</th>\n",
       "      <td>2016.000000</td>\n",
       "      <td>59.600000</td>\n",
       "      <td>12.500000</td>\n",
       "      <td>52.900000</td>\n",
       "      <td>44.00000</td>\n",
       "      <td>115.000000</td>\n",
       "      <td>34728.000000</td>\n",
       "      <td>115.000000</td>\n",
       "      <td>1.000000</td>\n",
       "      <td>1.000000</td>\n",
       "      <td>96.000000</td>\n",
       "    </tr>\n",
       "  </tbody>\n",
       "</table>\n",
       "</div>"
      ],
      "text/plain": [
       "              Year   age_mean     age_sd    age_med   age_min         LMS  \\\n",
       "count   161.000000  90.000000  12.000000  11.000000  97.00000  161.000000   \n",
       "mean   2005.155280  41.919222   7.009167  41.545455  26.91134    2.509317   \n",
       "std       7.873658   6.130203   2.821758   5.791954   6.20752   13.280681   \n",
       "min    1984.000000  28.200000   1.800000  35.000000  18.00000    0.000000   \n",
       "25%    1999.000000  37.310000   5.925000  37.450000  22.00000    0.000000   \n",
       "50%    2006.000000  42.200000   6.600000  40.000000  26.00000    0.000000   \n",
       "75%    2012.000000  46.000000   7.697500  45.800000  31.00000    0.000000   \n",
       "max    2016.000000  59.600000  12.500000  52.900000  44.00000  115.000000   \n",
       "\n",
       "         Population      Tumors    InPritts  Prospective    age_max  \n",
       "count    161.000000  161.000000  161.000000   161.000000  96.000000  \n",
       "mean     973.453416    2.509317    0.832298     0.422360  61.466667  \n",
       "std     3902.644397   13.280681    0.374767     0.495476  13.430732  \n",
       "min        5.000000    0.000000    0.000000     0.000000  34.000000  \n",
       "25%       40.000000    0.000000    1.000000     0.000000  51.000000  \n",
       "50%       92.000000    0.000000    1.000000     0.000000  60.000000  \n",
       "75%      334.000000    0.000000    1.000000     1.000000  70.250000  \n",
       "max    34728.000000  115.000000    1.000000     1.000000  96.000000  "
      ]
     },
     "execution_count": 6,
     "metadata": {},
     "output_type": "execute_result"
    }
   ],
   "source": [
    "all_data.describe()"
   ]
  },
  {
   "cell_type": "code",
   "execution_count": 7,
   "metadata": {
    "collapsed": false,
    "deletable": true,
    "editable": true
   },
   "outputs": [
    {
     "data": {
      "image/png": "[encoded data removed]",
      "text/plain": [
       "<matplotlib.figure.Figure at 0x118e29ef0>"
      ]
     },
     "metadata": {},
     "output_type": "display_data"
    }
   ],
   "source": [
    "all_data[[c for c in all_data.columns if c.startswith('age')]].hist();"
   ]
  },
  {
   "cell_type": "markdown",
   "metadata": {
    "deletable": true,
    "editable": true
   },
   "source": [
    "Breakdown on studies by design."
   ]
  },
  {
   "cell_type": "code",
   "execution_count": 8,
   "metadata": {
    "collapsed": false,
    "deletable": true,
    "editable": true
   },
   "outputs": [
    {
     "data": {
      "text/plain": [
       "Retrospective    94\n",
       "Prospective      40\n",
       "RCT              27\n",
       "Name: design, dtype: int64"
      ]
     },
     "execution_count": 8,
     "metadata": {},
     "output_type": "execute_result"
    }
   ],
   "source": [
    "all_data.design.value_counts()"
   ]
  },
  {
   "cell_type": "markdown",
   "metadata": {
    "deletable": true,
    "editable": true
   },
   "source": [
    "Following [Pritts et al. (2015)](http://www.ncbi.nlm.nih.gov/pubmed/26283890), I fit a binomial random effects model, such that event probabilities on the logit scale are normally distributed with mean $\\mu$ and standard deviation $\\sigma$. This distribution describes how the probabilities vary across studies, with the degree of variation described by $\\sigma$.\n",
    "\n",
    "$$\\theta_i \\sim N(\\mu, \\sigma^2)$$\n",
    "\n",
    "the expected value for study $i$ is then inverse-logit transformed, and used as the event probability $\\pi_i$ in a binomial model describing the number of observed tumors $t$:\n",
    "\n",
    "$$\\log\\left[\\frac{\\pi_i}{1-\\pi_i}\\right] = \\theta_i$$\n",
    "\n",
    "$$t_i \\sim \\text{Bin}(n_i, \\pi_i)$$"
   ]
  },
  {
   "cell_type": "markdown",
   "metadata": {
    "deletable": true,
    "editable": true
   },
   "source": [
    "There appears to be no obvious relationship between age (normalized) and tumor rate (though a quadratic model might be worth considering). We will not include age as a covariate in the model."
   ]
  },
  {
   "cell_type": "code",
   "execution_count": 9,
   "metadata": {
    "collapsed": false,
    "deletable": true,
    "editable": true,
    "scrolled": false
   },
   "outputs": [
    {
     "data": {
      "text/plain": [
       "(0, 0.03)"
      ]
     },
     "execution_count": 9,
     "metadata": {},
     "output_type": "execute_result"
    },
    {
     "data": {
      "image/png": "[encoded data removed]",
      "text/plain": [
       "<matplotlib.figure.Figure at 0x1192449e8>"
      ]
     },
     "metadata": {},
     "output_type": "display_data"
    }
   ],
   "source": [
    "(all_data.assign(age_max_norm=((all_data.age_max - 60)/10).fillna(0.5), \n",
    "                 tumor_rate=all_data.Tumors/all_data.Population)\n",
    "         .plot.scatter(x='age_max_norm', y='tumor_rate', style='ro', alpha=0.3)\n",
    "         .set_ylim(0, 0.03))"
   ]
  },
  {
   "cell_type": "markdown",
   "metadata": {
    "deletable": true,
    "editable": true
   },
   "source": [
    "##  Recapitulation of Pritts original  Meta-analysis\n",
    "\n",
    "Here we try to recreate the original Pritts model by exactly specifying the model as the original, and using the same dataset.\n",
    "\n",
    "Here is the model:"
   ]
  },
  {
   "cell_type": "code",
   "execution_count": 10,
   "metadata": {
    "collapsed": false,
    "deletable": true,
    "editable": true
   },
   "outputs": [],
   "source": [
    "import theano.tensor as tt\n",
    "invlogit = pm.math.invlogit\n",
    "\n",
    "def original_model(model_data):\n",
    "    \n",
    "    with pm.Model() as model:\n",
    "\n",
    "        k = model_data.shape[0]\n",
    "        tumors = model_data.Tumors.values.astype(int)\n",
    "        n = model_data.Population.values.astype(int)\n",
    "\n",
    "        # Study random effect\n",
    "        μ = pm.Normal('μ', 0, sd=100)\n",
    "        σ = pm.Uniform('σ', 0, 10)\n",
    "        ζ = pm.Normal('ζ', 0, 1, shape=k)\n",
    "        θ = μ + ζ*σ\n",
    "\n",
    "        # Study-specific probabilities\n",
    "        π = pm.Deterministic('π', invlogit(θ))\n",
    "\n",
    "        # Expected probabilities by design\n",
    "        p_10000 = pm.Deterministic('p_10000', invlogit(μ)*10000)\n",
    "\n",
    "        obs = pm.Binomial('obs', n=n, p=π, observed=tumors)\n",
    "        \n",
    "    return model"
   ]
  },
  {
   "cell_type": "code",
   "execution_count": 11,
   "metadata": {
    "collapsed": false,
    "deletable": true,
    "editable": true
   },
   "outputs": [],
   "source": [
    "prospective_mask = old_pritts.design=='Prospective'\n",
    "\n",
    "pritts_prospective = original_model(old_pritts[prospective_mask])\n",
    "pritts_retrospective = original_model(old_pritts[~prospective_mask])"
   ]
  },
  {
   "cell_type": "code",
   "execution_count": 12,
   "metadata": {
    "collapsed": true,
    "deletable": true,
    "editable": true
   },
   "outputs": [],
   "source": [
    "iterations = 5000\n",
    "keep = 4000"
   ]
  },
  {
   "cell_type": "code",
   "execution_count": 13,
   "metadata": {
    "collapsed": false,
    "deletable": true,
    "editable": true
   },
   "outputs": [
    {
     "data": {
      "text/plain": [
       "(3641, 38)"
      ]
     },
     "execution_count": 13,
     "metadata": {},
     "output_type": "execute_result"
    }
   ],
   "source": [
    "old_pritts[prospective_mask].Population.sum(), old_pritts[prospective_mask].Population.shape[0]"
   ]
  },
  {
   "cell_type": "code",
   "execution_count": 14,
   "metadata": {
    "collapsed": false,
    "deletable": true,
    "editable": true
   },
   "outputs": [
    {
     "data": {
      "text/plain": [
       "(26552, 96)"
      ]
     },
     "execution_count": 14,
     "metadata": {},
     "output_type": "execute_result"
    }
   ],
   "source": [
    "old_pritts[~prospective_mask].Population.sum(), old_pritts[~prospective_mask].Population.shape[0]"
   ]
  },
  {
   "cell_type": "markdown",
   "metadata": {
    "deletable": true,
    "editable": true
   },
   "source": [
    "Here's the prospective model:"
   ]
  },
  {
   "cell_type": "code",
   "execution_count": 15,
   "metadata": {
    "collapsed": false,
    "deletable": true,
    "editable": true,
    "scrolled": true
   },
   "outputs": [
    {
     "name": "stderr",
     "output_type": "stream",
     "text": [
      "Auto-assigning NUTS sampler...\n",
      "Initializing NUTS using advi...\n",
      "Average ELBO = -17.857: 100%|██████████| 200000/200000 [00:15<00:00, 13064.71it/s]\n",
      "Finished [100%]: Average ELBO = -17.645\n",
      "Evidence of divergence detected, inspect ELBO.\n",
      "100%|██████████| 5000/5000 [00:37<00:00, 119.06it/s]\n"
     ]
    }
   ],
   "source": [
    "with pritts_prospective:\n",
    "    prospective_trace = pm.sample(iterations, njobs=4, \n",
    "                                  random_seed=rseeds)"
   ]
  },
  {
   "cell_type": "code",
   "execution_count": 16,
   "metadata": {
    "collapsed": false,
    "deletable": true,
    "editable": true,
    "scrolled": false
   },
   "outputs": [
    {
     "name": "stdout",
     "output_type": "stream",
     "text": [
      "\n",
      "p_10000:\n",
      "\n",
      "  Mean             SD               MC Error         95% HPD interval\n",
      "  -------------------------------------------------------------------\n",
      "  \n",
      "  2.8754           3.7518           0.0943           [0.0000, 10.6200]\n",
      "\n",
      "  Posterior quantiles:\n",
      "  2.5            25             50             75             97.5\n",
      "  |--------------|==============|==============|--------------|\n",
      "  \n",
      "  0.0001         0.2063         1.3564         4.1859         13.2668\n",
      "\n",
      "\n",
      "μ:\n",
      "\n",
      "  Mean             SD               MC Error         95% HPD interval\n",
      "  -------------------------------------------------------------------\n",
      "  \n",
      "  -9.8293          3.0809           0.1639           [-16.5903, -6.0924]\n",
      "\n",
      "  Posterior quantiles:\n",
      "  2.5            25             50             75             97.5\n",
      "  |--------------|==============|==============|--------------|\n",
      "  \n",
      "  -18.6950       -10.7886       -8.9054        -7.7782        -6.6237\n",
      "\n",
      "\n",
      "σ:\n",
      "\n",
      "  Mean             SD               MC Error         95% HPD interval\n",
      "  -------------------------------------------------------------------\n",
      "  \n",
      "  2.4227           1.9649           0.0960           [0.0013, 6.7056]\n",
      "\n",
      "  Posterior quantiles:\n",
      "  2.5            25             50             75             97.5\n",
      "  |--------------|==============|==============|--------------|\n",
      "  \n",
      "  0.1287         1.0163         1.9271         3.1981         8.0027\n",
      "\n"
     ]
    }
   ],
   "source": [
    "pm.summary(prospective_trace[-keep:], varnames=['p_10000', 'μ', 'σ'], roundto=4)"
   ]
  },
  {
   "cell_type": "markdown",
   "metadata": {
    "deletable": true,
    "editable": true
   },
   "source": [
    "The following plots are the distribution of samples from the posterior distributions for the expected (population) probability of tumor (`p_update`), the inverse-logit expected probability ($\\mu$) and the standard deviation of the probabilities on the inverse-logit scale ($\\sigma$)."
   ]
  },
  {
   "cell_type": "code",
   "execution_count": 17,
   "metadata": {
    "collapsed": false,
    "deletable": true,
    "editable": true
   },
   "outputs": [
    {
     "data": {
      "image/png": "[encoded data removed]",
      "text/plain": [
       "<matplotlib.figure.Figure at 0x121e53ac8>"
      ]
     },
     "metadata": {},
     "output_type": "display_data"
    }
   ],
   "source": [
    "pm.forestplot(prospective_trace[-keep:], varnames=['p_10000', 'μ', 'σ']);"
   ]
  },
  {
   "cell_type": "markdown",
   "metadata": {
    "deletable": true,
    "editable": true
   },
   "source": [
    "Here's the retrospective model:"
   ]
  },
  {
   "cell_type": "code",
   "execution_count": 18,
   "metadata": {
    "collapsed": false,
    "deletable": true,
    "editable": true
   },
   "outputs": [
    {
     "name": "stderr",
     "output_type": "stream",
     "text": [
      "Auto-assigning NUTS sampler...\n",
      "Initializing NUTS using advi...\n",
      "Average ELBO = -53.289: 100%|██████████| 200000/200000 [00:17<00:00, 11272.25it/s]\n",
      "Finished [100%]: Average ELBO = -53.333\n",
      "100%|██████████| 5000/5000 [00:40<00:00, 124.25it/s]\n"
     ]
    }
   ],
   "source": [
    "with pritts_retrospective:\n",
    "    retrospective_trace = pm.sample(iterations, njobs=4, random_seed=rseeds)"
   ]
  },
  {
   "cell_type": "code",
   "execution_count": 19,
   "metadata": {
    "collapsed": false,
    "deletable": true,
    "editable": true
   },
   "outputs": [
    {
     "name": "stdout",
     "output_type": "stream",
     "text": [
      "\n",
      "p_10000:\n",
      "\n",
      "  Mean             SD               MC Error         95% HPD interval\n",
      "  -------------------------------------------------------------------\n",
      "  \n",
      "  5.1440           2.2336           0.0420           [1.2802, 9.6496]\n",
      "\n",
      "  Posterior quantiles:\n",
      "  2.5            25             50             75             97.5\n",
      "  |--------------|==============|==============|--------------|\n",
      "  \n",
      "  1.5112         3.5166         4.8940         6.5169         10.1559\n",
      "\n",
      "\n",
      "μ:\n",
      "\n",
      "  Mean             SD               MC Error         95% HPD interval\n",
      "  -------------------------------------------------------------------\n",
      "  \n",
      "  -7.6783          0.4909           0.0098           [-8.6683, -6.8195]\n",
      "\n",
      "  Posterior quantiles:\n",
      "  2.5            25             50             75             97.5\n",
      "  |--------------|==============|==============|--------------|\n",
      "  \n",
      "  -8.7973        -7.9525        -7.6218        -7.3353        -6.8913\n",
      "\n",
      "\n",
      "σ:\n",
      "\n",
      "  Mean             SD               MC Error         95% HPD interval\n",
      "  -------------------------------------------------------------------\n",
      "  \n",
      "  1.1398           0.3830           0.0079           [0.4471, 1.9245]\n",
      "\n",
      "  Posterior quantiles:\n",
      "  2.5            25             50             75             97.5\n",
      "  |--------------|==============|==============|--------------|\n",
      "  \n",
      "  0.5011         0.8748         1.1003         1.3648         2.0050\n",
      "\n"
     ]
    }
   ],
   "source": [
    "pm.summary(retrospective_trace[-keep:], varnames=['p_10000', 'μ', 'σ'], roundto=4)"
   ]
  },
  {
   "cell_type": "code",
   "execution_count": 20,
   "metadata": {
    "collapsed": false,
    "deletable": true,
    "editable": true
   },
   "outputs": [
    {
     "data": {
      "image/png": "[encoded data removed]",
      "text/plain": [
       "<matplotlib.figure.Figure at 0x1227c2128>"
      ]
     },
     "metadata": {},
     "output_type": "display_data"
    }
   ],
   "source": [
    "pm.forestplot(retrospective_trace[-keep:], varnames=['p_10000', 'μ', 'σ']);"
   ]
  },
  {
   "cell_type": "markdown",
   "metadata": {
    "deletable": true,
    "editable": true
   },
   "source": [
    "By comparison, estimates from Pritts' supplement:\n",
    "\n",
    "![pritts estimates](pritts_table.png)"
   ]
  },
  {
   "cell_type": "code",
   "execution_count": 21,
   "metadata": {
    "collapsed": false,
    "deletable": true,
    "editable": true
   },
   "outputs": [],
   "source": [
    "def pritts_plot(traces, title=''):\n",
    "    \n",
    "    intervals = [pm.stats.hpd(tr['p_10000'][-keep:]) for tr in traces]\n",
    "\n",
    "    meds = [np.mean(tr['p_10000'][-keep:]) for tr in traces]\n",
    "    upper = [i[1] - m for m,i in zip(meds, intervals)]\n",
    "    lower = [m - i[0] for m,i in zip(meds, intervals)]\n",
    "\n",
    "    plt.errorbar(np.arange(2)-0.1, meds, yerr=[lower, upper], fmt='s', label='Updated MA')\n",
    "    plt.errorbar(np.arange(2)+0.1, [5.7, 1.2], yerr=[[5.7-1.7, 1.2], [11.3 - 5.7,7.5 - 1.2]], \n",
    "                 color='r', fmt='D', label='Pritts MA', elinewidth=0.5)\n",
    "    plt.xticks(range(3), ['Retrospective', 'Prospective'])\n",
    "    plt.ylabel('Rate per 10,000 surgeries')\n",
    "    plt.xlim(-0.5, 1.5)\n",
    "    plt.title(title)\n",
    "    plt.legend();"
   ]
  },
  {
   "cell_type": "code",
   "execution_count": 22,
   "metadata": {
    "collapsed": false,
    "deletable": true,
    "editable": true
   },
   "outputs": [
    {
     "data": {
      "image/png": "[encoded data removed]",
      "text/plain": [
       "<matplotlib.figure.Figure at 0x11b323898>"
      ]
     },
     "metadata": {},
     "output_type": "display_data"
    }
   ],
   "source": [
    "pritts_plot([retrospective_trace, prospective_trace], 'Original data')"
   ]
  },
  {
   "cell_type": "markdown",
   "metadata": {
    "deletable": true,
    "editable": true
   },
   "source": [
    "## Pritts Update\n",
    "\n",
    "This is the same Pritts model, but with updated data."
   ]
  },
  {
   "cell_type": "code",
   "execution_count": 23,
   "metadata": {
    "collapsed": false,
    "deletable": true,
    "editable": true
   },
   "outputs": [],
   "source": [
    "prospective_mask = updated_pritts.design=='Prospective'\n",
    "\n",
    "pritts_updated_prosp = original_model(updated_pritts[prospective_mask])\n",
    "pritts_updated_retro = original_model(updated_pritts[~prospective_mask])"
   ]
  },
  {
   "cell_type": "code",
   "execution_count": 24,
   "metadata": {
    "collapsed": false,
    "deletable": true,
    "editable": true
   },
   "outputs": [
    {
     "data": {
      "text/plain": [
       "(3648, 38)"
      ]
     },
     "execution_count": 24,
     "metadata": {},
     "output_type": "execute_result"
    }
   ],
   "source": [
    "updated_pritts[prospective_mask].Population.sum(), updated_pritts[prospective_mask].Population.shape[0]"
   ]
  },
  {
   "cell_type": "code",
   "execution_count": 25,
   "metadata": {
    "collapsed": false,
    "deletable": true,
    "editable": true
   },
   "outputs": [
    {
     "data": {
      "text/plain": [
       "(26504, 96)"
      ]
     },
     "execution_count": 25,
     "metadata": {},
     "output_type": "execute_result"
    }
   ],
   "source": [
    "updated_pritts[~prospective_mask].Population.sum(), updated_pritts[~prospective_mask].Population.shape[0]"
   ]
  },
  {
   "cell_type": "code",
   "execution_count": 26,
   "metadata": {
    "collapsed": false,
    "deletable": true,
    "editable": true
   },
   "outputs": [
    {
     "data": {
      "text/plain": [
       "(134, 18)"
      ]
     },
     "execution_count": 26,
     "metadata": {},
     "output_type": "execute_result"
    }
   ],
   "source": [
    "updated_pritts.shape"
   ]
  },
  {
   "cell_type": "code",
   "execution_count": 27,
   "metadata": {
    "collapsed": false,
    "deletable": true,
    "editable": true
   },
   "outputs": [
    {
     "name": "stderr",
     "output_type": "stream",
     "text": [
      "Auto-assigning NUTS sampler...\n",
      "Initializing NUTS using advi...\n",
      "Average ELBO = -17.863: 100%|██████████| 200000/200000 [00:15<00:00, 13210.98it/s]\n",
      "Finished [100%]: Average ELBO = -17.647\n",
      "Evidence of divergence detected, inspect ELBO.\n",
      "100%|██████████| 5000/5000 [00:11<00:00, 451.40it/s]\n"
     ]
    }
   ],
   "source": [
    "with pritts_updated_prosp:\n",
    "    updated_prosp_trace = pm.sample(iterations, random_seed=rseeds)"
   ]
  },
  {
   "cell_type": "code",
   "execution_count": 28,
   "metadata": {
    "collapsed": false,
    "deletable": true,
    "editable": true
   },
   "outputs": [
    {
     "name": "stderr",
     "output_type": "stream",
     "text": [
      "Auto-assigning NUTS sampler...\n",
      "Initializing NUTS using advi...\n",
      "Average ELBO = -53.246: 100%|██████████| 200000/200000 [00:17<00:00, 11131.33it/s]\n",
      "Finished [100%]: Average ELBO = -53.291\n",
      "100%|██████████| 5000/5000 [00:13<00:00, 362.17it/s]\n"
     ]
    }
   ],
   "source": [
    "with pritts_updated_retro:\n",
    "    updated_retro_trace = pm.sample(iterations, random_seed=rseeds)"
   ]
  },
  {
   "cell_type": "code",
   "execution_count": 29,
   "metadata": {
    "collapsed": false,
    "deletable": true,
    "editable": true
   },
   "outputs": [
    {
     "data": {
      "image/png": "[encoded data removed]",
      "text/plain": [
       "<matplotlib.figure.Figure at 0x1217d9f28>"
      ]
     },
     "metadata": {},
     "output_type": "display_data"
    }
   ],
   "source": [
    "pritts_plot([updated_retro_trace, updated_prosp_trace], 'Updated data')"
   ]
  },
  {
   "cell_type": "markdown",
   "metadata": {
    "deletable": true,
    "editable": true
   },
   "source": [
    "### Prospective estimates"
   ]
  },
  {
   "cell_type": "code",
   "execution_count": 30,
   "metadata": {
    "collapsed": false,
    "deletable": true,
    "editable": true,
    "scrolled": false
   },
   "outputs": [
    {
     "name": "stdout",
     "output_type": "stream",
     "text": [
      "\n",
      "p_10000:\n",
      "\n",
      "  Mean             SD               MC Error         95% HPD interval\n",
      "  -------------------------------------------------------------------\n",
      "  \n",
      "  3.0049           3.8371           0.1481           [0.0000, 11.1351]\n",
      "\n",
      "  Posterior quantiles:\n",
      "  2.5            25             50             75             97.5\n",
      "  |--------------|==============|==============|--------------|\n",
      "  \n",
      "  0.0003         0.3393         1.4786         4.2034         13.6684\n",
      "\n",
      "\n",
      "μ:\n",
      "\n",
      "  Mean             SD               MC Error         95% HPD interval\n",
      "  -------------------------------------------------------------------\n",
      "  \n",
      "  -9.5247          2.7589           0.1990           [-14.8300, -6.0315]\n",
      "\n",
      "  Posterior quantiles:\n",
      "  2.5            25             50             75             97.5\n",
      "  |--------------|==============|==============|--------------|\n",
      "  \n",
      "  -17.3812       -10.2913       -8.8191        -7.7740        -6.5939\n",
      "\n",
      "\n",
      "σ:\n",
      "\n",
      "  Mean             SD               MC Error         95% HPD interval\n",
      "  -------------------------------------------------------------------\n",
      "  \n",
      "  2.2279           1.7606           0.1164           [0.0018, 5.9280]\n",
      "\n",
      "  Posterior quantiles:\n",
      "  2.5            25             50             75             97.5\n",
      "  |--------------|==============|==============|--------------|\n",
      "  \n",
      "  0.1021         0.9687         1.8260         2.9889         7.0683\n",
      "\n"
     ]
    }
   ],
   "source": [
    "pm.summary(updated_prosp_trace[-keep:], varnames=['p_10000', 'μ', 'σ'], roundto=4)"
   ]
  },
  {
   "cell_type": "markdown",
   "metadata": {
    "deletable": true,
    "editable": true
   },
   "source": [
    "### Retrospective estimates"
   ]
  },
  {
   "cell_type": "code",
   "execution_count": 31,
   "metadata": {
    "collapsed": false,
    "deletable": true,
    "editable": true
   },
   "outputs": [
    {
     "name": "stdout",
     "output_type": "stream",
     "text": [
      "\n",
      "p_10000:\n",
      "\n",
      "  Mean             SD               MC Error         95% HPD interval\n",
      "  -------------------------------------------------------------------\n",
      "  \n",
      "  5.2770           2.2290           0.0860           [1.2331, 9.6566]\n",
      "\n",
      "  Posterior quantiles:\n",
      "  2.5            25             50             75             97.5\n",
      "  |--------------|==============|==============|--------------|\n",
      "  \n",
      "  1.6245         3.6371         5.0085         6.6249         10.2262\n",
      "\n",
      "\n",
      "μ:\n",
      "\n",
      "  Mean             SD               MC Error         95% HPD interval\n",
      "  -------------------------------------------------------------------\n",
      "  \n",
      "  -7.6448          0.4668           0.0194           [-8.5907, -6.8155]\n",
      "\n",
      "  Posterior quantiles:\n",
      "  2.5            25             50             75             97.5\n",
      "  |--------------|==============|==============|--------------|\n",
      "  \n",
      "  -8.7250        -7.9188        -7.5987        -7.3188        -6.8844\n",
      "\n",
      "\n",
      "σ:\n",
      "\n",
      "  Mean             SD               MC Error         95% HPD interval\n",
      "  -------------------------------------------------------------------\n",
      "  \n",
      "  1.1174           0.3731           0.0165           [0.4360, 1.8708]\n",
      "\n",
      "  Posterior quantiles:\n",
      "  2.5            25             50             75             97.5\n",
      "  |--------------|==============|==============|--------------|\n",
      "  \n",
      "  0.5056         0.8563         1.0742         1.3319         1.9700\n",
      "\n"
     ]
    }
   ],
   "source": [
    "pm.summary(updated_retro_trace[-keep:], varnames=['p_10000', 'μ', 'σ'], roundto=4)"
   ]
  },
  {
   "cell_type": "markdown",
   "metadata": {
    "deletable": true,
    "editable": true
   },
   "source": [
    "## Pritts update with EPC includes"
   ]
  },
  {
   "cell_type": "code",
   "execution_count": 32,
   "metadata": {
    "collapsed": false,
    "deletable": true,
    "editable": true
   },
   "outputs": [],
   "source": [
    "prospective_mask = all_data.design=='Prospective'\n",
    "\n",
    "pritts_epc_prospective = original_model(all_data[prospective_mask])\n",
    "pritts_epc_retrospective = original_model(all_data[~prospective_mask])"
   ]
  },
  {
   "cell_type": "code",
   "execution_count": 33,
   "metadata": {
    "collapsed": false,
    "deletable": true,
    "editable": true
   },
   "outputs": [
    {
     "data": {
      "text/plain": [
       "(3673, 40)"
      ]
     },
     "execution_count": 33,
     "metadata": {},
     "output_type": "execute_result"
    }
   ],
   "source": [
    "all_data[prospective_mask].Population.sum(), all_data[prospective_mask].Population.shape[0]"
   ]
  },
  {
   "cell_type": "code",
   "execution_count": 34,
   "metadata": {
    "collapsed": false,
    "deletable": true,
    "editable": true
   },
   "outputs": [
    {
     "data": {
      "text/plain": [
       "(153053, 121)"
      ]
     },
     "execution_count": 34,
     "metadata": {},
     "output_type": "execute_result"
    }
   ],
   "source": [
    "all_data[~prospective_mask].Population.sum(), all_data[~prospective_mask].Population.shape[0]"
   ]
  },
  {
   "cell_type": "code",
   "execution_count": 35,
   "metadata": {
    "collapsed": false,
    "deletable": true,
    "editable": true
   },
   "outputs": [
    {
     "data": {
      "text/plain": [
       "(161, 18)"
      ]
     },
     "execution_count": 35,
     "metadata": {},
     "output_type": "execute_result"
    }
   ],
   "source": [
    "all_data.shape"
   ]
  },
  {
   "cell_type": "code",
   "execution_count": 36,
   "metadata": {
    "collapsed": false,
    "deletable": true,
    "editable": true
   },
   "outputs": [
    {
     "name": "stderr",
     "output_type": "stream",
     "text": [
      "Auto-assigning NUTS sampler...\n",
      "Initializing NUTS using advi...\n",
      "Average ELBO = -124.72: 100%|██████████| 200000/200000 [00:21<00:00, 9249.67it/s] \n",
      "Finished [100%]: Average ELBO = -124.69\n",
      "100%|██████████| 5000/5000 [00:33<00:00, 150.83it/s]\n"
     ]
    }
   ],
   "source": [
    "with pritts_epc_retrospective:\n",
    "    epc_retrospective_trace = pm.sample(iterations, njobs=4, random_seed=rseeds)"
   ]
  },
  {
   "cell_type": "code",
   "execution_count": 37,
   "metadata": {
    "collapsed": false,
    "deletable": true,
    "editable": true
   },
   "outputs": [
    {
     "name": "stderr",
     "output_type": "stream",
     "text": [
      "Auto-assigning NUTS sampler...\n",
      "Initializing NUTS using advi...\n",
      "Average ELBO = -18.02: 100%|██████████| 200000/200000 [00:15<00:00, 13252.59it/s] \n",
      "Finished [100%]: Average ELBO = -17.514\n",
      "Evidence of divergence detected, inspect ELBO.\n",
      "100%|██████████| 5000/5000 [00:44<00:00, 111.69it/s]\n"
     ]
    }
   ],
   "source": [
    "with pritts_epc_prospective:\n",
    "    epc_prospective_trace = pm.sample(iterations, njobs=4, random_seed=rseeds)"
   ]
  },
  {
   "cell_type": "code",
   "execution_count": 38,
   "metadata": {
    "collapsed": false,
    "deletable": true,
    "editable": true,
    "scrolled": false
   },
   "outputs": [
    {
     "data": {
      "image/png": "[encoded data removed]",
      "text/plain": [
       "<matplotlib.figure.Figure at 0x124bdbc18>"
      ]
     },
     "metadata": {},
     "output_type": "display_data"
    }
   ],
   "source": [
    "pritts_plot([epc_retrospective_trace, epc_prospective_trace], 'Updated with EPC Includes')"
   ]
  },
  {
   "cell_type": "markdown",
   "metadata": {
    "deletable": true,
    "editable": true
   },
   "source": [
    "### Prospective estimates"
   ]
  },
  {
   "cell_type": "code",
   "execution_count": 39,
   "metadata": {
    "collapsed": false,
    "deletable": true,
    "editable": true
   },
   "outputs": [
    {
     "name": "stdout",
     "output_type": "stream",
     "text": [
      "\n",
      "p_10000:\n",
      "\n",
      "  Mean             SD               MC Error         95% HPD interval\n",
      "  -------------------------------------------------------------------\n",
      "  \n",
      "  2.8412           3.6858           0.0905           [0.0000, 10.4345]\n",
      "\n",
      "  Posterior quantiles:\n",
      "  2.5            25             50             75             97.5\n",
      "  |--------------|==============|==============|--------------|\n",
      "  \n",
      "  0.0002         0.2192         1.3730         4.1309         12.9647\n",
      "\n",
      "\n",
      "μ:\n",
      "\n",
      "  Mean             SD               MC Error         95% HPD interval\n",
      "  -------------------------------------------------------------------\n",
      "  \n",
      "  -9.7528          2.9784           0.1573           [-15.8066, -6.1777]\n",
      "\n",
      "  Posterior quantiles:\n",
      "  2.5            25             50             75             97.5\n",
      "  |--------------|==============|==============|--------------|\n",
      "  \n",
      "  -17.6025       -10.7281       -8.8932        -7.7914        -6.6468\n",
      "\n",
      "\n",
      "σ:\n",
      "\n",
      "  Mean             SD               MC Error         95% HPD interval\n",
      "  -------------------------------------------------------------------\n",
      "  \n",
      "  2.3448           1.8540           0.0862           [0.0001, 6.2378]\n",
      "\n",
      "  Posterior quantiles:\n",
      "  2.5            25             50             75             97.5\n",
      "  |--------------|==============|==============|--------------|\n",
      "  \n",
      "  0.1147         1.0076         1.9009         3.1468         7.4329\n",
      "\n"
     ]
    }
   ],
   "source": [
    "pm.summary(epc_prospective_trace[-keep:], varnames=['p_10000', 'μ', 'σ'], roundto=4)"
   ]
  },
  {
   "cell_type": "markdown",
   "metadata": {
    "deletable": true,
    "editable": true
   },
   "source": [
    "### Retrospective estimates"
   ]
  },
  {
   "cell_type": "code",
   "execution_count": 40,
   "metadata": {
    "collapsed": false,
    "deletable": true,
    "editable": true
   },
   "outputs": [
    {
     "name": "stdout",
     "output_type": "stream",
     "text": [
      "\n",
      "p_10000:\n",
      "\n",
      "  Mean             SD               MC Error         95% HPD interval\n",
      "  -------------------------------------------------------------------\n",
      "  \n",
      "  9.0633           2.0799           0.0587           [5.2082, 13.2814]\n",
      "\n",
      "  Posterior quantiles:\n",
      "  2.5            25             50             75             97.5\n",
      "  |--------------|==============|==============|--------------|\n",
      "  \n",
      "  5.3129         7.6044         8.9682         10.4422        13.4215\n",
      "\n",
      "\n",
      "μ:\n",
      "\n",
      "  Mean             SD               MC Error         95% HPD interval\n",
      "  -------------------------------------------------------------------\n",
      "  \n",
      "  -7.0325          0.2378           0.0069           [-7.5051, -6.5839]\n",
      "\n",
      "  Posterior quantiles:\n",
      "  2.5            25             50             75             97.5\n",
      "  |--------------|==============|==============|--------------|\n",
      "  \n",
      "  -7.5397        -7.1809        -7.0158        -6.8634        -6.6121\n",
      "\n",
      "\n",
      "σ:\n",
      "\n",
      "  Mean             SD               MC Error         95% HPD interval\n",
      "  -------------------------------------------------------------------\n",
      "  \n",
      "  1.0903           0.1798           0.0067           [0.7744, 1.4604]\n",
      "\n",
      "  Posterior quantiles:\n",
      "  2.5            25             50             75             97.5\n",
      "  |--------------|==============|==============|--------------|\n",
      "  \n",
      "  0.7954         0.9605         1.0736         1.2010         1.4905\n",
      "\n"
     ]
    }
   ],
   "source": [
    "pm.summary(epc_retrospective_trace[-keep:], varnames=['p_10000', 'μ', 'σ'], roundto=4)"
   ]
  },
  {
   "cell_type": "markdown",
   "metadata": {
    "deletable": true,
    "editable": true
   },
   "source": [
    "## No hysteroscopy subset\n",
    "\n",
    "Remove studies that used hysteroscopy"
   ]
  },
  {
   "cell_type": "code",
   "execution_count": 41,
   "metadata": {
    "collapsed": false,
    "deletable": true,
    "editable": true
   },
   "outputs": [
    {
     "data": {
      "text/plain": [
       "no     125\n",
       "yes     36\n",
       "Name: Hysteroscopy, dtype: int64"
      ]
     },
     "execution_count": 41,
     "metadata": {},
     "output_type": "execute_result"
    }
   ],
   "source": [
    "all_data.Hysteroscopy.value_counts()"
   ]
  },
  {
   "cell_type": "code",
   "execution_count": 42,
   "metadata": {
    "collapsed": false,
    "deletable": true,
    "editable": true
   },
   "outputs": [
    {
     "data": {
      "text/plain": [
       "(28, 18)"
      ]
     },
     "execution_count": 42,
     "metadata": {},
     "output_type": "execute_result"
    }
   ],
   "source": [
    "hysteroscopy_mask = all_data.Hysteroscopy=='no'\n",
    "\n",
    "all_data[prospective_mask & hysteroscopy_mask].shape"
   ]
  },
  {
   "cell_type": "code",
   "execution_count": 43,
   "metadata": {
    "collapsed": false,
    "deletable": true,
    "editable": true
   },
   "outputs": [
    {
     "data": {
      "text/plain": [
       "(97, 18)"
      ]
     },
     "execution_count": 43,
     "metadata": {},
     "output_type": "execute_result"
    }
   ],
   "source": [
    "all_data[(~prospective_mask) & hysteroscopy_mask].shape"
   ]
  },
  {
   "cell_type": "code",
   "execution_count": 44,
   "metadata": {
    "collapsed": true,
    "deletable": true,
    "editable": true
   },
   "outputs": [],
   "source": [
    "no_hysteroscopy_prospective = original_model(all_data[prospective_mask & hysteroscopy_mask])\n",
    "no_hysteroscopy_retrospective = original_model(all_data[(~prospective_mask) & hysteroscopy_mask])"
   ]
  },
  {
   "cell_type": "code",
   "execution_count": 45,
   "metadata": {
    "collapsed": false,
    "deletable": true,
    "editable": true,
    "scrolled": false
   },
   "outputs": [
    {
     "data": {
      "text/html": [
       "<div>\n",
       "<table border=\"1\" class=\"dataframe\">\n",
       "  <thead>\n",
       "    <tr style=\"text-align: right;\">\n",
       "      <th>Hysteroscopy</th>\n",
       "      <th>no</th>\n",
       "      <th>yes</th>\n",
       "    </tr>\n",
       "    <tr>\n",
       "      <th>Prospective</th>\n",
       "      <th></th>\n",
       "      <th></th>\n",
       "    </tr>\n",
       "  </thead>\n",
       "  <tbody>\n",
       "    <tr>\n",
       "      <th>0</th>\n",
       "      <td>2.72</td>\n",
       "      <td>9.45</td>\n",
       "    </tr>\n",
       "    <tr>\n",
       "      <th>1</th>\n",
       "      <td>0.00</td>\n",
       "      <td>0.21</td>\n",
       "    </tr>\n",
       "  </tbody>\n",
       "</table>\n",
       "</div>"
      ],
      "text/plain": [
       "Hysteroscopy    no   yes\n",
       "Prospective             \n",
       "0             2.72  9.45\n",
       "1             0.00  0.21"
      ]
     },
     "execution_count": 45,
     "metadata": {},
     "output_type": "execute_result"
    }
   ],
   "source": [
    "all_data.pivot_table(index='Prospective', columns='Hysteroscopy', values='Tumors').round(2)"
   ]
  },
  {
   "cell_type": "code",
   "execution_count": 46,
   "metadata": {
    "collapsed": false,
    "deletable": true,
    "editable": true
   },
   "outputs": [
    {
     "name": "stderr",
     "output_type": "stream",
     "text": [
      "Auto-assigning NUTS sampler...\n",
      "Initializing NUTS using advi...\n",
      "Average ELBO = -95.089: 100%|██████████| 200000/200000 [00:18<00:00, 10941.52it/s]\n",
      "Finished [100%]: Average ELBO = -95.111\n",
      "100%|██████████| 5000/5000 [00:30<00:00, 166.63it/s]\n"
     ]
    }
   ],
   "source": [
    "with no_hysteroscopy_retrospective:\n",
    "    hyst_retrospective_trace = pm.sample(iterations, njobs=4, random_seed=rseeds)"
   ]
  },
  {
   "cell_type": "markdown",
   "metadata": {
    "deletable": true,
    "editable": true
   },
   "source": [
    "### Retrospective estimates"
   ]
  },
  {
   "cell_type": "code",
   "execution_count": 47,
   "metadata": {
    "collapsed": false,
    "deletable": true,
    "editable": true
   },
   "outputs": [
    {
     "data": {
      "text/plain": [
       "<matplotlib.gridspec.GridSpec at 0x126f8c748>"
      ]
     },
     "execution_count": 47,
     "metadata": {},
     "output_type": "execute_result"
    },
    {
     "data": {
      "image/png": "[encoded data removed]",
      "text/plain": [
       "<matplotlib.figure.Figure at 0x126f8c400>"
      ]
     },
     "metadata": {},
     "output_type": "display_data"
    }
   ],
   "source": [
    "pm.forestplot(hyst_retrospective_trace[-keep:], varnames=['p_10000', 'μ', 'σ'])"
   ]
  },
  {
   "cell_type": "code",
   "execution_count": 48,
   "metadata": {
    "collapsed": false,
    "deletable": true,
    "editable": true
   },
   "outputs": [
    {
     "name": "stdout",
     "output_type": "stream",
     "text": [
      "\n",
      "p_10000:\n",
      "\n",
      "  Mean             SD               MC Error         95% HPD interval\n",
      "  -------------------------------------------------------------------\n",
      "  \n",
      "  7.5869           2.2270           0.0748           [3.3578, 11.9806]\n",
      "\n",
      "  Posterior quantiles:\n",
      "  2.5            25             50             75             97.5\n",
      "  |--------------|==============|==============|--------------|\n",
      "  \n",
      "  3.6717         6.0281         7.4199         8.9876         12.4315\n",
      "\n",
      "\n",
      "μ:\n",
      "\n",
      "  Mean             SD               MC Error         95% HPD interval\n",
      "  -------------------------------------------------------------------\n",
      "  \n",
      "  -7.2286          0.3099           0.0107           [-7.8354, -6.6436]\n",
      "\n",
      "  Posterior quantiles:\n",
      "  2.5            25             50             75             97.5\n",
      "  |--------------|==============|==============|--------------|\n",
      "  \n",
      "  -7.9093        -7.4133        -7.2054        -7.0136        -6.6889\n",
      "\n",
      "\n",
      "σ:\n",
      "\n",
      "  Mean             SD               MC Error         95% HPD interval\n",
      "  -------------------------------------------------------------------\n",
      "  \n",
      "  1.2003           0.2239           0.0098           [0.7964, 1.6365]\n",
      "\n",
      "  Posterior quantiles:\n",
      "  2.5            25             50             75             97.5\n",
      "  |--------------|==============|==============|--------------|\n",
      "  \n",
      "  0.8388         1.0406         1.1771         1.3330         1.7012\n",
      "\n"
     ]
    }
   ],
   "source": [
    "pm.summary(hyst_retrospective_trace[-keep:], varnames=['p_10000', 'μ', 'σ'], roundto=4)"
   ]
  },
  {
   "cell_type": "code",
   "execution_count": 49,
   "metadata": {
    "collapsed": false,
    "deletable": true,
    "editable": true,
    "scrolled": true
   },
   "outputs": [
    {
     "name": "stderr",
     "output_type": "stream",
     "text": [
      "Auto-assigning NUTS sampler...\n",
      "Initializing NUTS using advi...\n",
      "Average ELBO = -88.595: 100%|██████████| 200000/200000 [00:13<00:00, 14677.15it/s]\n",
      "Finished [100%]: Average ELBO = -126.38\n",
      "Evidence of divergence detected, inspect ELBO.\n",
      "100%|██████████| 5000/5000 [00:15<00:00, 323.78it/s]\n"
     ]
    }
   ],
   "source": [
    "with no_hysteroscopy_prospective:\n",
    "    hyst_prospective_trace = pm.sample(iterations, njobs=4, random_seed=rseeds)"
   ]
  },
  {
   "cell_type": "markdown",
   "metadata": {
    "deletable": true,
    "editable": true
   },
   "source": [
    "### Prospective estimates"
   ]
  },
  {
   "cell_type": "code",
   "execution_count": 50,
   "metadata": {
    "collapsed": false,
    "deletable": true,
    "editable": true
   },
   "outputs": [
    {
     "data": {
      "text/plain": [
       "<matplotlib.gridspec.GridSpec at 0x12e478da0>"
      ]
     },
     "execution_count": 50,
     "metadata": {},
     "output_type": "execute_result"
    },
    {
     "data": {
      "image/png": "[encoded data removed]",
      "text/plain": [
       "<matplotlib.figure.Figure at 0x12e478cc0>"
      ]
     },
     "metadata": {},
     "output_type": "display_data"
    }
   ],
   "source": [
    "pm.forestplot(hyst_prospective_trace[-keep:], varnames=['p_10000', 'μ', 'σ'])"
   ]
  },
  {
   "cell_type": "code",
   "execution_count": 51,
   "metadata": {
    "collapsed": false,
    "deletable": true,
    "editable": true
   },
   "outputs": [
    {
     "name": "stdout",
     "output_type": "stream",
     "text": [
      "\n",
      "p_10000:\n",
      "\n",
      "  Mean             SD               MC Error         95% HPD interval\n",
      "  -------------------------------------------------------------------\n",
      "  \n",
      "  0.0054           0.1271           0.0013           [0.0000, 0.0000]\n",
      "\n",
      "  Posterior quantiles:\n",
      "  2.5            25             50             75             97.5\n",
      "  |--------------|==============|==============|--------------|\n",
      "  \n",
      "  0.0000         0.0000         0.0000         0.0000         0.0005\n",
      "\n",
      "\n",
      "μ:\n",
      "\n",
      "  Mean             SD               MC Error         95% HPD interval\n",
      "  -------------------------------------------------------------------\n",
      "  \n",
      "  -90.1207         58.7358          1.9379           [-208.6260, -9.5197]\n",
      "\n",
      "  Posterior quantiles:\n",
      "  2.5            25             50             75             97.5\n",
      "  |--------------|==============|==============|--------------|\n",
      "  \n",
      "  -235.6914      -122.1899      -76.2344       -44.7648       -16.7825\n",
      "\n",
      "\n",
      "σ:\n",
      "\n",
      "  Mean             SD               MC Error         95% HPD interval\n",
      "  -------------------------------------------------------------------\n",
      "  \n",
      "  4.8864           2.8967           0.0217           [0.0418, 9.4950]\n",
      "\n",
      "  Posterior quantiles:\n",
      "  2.5            25             50             75             97.5\n",
      "  |--------------|==============|==============|--------------|\n",
      "  \n",
      "  0.2491         2.3706         4.8124         7.4107         9.7184\n",
      "\n"
     ]
    }
   ],
   "source": [
    "pm.summary(hyst_prospective_trace[-keep:], varnames=['p_10000', 'μ', 'σ'], roundto=4)"
   ]
  },
  {
   "cell_type": "code",
   "execution_count": 52,
   "metadata": {
    "collapsed": false,
    "deletable": true,
    "editable": true
   },
   "outputs": [
    {
     "data": {
      "image/png": "[encoded data removed]",
      "text/plain": [
       "<matplotlib.figure.Figure at 0x12f5da7f0>"
      ]
     },
     "metadata": {},
     "output_type": "display_data"
    }
   ],
   "source": [
    "pritts_plot([hyst_retrospective_trace, hyst_prospective_trace], 'No Hysteroscopy Subset')"
   ]
  },
  {
   "cell_type": "markdown",
   "metadata": {
    "deletable": true,
    "editable": true
   },
   "source": [
    "## Confirmed histopathology subset\n",
    "\n",
    "Include only studies that had post-surgical histopathology"
   ]
  },
  {
   "cell_type": "code",
   "execution_count": 53,
   "metadata": {
    "collapsed": false,
    "deletable": true,
    "editable": true
   },
   "outputs": [
    {
     "data": {
      "text/plain": [
       "yes        144\n",
       "unclear     16\n",
       "NO           1\n",
       "Name: POSTOP_HP_Done, dtype: int64"
      ]
     },
     "execution_count": 53,
     "metadata": {},
     "output_type": "execute_result"
    }
   ],
   "source": [
    "all_data.POSTOP_HP_Done.value_counts()"
   ]
  },
  {
   "cell_type": "code",
   "execution_count": 54,
   "metadata": {
    "collapsed": false,
    "deletable": true,
    "editable": true
   },
   "outputs": [
    {
     "data": {
      "text/plain": [
       "(36, 18)"
      ]
     },
     "execution_count": 54,
     "metadata": {},
     "output_type": "execute_result"
    }
   ],
   "source": [
    "histopath_mask = all_data.POSTOP_HP_Done=='yes'\n",
    "\n",
    "all_data[prospective_mask & histopath_mask].shape"
   ]
  },
  {
   "cell_type": "code",
   "execution_count": 55,
   "metadata": {
    "collapsed": false,
    "deletable": true,
    "editable": true
   },
   "outputs": [
    {
     "data": {
      "text/plain": [
       "(108, 18)"
      ]
     },
     "execution_count": 55,
     "metadata": {},
     "output_type": "execute_result"
    }
   ],
   "source": [
    "all_data[(~prospective_mask) & histopath_mask].shape"
   ]
  },
  {
   "cell_type": "code",
   "execution_count": 56,
   "metadata": {
    "collapsed": true,
    "deletable": true,
    "editable": true
   },
   "outputs": [],
   "source": [
    "histo_prospective = original_model(all_data[prospective_mask & histopath_mask])\n",
    "histo_retrospective = original_model(all_data[(~prospective_mask) & histopath_mask])"
   ]
  },
  {
   "cell_type": "code",
   "execution_count": 57,
   "metadata": {
    "collapsed": false,
    "deletable": true,
    "editable": true,
    "scrolled": true
   },
   "outputs": [
    {
     "name": "stderr",
     "output_type": "stream",
     "text": [
      "Auto-assigning NUTS sampler...\n",
      "Initializing NUTS using advi...\n",
      "Average ELBO = -95.44: 100%|██████████| 200000/200000 [00:18<00:00, 10621.42it/s] \n",
      "Finished [100%]: Average ELBO = -95.381\n",
      "100%|██████████| 5000/5000 [00:31<00:00, 159.23it/s]\n"
     ]
    }
   ],
   "source": [
    "with histo_retrospective:\n",
    "    histo_retrospective_trace = pm.sample(iterations, njobs=4, random_seed=rseeds)"
   ]
  },
  {
   "cell_type": "markdown",
   "metadata": {
    "deletable": true,
    "editable": true
   },
   "source": [
    "### Retrospective estimates"
   ]
  },
  {
   "cell_type": "code",
   "execution_count": 58,
   "metadata": {
    "collapsed": false,
    "deletable": true,
    "editable": true
   },
   "outputs": [
    {
     "data": {
      "text/plain": [
       "<matplotlib.gridspec.GridSpec at 0x133cdecc0>"
      ]
     },
     "execution_count": 58,
     "metadata": {},
     "output_type": "execute_result"
    },
    {
     "data": {
      "image/png": "[encoded data removed]",
      "text/plain": [
       "<matplotlib.figure.Figure at 0x133cdebe0>"
      ]
     },
     "metadata": {},
     "output_type": "display_data"
    }
   ],
   "source": [
    "pm.forestplot(histo_retrospective_trace[-keep:], varnames=['p_10000', 'μ', 'σ'])"
   ]
  },
  {
   "cell_type": "code",
   "execution_count": 59,
   "metadata": {
    "collapsed": false,
    "deletable": true,
    "editable": true
   },
   "outputs": [
    {
     "name": "stdout",
     "output_type": "stream",
     "text": [
      "\n",
      "p_10000:\n",
      "\n",
      "  Mean             SD               MC Error         95% HPD interval\n",
      "  -------------------------------------------------------------------\n",
      "  \n",
      "  7.7327           2.2311           0.0738           [3.6197, 12.2419]\n",
      "\n",
      "  Posterior quantiles:\n",
      "  2.5            25             50             75             97.5\n",
      "  |--------------|==============|==============|--------------|\n",
      "  \n",
      "  3.8783         6.1743         7.5643         9.0986         12.6678\n",
      "\n",
      "\n",
      "μ:\n",
      "\n",
      "  Mean             SD               MC Error         95% HPD interval\n",
      "  -------------------------------------------------------------------\n",
      "  \n",
      "  -7.2071          0.2989           0.0102           [-7.8294, -6.6552]\n",
      "\n",
      "  Posterior quantiles:\n",
      "  2.5            25             50             75             97.5\n",
      "  |--------------|==============|==============|--------------|\n",
      "  \n",
      "  -7.8545        -7.3893        -7.1861        -7.0013        -6.6700\n",
      "\n",
      "\n",
      "σ:\n",
      "\n",
      "  Mean             SD               MC Error         95% HPD interval\n",
      "  -------------------------------------------------------------------\n",
      "  \n",
      "  1.2056           0.2160           0.0098           [0.8208, 1.6425]\n",
      "\n",
      "  Posterior quantiles:\n",
      "  2.5            25             50             75             97.5\n",
      "  |--------------|==============|==============|--------------|\n",
      "  \n",
      "  0.8493         1.0538         1.1845         1.3318         1.6893\n",
      "\n"
     ]
    }
   ],
   "source": [
    "pm.summary(histo_retrospective_trace[-keep:], varnames=['p_10000', 'μ', 'σ'], roundto=4)"
   ]
  },
  {
   "cell_type": "code",
   "execution_count": 60,
   "metadata": {
    "collapsed": false,
    "deletable": true,
    "editable": true,
    "scrolled": true
   },
   "outputs": [
    {
     "name": "stderr",
     "output_type": "stream",
     "text": [
      "Auto-assigning NUTS sampler...\n",
      "Initializing NUTS using advi...\n",
      "Average ELBO = -15.601: 100%|██████████| 200000/200000 [00:15<00:00, 13293.60it/s]\n",
      "Finished [100%]: Average ELBO = -14.98\n",
      "Evidence of divergence detected, inspect ELBO.\n",
      "100%|██████████| 5000/5000 [00:39<00:00, 125.15it/s]\n"
     ]
    }
   ],
   "source": [
    "with histo_prospective:\n",
    "    histo_prospective_trace = pm.sample(iterations, njobs=4, random_seed=rseeds)"
   ]
  },
  {
   "cell_type": "markdown",
   "metadata": {
    "deletable": true,
    "editable": true
   },
   "source": [
    "### Prospective estimates"
   ]
  },
  {
   "cell_type": "code",
   "execution_count": 61,
   "metadata": {
    "collapsed": false,
    "deletable": true,
    "editable": true
   },
   "outputs": [
    {
     "data": {
      "text/plain": [
       "<matplotlib.gridspec.GridSpec at 0x132de4ba8>"
      ]
     },
     "execution_count": 61,
     "metadata": {},
     "output_type": "execute_result"
    },
    {
     "data": {
      "image/png": "[encoded data removed]",
      "text/plain": [
       "<matplotlib.figure.Figure at 0x132de4f28>"
      ]
     },
     "metadata": {},
     "output_type": "display_data"
    }
   ],
   "source": [
    "pm.forestplot(histo_prospective_trace[-keep:], varnames=['p_10000', 'μ', 'σ'])"
   ]
  },
  {
   "cell_type": "code",
   "execution_count": 62,
   "metadata": {
    "collapsed": false,
    "deletable": true,
    "editable": true
   },
   "outputs": [
    {
     "name": "stdout",
     "output_type": "stream",
     "text": [
      "\n",
      "p_10000:\n",
      "\n",
      "  Mean             SD               MC Error         95% HPD interval\n",
      "  -------------------------------------------------------------------\n",
      "  \n",
      "  0.6805           1.6130           0.0316           [0.0000, 3.7250]\n",
      "\n",
      "  Posterior quantiles:\n",
      "  2.5            25             50             75             97.5\n",
      "  |--------------|==============|==============|--------------|\n",
      "  \n",
      "  0.0000         0.0003         0.0323         0.5344         5.4563\n",
      "\n",
      "\n",
      "μ:\n",
      "\n",
      "  Mean             SD               MC Error         95% HPD interval\n",
      "  -------------------------------------------------------------------\n",
      "  \n",
      "  -14.2131         5.6335           0.2275           [-25.6552, -6.8452]\n",
      "\n",
      "  Posterior quantiles:\n",
      "  2.5            25             50             75             97.5\n",
      "  |--------------|==============|==============|--------------|\n",
      "  \n",
      "  -27.8963       -17.3791       -12.6428       -9.8369        -7.5130\n",
      "\n",
      "\n",
      "σ:\n",
      "\n",
      "  Mean             SD               MC Error         95% HPD interval\n",
      "  -------------------------------------------------------------------\n",
      "  \n",
      "  4.1191           2.7277           0.1034           [0.0014, 9.1640]\n",
      "\n",
      "  Posterior quantiles:\n",
      "  2.5            25             50             75             97.5\n",
      "  |--------------|==============|==============|--------------|\n",
      "  \n",
      "  0.1845         1.8420         3.6634         6.1691         9.5739\n",
      "\n"
     ]
    }
   ],
   "source": [
    "pm.summary(histo_prospective_trace[-keep:], varnames=['p_10000', 'μ', 'σ'], roundto=4)"
   ]
  },
  {
   "cell_type": "code",
   "execution_count": 63,
   "metadata": {
    "collapsed": false,
    "deletable": true,
    "editable": true
   },
   "outputs": [
    {
     "data": {
      "image/png": "[encoded data removed]",
      "text/plain": [
       "<matplotlib.figure.Figure at 0x12ff3f7b8>"
      ]
     },
     "metadata": {},
     "output_type": "display_data"
    }
   ],
   "source": [
    "pritts_plot([histo_retrospective_trace, histo_prospective_trace], 'Histopathology Subset')"
   ]
  },
  {
   "cell_type": "markdown",
   "metadata": {
    "deletable": true,
    "editable": true
   },
   "source": [
    "### Goodness of fit\n",
    "\n",
    "To check how well the model fits the data, I conducted posteior predictive checks. This simulates data from the model for each data point (*i.e.* study) in the meta-analysis, and compares the distribution of these simulated values (here, 500 replicates) with the value of the data itself. If the percentile of the datum is very extreme (either large or small), then it is evidence that the model does not adequately fit the data. The distribution of percentiles in the bottom histogram shows that there is no evidence of lack of fit."
   ]
  },
  {
   "cell_type": "code",
   "execution_count": 64,
   "metadata": {
    "collapsed": false,
    "deletable": true,
    "editable": true
   },
   "outputs": [
    {
     "name": "stderr",
     "output_type": "stream",
     "text": [
      "100%|██████████| 500/500 [00:09<00:00, 53.67it/s]\n",
      "100%|██████████| 500/500 [00:10<00:00, 48.49it/s]\n"
     ]
    }
   ],
   "source": [
    "ppc_retro = pm.sample_ppc(epc_retrospective_trace, model=pritts_epc_retrospective, samples=500)\n",
    "ppc_prosp = pm.sample_ppc(epc_prospective_trace, model=pritts_epc_prospective, samples=500)"
   ]
  },
  {
   "cell_type": "code",
   "execution_count": 65,
   "metadata": {
    "collapsed": false,
    "deletable": true,
    "editable": true
   },
   "outputs": [
    {
     "data": {
      "image/png": "[encoded data removed]",
      "text/plain": [
       "<matplotlib.figure.Figure at 0x133e8b400>"
      ]
     },
     "metadata": {},
     "output_type": "display_data"
    }
   ],
   "source": [
    "from scipy.stats import percentileofscore\n",
    "        \n",
    "p = [percentileofscore(s, o).round(2) for s,o in zip(ppc_retro['obs'].T, all_data[~prospective_mask].Tumors)]\n",
    "p += [percentileofscore(s, o).round(2) for s,o in zip(ppc_prosp['obs'].T, all_data[prospective_mask].Tumors)]\n",
    "        \n",
    "plt.hist(p)\n",
    "plt.xlabel('percentile')\n",
    "plt.ylabel('frequency');"
   ]
  }
 ],
 "metadata": {
  "anaconda-cloud": {},
  "kernelspec": {
   "display_name": "Python 3",
   "language": "python",
   "name": "python3"
  },
  "language_info": {
   "codemirror_mode": {
    "name": "ipython",
    "version": 3
   },
   "file_extension": ".py",
   "mimetype": "text/x-python",
   "name": "python",
   "nbconvert_exporter": "python",
   "pygments_lexer": "ipython3",
   "version": "3.6.1"
  },
  "latex_envs": {
   "bibliofile": "biblio.bib",
   "cite_by": "apalike",
   "current_citInitial": 1,
   "eqLabelWithNumbers": true,
   "eqNumInitial": 0
  }
 },
 "nbformat": 4,
 "nbformat_minor": 1
}
