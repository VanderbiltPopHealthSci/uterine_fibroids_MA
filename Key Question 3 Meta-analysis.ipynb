{
 "cells": [
  {
   "cell_type": "markdown",
   "metadata": {},
   "source": [
    "## KQ3: Pritts Meta-analysis Update\n",
    "\n",
    "In key question 3, we address the risk of sarcoma dissemination following morcellation of fibroids. We identified a recently published analysis conducted by Elizabeth Pritts and her colleagues (2015) to estimate the  prevalence of occult leiomyosarcoma at time of treatment for presumed benign tumors (fibroids).  We updated their search and used similar eligibility criteria to identify papers published since 2014. We extracted from these papers the number of women who were treated for uterine fibroids and the cases of leiomyosarcoma subsequently identified.  We have combined these data with the data from the 134 publications that Pritts et al included in their analysis for a total of LMS rates from 148 sources."
   ]
  },
  {
   "cell_type": "code",
   "execution_count": 1,
   "metadata": {},
   "outputs": [],
   "source": [
    "%matplotlib inline\n",
    "import numpy as np\n",
    "import pandas as pd\n",
    "import pymc3 as pm\n",
    "import seaborn as sns\n",
    "import matplotlib.pyplot as plt\n",
    "import pdb\n",
    "sns.set()\n",
    "\n",
    "rseeds = 20090425, 19771114, 20161216, 19700903"
   ]
  },
  {
   "cell_type": "code",
   "execution_count": 2,
   "metadata": {
    "scrolled": true
   },
   "outputs": [],
   "source": [
    "keep_cols = ['Author', 'Year', 'Design', 'Procedure', 'Indication',\n",
    "                                     'Age, Mean', 'Age, SD', 'Age, Median', 'Age, Min', 'Age, Max', 'Age, Other',\n",
    "                                     'LMS','Population','Tumors','InPritts','POSTOP_HP_Done', 'Hysteroscopy']\n",
    "\n",
    "datasets = pd.read_excel('data/Pritts_EPC_KQ3_Includes_Histopathology_SK_03212017.xlsx', \n",
    "                         sheetname=['OLD_PRITTS', 'UPDATED_PRITTS', 'Updated_Pritts_With_EPC_INclude'], \n",
    "                         na_values=['NR', 'NA'],\n",
    "                        index_col=0)"
   ]
  },
  {
   "cell_type": "code",
   "execution_count": 3,
   "metadata": {},
   "outputs": [],
   "source": [
    "def clean_data(kq3_data):\n",
    "\n",
    "    return (kq3_data.assign(age_max=kq3_data['Age, Max'].replace('50+', 50),\n",
    "                           design=kq3_data['Design'].str.strip().replace('prospective', 'Prospective'),\n",
    "                           Prospective=(kq3_data.Design!='Retrospective').astype(int))\n",
    "                    .rename(columns={'Age, Min': 'age_min',\n",
    "                                       'Age, Mean': 'age_mean',\n",
    "                                       'Age, SD': 'age_sd',\n",
    "                                       'Age, Median': 'age_med'})\n",
    "                    .drop(['Age, Max', 'Design'], axis=1)\n",
    "                    .dropna(thresh=7))\n",
    "    "
   ]
  },
  {
   "cell_type": "code",
   "execution_count": 4,
   "metadata": {},
   "outputs": [],
   "source": [
    "datasets = {sheet: clean_data(datasets[sheet][keep_cols]) for sheet in datasets}\n",
    "\n",
    "old_pritts = datasets['OLD_PRITTS']\n",
    "updated_pritts = datasets['UPDATED_PRITTS']\n",
    "all_data = datasets['Updated_Pritts_With_EPC_INclude']"
   ]
  },
  {
   "cell_type": "markdown",
   "metadata": {},
   "source": [
    "Missing values"
   ]
  },
  {
   "cell_type": "code",
   "execution_count": 5,
   "metadata": {},
   "outputs": [
    {
     "data": {
      "text/plain": [
       "Author              0\n",
       "Year                0\n",
       "Procedure           0\n",
       "Indication          1\n",
       "age_mean           71\n",
       "age_sd            149\n",
       "age_med           150\n",
       "age_min            64\n",
       "Age, Other        127\n",
       "LMS                 0\n",
       "Population          0\n",
       "Tumors              0\n",
       "InPritts            0\n",
       "POSTOP_HP_Done      0\n",
       "Hysteroscopy        0\n",
       "Prospective         0\n",
       "age_max            65\n",
       "design              0\n",
       "dtype: int64"
      ]
     },
     "execution_count": 5,
     "metadata": {},
     "output_type": "execute_result"
    }
   ],
   "source": [
    "all_data.isnull().sum()"
   ]
  },
  {
   "cell_type": "code",
   "execution_count": 6,
   "metadata": {},
   "outputs": [
    {
     "data": {
      "text/html": [
       "<div>\n",
       "<style>\n",
       "    .dataframe thead tr:only-child th {\n",
       "        text-align: right;\n",
       "    }\n",
       "\n",
       "    .dataframe thead th {\n",
       "        text-align: left;\n",
       "    }\n",
       "\n",
       "    .dataframe tbody tr th {\n",
       "        vertical-align: top;\n",
       "    }\n",
       "</style>\n",
       "<table border=\"1\" class=\"dataframe\">\n",
       "  <thead>\n",
       "    <tr style=\"text-align: right;\">\n",
       "      <th></th>\n",
       "      <th>Year</th>\n",
       "      <th>age_mean</th>\n",
       "      <th>age_sd</th>\n",
       "      <th>age_med</th>\n",
       "      <th>age_min</th>\n",
       "      <th>LMS</th>\n",
       "      <th>Population</th>\n",
       "      <th>Tumors</th>\n",
       "      <th>InPritts</th>\n",
       "      <th>Prospective</th>\n",
       "      <th>age_max</th>\n",
       "    </tr>\n",
       "  </thead>\n",
       "  <tbody>\n",
       "    <tr>\n",
       "      <th>count</th>\n",
       "      <td>161.000000</td>\n",
       "      <td>90.000000</td>\n",
       "      <td>12.000000</td>\n",
       "      <td>11.000000</td>\n",
       "      <td>97.00000</td>\n",
       "      <td>161.000000</td>\n",
       "      <td>161.000000</td>\n",
       "      <td>161.000000</td>\n",
       "      <td>161.000000</td>\n",
       "      <td>161.000000</td>\n",
       "      <td>96.000000</td>\n",
       "    </tr>\n",
       "    <tr>\n",
       "      <th>mean</th>\n",
       "      <td>2005.155280</td>\n",
       "      <td>41.919222</td>\n",
       "      <td>7.009167</td>\n",
       "      <td>41.545455</td>\n",
       "      <td>26.91134</td>\n",
       "      <td>1.832298</td>\n",
       "      <td>817.267081</td>\n",
       "      <td>1.832298</td>\n",
       "      <td>0.832298</td>\n",
       "      <td>0.422360</td>\n",
       "      <td>61.466667</td>\n",
       "    </tr>\n",
       "    <tr>\n",
       "      <th>std</th>\n",
       "      <td>7.873658</td>\n",
       "      <td>6.130203</td>\n",
       "      <td>2.821758</td>\n",
       "      <td>5.791954</td>\n",
       "      <td>6.20752</td>\n",
       "      <td>9.843930</td>\n",
       "      <td>3171.815663</td>\n",
       "      <td>9.843930</td>\n",
       "      <td>0.374767</td>\n",
       "      <td>0.495476</td>\n",
       "      <td>13.430732</td>\n",
       "    </tr>\n",
       "    <tr>\n",
       "      <th>min</th>\n",
       "      <td>1984.000000</td>\n",
       "      <td>28.200000</td>\n",
       "      <td>1.800000</td>\n",
       "      <td>35.000000</td>\n",
       "      <td>18.00000</td>\n",
       "      <td>0.000000</td>\n",
       "      <td>5.000000</td>\n",
       "      <td>0.000000</td>\n",
       "      <td>0.000000</td>\n",
       "      <td>0.000000</td>\n",
       "      <td>34.000000</td>\n",
       "    </tr>\n",
       "    <tr>\n",
       "      <th>25%</th>\n",
       "      <td>1999.000000</td>\n",
       "      <td>37.310000</td>\n",
       "      <td>5.925000</td>\n",
       "      <td>37.450000</td>\n",
       "      <td>22.00000</td>\n",
       "      <td>0.000000</td>\n",
       "      <td>40.000000</td>\n",
       "      <td>0.000000</td>\n",
       "      <td>1.000000</td>\n",
       "      <td>0.000000</td>\n",
       "      <td>51.000000</td>\n",
       "    </tr>\n",
       "    <tr>\n",
       "      <th>50%</th>\n",
       "      <td>2006.000000</td>\n",
       "      <td>42.200000</td>\n",
       "      <td>6.600000</td>\n",
       "      <td>40.000000</td>\n",
       "      <td>26.00000</td>\n",
       "      <td>0.000000</td>\n",
       "      <td>92.000000</td>\n",
       "      <td>0.000000</td>\n",
       "      <td>1.000000</td>\n",
       "      <td>0.000000</td>\n",
       "      <td>60.000000</td>\n",
       "    </tr>\n",
       "    <tr>\n",
       "      <th>75%</th>\n",
       "      <td>2012.000000</td>\n",
       "      <td>46.000000</td>\n",
       "      <td>7.697500</td>\n",
       "      <td>45.800000</td>\n",
       "      <td>31.00000</td>\n",
       "      <td>0.000000</td>\n",
       "      <td>334.000000</td>\n",
       "      <td>0.000000</td>\n",
       "      <td>1.000000</td>\n",
       "      <td>1.000000</td>\n",
       "      <td>70.250000</td>\n",
       "    </tr>\n",
       "    <tr>\n",
       "      <th>max</th>\n",
       "      <td>2016.000000</td>\n",
       "      <td>59.600000</td>\n",
       "      <td>12.500000</td>\n",
       "      <td>52.900000</td>\n",
       "      <td>44.00000</td>\n",
       "      <td>91.000000</td>\n",
       "      <td>34728.000000</td>\n",
       "      <td>91.000000</td>\n",
       "      <td>1.000000</td>\n",
       "      <td>1.000000</td>\n",
       "      <td>96.000000</td>\n",
       "    </tr>\n",
       "  </tbody>\n",
       "</table>\n",
       "</div>"
      ],
      "text/plain": [
       "              Year   age_mean     age_sd    age_med   age_min         LMS  \\\n",
       "count   161.000000  90.000000  12.000000  11.000000  97.00000  161.000000   \n",
       "mean   2005.155280  41.919222   7.009167  41.545455  26.91134    1.832298   \n",
       "std       7.873658   6.130203   2.821758   5.791954   6.20752    9.843930   \n",
       "min    1984.000000  28.200000   1.800000  35.000000  18.00000    0.000000   \n",
       "25%    1999.000000  37.310000   5.925000  37.450000  22.00000    0.000000   \n",
       "50%    2006.000000  42.200000   6.600000  40.000000  26.00000    0.000000   \n",
       "75%    2012.000000  46.000000   7.697500  45.800000  31.00000    0.000000   \n",
       "max    2016.000000  59.600000  12.500000  52.900000  44.00000   91.000000   \n",
       "\n",
       "         Population      Tumors    InPritts  Prospective    age_max  \n",
       "count    161.000000  161.000000  161.000000   161.000000  96.000000  \n",
       "mean     817.267081    1.832298    0.832298     0.422360  61.466667  \n",
       "std     3171.815663    9.843930    0.374767     0.495476  13.430732  \n",
       "min        5.000000    0.000000    0.000000     0.000000  34.000000  \n",
       "25%       40.000000    0.000000    1.000000     0.000000  51.000000  \n",
       "50%       92.000000    0.000000    1.000000     0.000000  60.000000  \n",
       "75%      334.000000    0.000000    1.000000     1.000000  70.250000  \n",
       "max    34728.000000   91.000000    1.000000     1.000000  96.000000  "
      ]
     },
     "execution_count": 6,
     "metadata": {},
     "output_type": "execute_result"
    }
   ],
   "source": [
    "all_data.describe()"
   ]
  },
  {
   "cell_type": "code",
   "execution_count": 7,
   "metadata": {},
   "outputs": [
    {
     "data": {
      "image/png": "[encoded data removed]",
      "text/plain": [
       "<matplotlib.figure.Figure at 0x1126eba90>"
      ]
     },
     "metadata": {},
     "output_type": "display_data"
    }
   ],
   "source": [
    "all_data[[c for c in all_data.columns if c.startswith('age')]].hist();"
   ]
  },
  {
   "cell_type": "markdown",
   "metadata": {},
   "source": [
    "Breakdown on studies by design."
   ]
  },
  {
   "cell_type": "code",
   "execution_count": 8,
   "metadata": {},
   "outputs": [
    {
     "data": {
      "text/plain": [
       "Retrospective    94\n",
       "Prospective      40\n",
       "RCT              27\n",
       "Name: design, dtype: int64"
      ]
     },
     "execution_count": 8,
     "metadata": {},
     "output_type": "execute_result"
    }
   ],
   "source": [
    "all_data.design.value_counts()"
   ]
  },
  {
   "cell_type": "markdown",
   "metadata": {},
   "source": [
    "Following [Pritts et al. (2015)](http://www.ncbi.nlm.nih.gov/pubmed/26283890), I fit a binomial random effects model, such that event probabilities on the logit scale are normally distributed with mean $\\mu$ and standard deviation $\\sigma$. This distribution describes how the probabilities vary across studies, with the degree of variation described by $\\sigma$.\n",
    "\n",
    "$$\\theta_i \\sim N(\\mu, \\sigma^2)$$\n",
    "\n",
    "the expected value for study $i$ is then inverse-logit transformed, and used as the event probability $\\pi_i$ in a binomial model describing the number of observed tumors $t$:\n",
    "\n",
    "$$\\log\\left[\\frac{\\pi_i}{1-\\pi_i}\\right] = \\theta_i$$\n",
    "\n",
    "$$t_i \\sim \\text{Bin}(n_i, \\pi_i)$$"
   ]
  },
  {
   "cell_type": "markdown",
   "metadata": {},
   "source": [
    "There appears to be no obvious relationship between age (normalized) and tumor rate (though a quadratic model might be worth considering). We will not include age as a covariate in the model."
   ]
  },
  {
   "cell_type": "code",
   "execution_count": 9,
   "metadata": {
    "scrolled": false
   },
   "outputs": [
    {
     "data": {
      "text/plain": [
       "(0, 0.03)"
      ]
     },
     "execution_count": 9,
     "metadata": {},
     "output_type": "execute_result"
    },
    {
     "data": {
      "image/png": "[encoded data removed]",
      "text/plain": [
       "<matplotlib.figure.Figure at 0x112c3ab70>"
      ]
     },
     "metadata": {},
     "output_type": "display_data"
    }
   ],
   "source": [
    "(all_data.assign(age_max_norm=((all_data.age_max - 60)/10).fillna(0.5), \n",
    "                 tumor_rate=all_data.Tumors/all_data.Population)\n",
    "         .plot.scatter(x='age_max_norm', y='tumor_rate', style='ro', alpha=0.3)\n",
    "         .set_ylim(0, 0.03))"
   ]
  },
  {
   "cell_type": "markdown",
   "metadata": {},
   "source": [
    "## Age summarization"
   ]
  },
  {
   "cell_type": "code",
   "execution_count": 10,
   "metadata": {},
   "outputs": [
    {
     "data": {
      "text/plain": [
       "Prospective\n",
       "0    42.391667\n",
       "1    38.493750\n",
       "Name: age_mean, dtype: float64"
      ]
     },
     "execution_count": 10,
     "metadata": {},
     "output_type": "execute_result"
    }
   ],
   "source": [
    "updated_pritts.groupby('Prospective').age_mean.mean()"
   ]
  },
  {
   "cell_type": "code",
   "execution_count": 11,
   "metadata": {},
   "outputs": [
    {
     "data": {
      "text/plain": [
       "Prospective\n",
       "0    5.414867\n",
       "1    6.339617\n",
       "Name: age_mean, dtype: float64"
      ]
     },
     "execution_count": 11,
     "metadata": {},
     "output_type": "execute_result"
    }
   ],
   "source": [
    "updated_pritts.groupby('Prospective').age_mean.std()"
   ]
  },
  {
   "cell_type": "code",
   "execution_count": 12,
   "metadata": {},
   "outputs": [
    {
     "data": {
      "text/plain": [
       "Prospective\n",
       "0    43.394921\n",
       "1    38.475926\n",
       "Name: age_mean, dtype: float64"
      ]
     },
     "execution_count": 12,
     "metadata": {},
     "output_type": "execute_result"
    }
   ],
   "source": [
    "all_data.groupby('Prospective').age_mean.mean()"
   ]
  },
  {
   "cell_type": "code",
   "execution_count": 13,
   "metadata": {},
   "outputs": [
    {
     "data": {
      "text/plain": [
       "Prospective\n",
       "0    5.594163\n",
       "1    6.035098\n",
       "Name: age_mean, dtype: float64"
      ]
     },
     "execution_count": 13,
     "metadata": {},
     "output_type": "execute_result"
    }
   ],
   "source": [
    "all_data.groupby('Prospective').age_mean.std()"
   ]
  },
  {
   "cell_type": "markdown",
   "metadata": {},
   "source": [
    "##  Recapitulation of Pritts original  Meta-analysis\n",
    "\n",
    "Here we try to recreate the original Pritts model by exactly specifying the model as the original, and using the same dataset.\n",
    "\n",
    "Here is the model:"
   ]
  },
  {
   "cell_type": "code",
   "execution_count": 14,
   "metadata": {},
   "outputs": [],
   "source": [
    "import theano.tensor as tt\n",
    "invlogit = pm.math.invlogit\n",
    "\n",
    "def original_model(model_data):\n",
    "    \n",
    "    with pm.Model() as model:\n",
    "\n",
    "        k = model_data.shape[0]\n",
    "        tumors = model_data.Tumors.values.astype(int)\n",
    "        n = model_data.Population.values.astype(int)\n",
    "\n",
    "        # Study random effect\n",
    "        μ = pm.Normal('μ', 0, sd=100)\n",
    "        σ = pm.Uniform('σ', 0, 10)\n",
    "        ζ = pm.Normal('ζ', 0, 1, shape=k)\n",
    "        θ = μ + ζ*σ\n",
    "\n",
    "        # Study-specific probabilities\n",
    "        π = pm.Deterministic('π', invlogit(θ))\n",
    "\n",
    "        # Expected probabilities by design\n",
    "        p_10000 = pm.Deterministic('p_10000', invlogit(μ)*10000)\n",
    "\n",
    "        obs = pm.Binomial('obs', n=n, p=π, observed=tumors)\n",
    "        \n",
    "    return model"
   ]
  },
  {
   "cell_type": "code",
   "execution_count": 15,
   "metadata": {},
   "outputs": [],
   "source": [
    "prospective_mask = old_pritts.design=='Prospective'\n",
    "\n",
    "pritts_prospective = original_model(old_pritts[prospective_mask])\n",
    "pritts_retrospective = original_model(old_pritts[~prospective_mask])"
   ]
  },
  {
   "cell_type": "code",
   "execution_count": 16,
   "metadata": {},
   "outputs": [],
   "source": [
    "iterations = 2000\n",
    "tune = 3000"
   ]
  },
  {
   "cell_type": "markdown",
   "metadata": {},
   "source": [
    "Here's the prospective model:"
   ]
  },
  {
   "cell_type": "code",
   "execution_count": 17,
   "metadata": {
    "scrolled": true
   },
   "outputs": [
    {
     "name": "stderr",
     "output_type": "stream",
     "text": [
      "Auto-assigning NUTS sampler...\n",
      "Initializing NUTS using jitter+adapt_diag...\n",
      " 96%|█████████▌| 4793/5000 [01:19<00:03, 64.39it/s]/Users/fonnescj/Repos/pymc3/pymc3/step_methods/hmc/nuts.py:468: UserWarning: Chain 3 contains 1 diverging samples after tuning. If increasing `target_accept` does not help try to reparameterize.\n",
      "  % (self._chain_id, n_diverging))\n",
      "100%|█████████▉| 4980/5000 [01:21<00:00, 95.21it/s]/Users/fonnescj/Repos/pymc3/pymc3/step_methods/hmc/nuts.py:468: UserWarning: Chain 1 contains 2 diverging samples after tuning. If increasing `target_accept` does not help try to reparameterize.\n",
      "  % (self._chain_id, n_diverging))\n",
      "100%|██████████| 5000/5000 [01:22<00:00, 88.49it/s]/Users/fonnescj/Repos/pymc3/pymc3/step_methods/hmc/nuts.py:468: UserWarning: Chain 0 contains 2 diverging samples after tuning. If increasing `target_accept` does not help try to reparameterize.\n",
      "  % (self._chain_id, n_diverging))\n",
      "\n"
     ]
    }
   ],
   "source": [
    "with pritts_prospective:\n",
    "    prospective_trace = pm.sample(iterations, njobs=4, tune=tune, \n",
    "                                  random_seed=rseeds, nuts_kwargs={'target_accept': 0.9})"
   ]
  },
  {
   "cell_type": "code",
   "execution_count": 18,
   "metadata": {},
   "outputs": [
    {
     "data": {
      "text/plain": [
       "<matplotlib.axes._subplots.AxesSubplot at 0x115751630>"
      ]
     },
     "execution_count": 18,
     "metadata": {},
     "output_type": "execute_result"
    },
    {
     "data": {
      "image/png": "[encoded data removed]",
      "text/plain": [
       "<matplotlib.figure.Figure at 0x1150de6d8>"
      ]
     },
     "metadata": {},
     "output_type": "display_data"
    }
   ],
   "source": [
    "pm.energyplot(prospective_trace)"
   ]
  },
  {
   "cell_type": "code",
   "execution_count": 19,
   "metadata": {
    "scrolled": false
   },
   "outputs": [
    {
     "data": {
      "text/html": [
       "<div>\n",
       "<style>\n",
       "    .dataframe thead tr:only-child th {\n",
       "        text-align: right;\n",
       "    }\n",
       "\n",
       "    .dataframe thead th {\n",
       "        text-align: left;\n",
       "    }\n",
       "\n",
       "    .dataframe tbody tr th {\n",
       "        vertical-align: top;\n",
       "    }\n",
       "</style>\n",
       "<table border=\"1\" class=\"dataframe\">\n",
       "  <thead>\n",
       "    <tr style=\"text-align: right;\">\n",
       "      <th></th>\n",
       "      <th>mean</th>\n",
       "      <th>sd</th>\n",
       "      <th>mc_error</th>\n",
       "      <th>hpd_2.5</th>\n",
       "      <th>hpd_97.5</th>\n",
       "      <th>n_eff</th>\n",
       "      <th>Rhat</th>\n",
       "    </tr>\n",
       "  </thead>\n",
       "  <tbody>\n",
       "    <tr>\n",
       "      <th>p_10000</th>\n",
       "      <td>2.0512</td>\n",
       "      <td>3.3434</td>\n",
       "      <td>0.0583</td>\n",
       "      <td>0.0000</td>\n",
       "      <td>9.2662</td>\n",
       "      <td>3314.0</td>\n",
       "      <td>1.0007</td>\n",
       "    </tr>\n",
       "    <tr>\n",
       "      <th>μ</th>\n",
       "      <td>-11.4971</td>\n",
       "      <td>4.3495</td>\n",
       "      <td>0.0753</td>\n",
       "      <td>-20.5955</td>\n",
       "      <td>-6.2711</td>\n",
       "      <td>2475.0</td>\n",
       "      <td>1.0015</td>\n",
       "    </tr>\n",
       "    <tr>\n",
       "      <th>σ</th>\n",
       "      <td>3.3870</td>\n",
       "      <td>2.5455</td>\n",
       "      <td>0.0470</td>\n",
       "      <td>0.0010</td>\n",
       "      <td>8.6577</td>\n",
       "      <td>2258.0</td>\n",
       "      <td>1.0011</td>\n",
       "    </tr>\n",
       "  </tbody>\n",
       "</table>\n",
       "</div>"
      ],
      "text/plain": [
       "            mean      sd  mc_error  hpd_2.5  hpd_97.5   n_eff    Rhat\n",
       "p_10000   2.0512  3.3434    0.0583   0.0000    9.2662  3314.0  1.0007\n",
       "μ       -11.4971  4.3495    0.0753 -20.5955   -6.2711  2475.0  1.0015\n",
       "σ         3.3870  2.5455    0.0470   0.0010    8.6577  2258.0  1.0011"
      ]
     },
     "execution_count": 19,
     "metadata": {},
     "output_type": "execute_result"
    }
   ],
   "source": [
    "pm.summary(prospective_trace, varnames=['p_10000', 'μ', 'σ']).round(4)"
   ]
  },
  {
   "cell_type": "markdown",
   "metadata": {},
   "source": [
    "The following plots are the distribution of samples from the posterior distributions for the expected (population) probability of tumor (`p_update`), the inverse-logit expected probability ($\\mu$) and the standard deviation of the probabilities on the inverse-logit scale ($\\sigma$)."
   ]
  },
  {
   "cell_type": "code",
   "execution_count": 20,
   "metadata": {},
   "outputs": [
    {
     "data": {
      "image/png": "[encoded data removed]",
      "text/plain": [
       "<matplotlib.figure.Figure at 0x112c3a860>"
      ]
     },
     "metadata": {},
     "output_type": "display_data"
    }
   ],
   "source": [
    "pm.forestplot(prospective_trace, varnames=['p_10000', 'μ', 'σ']);"
   ]
  },
  {
   "cell_type": "markdown",
   "metadata": {},
   "source": [
    "Here's the retrospective model:"
   ]
  },
  {
   "cell_type": "code",
   "execution_count": 21,
   "metadata": {},
   "outputs": [
    {
     "name": "stderr",
     "output_type": "stream",
     "text": [
      "Auto-assigning NUTS sampler...\n",
      "Initializing NUTS using jitter+adapt_diag...\n",
      " 97%|█████████▋| 4857/5000 [00:33<00:00, 207.46it/s]/Users/fonnescj/Repos/pymc3/pymc3/step_methods/hmc/nuts.py:468: UserWarning: Chain 3 contains 4 diverging samples after tuning. If increasing `target_accept` does not help try to reparameterize.\n",
      "  % (self._chain_id, n_diverging))\n",
      "100%|█████████▉| 4998/5000 [00:33<00:00, 231.64it/s]/Users/fonnescj/Repos/pymc3/pymc3/step_methods/hmc/nuts.py:468: UserWarning: Chain 0 contains 2 diverging samples after tuning. If increasing `target_accept` does not help try to reparameterize.\n",
      "  % (self._chain_id, n_diverging))\n",
      "100%|██████████| 5000/5000 [00:33<00:00, 147.41it/s]\n",
      "/Users/fonnescj/Repos/pymc3/pymc3/step_methods/hmc/nuts.py:468: UserWarning: Chain 1 contains 4 diverging samples after tuning. If increasing `target_accept` does not help try to reparameterize.\n",
      "  % (self._chain_id, n_diverging))\n"
     ]
    }
   ],
   "source": [
    "with pritts_retrospective:\n",
    "    retrospective_trace = pm.sample(iterations, njobs=4, tune=tune, random_seed=rseeds, \n",
    "                                    nuts_kwargs={'target_accept': 0.9})"
   ]
  },
  {
   "cell_type": "code",
   "execution_count": 22,
   "metadata": {},
   "outputs": [
    {
     "data": {
      "text/html": [
       "<div>\n",
       "<style>\n",
       "    .dataframe thead tr:only-child th {\n",
       "        text-align: right;\n",
       "    }\n",
       "\n",
       "    .dataframe thead th {\n",
       "        text-align: left;\n",
       "    }\n",
       "\n",
       "    .dataframe tbody tr th {\n",
       "        vertical-align: top;\n",
       "    }\n",
       "</style>\n",
       "<table border=\"1\" class=\"dataframe\">\n",
       "  <thead>\n",
       "    <tr style=\"text-align: right;\">\n",
       "      <th></th>\n",
       "      <th>mean</th>\n",
       "      <th>sd</th>\n",
       "      <th>mc_error</th>\n",
       "      <th>hpd_2.5</th>\n",
       "      <th>hpd_97.5</th>\n",
       "      <th>n_eff</th>\n",
       "      <th>Rhat</th>\n",
       "    </tr>\n",
       "  </thead>\n",
       "  <tbody>\n",
       "    <tr>\n",
       "      <th>p_10000</th>\n",
       "      <td>5.0735</td>\n",
       "      <td>2.3279</td>\n",
       "      <td>0.0490</td>\n",
       "      <td>0.8434</td>\n",
       "      <td>9.5967</td>\n",
       "      <td>2208.0</td>\n",
       "      <td>0.9998</td>\n",
       "    </tr>\n",
       "    <tr>\n",
       "      <th>μ</th>\n",
       "      <td>-7.7089</td>\n",
       "      <td>0.5378</td>\n",
       "      <td>0.0136</td>\n",
       "      <td>-8.7342</td>\n",
       "      <td>-6.7475</td>\n",
       "      <td>1525.0</td>\n",
       "      <td>0.9999</td>\n",
       "    </tr>\n",
       "    <tr>\n",
       "      <th>σ</th>\n",
       "      <td>1.1657</td>\n",
       "      <td>0.4236</td>\n",
       "      <td>0.0109</td>\n",
       "      <td>0.3955</td>\n",
       "      <td>2.0000</td>\n",
       "      <td>1416.0</td>\n",
       "      <td>0.9998</td>\n",
       "    </tr>\n",
       "  </tbody>\n",
       "</table>\n",
       "</div>"
      ],
      "text/plain": [
       "           mean      sd  mc_error  hpd_2.5  hpd_97.5   n_eff    Rhat\n",
       "p_10000  5.0735  2.3279    0.0490   0.8434    9.5967  2208.0  0.9998\n",
       "μ       -7.7089  0.5378    0.0136  -8.7342   -6.7475  1525.0  0.9999\n",
       "σ        1.1657  0.4236    0.0109   0.3955    2.0000  1416.0  0.9998"
      ]
     },
     "execution_count": 22,
     "metadata": {},
     "output_type": "execute_result"
    }
   ],
   "source": [
    "pm.summary(retrospective_trace, varnames=['p_10000', 'μ', 'σ']).round(4)"
   ]
  },
  {
   "cell_type": "code",
   "execution_count": 23,
   "metadata": {},
   "outputs": [
    {
     "data": {
      "image/png": "[encoded data removed]",
      "text/plain": [
       "<matplotlib.figure.Figure at 0x117b909b0>"
      ]
     },
     "metadata": {},
     "output_type": "display_data"
    }
   ],
   "source": [
    "pm.forestplot(retrospective_trace, varnames=['p_10000', 'μ', 'σ']);"
   ]
  },
  {
   "cell_type": "markdown",
   "metadata": {},
   "source": [
    "By comparison, estimates from Pritts' supplement:\n",
    "\n",
    "![pritts estimates](pritts_table.png)"
   ]
  },
  {
   "cell_type": "code",
   "execution_count": 26,
   "metadata": {},
   "outputs": [],
   "source": [
    "def pritts_plot(traces, title=''):\n",
    "    \n",
    "    intervals = [pm.stats.hpd(tr['p_10000']) for tr in traces]\n",
    "\n",
    "    meds = [np.mean(tr['p_10000']) for tr in traces]\n",
    "    upper = [i[1] - m for m,i in zip(meds, intervals)]\n",
    "    lower = [m - i[0] for m,i in zip(meds, intervals)]\n",
    "\n",
    "    plt.errorbar(np.arange(2)-0.1, meds, yerr=[lower, upper], fmt='s', label='Updated MA')\n",
    "    plt.errorbar(np.arange(2)+0.1, [5.7, 1.2], yerr=[[5.7-1.7, 1.2], [11.3 - 5.7,7.5 - 1.2]], \n",
    "                 color='r', fmt='D', label='Pritts MA', elinewidth=0.5)\n",
    "    plt.xticks(range(3), ['Retrospective', 'Prospective'])\n",
    "    plt.ylabel('Rate per 10,000 surgeries')\n",
    "    plt.xlim(-0.5, 1.5)\n",
    "    plt.title(title)\n",
    "    plt.legend();"
   ]
  },
  {
   "cell_type": "code",
   "execution_count": 27,
   "metadata": {},
   "outputs": [
    {
     "data": {
      "image/png": "[encoded data removed]",
      "text/plain": [
       "<matplotlib.figure.Figure at 0x118f6f400>"
      ]
     },
     "metadata": {},
     "output_type": "display_data"
    }
   ],
   "source": [
    "pritts_plot([retrospective_trace, prospective_trace], 'Original data')"
   ]
  },
  {
   "cell_type": "markdown",
   "metadata": {},
   "source": [
    "## Pritts Update\n",
    "\n",
    "This is the same Pritts model, but with updated data."
   ]
  },
  {
   "cell_type": "code",
   "execution_count": 28,
   "metadata": {},
   "outputs": [],
   "source": [
    "prospective_mask = updated_pritts.design=='Prospective'\n",
    "\n",
    "pritts_updated_prosp = original_model(updated_pritts[prospective_mask])\n",
    "pritts_updated_retro = original_model(updated_pritts[~prospective_mask])"
   ]
  },
  {
   "cell_type": "code",
   "execution_count": 29,
   "metadata": {},
   "outputs": [
    {
     "data": {
      "text/plain": [
       "(3648, 38)"
      ]
     },
     "execution_count": 29,
     "metadata": {},
     "output_type": "execute_result"
    }
   ],
   "source": [
    "updated_pritts[prospective_mask].Population.sum(), updated_pritts[prospective_mask].Population.shape[0]"
   ]
  },
  {
   "cell_type": "code",
   "execution_count": 30,
   "metadata": {},
   "outputs": [
    {
     "data": {
      "text/plain": [
       "(26504, 96)"
      ]
     },
     "execution_count": 30,
     "metadata": {},
     "output_type": "execute_result"
    }
   ],
   "source": [
    "updated_pritts[~prospective_mask].Population.sum(), updated_pritts[~prospective_mask].Population.shape[0]"
   ]
  },
  {
   "cell_type": "code",
   "execution_count": 31,
   "metadata": {},
   "outputs": [
    {
     "data": {
      "text/plain": [
       "(134, 18)"
      ]
     },
     "execution_count": 31,
     "metadata": {},
     "output_type": "execute_result"
    }
   ],
   "source": [
    "updated_pritts.shape"
   ]
  },
  {
   "cell_type": "code",
   "execution_count": 32,
   "metadata": {},
   "outputs": [
    {
     "name": "stderr",
     "output_type": "stream",
     "text": [
      "Auto-assigning NUTS sampler...\n",
      "Initializing NUTS using jitter+adapt_diag...\n",
      "100%|█████████▉| 4991/5000 [01:38<00:00, 79.64it/s]/Users/fonnescj/Repos/pymc3/pymc3/step_methods/hmc/nuts.py:468: UserWarning: Chain 0 contains 1 diverging samples after tuning. If increasing `target_accept` does not help try to reparameterize.\n",
      "  % (self._chain_id, n_diverging))\n",
      "100%|██████████| 5000/5000 [01:38<00:00, 50.85it/s]\n",
      "/Users/fonnescj/Repos/pymc3/pymc3/step_methods/hmc/nuts.py:468: UserWarning: Chain 3 contains 3 diverging samples after tuning. If increasing `target_accept` does not help try to reparameterize.\n",
      "  % (self._chain_id, n_diverging))\n"
     ]
    }
   ],
   "source": [
    "with pritts_updated_prosp:\n",
    "    updated_prosp_trace = pm.sample(iterations, tune=tune, njobs=4, random_seed=rseeds, \n",
    "                                    nuts_kwargs={'target_accept': 0.9})"
   ]
  },
  {
   "cell_type": "code",
   "execution_count": 33,
   "metadata": {},
   "outputs": [
    {
     "name": "stderr",
     "output_type": "stream",
     "text": [
      "Auto-assigning NUTS sampler...\n",
      "Initializing NUTS using jitter+adapt_diag...\n",
      " 96%|█████████▌| 4795/5000 [00:30<00:00, 260.62it/s]/Users/fonnescj/Repos/pymc3/pymc3/step_methods/hmc/nuts.py:468: UserWarning: Chain 1 contains 1 diverging samples after tuning. If increasing `target_accept` does not help try to reparameterize.\n",
      "  % (self._chain_id, n_diverging))\n",
      "100%|██████████| 5000/5000 [00:30<00:00, 163.06it/s]\n"
     ]
    }
   ],
   "source": [
    "with pritts_updated_retro:\n",
    "    updated_retro_trace = pm.sample(iterations, tune=tune, njobs=4, random_seed=rseeds, \n",
    "                                    nuts_kwargs={'target_accept': 0.9})"
   ]
  },
  {
   "cell_type": "code",
   "execution_count": 34,
   "metadata": {},
   "outputs": [
    {
     "data": {
      "image/png": "[encoded data removed]",
      "text/plain": [
       "<matplotlib.figure.Figure at 0x116c60dd8>"
      ]
     },
     "metadata": {},
     "output_type": "display_data"
    }
   ],
   "source": [
    "pritts_plot([updated_retro_trace, updated_prosp_trace], 'Updated data')"
   ]
  },
  {
   "cell_type": "markdown",
   "metadata": {},
   "source": [
    "### Prospective estimates"
   ]
  },
  {
   "cell_type": "code",
   "execution_count": 35,
   "metadata": {
    "scrolled": false
   },
   "outputs": [
    {
     "data": {
      "text/html": [
       "<div>\n",
       "<style>\n",
       "    .dataframe thead tr:only-child th {\n",
       "        text-align: right;\n",
       "    }\n",
       "\n",
       "    .dataframe thead th {\n",
       "        text-align: left;\n",
       "    }\n",
       "\n",
       "    .dataframe tbody tr th {\n",
       "        vertical-align: top;\n",
       "    }\n",
       "</style>\n",
       "<table border=\"1\" class=\"dataframe\">\n",
       "  <thead>\n",
       "    <tr style=\"text-align: right;\">\n",
       "      <th></th>\n",
       "      <th>mean</th>\n",
       "      <th>sd</th>\n",
       "      <th>mc_error</th>\n",
       "      <th>hpd_2.5</th>\n",
       "      <th>hpd_97.5</th>\n",
       "      <th>n_eff</th>\n",
       "      <th>Rhat</th>\n",
       "    </tr>\n",
       "  </thead>\n",
       "  <tbody>\n",
       "    <tr>\n",
       "      <th>p_10000</th>\n",
       "      <td>2.0840</td>\n",
       "      <td>3.4088</td>\n",
       "      <td>0.0573</td>\n",
       "      <td>0.0000</td>\n",
       "      <td>9.2599</td>\n",
       "      <td>3152.0</td>\n",
       "      <td>0.9998</td>\n",
       "    </tr>\n",
       "    <tr>\n",
       "      <th>μ</th>\n",
       "      <td>-11.5365</td>\n",
       "      <td>4.3977</td>\n",
       "      <td>0.0860</td>\n",
       "      <td>-20.6248</td>\n",
       "      <td>-6.1089</td>\n",
       "      <td>2061.0</td>\n",
       "      <td>1.0000</td>\n",
       "    </tr>\n",
       "    <tr>\n",
       "      <th>σ</th>\n",
       "      <td>3.4008</td>\n",
       "      <td>2.5531</td>\n",
       "      <td>0.0539</td>\n",
       "      <td>0.0001</td>\n",
       "      <td>8.6048</td>\n",
       "      <td>1884.0</td>\n",
       "      <td>1.0002</td>\n",
       "    </tr>\n",
       "  </tbody>\n",
       "</table>\n",
       "</div>"
      ],
      "text/plain": [
       "            mean      sd  mc_error  hpd_2.5  hpd_97.5   n_eff    Rhat\n",
       "p_10000   2.0840  3.4088    0.0573   0.0000    9.2599  3152.0  0.9998\n",
       "μ       -11.5365  4.3977    0.0860 -20.6248   -6.1089  2061.0  1.0000\n",
       "σ         3.4008  2.5531    0.0539   0.0001    8.6048  1884.0  1.0002"
      ]
     },
     "execution_count": 35,
     "metadata": {},
     "output_type": "execute_result"
    }
   ],
   "source": [
    "pm.summary(updated_prosp_trace, varnames=['p_10000', 'μ', 'σ']).round(4)"
   ]
  },
  {
   "cell_type": "markdown",
   "metadata": {},
   "source": [
    "### Retrospective estimates"
   ]
  },
  {
   "cell_type": "code",
   "execution_count": 36,
   "metadata": {},
   "outputs": [
    {
     "data": {
      "text/html": [
       "<div>\n",
       "<style>\n",
       "    .dataframe thead tr:only-child th {\n",
       "        text-align: right;\n",
       "    }\n",
       "\n",
       "    .dataframe thead th {\n",
       "        text-align: left;\n",
       "    }\n",
       "\n",
       "    .dataframe tbody tr th {\n",
       "        vertical-align: top;\n",
       "    }\n",
       "</style>\n",
       "<table border=\"1\" class=\"dataframe\">\n",
       "  <thead>\n",
       "    <tr style=\"text-align: right;\">\n",
       "      <th></th>\n",
       "      <th>mean</th>\n",
       "      <th>sd</th>\n",
       "      <th>mc_error</th>\n",
       "      <th>hpd_2.5</th>\n",
       "      <th>hpd_97.5</th>\n",
       "      <th>n_eff</th>\n",
       "      <th>Rhat</th>\n",
       "    </tr>\n",
       "  </thead>\n",
       "  <tbody>\n",
       "    <tr>\n",
       "      <th>p_10000</th>\n",
       "      <td>5.0858</td>\n",
       "      <td>2.2814</td>\n",
       "      <td>0.0478</td>\n",
       "      <td>0.9240</td>\n",
       "      <td>9.4244</td>\n",
       "      <td>1992.0</td>\n",
       "      <td>0.9999</td>\n",
       "    </tr>\n",
       "    <tr>\n",
       "      <th>μ</th>\n",
       "      <td>-7.6995</td>\n",
       "      <td>0.5178</td>\n",
       "      <td>0.0113</td>\n",
       "      <td>-8.7607</td>\n",
       "      <td>-6.8218</td>\n",
       "      <td>1710.0</td>\n",
       "      <td>1.0000</td>\n",
       "    </tr>\n",
       "    <tr>\n",
       "      <th>σ</th>\n",
       "      <td>1.1595</td>\n",
       "      <td>0.4053</td>\n",
       "      <td>0.0095</td>\n",
       "      <td>0.4417</td>\n",
       "      <td>1.9655</td>\n",
       "      <td>1606.0</td>\n",
       "      <td>0.9999</td>\n",
       "    </tr>\n",
       "  </tbody>\n",
       "</table>\n",
       "</div>"
      ],
      "text/plain": [
       "           mean      sd  mc_error  hpd_2.5  hpd_97.5   n_eff    Rhat\n",
       "p_10000  5.0858  2.2814    0.0478   0.9240    9.4244  1992.0  0.9999\n",
       "μ       -7.6995  0.5178    0.0113  -8.7607   -6.8218  1710.0  1.0000\n",
       "σ        1.1595  0.4053    0.0095   0.4417    1.9655  1606.0  0.9999"
      ]
     },
     "execution_count": 36,
     "metadata": {},
     "output_type": "execute_result"
    }
   ],
   "source": [
    "pm.summary(updated_retro_trace, varnames=['p_10000', 'μ', 'σ']).round(4)"
   ]
  },
  {
   "cell_type": "markdown",
   "metadata": {},
   "source": [
    "## Pritts update with EPC includes"
   ]
  },
  {
   "cell_type": "code",
   "execution_count": 37,
   "metadata": {},
   "outputs": [],
   "source": [
    "prospective_mask = all_data.design=='Prospective'\n",
    "\n",
    "pritts_epc_prospective = original_model(all_data[prospective_mask])\n",
    "pritts_epc_retrospective = original_model(all_data[~prospective_mask])"
   ]
  },
  {
   "cell_type": "code",
   "execution_count": 38,
   "metadata": {},
   "outputs": [
    {
     "data": {
      "text/plain": [
       "(3673, 40)"
      ]
     },
     "execution_count": 38,
     "metadata": {},
     "output_type": "execute_result"
    }
   ],
   "source": [
    "all_data[prospective_mask].Population.sum(), all_data[prospective_mask].Population.shape[0]"
   ]
  },
  {
   "cell_type": "code",
   "execution_count": 39,
   "metadata": {},
   "outputs": [
    {
     "data": {
      "text/plain": [
       "(127907, 121)"
      ]
     },
     "execution_count": 39,
     "metadata": {},
     "output_type": "execute_result"
    }
   ],
   "source": [
    "all_data[~prospective_mask].Population.sum(), all_data[~prospective_mask].Population.shape[0]"
   ]
  },
  {
   "cell_type": "code",
   "execution_count": 40,
   "metadata": {},
   "outputs": [
    {
     "data": {
      "text/plain": [
       "(161, 18)"
      ]
     },
     "execution_count": 40,
     "metadata": {},
     "output_type": "execute_result"
    }
   ],
   "source": [
    "all_data.shape"
   ]
  },
  {
   "cell_type": "code",
   "execution_count": 41,
   "metadata": {},
   "outputs": [
    {
     "name": "stderr",
     "output_type": "stream",
     "text": [
      "Auto-assigning NUTS sampler...\n",
      "Initializing NUTS using jitter+adapt_diag...\n",
      "100%|██████████| 5000/5000 [00:55<00:00, 90.19it/s] \n",
      "/Users/fonnescj/Repos/pymc3/pymc3/step_methods/hmc/nuts.py:468: UserWarning: Chain 3 contains 1 diverging samples after tuning. If increasing `target_accept` does not help try to reparameterize.\n",
      "  % (self._chain_id, n_diverging))\n"
     ]
    }
   ],
   "source": [
    "with pritts_epc_retrospective:\n",
    "    epc_retrospective_trace = pm.sample(iterations, tune=tune, njobs=4, random_seed=rseeds, \n",
    "                                    nuts_kwargs={'target_accept': 0.9})"
   ]
  },
  {
   "cell_type": "code",
   "execution_count": 42,
   "metadata": {},
   "outputs": [
    {
     "name": "stderr",
     "output_type": "stream",
     "text": [
      "Auto-assigning NUTS sampler...\n",
      "Initializing NUTS using jitter+adapt_diag...\n",
      " 99%|█████████▉| 4968/5000 [01:34<00:00, 57.69it/s]/Users/fonnescj/Repos/pymc3/pymc3/step_methods/hmc/nuts.py:452: UserWarning: The acceptance probability in chain 2 does not match the target. It is 0.766221309231, but should be close to 0.9. Try to increase the number of tuning steps.\n",
      "  % (self._chain_id, mean_accept, target_accept))\n",
      "/Users/fonnescj/Repos/pymc3/pymc3/step_methods/hmc/nuts.py:468: UserWarning: Chain 2 contains 49 diverging samples after tuning. If increasing `target_accept` does not help try to reparameterize.\n",
      "  % (self._chain_id, n_diverging))\n",
      "100%|█████████▉| 4995/5000 [01:34<00:00, 58.58it/s]/Users/fonnescj/Repos/pymc3/pymc3/step_methods/hmc/nuts.py:452: UserWarning: The acceptance probability in chain 0 does not match the target. It is 0.821708450588, but should be close to 0.9. Try to increase the number of tuning steps.\n",
      "  % (self._chain_id, mean_accept, target_accept))\n",
      "/Users/fonnescj/Repos/pymc3/pymc3/step_methods/hmc/nuts.py:468: UserWarning: Chain 0 contains 18 diverging samples after tuning. If increasing `target_accept` does not help try to reparameterize.\n",
      "  % (self._chain_id, n_diverging))\n",
      "100%|██████████| 5000/5000 [01:34<00:00, 52.77it/s]\n",
      "/Users/fonnescj/Repos/pymc3/pymc3/step_methods/hmc/nuts.py:468: UserWarning: Chain 3 contains 3 diverging samples after tuning. If increasing `target_accept` does not help try to reparameterize.\n",
      "  % (self._chain_id, n_diverging))\n"
     ]
    }
   ],
   "source": [
    "with pritts_epc_prospective:\n",
    "    epc_prospective_trace = pm.sample(iterations, tune=tune, njobs=4, random_seed=rseeds, \n",
    "                                    nuts_kwargs={'target_accept': 0.9})"
   ]
  },
  {
   "cell_type": "code",
   "execution_count": 43,
   "metadata": {
    "scrolled": false
   },
   "outputs": [
    {
     "data": {
      "image/png": "[encoded data removed]",
      "text/plain": [
       "<matplotlib.figure.Figure at 0x11c7dc9b0>"
      ]
     },
     "metadata": {},
     "output_type": "display_data"
    }
   ],
   "source": [
    "pritts_plot([epc_retrospective_trace, epc_prospective_trace], 'Updated with EPC Includes')"
   ]
  },
  {
   "cell_type": "markdown",
   "metadata": {},
   "source": [
    "### Prospective estimates"
   ]
  },
  {
   "cell_type": "code",
   "execution_count": 44,
   "metadata": {},
   "outputs": [
    {
     "data": {
      "text/html": [
       "<div>\n",
       "<style>\n",
       "    .dataframe thead tr:only-child th {\n",
       "        text-align: right;\n",
       "    }\n",
       "\n",
       "    .dataframe thead th {\n",
       "        text-align: left;\n",
       "    }\n",
       "\n",
       "    .dataframe tbody tr th {\n",
       "        vertical-align: top;\n",
       "    }\n",
       "</style>\n",
       "<table border=\"1\" class=\"dataframe\">\n",
       "  <thead>\n",
       "    <tr style=\"text-align: right;\">\n",
       "      <th></th>\n",
       "      <th>mean</th>\n",
       "      <th>sd</th>\n",
       "      <th>mc_error</th>\n",
       "      <th>hpd_2.5</th>\n",
       "      <th>hpd_97.5</th>\n",
       "      <th>n_eff</th>\n",
       "      <th>Rhat</th>\n",
       "    </tr>\n",
       "  </thead>\n",
       "  <tbody>\n",
       "    <tr>\n",
       "      <th>p_10000</th>\n",
       "      <td>2.0952</td>\n",
       "      <td>3.3960</td>\n",
       "      <td>0.0548</td>\n",
       "      <td>0.0000</td>\n",
       "      <td>9.4616</td>\n",
       "      <td>3392.0</td>\n",
       "      <td>1.0005</td>\n",
       "    </tr>\n",
       "    <tr>\n",
       "      <th>μ</th>\n",
       "      <td>-11.5384</td>\n",
       "      <td>4.4344</td>\n",
       "      <td>0.0852</td>\n",
       "      <td>-21.0328</td>\n",
       "      <td>-6.1916</td>\n",
       "      <td>2175.0</td>\n",
       "      <td>1.0001</td>\n",
       "    </tr>\n",
       "    <tr>\n",
       "      <th>σ</th>\n",
       "      <td>3.3701</td>\n",
       "      <td>2.5463</td>\n",
       "      <td>0.0495</td>\n",
       "      <td>0.0005</td>\n",
       "      <td>8.5815</td>\n",
       "      <td>2122.0</td>\n",
       "      <td>1.0003</td>\n",
       "    </tr>\n",
       "  </tbody>\n",
       "</table>\n",
       "</div>"
      ],
      "text/plain": [
       "            mean      sd  mc_error  hpd_2.5  hpd_97.5   n_eff    Rhat\n",
       "p_10000   2.0952  3.3960    0.0548   0.0000    9.4616  3392.0  1.0005\n",
       "μ       -11.5384  4.4344    0.0852 -21.0328   -6.1916  2175.0  1.0001\n",
       "σ         3.3701  2.5463    0.0495   0.0005    8.5815  2122.0  1.0003"
      ]
     },
     "execution_count": 44,
     "metadata": {},
     "output_type": "execute_result"
    }
   ],
   "source": [
    "pm.summary(epc_prospective_trace, varnames=['p_10000', 'μ', 'σ']).round(4)"
   ]
  },
  {
   "cell_type": "markdown",
   "metadata": {},
   "source": [
    "### Retrospective estimates"
   ]
  },
  {
   "cell_type": "code",
   "execution_count": 45,
   "metadata": {},
   "outputs": [
    {
     "data": {
      "text/html": [
       "<div>\n",
       "<style>\n",
       "    .dataframe thead tr:only-child th {\n",
       "        text-align: right;\n",
       "    }\n",
       "\n",
       "    .dataframe thead th {\n",
       "        text-align: left;\n",
       "    }\n",
       "\n",
       "    .dataframe tbody tr th {\n",
       "        vertical-align: top;\n",
       "    }\n",
       "</style>\n",
       "<table border=\"1\" class=\"dataframe\">\n",
       "  <thead>\n",
       "    <tr style=\"text-align: right;\">\n",
       "      <th></th>\n",
       "      <th>mean</th>\n",
       "      <th>sd</th>\n",
       "      <th>mc_error</th>\n",
       "      <th>hpd_2.5</th>\n",
       "      <th>hpd_97.5</th>\n",
       "      <th>n_eff</th>\n",
       "      <th>Rhat</th>\n",
       "    </tr>\n",
       "  </thead>\n",
       "  <tbody>\n",
       "    <tr>\n",
       "      <th>p_10000</th>\n",
       "      <td>8.5961</td>\n",
       "      <td>2.0419</td>\n",
       "      <td>0.0376</td>\n",
       "      <td>4.7202</td>\n",
       "      <td>12.6752</td>\n",
       "      <td>3009.0</td>\n",
       "      <td>0.9998</td>\n",
       "    </tr>\n",
       "    <tr>\n",
       "      <th>μ</th>\n",
       "      <td>-7.0878</td>\n",
       "      <td>0.2495</td>\n",
       "      <td>0.0048</td>\n",
       "      <td>-7.5820</td>\n",
       "      <td>-6.6193</td>\n",
       "      <td>2730.0</td>\n",
       "      <td>0.9998</td>\n",
       "    </tr>\n",
       "    <tr>\n",
       "      <th>σ</th>\n",
       "      <td>1.0992</td>\n",
       "      <td>0.1910</td>\n",
       "      <td>0.0033</td>\n",
       "      <td>0.7597</td>\n",
       "      <td>1.4826</td>\n",
       "      <td>2689.0</td>\n",
       "      <td>1.0000</td>\n",
       "    </tr>\n",
       "  </tbody>\n",
       "</table>\n",
       "</div>"
      ],
      "text/plain": [
       "           mean      sd  mc_error  hpd_2.5  hpd_97.5   n_eff    Rhat\n",
       "p_10000  8.5961  2.0419    0.0376   4.7202   12.6752  3009.0  0.9998\n",
       "μ       -7.0878  0.2495    0.0048  -7.5820   -6.6193  2730.0  0.9998\n",
       "σ        1.0992  0.1910    0.0033   0.7597    1.4826  2689.0  1.0000"
      ]
     },
     "execution_count": 45,
     "metadata": {},
     "output_type": "execute_result"
    }
   ],
   "source": [
    "pm.summary(epc_retrospective_trace, varnames=['p_10000', 'μ', 'σ']).round(4)"
   ]
  },
  {
   "cell_type": "markdown",
   "metadata": {},
   "source": [
    "## No hysteroscopy subset\n",
    "\n",
    "Remove studies that used hysteroscopy"
   ]
  },
  {
   "cell_type": "code",
   "execution_count": 46,
   "metadata": {},
   "outputs": [
    {
     "data": {
      "text/plain": [
       "no     125\n",
       "yes     36\n",
       "Name: Hysteroscopy, dtype: int64"
      ]
     },
     "execution_count": 46,
     "metadata": {},
     "output_type": "execute_result"
    }
   ],
   "source": [
    "all_data.Hysteroscopy.value_counts()"
   ]
  },
  {
   "cell_type": "code",
   "execution_count": 47,
   "metadata": {},
   "outputs": [
    {
     "data": {
      "text/plain": [
       "(28, 18)"
      ]
     },
     "execution_count": 47,
     "metadata": {},
     "output_type": "execute_result"
    }
   ],
   "source": [
    "hysteroscopy_mask = all_data.Hysteroscopy=='no'\n",
    "\n",
    "all_data[prospective_mask & hysteroscopy_mask].shape"
   ]
  },
  {
   "cell_type": "code",
   "execution_count": 48,
   "metadata": {},
   "outputs": [
    {
     "data": {
      "text/plain": [
       "(97, 18)"
      ]
     },
     "execution_count": 48,
     "metadata": {},
     "output_type": "execute_result"
    }
   ],
   "source": [
    "all_data[(~prospective_mask) & hysteroscopy_mask].shape"
   ]
  },
  {
   "cell_type": "code",
   "execution_count": 49,
   "metadata": {},
   "outputs": [],
   "source": [
    "no_hysteroscopy_prospective = original_model(all_data[prospective_mask & hysteroscopy_mask])\n",
    "no_hysteroscopy_retrospective = original_model(all_data[(~prospective_mask) & hysteroscopy_mask])"
   ]
  },
  {
   "cell_type": "code",
   "execution_count": 50,
   "metadata": {
    "scrolled": false
   },
   "outputs": [
    {
     "data": {
      "text/html": [
       "<div>\n",
       "<style>\n",
       "    .dataframe thead tr:only-child th {\n",
       "        text-align: right;\n",
       "    }\n",
       "\n",
       "    .dataframe thead th {\n",
       "        text-align: left;\n",
       "    }\n",
       "\n",
       "    .dataframe tbody tr th {\n",
       "        vertical-align: top;\n",
       "    }\n",
       "</style>\n",
       "<table border=\"1\" class=\"dataframe\">\n",
       "  <thead>\n",
       "    <tr style=\"text-align: right;\">\n",
       "      <th>Hysteroscopy</th>\n",
       "      <th>no</th>\n",
       "      <th>yes</th>\n",
       "    </tr>\n",
       "    <tr>\n",
       "      <th>Prospective</th>\n",
       "      <th></th>\n",
       "      <th></th>\n",
       "    </tr>\n",
       "  </thead>\n",
       "  <tbody>\n",
       "    <tr>\n",
       "      <th>0</th>\n",
       "      <td>2.72</td>\n",
       "      <td>4.50</td>\n",
       "    </tr>\n",
       "    <tr>\n",
       "      <th>1</th>\n",
       "      <td>0.00</td>\n",
       "      <td>0.21</td>\n",
       "    </tr>\n",
       "  </tbody>\n",
       "</table>\n",
       "</div>"
      ],
      "text/plain": [
       "Hysteroscopy    no   yes\n",
       "Prospective             \n",
       "0             2.72  4.50\n",
       "1             0.00  0.21"
      ]
     },
     "execution_count": 50,
     "metadata": {},
     "output_type": "execute_result"
    }
   ],
   "source": [
    "all_data.pivot_table(index='Prospective', columns='Hysteroscopy', values='Tumors').round(2)"
   ]
  },
  {
   "cell_type": "code",
   "execution_count": 51,
   "metadata": {},
   "outputs": [
    {
     "name": "stderr",
     "output_type": "stream",
     "text": [
      "Auto-assigning NUTS sampler...\n",
      "Initializing NUTS using jitter+adapt_diag...\n",
      "100%|██████████| 5000/5000 [00:52<00:00, 95.43it/s] \n",
      "/Users/fonnescj/Repos/pymc3/pymc3/step_methods/hmc/nuts.py:468: UserWarning: Chain 2 contains 1 diverging samples after tuning. If increasing `target_accept` does not help try to reparameterize.\n",
      "  % (self._chain_id, n_diverging))\n"
     ]
    }
   ],
   "source": [
    "with no_hysteroscopy_retrospective:\n",
    "    hyst_retrospective_trace = pm.sample(iterations, njobs=4, tune=tune, random_seed=rseeds, \n",
    "                                    nuts_kwargs={'target_accept': 0.9})"
   ]
  },
  {
   "cell_type": "markdown",
   "metadata": {},
   "source": [
    "### Retrospective estimates"
   ]
  },
  {
   "cell_type": "code",
   "execution_count": 53,
   "metadata": {},
   "outputs": [
    {
     "data": {
      "text/plain": [
       "<matplotlib.gridspec.GridSpec at 0x123500b00>"
      ]
     },
     "execution_count": 53,
     "metadata": {},
     "output_type": "execute_result"
    },
    {
     "data": {
      "image/png": "[encoded data removed]",
      "text/plain": [
       "<matplotlib.figure.Figure at 0x123500080>"
      ]
     },
     "metadata": {},
     "output_type": "display_data"
    }
   ],
   "source": [
    "pm.forestplot(hyst_retrospective_trace, varnames=['p_10000', 'μ', 'σ'])"
   ]
  },
  {
   "cell_type": "code",
   "execution_count": 54,
   "metadata": {},
   "outputs": [
    {
     "data": {
      "text/html": [
       "<div>\n",
       "<style>\n",
       "    .dataframe thead tr:only-child th {\n",
       "        text-align: right;\n",
       "    }\n",
       "\n",
       "    .dataframe thead th {\n",
       "        text-align: left;\n",
       "    }\n",
       "\n",
       "    .dataframe tbody tr th {\n",
       "        vertical-align: top;\n",
       "    }\n",
       "</style>\n",
       "<table border=\"1\" class=\"dataframe\">\n",
       "  <thead>\n",
       "    <tr style=\"text-align: right;\">\n",
       "      <th></th>\n",
       "      <th>mean</th>\n",
       "      <th>sd</th>\n",
       "      <th>mc_error</th>\n",
       "      <th>hpd_2.5</th>\n",
       "      <th>hpd_97.5</th>\n",
       "      <th>n_eff</th>\n",
       "      <th>Rhat</th>\n",
       "    </tr>\n",
       "  </thead>\n",
       "  <tbody>\n",
       "    <tr>\n",
       "      <th>p_10000</th>\n",
       "      <td>7.2161</td>\n",
       "      <td>2.2024</td>\n",
       "      <td>0.0421</td>\n",
       "      <td>3.0887</td>\n",
       "      <td>11.4843</td>\n",
       "      <td>2613.0</td>\n",
       "      <td>1.0008</td>\n",
       "    </tr>\n",
       "    <tr>\n",
       "      <th>μ</th>\n",
       "      <td>-7.2824</td>\n",
       "      <td>0.3222</td>\n",
       "      <td>0.0064</td>\n",
       "      <td>-7.9291</td>\n",
       "      <td>-6.6961</td>\n",
       "      <td>2499.0</td>\n",
       "      <td>1.0011</td>\n",
       "    </tr>\n",
       "    <tr>\n",
       "      <th>σ</th>\n",
       "      <td>1.2568</td>\n",
       "      <td>0.2398</td>\n",
       "      <td>0.0047</td>\n",
       "      <td>0.8286</td>\n",
       "      <td>1.7395</td>\n",
       "      <td>2781.0</td>\n",
       "      <td>1.0009</td>\n",
       "    </tr>\n",
       "  </tbody>\n",
       "</table>\n",
       "</div>"
      ],
      "text/plain": [
       "           mean      sd  mc_error  hpd_2.5  hpd_97.5   n_eff    Rhat\n",
       "p_10000  7.2161  2.2024    0.0421   3.0887   11.4843  2613.0  1.0008\n",
       "μ       -7.2824  0.3222    0.0064  -7.9291   -6.6961  2499.0  1.0011\n",
       "σ        1.2568  0.2398    0.0047   0.8286    1.7395  2781.0  1.0009"
      ]
     },
     "execution_count": 54,
     "metadata": {},
     "output_type": "execute_result"
    }
   ],
   "source": [
    "pm.summary(hyst_retrospective_trace, varnames=['p_10000', 'μ', 'σ']).round(4)"
   ]
  },
  {
   "cell_type": "code",
   "execution_count": 55,
   "metadata": {
    "scrolled": false
   },
   "outputs": [
    {
     "name": "stderr",
     "output_type": "stream",
     "text": [
      "Auto-assigning NUTS sampler...\n",
      "Initializing NUTS using jitter+adapt_diag...\n",
      " 91%|█████████▏| 4573/5000 [02:45<00:15, 27.29it/s]/Users/fonnescj/Repos/pymc3/pymc3/step_methods/hmc/nuts.py:468: UserWarning: Chain 1 contains 51 diverging samples after tuning. If increasing `target_accept` does not help try to reparameterize.\n",
      "  % (self._chain_id, n_diverging))\n",
      " 97%|█████████▋| 4837/5000 [02:52<00:04, 39.27it/s]/Users/fonnescj/Repos/pymc3/pymc3/step_methods/hmc/nuts.py:468: UserWarning: Chain 2 contains 34 diverging samples after tuning. If increasing `target_accept` does not help try to reparameterize.\n",
      "  % (self._chain_id, n_diverging))\n",
      "100%|█████████▉| 4996/5000 [02:56<00:00, 38.40it/s]/Users/fonnescj/Repos/pymc3/pymc3/step_methods/hmc/nuts.py:468: UserWarning: Chain 3 contains 4 diverging samples after tuning. If increasing `target_accept` does not help try to reparameterize.\n",
      "  % (self._chain_id, n_diverging))\n",
      "/Users/fonnescj/Repos/pymc3/pymc3/step_methods/hmc/nuts.py:468: UserWarning: Chain 0 contains 10 diverging samples after tuning. If increasing `target_accept` does not help try to reparameterize.\n",
      "  % (self._chain_id, n_diverging))\n",
      "100%|██████████| 5000/5000 [02:56<00:00, 28.27it/s]\n"
     ]
    }
   ],
   "source": [
    "with no_hysteroscopy_prospective:\n",
    "    hyst_prospective_trace = pm.sample(iterations, njobs=4, tune=tune, random_seed=rseeds, \n",
    "                                    nuts_kwargs={'target_accept': 0.9})"
   ]
  },
  {
   "cell_type": "markdown",
   "metadata": {},
   "source": [
    "Note that there were no tumors in this subset."
   ]
  },
  {
   "cell_type": "code",
   "execution_count": 56,
   "metadata": {
    "scrolled": false
   },
   "outputs": [
    {
     "data": {
      "text/html": [
       "<div>\n",
       "<style>\n",
       "    .dataframe thead tr:only-child th {\n",
       "        text-align: right;\n",
       "    }\n",
       "\n",
       "    .dataframe thead th {\n",
       "        text-align: left;\n",
       "    }\n",
       "\n",
       "    .dataframe tbody tr th {\n",
       "        vertical-align: top;\n",
       "    }\n",
       "</style>\n",
       "<table border=\"1\" class=\"dataframe\">\n",
       "  <thead>\n",
       "    <tr style=\"text-align: right;\">\n",
       "      <th></th>\n",
       "      <th>Tumors</th>\n",
       "      <th>Population</th>\n",
       "    </tr>\n",
       "    <tr>\n",
       "      <th>Line</th>\n",
       "      <th></th>\n",
       "      <th></th>\n",
       "    </tr>\n",
       "  </thead>\n",
       "  <tbody>\n",
       "    <tr>\n",
       "      <th>2.0</th>\n",
       "      <td>0</td>\n",
       "      <td>10</td>\n",
       "    </tr>\n",
       "    <tr>\n",
       "      <th>6.0</th>\n",
       "      <td>0</td>\n",
       "      <td>91</td>\n",
       "    </tr>\n",
       "    <tr>\n",
       "      <th>9.0</th>\n",
       "      <td>0</td>\n",
       "      <td>24</td>\n",
       "    </tr>\n",
       "    <tr>\n",
       "      <th>14.0</th>\n",
       "      <td>0</td>\n",
       "      <td>136</td>\n",
       "    </tr>\n",
       "    <tr>\n",
       "      <th>15.0</th>\n",
       "      <td>0</td>\n",
       "      <td>11</td>\n",
       "    </tr>\n",
       "    <tr>\n",
       "      <th>21.0</th>\n",
       "      <td>0</td>\n",
       "      <td>9</td>\n",
       "    </tr>\n",
       "    <tr>\n",
       "      <th>27.0</th>\n",
       "      <td>0</td>\n",
       "      <td>213</td>\n",
       "    </tr>\n",
       "    <tr>\n",
       "      <th>31.0</th>\n",
       "      <td>0</td>\n",
       "      <td>17</td>\n",
       "    </tr>\n",
       "    <tr>\n",
       "      <th>44.0</th>\n",
       "      <td>0</td>\n",
       "      <td>47</td>\n",
       "    </tr>\n",
       "    <tr>\n",
       "      <th>50.0</th>\n",
       "      <td>0</td>\n",
       "      <td>75</td>\n",
       "    </tr>\n",
       "    <tr>\n",
       "      <th>52.0</th>\n",
       "      <td>0</td>\n",
       "      <td>28</td>\n",
       "    </tr>\n",
       "    <tr>\n",
       "      <th>54.0</th>\n",
       "      <td>0</td>\n",
       "      <td>25</td>\n",
       "    </tr>\n",
       "    <tr>\n",
       "      <th>55.0</th>\n",
       "      <td>0</td>\n",
       "      <td>45</td>\n",
       "    </tr>\n",
       "    <tr>\n",
       "      <th>63.0</th>\n",
       "      <td>0</td>\n",
       "      <td>167</td>\n",
       "    </tr>\n",
       "    <tr>\n",
       "      <th>64.0</th>\n",
       "      <td>0</td>\n",
       "      <td>486</td>\n",
       "    </tr>\n",
       "    <tr>\n",
       "      <th>69.0</th>\n",
       "      <td>0</td>\n",
       "      <td>80</td>\n",
       "    </tr>\n",
       "    <tr>\n",
       "      <th>73.0</th>\n",
       "      <td>0</td>\n",
       "      <td>69</td>\n",
       "    </tr>\n",
       "    <tr>\n",
       "      <th>80.0</th>\n",
       "      <td>0</td>\n",
       "      <td>331</td>\n",
       "    </tr>\n",
       "    <tr>\n",
       "      <th>85.0</th>\n",
       "      <td>0</td>\n",
       "      <td>30</td>\n",
       "    </tr>\n",
       "    <tr>\n",
       "      <th>89.0</th>\n",
       "      <td>0</td>\n",
       "      <td>38</td>\n",
       "    </tr>\n",
       "    <tr>\n",
       "      <th>91.0</th>\n",
       "      <td>0</td>\n",
       "      <td>8</td>\n",
       "    </tr>\n",
       "    <tr>\n",
       "      <th>108.0</th>\n",
       "      <td>0</td>\n",
       "      <td>39</td>\n",
       "    </tr>\n",
       "    <tr>\n",
       "      <th>115.0</th>\n",
       "      <td>0</td>\n",
       "      <td>235</td>\n",
       "    </tr>\n",
       "    <tr>\n",
       "      <th>120.0</th>\n",
       "      <td>0</td>\n",
       "      <td>9</td>\n",
       "    </tr>\n",
       "    <tr>\n",
       "      <th>123.0</th>\n",
       "      <td>0</td>\n",
       "      <td>18</td>\n",
       "    </tr>\n",
       "    <tr>\n",
       "      <th>125.0</th>\n",
       "      <td>0</td>\n",
       "      <td>13</td>\n",
       "    </tr>\n",
       "    <tr>\n",
       "      <th>NaN</th>\n",
       "      <td>0</td>\n",
       "      <td>5</td>\n",
       "    </tr>\n",
       "    <tr>\n",
       "      <th>NaN</th>\n",
       "      <td>0</td>\n",
       "      <td>20</td>\n",
       "    </tr>\n",
       "  </tbody>\n",
       "</table>\n",
       "</div>"
      ],
      "text/plain": [
       "        Tumors  Population\n",
       "Line                      \n",
       " 2.0         0          10\n",
       " 6.0         0          91\n",
       " 9.0         0          24\n",
       " 14.0        0         136\n",
       " 15.0        0          11\n",
       " 21.0        0           9\n",
       " 27.0        0         213\n",
       " 31.0        0          17\n",
       " 44.0        0          47\n",
       " 50.0        0          75\n",
       " 52.0        0          28\n",
       " 54.0        0          25\n",
       " 55.0        0          45\n",
       " 63.0        0         167\n",
       " 64.0        0         486\n",
       " 69.0        0          80\n",
       " 73.0        0          69\n",
       " 80.0        0         331\n",
       " 85.0        0          30\n",
       " 89.0        0          38\n",
       " 91.0        0           8\n",
       " 108.0       0          39\n",
       " 115.0       0         235\n",
       " 120.0       0           9\n",
       " 123.0       0          18\n",
       " 125.0       0          13\n",
       "NaN          0           5\n",
       "NaN          0          20"
      ]
     },
     "execution_count": 56,
     "metadata": {},
     "output_type": "execute_result"
    }
   ],
   "source": [
    "all_data.loc[prospective_mask & hysteroscopy_mask, ['Tumors', 'Population']]"
   ]
  },
  {
   "cell_type": "markdown",
   "metadata": {},
   "source": [
    "### Prospective estimates"
   ]
  },
  {
   "cell_type": "code",
   "execution_count": 57,
   "metadata": {},
   "outputs": [
    {
     "data": {
      "text/plain": [
       "<matplotlib.gridspec.GridSpec at 0x12708ef98>"
      ]
     },
     "execution_count": 57,
     "metadata": {},
     "output_type": "execute_result"
    },
    {
     "data": {
      "image/png": "[encoded data removed]",
      "text/plain": [
       "<matplotlib.figure.Figure at 0x127000828>"
      ]
     },
     "metadata": {},
     "output_type": "display_data"
    }
   ],
   "source": [
    "pm.forestplot(hyst_prospective_trace, varnames=['p_10000', 'μ', 'σ'])"
   ]
  },
  {
   "cell_type": "code",
   "execution_count": 58,
   "metadata": {},
   "outputs": [
    {
     "data": {
      "text/html": [
       "<div>\n",
       "<style>\n",
       "    .dataframe thead tr:only-child th {\n",
       "        text-align: right;\n",
       "    }\n",
       "\n",
       "    .dataframe thead th {\n",
       "        text-align: left;\n",
       "    }\n",
       "\n",
       "    .dataframe tbody tr th {\n",
       "        vertical-align: top;\n",
       "    }\n",
       "</style>\n",
       "<table border=\"1\" class=\"dataframe\">\n",
       "  <thead>\n",
       "    <tr style=\"text-align: right;\">\n",
       "      <th></th>\n",
       "      <th>mean</th>\n",
       "      <th>sd</th>\n",
       "      <th>mc_error</th>\n",
       "      <th>hpd_2.5</th>\n",
       "      <th>hpd_97.5</th>\n",
       "      <th>n_eff</th>\n",
       "      <th>Rhat</th>\n",
       "    </tr>\n",
       "  </thead>\n",
       "  <tbody>\n",
       "    <tr>\n",
       "      <th>p_10000</th>\n",
       "      <td>0.0058</td>\n",
       "      <td>0.1319</td>\n",
       "      <td>0.0015</td>\n",
       "      <td>0.0000</td>\n",
       "      <td>0.0000</td>\n",
       "      <td>8000.0</td>\n",
       "      <td>1.0001</td>\n",
       "    </tr>\n",
       "    <tr>\n",
       "      <th>μ</th>\n",
       "      <td>-91.9598</td>\n",
       "      <td>59.3928</td>\n",
       "      <td>0.9833</td>\n",
       "      <td>-207.3655</td>\n",
       "      <td>-10.3243</td>\n",
       "      <td>2900.0</td>\n",
       "      <td>1.0004</td>\n",
       "    </tr>\n",
       "    <tr>\n",
       "      <th>σ</th>\n",
       "      <td>4.8702</td>\n",
       "      <td>2.8383</td>\n",
       "      <td>0.0285</td>\n",
       "      <td>0.1245</td>\n",
       "      <td>9.5018</td>\n",
       "      <td>8000.0</td>\n",
       "      <td>0.9998</td>\n",
       "    </tr>\n",
       "  </tbody>\n",
       "</table>\n",
       "</div>"
      ],
      "text/plain": [
       "            mean       sd  mc_error   hpd_2.5  hpd_97.5   n_eff    Rhat\n",
       "p_10000   0.0058   0.1319    0.0015    0.0000    0.0000  8000.0  1.0001\n",
       "μ       -91.9598  59.3928    0.9833 -207.3655  -10.3243  2900.0  1.0004\n",
       "σ         4.8702   2.8383    0.0285    0.1245    9.5018  8000.0  0.9998"
      ]
     },
     "execution_count": 58,
     "metadata": {},
     "output_type": "execute_result"
    }
   ],
   "source": [
    "pm.summary(hyst_prospective_trace, varnames=['p_10000', 'μ', 'σ']).round(4)"
   ]
  },
  {
   "cell_type": "code",
   "execution_count": 59,
   "metadata": {},
   "outputs": [
    {
     "data": {
      "image/png": "[encoded data removed]",
      "text/plain": [
       "<matplotlib.figure.Figure at 0x126ba37f0>"
      ]
     },
     "metadata": {},
     "output_type": "display_data"
    }
   ],
   "source": [
    "pritts_plot([hyst_retrospective_trace, hyst_prospective_trace], 'No Hysteroscopy Subset')"
   ]
  },
  {
   "cell_type": "markdown",
   "metadata": {},
   "source": [
    "## Confirmed histopathology subset\n",
    "\n",
    "Include only studies that had post-surgical histopathology"
   ]
  },
  {
   "cell_type": "code",
   "execution_count": 60,
   "metadata": {},
   "outputs": [
    {
     "data": {
      "text/plain": [
       "yes        144\n",
       "unclear     16\n",
       "NO           1\n",
       "Name: POSTOP_HP_Done, dtype: int64"
      ]
     },
     "execution_count": 60,
     "metadata": {},
     "output_type": "execute_result"
    }
   ],
   "source": [
    "all_data.POSTOP_HP_Done.value_counts()"
   ]
  },
  {
   "cell_type": "code",
   "execution_count": 61,
   "metadata": {},
   "outputs": [
    {
     "data": {
      "text/plain": [
       "(36, 18)"
      ]
     },
     "execution_count": 61,
     "metadata": {},
     "output_type": "execute_result"
    }
   ],
   "source": [
    "histopath_mask = all_data.POSTOP_HP_Done=='yes'\n",
    "\n",
    "all_data[prospective_mask & histopath_mask].shape"
   ]
  },
  {
   "cell_type": "code",
   "execution_count": 62,
   "metadata": {},
   "outputs": [
    {
     "data": {
      "text/plain": [
       "(108, 18)"
      ]
     },
     "execution_count": 62,
     "metadata": {},
     "output_type": "execute_result"
    }
   ],
   "source": [
    "all_data[(~prospective_mask) & histopath_mask].shape"
   ]
  },
  {
   "cell_type": "code",
   "execution_count": 63,
   "metadata": {},
   "outputs": [],
   "source": [
    "histo_prospective = original_model(all_data[prospective_mask & histopath_mask])\n",
    "histo_retrospective = original_model(all_data[(~prospective_mask) & histopath_mask])"
   ]
  },
  {
   "cell_type": "code",
   "execution_count": 64,
   "metadata": {
    "scrolled": true
   },
   "outputs": [
    {
     "name": "stderr",
     "output_type": "stream",
     "text": [
      "Auto-assigning NUTS sampler...\n",
      "Initializing NUTS using jitter+adapt_diag...\n",
      " 99%|█████████▉| 4950/5000 [01:01<00:00, 109.70it/s]/Users/fonnescj/Repos/pymc3/pymc3/step_methods/hmc/nuts.py:468: UserWarning: Chain 2 contains 1 diverging samples after tuning. If increasing `target_accept` does not help try to reparameterize.\n",
      "  % (self._chain_id, n_diverging))\n",
      "100%|██████████| 5000/5000 [01:01<00:00, 81.33it/s] \n"
     ]
    }
   ],
   "source": [
    "with histo_retrospective:\n",
    "    histo_retrospective_trace = pm.sample(iterations, njobs=4, tune=tune, random_seed=rseeds, \n",
    "                                    nuts_kwargs={'target_accept': 0.9})"
   ]
  },
  {
   "cell_type": "markdown",
   "metadata": {},
   "source": [
    "### Retrospective estimates"
   ]
  },
  {
   "cell_type": "code",
   "execution_count": 65,
   "metadata": {},
   "outputs": [
    {
     "data": {
      "text/plain": [
       "<matplotlib.gridspec.GridSpec at 0x126419ef0>"
      ]
     },
     "execution_count": 65,
     "metadata": {},
     "output_type": "execute_result"
    },
    {
     "data": {
      "image/png": "[encoded data removed]",
      "text/plain": [
       "<matplotlib.figure.Figure at 0x126419470>"
      ]
     },
     "metadata": {},
     "output_type": "display_data"
    }
   ],
   "source": [
    "pm.forestplot(histo_retrospective_trace, varnames=['p_10000', 'μ', 'σ'])"
   ]
  },
  {
   "cell_type": "code",
   "execution_count": 66,
   "metadata": {},
   "outputs": [
    {
     "data": {
      "text/html": [
       "<div>\n",
       "<style>\n",
       "    .dataframe thead tr:only-child th {\n",
       "        text-align: right;\n",
       "    }\n",
       "\n",
       "    .dataframe thead th {\n",
       "        text-align: left;\n",
       "    }\n",
       "\n",
       "    .dataframe tbody tr th {\n",
       "        vertical-align: top;\n",
       "    }\n",
       "</style>\n",
       "<table border=\"1\" class=\"dataframe\">\n",
       "  <thead>\n",
       "    <tr style=\"text-align: right;\">\n",
       "      <th></th>\n",
       "      <th>mean</th>\n",
       "      <th>sd</th>\n",
       "      <th>mc_error</th>\n",
       "      <th>hpd_2.5</th>\n",
       "      <th>hpd_97.5</th>\n",
       "      <th>n_eff</th>\n",
       "      <th>Rhat</th>\n",
       "    </tr>\n",
       "  </thead>\n",
       "  <tbody>\n",
       "    <tr>\n",
       "      <th>p_10000</th>\n",
       "      <td>7.4262</td>\n",
       "      <td>2.2649</td>\n",
       "      <td>0.0388</td>\n",
       "      <td>3.4115</td>\n",
       "      <td>12.1565</td>\n",
       "      <td>2979.0</td>\n",
       "      <td>1.0000</td>\n",
       "    </tr>\n",
       "    <tr>\n",
       "      <th>μ</th>\n",
       "      <td>-7.2534</td>\n",
       "      <td>0.3209</td>\n",
       "      <td>0.0058</td>\n",
       "      <td>-7.8511</td>\n",
       "      <td>-6.6170</td>\n",
       "      <td>2819.0</td>\n",
       "      <td>1.0002</td>\n",
       "    </tr>\n",
       "    <tr>\n",
       "      <th>σ</th>\n",
       "      <td>1.2230</td>\n",
       "      <td>0.2325</td>\n",
       "      <td>0.0038</td>\n",
       "      <td>0.7998</td>\n",
       "      <td>1.6848</td>\n",
       "      <td>2804.0</td>\n",
       "      <td>0.9999</td>\n",
       "    </tr>\n",
       "  </tbody>\n",
       "</table>\n",
       "</div>"
      ],
      "text/plain": [
       "           mean      sd  mc_error  hpd_2.5  hpd_97.5   n_eff    Rhat\n",
       "p_10000  7.4262  2.2649    0.0388   3.4115   12.1565  2979.0  1.0000\n",
       "μ       -7.2534  0.3209    0.0058  -7.8511   -6.6170  2819.0  1.0002\n",
       "σ        1.2230  0.2325    0.0038   0.7998    1.6848  2804.0  0.9999"
      ]
     },
     "execution_count": 66,
     "metadata": {},
     "output_type": "execute_result"
    }
   ],
   "source": [
    "pm.summary(histo_retrospective_trace, varnames=['p_10000', 'μ', 'σ']).round(4)"
   ]
  },
  {
   "cell_type": "code",
   "execution_count": 67,
   "metadata": {
    "scrolled": true
   },
   "outputs": [
    {
     "name": "stderr",
     "output_type": "stream",
     "text": [
      "Auto-assigning NUTS sampler...\n",
      "Initializing NUTS using jitter+adapt_diag...\n",
      "100%|██████████| 5000/5000 [01:30<00:00, 55.06it/s]\n"
     ]
    }
   ],
   "source": [
    "with histo_prospective:\n",
    "    histo_prospective_trace = pm.sample(iterations, njobs=4, tune=tune, random_seed=rseeds, \n",
    "                                    nuts_kwargs={'target_accept': 0.9})"
   ]
  },
  {
   "cell_type": "markdown",
   "metadata": {},
   "source": [
    "### Prospective estimates"
   ]
  },
  {
   "cell_type": "code",
   "execution_count": 68,
   "metadata": {},
   "outputs": [
    {
     "data": {
      "text/plain": [
       "<matplotlib.gridspec.GridSpec at 0x129243cc0>"
      ]
     },
     "execution_count": 68,
     "metadata": {},
     "output_type": "execute_result"
    },
    {
     "data": {
      "image/png": "[encoded data removed]",
      "text/plain": [
       "<matplotlib.figure.Figure at 0x129243d68>"
      ]
     },
     "metadata": {},
     "output_type": "display_data"
    }
   ],
   "source": [
    "pm.forestplot(histo_prospective_trace, varnames=['p_10000', 'μ', 'σ'])"
   ]
  },
  {
   "cell_type": "code",
   "execution_count": 69,
   "metadata": {},
   "outputs": [
    {
     "data": {
      "text/html": [
       "<div>\n",
       "<style>\n",
       "    .dataframe thead tr:only-child th {\n",
       "        text-align: right;\n",
       "    }\n",
       "\n",
       "    .dataframe thead th {\n",
       "        text-align: left;\n",
       "    }\n",
       "\n",
       "    .dataframe tbody tr th {\n",
       "        vertical-align: top;\n",
       "    }\n",
       "</style>\n",
       "<table border=\"1\" class=\"dataframe\">\n",
       "  <thead>\n",
       "    <tr style=\"text-align: right;\">\n",
       "      <th></th>\n",
       "      <th>mean</th>\n",
       "      <th>sd</th>\n",
       "      <th>mc_error</th>\n",
       "      <th>hpd_2.5</th>\n",
       "      <th>hpd_97.5</th>\n",
       "      <th>n_eff</th>\n",
       "      <th>Rhat</th>\n",
       "    </tr>\n",
       "  </thead>\n",
       "  <tbody>\n",
       "    <tr>\n",
       "      <th>p_10000</th>\n",
       "      <td>0.4890</td>\n",
       "      <td>1.4610</td>\n",
       "      <td>0.0200</td>\n",
       "      <td>0.0000</td>\n",
       "      <td>2.9297</td>\n",
       "      <td>4626.0</td>\n",
       "      <td>1.0001</td>\n",
       "    </tr>\n",
       "    <tr>\n",
       "      <th>μ</th>\n",
       "      <td>-15.8199</td>\n",
       "      <td>5.9658</td>\n",
       "      <td>0.1020</td>\n",
       "      <td>-26.8430</td>\n",
       "      <td>-6.7955</td>\n",
       "      <td>3702.0</td>\n",
       "      <td>0.9999</td>\n",
       "    </tr>\n",
       "    <tr>\n",
       "      <th>σ</th>\n",
       "      <td>4.9734</td>\n",
       "      <td>2.8448</td>\n",
       "      <td>0.0464</td>\n",
       "      <td>0.2214</td>\n",
       "      <td>9.6593</td>\n",
       "      <td>3375.0</td>\n",
       "      <td>0.9998</td>\n",
       "    </tr>\n",
       "  </tbody>\n",
       "</table>\n",
       "</div>"
      ],
      "text/plain": [
       "            mean      sd  mc_error  hpd_2.5  hpd_97.5   n_eff    Rhat\n",
       "p_10000   0.4890  1.4610    0.0200   0.0000    2.9297  4626.0  1.0001\n",
       "μ       -15.8199  5.9658    0.1020 -26.8430   -6.7955  3702.0  0.9999\n",
       "σ         4.9734  2.8448    0.0464   0.2214    9.6593  3375.0  0.9998"
      ]
     },
     "execution_count": 69,
     "metadata": {},
     "output_type": "execute_result"
    }
   ],
   "source": [
    "pm.summary(histo_prospective_trace, varnames=['p_10000', 'μ', 'σ']).round(4)"
   ]
  },
  {
   "cell_type": "code",
   "execution_count": 70,
   "metadata": {},
   "outputs": [
    {
     "data": {
      "image/png": "[encoded data removed]",
      "text/plain": [
       "<matplotlib.figure.Figure at 0x12641f908>"
      ]
     },
     "metadata": {},
     "output_type": "display_data"
    }
   ],
   "source": [
    "pritts_plot([histo_retrospective_trace, histo_prospective_trace], 'Histopathology Subset')"
   ]
  },
  {
   "cell_type": "markdown",
   "metadata": {},
   "source": [
    "### Goodness of fit\n",
    "\n",
    "To check how well the model fits the data, I conducted posteior predictive checks. This simulates data from the model for each data point (*i.e.* study) in the meta-analysis, and compares the distribution of these simulated values (here, 500 replicates) with the value of the data itself. If the percentile of the datum is very extreme (either large or small), then it is evidence that the model does not adequately fit the data. The distribution of percentiles in the bottom histogram shows that there is no evidence of lack of fit."
   ]
  },
  {
   "cell_type": "code",
   "execution_count": 71,
   "metadata": {},
   "outputs": [
    {
     "name": "stderr",
     "output_type": "stream",
     "text": [
      "  0%|          | 0/500 [00:00<?, ?it/s]\n",
      "  0%|          | 0/500 [00:00<?, ?it/s]\n"
     ]
    }
   ],
   "source": [
    "ppc_retro = pm.sample_ppc(epc_retrospective_trace, model=pritts_epc_retrospective, samples=500)\n",
    "ppc_prosp = pm.sample_ppc(epc_prospective_trace, model=pritts_epc_prospective, samples=500)"
   ]
  },
  {
   "cell_type": "code",
   "execution_count": 72,
   "metadata": {
    "scrolled": true
   },
   "outputs": [
    {
     "data": {
      "image/png": "[encoded data removed]",
      "text/plain": [
       "<matplotlib.figure.Figure at 0x12b520898>"
      ]
     },
     "metadata": {},
     "output_type": "display_data"
    }
   ],
   "source": [
    "from scipy.stats import percentileofscore\n",
    "        \n",
    "p = [percentileofscore(s, o).round(2) for s,o in zip(ppc_retro['obs'].T, all_data[~prospective_mask].Tumors)]\n",
    "p += [percentileofscore(s, o).round(2) for s,o in zip(ppc_prosp['obs'].T, all_data[prospective_mask].Tumors)]\n",
    "        \n",
    "plt.hist(p)\n",
    "plt.xlabel('percentile')\n",
    "plt.ylabel('frequency');"
   ]
  },
  {
   "cell_type": "markdown",
   "metadata": {},
   "source": [
    "## Combined models\n",
    "\n",
    "Additional model runs that pool retrospective and prospective designs.\n",
    "\n",
    "First, the original Pritts data:"
   ]
  },
  {
   "cell_type": "code",
   "execution_count": 73,
   "metadata": {},
   "outputs": [
    {
     "name": "stderr",
     "output_type": "stream",
     "text": [
      "Auto-assigning NUTS sampler...\n",
      "Initializing NUTS using jitter+adapt_diag...\n",
      " 97%|█████████▋| 4863/5000 [00:37<00:00, 200.29it/s]/Users/fonnescj/Repos/pymc3/pymc3/step_methods/hmc/nuts.py:468: UserWarning: Chain 1 contains 2 diverging samples after tuning. If increasing `target_accept` does not help try to reparameterize.\n",
      "  % (self._chain_id, n_diverging))\n",
      "100%|█████████▉| 4992/5000 [00:38<00:00, 179.36it/s]/Users/fonnescj/Repos/pymc3/pymc3/step_methods/hmc/nuts.py:468: UserWarning: Chain 0 contains 1 diverging samples after tuning. If increasing `target_accept` does not help try to reparameterize.\n",
      "  % (self._chain_id, n_diverging))\n",
      "100%|██████████| 5000/5000 [00:38<00:00, 129.54it/s]\n",
      "/Users/fonnescj/Repos/pymc3/pymc3/step_methods/hmc/nuts.py:468: UserWarning: Chain 3 contains 12 diverging samples after tuning. If increasing `target_accept` does not help try to reparameterize.\n",
      "  % (self._chain_id, n_diverging))\n",
      "/Users/fonnescj/Repos/pymc3/pymc3/step_methods/hmc/nuts.py:468: UserWarning: Chain 2 contains 1 diverging samples after tuning. If increasing `target_accept` does not help try to reparameterize.\n",
      "  % (self._chain_id, n_diverging))\n"
     ]
    }
   ],
   "source": [
    "with original_model(old_pritts) as pritts_pooled:\n",
    "    pooled_trace = pm.sample(iterations, njobs=4, tune=tune, \n",
    "                                  random_seed=rseeds)"
   ]
  },
  {
   "cell_type": "code",
   "execution_count": 74,
   "metadata": {},
   "outputs": [
    {
     "data": {
      "text/html": [
       "<div>\n",
       "<style>\n",
       "    .dataframe thead tr:only-child th {\n",
       "        text-align: right;\n",
       "    }\n",
       "\n",
       "    .dataframe thead th {\n",
       "        text-align: left;\n",
       "    }\n",
       "\n",
       "    .dataframe tbody tr th {\n",
       "        vertical-align: top;\n",
       "    }\n",
       "</style>\n",
       "<table border=\"1\" class=\"dataframe\">\n",
       "  <thead>\n",
       "    <tr style=\"text-align: right;\">\n",
       "      <th></th>\n",
       "      <th>mean</th>\n",
       "      <th>sd</th>\n",
       "      <th>mc_error</th>\n",
       "      <th>hpd_2.5</th>\n",
       "      <th>hpd_97.5</th>\n",
       "      <th>n_eff</th>\n",
       "      <th>Rhat</th>\n",
       "    </tr>\n",
       "  </thead>\n",
       "  <tbody>\n",
       "    <tr>\n",
       "      <th>p_10000</th>\n",
       "      <td>5.0390</td>\n",
       "      <td>2.1492</td>\n",
       "      <td>0.0369</td>\n",
       "      <td>1.1564</td>\n",
       "      <td>9.1893</td>\n",
       "      <td>3161.0</td>\n",
       "      <td>1.0005</td>\n",
       "    </tr>\n",
       "    <tr>\n",
       "      <th>μ</th>\n",
       "      <td>-7.6942</td>\n",
       "      <td>0.4756</td>\n",
       "      <td>0.0095</td>\n",
       "      <td>-8.6665</td>\n",
       "      <td>-6.8392</td>\n",
       "      <td>2207.0</td>\n",
       "      <td>1.0009</td>\n",
       "    </tr>\n",
       "    <tr>\n",
       "      <th>σ</th>\n",
       "      <td>1.1231</td>\n",
       "      <td>0.3682</td>\n",
       "      <td>0.0079</td>\n",
       "      <td>0.4620</td>\n",
       "      <td>1.8613</td>\n",
       "      <td>1832.0</td>\n",
       "      <td>1.0009</td>\n",
       "    </tr>\n",
       "  </tbody>\n",
       "</table>\n",
       "</div>"
      ],
      "text/plain": [
       "           mean      sd  mc_error  hpd_2.5  hpd_97.5   n_eff    Rhat\n",
       "p_10000  5.0390  2.1492    0.0369   1.1564    9.1893  3161.0  1.0005\n",
       "μ       -7.6942  0.4756    0.0095  -8.6665   -6.8392  2207.0  1.0009\n",
       "σ        1.1231  0.3682    0.0079   0.4620    1.8613  1832.0  1.0009"
      ]
     },
     "execution_count": 74,
     "metadata": {},
     "output_type": "execute_result"
    }
   ],
   "source": [
    "pm.summary(pooled_trace, varnames=['p_10000', 'μ', 'σ']).round(4)"
   ]
  },
  {
   "cell_type": "code",
   "execution_count": 75,
   "metadata": {},
   "outputs": [
    {
     "data": {
      "image/png": "[encoded data removed]",
      "text/plain": [
       "<matplotlib.figure.Figure at 0x12c363048>"
      ]
     },
     "metadata": {},
     "output_type": "display_data"
    }
   ],
   "source": [
    "pm.forestplot(pooled_trace, varnames=['p_10000', 'μ', 'σ']);"
   ]
  },
  {
   "cell_type": "markdown",
   "metadata": {},
   "source": [
    "Updated Pritts data:"
   ]
  },
  {
   "cell_type": "code",
   "execution_count": 76,
   "metadata": {},
   "outputs": [
    {
     "name": "stderr",
     "output_type": "stream",
     "text": [
      "Auto-assigning NUTS sampler...\n",
      "Initializing NUTS using jitter+adapt_diag...\n",
      "100%|█████████▉| 4977/5000 [00:38<00:00, 208.66it/s]/Users/fonnescj/Repos/pymc3/pymc3/step_methods/hmc/nuts.py:468: UserWarning: Chain 0 contains 1 diverging samples after tuning. If increasing `target_accept` does not help try to reparameterize.\n",
      "  % (self._chain_id, n_diverging))\n",
      "100%|██████████| 5000/5000 [00:38<00:00, 130.67it/s]\n"
     ]
    }
   ],
   "source": [
    "with original_model(updated_pritts) as updated_pooled:\n",
    "    updated_pooled_trace = pm.sample(iterations, njobs=4, tune=tune, \n",
    "                                  random_seed=rseeds, nuts_kwargs={'target_accept': 0.9})"
   ]
  },
  {
   "cell_type": "code",
   "execution_count": 77,
   "metadata": {},
   "outputs": [
    {
     "ename": "NameError",
     "evalue": "name 'keep' is not defined",
     "output_type": "error",
     "traceback": [
      "\u001b[0;31m---------------------------------------------------------------------------\u001b[0m",
      "\u001b[0;31mNameError\u001b[0m                                 Traceback (most recent call last)",
      "\u001b[0;32m<ipython-input-77-3c198f2bc997>\u001b[0m in \u001b[0;36m<module>\u001b[0;34m()\u001b[0m\n\u001b[0;32m----> 1\u001b[0;31m \u001b[0mpm\u001b[0m\u001b[0;34m.\u001b[0m\u001b[0msummary\u001b[0m\u001b[0;34m(\u001b[0m\u001b[0mupdated_pooled_trace\u001b[0m\u001b[0;34m[\u001b[0m\u001b[0;34m-\u001b[0m\u001b[0mkeep\u001b[0m\u001b[0;34m:\u001b[0m\u001b[0;34m]\u001b[0m\u001b[0;34m,\u001b[0m \u001b[0mvarnames\u001b[0m\u001b[0;34m=\u001b[0m\u001b[0;34m[\u001b[0m\u001b[0;34m'p_10000'\u001b[0m\u001b[0;34m,\u001b[0m \u001b[0;34m'μ'\u001b[0m\u001b[0;34m,\u001b[0m \u001b[0;34m'σ'\u001b[0m\u001b[0;34m]\u001b[0m\u001b[0;34m)\u001b[0m\u001b[0;34m.\u001b[0m\u001b[0mround\u001b[0m\u001b[0;34m(\u001b[0m\u001b[0;36m4\u001b[0m\u001b[0;34m)\u001b[0m\u001b[0;34m\u001b[0m\u001b[0m\n\u001b[0m",
      "\u001b[0;31mNameError\u001b[0m: name 'keep' is not defined"
     ]
    }
   ],
   "source": [
    "pm.summary(updated_pooled_trace[-keep:], varnames=['p_10000', 'μ', 'σ']).round(4)"
   ]
  },
  {
   "cell_type": "code",
   "execution_count": null,
   "metadata": {},
   "outputs": [],
   "source": [
    "pm.forestplot(updated_pooled_trace[-keep:], varnames=['p_10000', 'μ', 'σ']);"
   ]
  },
  {
   "cell_type": "markdown",
   "metadata": {},
   "source": [
    "Updated Pritts data with EPC includes:"
   ]
  },
  {
   "cell_type": "code",
   "execution_count": null,
   "metadata": {},
   "outputs": [],
   "source": [
    "with original_model(all_data) as all_pooled:\n",
    "    all_pooled_trace = pm.sample(iterations, njobs=4, tune=tune, \n",
    "                                  random_seed=rseeds, nuts_kwargs={'target_accept': 0.9})"
   ]
  },
  {
   "cell_type": "code",
   "execution_count": null,
   "metadata": {},
   "outputs": [],
   "source": [
    "pm.summary(all_pooled_trace[-keep:], varnames=['p_10000', 'μ', 'σ']).round(4)"
   ]
  },
  {
   "cell_type": "code",
   "execution_count": null,
   "metadata": {},
   "outputs": [],
   "source": [
    "pm.forestplot(all_pooled_trace[-keep:], varnames=['p_10000', 'μ', 'σ']);"
   ]
  },
  {
   "cell_type": "markdown",
   "metadata": {},
   "source": [
    "No hysteroscopy subset"
   ]
  },
  {
   "cell_type": "code",
   "execution_count": null,
   "metadata": {},
   "outputs": [],
   "source": [
    "with original_model(all_data[hysteroscopy_mask]) as no_hyst:\n",
    "    no_hyst_trace = pm.sample(iterations, njobs=4, tune=tune, \n",
    "                                  random_seed=rseeds, nuts_kwargs={'target_accept': 0.9})"
   ]
  },
  {
   "cell_type": "code",
   "execution_count": null,
   "metadata": {},
   "outputs": [],
   "source": [
    "pm.summary(no_hyst_trace[-keep:], varnames=['p_10000', 'μ', 'σ']).round(4)"
   ]
  },
  {
   "cell_type": "code",
   "execution_count": null,
   "metadata": {},
   "outputs": [],
   "source": [
    "pm.forestplot(no_hyst_trace[-keep:], varnames=['p_10000', 'μ', 'σ']);"
   ]
  },
  {
   "cell_type": "markdown",
   "metadata": {},
   "source": [
    "Histopathology subset"
   ]
  },
  {
   "cell_type": "code",
   "execution_count": null,
   "metadata": {},
   "outputs": [],
   "source": [
    "with original_model(all_data[histopath_mask]) as histopath:\n",
    "    histopath_trace = pm.sample(iterations, njobs=4, tune=tune, \n",
    "                                  random_seed=rseeds, nuts_kwargs={'target_accept': 0.9})"
   ]
  },
  {
   "cell_type": "code",
   "execution_count": null,
   "metadata": {},
   "outputs": [],
   "source": [
    "pm.summary(histopath_trace[-keep:], varnames=['p_10000', 'μ', 'σ']).round(4)"
   ]
  },
  {
   "cell_type": "code",
   "execution_count": null,
   "metadata": {},
   "outputs": [],
   "source": [
    "pm.forestplot(histopath_trace[-keep:], varnames=['p_10000', 'μ', 'σ']);"
   ]
  }
 ],
 "metadata": {
  "anaconda-cloud": {},
  "kernelspec": {
   "display_name": "Python 3",
   "language": "python",
   "name": "python3"
  },
  "latex_envs": {
   "bibliofile": "biblio.bib",
   "cite_by": "apalike",
   "current_citInitial": 1,
   "eqLabelWithNumbers": true,
   "eqNumInitial": 0
  }
 },
 "nbformat": 4,
 "nbformat_minor": 1
}
