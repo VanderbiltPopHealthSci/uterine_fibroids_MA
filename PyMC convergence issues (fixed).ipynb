{
 "cells": [
  {
   "cell_type": "markdown",
   "metadata": {},
   "source": [
    "## KQ3: Pritts Meta-analysis Update\n",
    "\n",
    "In key question 3, we address the risk of sarcoma dissemination following morcellation of fibroids. We identified a recently published analysis conducted by Elizabeth Pritts and her colleagues (2015) to estimate the  prevalence of occult leiomyosarcoma at time of treatment for presumed benign tumors (fibroids).  We updated their search and used similar eligibility criteria to identify papers published since 2014. We extracted from these papers the number of women who were treated for uterine fibroids and the cases of leiomyosarcoma subsequently identified.  We have combined these data with the data from the 134 publications that Pritts et al included in their analysis for a total of LMS rates from 148 sources."
   ]
  },
  {
   "cell_type": "code",
   "execution_count": 1,
   "metadata": {
    "collapsed": false
   },
   "outputs": [],
   "source": [
    "%matplotlib inline\n",
    "import numpy as np\n",
    "import pandas as pd\n",
    "import pymc3 as pm\n",
    "import seaborn as sns\n",
    "import matplotlib.pyplot as plt\n",
    "import pdb\n",
    "sns.set()\n",
    "\n",
    "rseeds = 20090425, 19771114, 20161216, 19700903"
   ]
  },
  {
   "cell_type": "code",
   "execution_count": 2,
   "metadata": {
    "collapsed": false,
    "scrolled": true
   },
   "outputs": [],
   "source": [
    "keep_cols = ['Author', 'Year', 'Design', 'Procedure', 'Indication',\n",
    "                                     'Age, Mean', 'Age, SD', 'Age, Median', 'Age, Min', 'Age, Max', 'Age, Other',\n",
    "                                     'LMS','Population','Tumors','InPritts','POSTOP_HP_Done', 'Hysteroscopy']\n",
    "\n",
    "datasets = pd.read_excel('data/Pritts_EPC_KQ3_Includes_Histopathology_SK_12152016.xlsx', \n",
    "                         sheetname=['OLD_PRITTS', 'UPDATED_PRITTS', 'Updated_Pritts_With_EPC_INclude'], \n",
    "                         na_values=['NR', 'NA'],\n",
    "                        index_col=0)"
   ]
  },
  {
   "cell_type": "code",
   "execution_count": 3,
   "metadata": {
    "collapsed": false
   },
   "outputs": [],
   "source": [
    "def clean_data(kq3_data):\n",
    "\n",
    "    return (kq3_data.assign(age_max=kq3_data['Age, Max'].replace('50+', 50),\n",
    "                           design=kq3_data['Design'].str.strip().replace('prospective', 'Prospective'),\n",
    "                           Prospective=(kq3_data.Design!='Retrospective').astype(int))\n",
    "                    .rename(columns={'Age, Min': 'age_min',\n",
    "                                       'Age, Mean': 'age_mean',\n",
    "                                       'Age, SD': 'age_sd',\n",
    "                                       'Age, Median': 'age_med'})\n",
    "                    .drop(['Age, Max', 'Design'], axis=1)\n",
    "                    .dropna(thresh=7))\n",
    "    "
   ]
  },
  {
   "cell_type": "code",
   "execution_count": 4,
   "metadata": {
    "collapsed": false
   },
   "outputs": [],
   "source": [
    "datasets = {sheet: clean_data(datasets[sheet][keep_cols]) for sheet in datasets}\n",
    "\n",
    "old_pritts = datasets['OLD_PRITTS']\n",
    "updated_pritts = datasets['UPDATED_PRITTS']\n",
    "all_data = datasets['Updated_Pritts_With_EPC_INclude']"
   ]
  },
  {
   "cell_type": "markdown",
   "metadata": {},
   "source": [
    "Missing values"
   ]
  },
  {
   "cell_type": "code",
   "execution_count": 5,
   "metadata": {
    "collapsed": false
   },
   "outputs": [
    {
     "data": {
      "text/plain": [
       "Author              0\n",
       "Year                0\n",
       "Procedure           0\n",
       "Indication          1\n",
       "age_mean           72\n",
       "age_sd            150\n",
       "age_med           151\n",
       "age_min            65\n",
       "Age, Other        128\n",
       "LMS                 0\n",
       "Population          0\n",
       "Tumors              0\n",
       "InPritts            1\n",
       "POSTOP_HP_Done      0\n",
       "Hysteroscopy        0\n",
       "Prospective         0\n",
       "age_max            66\n",
       "design              0\n",
       "dtype: int64"
      ]
     },
     "execution_count": 5,
     "metadata": {},
     "output_type": "execute_result"
    }
   ],
   "source": [
    "all_data.isnull().sum()"
   ]
  },
  {
   "cell_type": "code",
   "execution_count": 6,
   "metadata": {
    "collapsed": false
   },
   "outputs": [
    {
     "data": {
      "text/html": [
       "<div>\n",
       "<table border=\"1\" class=\"dataframe\">\n",
       "  <thead>\n",
       "    <tr style=\"text-align: right;\">\n",
       "      <th></th>\n",
       "      <th>Year</th>\n",
       "      <th>age_mean</th>\n",
       "      <th>age_sd</th>\n",
       "      <th>age_med</th>\n",
       "      <th>age_min</th>\n",
       "      <th>LMS</th>\n",
       "      <th>Population</th>\n",
       "      <th>Tumors</th>\n",
       "      <th>InPritts</th>\n",
       "      <th>Prospective</th>\n",
       "      <th>age_max</th>\n",
       "    </tr>\n",
       "  </thead>\n",
       "  <tbody>\n",
       "    <tr>\n",
       "      <th>count</th>\n",
       "      <td>162.000000</td>\n",
       "      <td>90.000000</td>\n",
       "      <td>12.000000</td>\n",
       "      <td>11.000000</td>\n",
       "      <td>97.00000</td>\n",
       "      <td>162.000000</td>\n",
       "      <td>162.000000</td>\n",
       "      <td>162.000000</td>\n",
       "      <td>161.000000</td>\n",
       "      <td>162.000000</td>\n",
       "      <td>96.000000</td>\n",
       "    </tr>\n",
       "    <tr>\n",
       "      <th>mean</th>\n",
       "      <td>2005.185185</td>\n",
       "      <td>41.919222</td>\n",
       "      <td>7.009167</td>\n",
       "      <td>41.545455</td>\n",
       "      <td>26.91134</td>\n",
       "      <td>2.500000</td>\n",
       "      <td>975.851852</td>\n",
       "      <td>2.500000</td>\n",
       "      <td>0.832298</td>\n",
       "      <td>0.419753</td>\n",
       "      <td>61.466667</td>\n",
       "    </tr>\n",
       "    <tr>\n",
       "      <th>std</th>\n",
       "      <td>7.858391</td>\n",
       "      <td>6.130203</td>\n",
       "      <td>2.821758</td>\n",
       "      <td>5.791954</td>\n",
       "      <td>6.20752</td>\n",
       "      <td>13.239903</td>\n",
       "      <td>3890.629500</td>\n",
       "      <td>13.239903</td>\n",
       "      <td>0.374767</td>\n",
       "      <td>0.495049</td>\n",
       "      <td>13.430732</td>\n",
       "    </tr>\n",
       "    <tr>\n",
       "      <th>min</th>\n",
       "      <td>1984.000000</td>\n",
       "      <td>28.200000</td>\n",
       "      <td>1.800000</td>\n",
       "      <td>35.000000</td>\n",
       "      <td>18.00000</td>\n",
       "      <td>0.000000</td>\n",
       "      <td>5.000000</td>\n",
       "      <td>0.000000</td>\n",
       "      <td>0.000000</td>\n",
       "      <td>0.000000</td>\n",
       "      <td>34.000000</td>\n",
       "    </tr>\n",
       "    <tr>\n",
       "      <th>25%</th>\n",
       "      <td>1999.000000</td>\n",
       "      <td>37.310000</td>\n",
       "      <td>5.925000</td>\n",
       "      <td>37.450000</td>\n",
       "      <td>22.00000</td>\n",
       "      <td>0.000000</td>\n",
       "      <td>40.250000</td>\n",
       "      <td>0.000000</td>\n",
       "      <td>1.000000</td>\n",
       "      <td>0.000000</td>\n",
       "      <td>51.000000</td>\n",
       "    </tr>\n",
       "    <tr>\n",
       "      <th>50%</th>\n",
       "      <td>2006.000000</td>\n",
       "      <td>42.200000</td>\n",
       "      <td>6.600000</td>\n",
       "      <td>40.000000</td>\n",
       "      <td>26.00000</td>\n",
       "      <td>0.000000</td>\n",
       "      <td>92.000000</td>\n",
       "      <td>0.000000</td>\n",
       "      <td>1.000000</td>\n",
       "      <td>0.000000</td>\n",
       "      <td>60.000000</td>\n",
       "    </tr>\n",
       "    <tr>\n",
       "      <th>75%</th>\n",
       "      <td>2012.000000</td>\n",
       "      <td>46.000000</td>\n",
       "      <td>7.697500</td>\n",
       "      <td>45.800000</td>\n",
       "      <td>31.00000</td>\n",
       "      <td>0.000000</td>\n",
       "      <td>359.500000</td>\n",
       "      <td>0.000000</td>\n",
       "      <td>1.000000</td>\n",
       "      <td>1.000000</td>\n",
       "      <td>70.250000</td>\n",
       "    </tr>\n",
       "    <tr>\n",
       "      <th>max</th>\n",
       "      <td>2016.000000</td>\n",
       "      <td>59.600000</td>\n",
       "      <td>12.500000</td>\n",
       "      <td>52.900000</td>\n",
       "      <td>44.00000</td>\n",
       "      <td>115.000000</td>\n",
       "      <td>34728.000000</td>\n",
       "      <td>115.000000</td>\n",
       "      <td>1.000000</td>\n",
       "      <td>1.000000</td>\n",
       "      <td>96.000000</td>\n",
       "    </tr>\n",
       "  </tbody>\n",
       "</table>\n",
       "</div>"
      ],
      "text/plain": [
       "              Year   age_mean     age_sd    age_med   age_min         LMS  \\\n",
       "count   162.000000  90.000000  12.000000  11.000000  97.00000  162.000000   \n",
       "mean   2005.185185  41.919222   7.009167  41.545455  26.91134    2.500000   \n",
       "std       7.858391   6.130203   2.821758   5.791954   6.20752   13.239903   \n",
       "min    1984.000000  28.200000   1.800000  35.000000  18.00000    0.000000   \n",
       "25%    1999.000000  37.310000   5.925000  37.450000  22.00000    0.000000   \n",
       "50%    2006.000000  42.200000   6.600000  40.000000  26.00000    0.000000   \n",
       "75%    2012.000000  46.000000   7.697500  45.800000  31.00000    0.000000   \n",
       "max    2016.000000  59.600000  12.500000  52.900000  44.00000  115.000000   \n",
       "\n",
       "         Population      Tumors    InPritts  Prospective    age_max  \n",
       "count    162.000000  162.000000  161.000000   162.000000  96.000000  \n",
       "mean     975.851852    2.500000    0.832298     0.419753  61.466667  \n",
       "std     3890.629500   13.239903    0.374767     0.495049  13.430732  \n",
       "min        5.000000    0.000000    0.000000     0.000000  34.000000  \n",
       "25%       40.250000    0.000000    1.000000     0.000000  51.000000  \n",
       "50%       92.000000    0.000000    1.000000     0.000000  60.000000  \n",
       "75%      359.500000    0.000000    1.000000     1.000000  70.250000  \n",
       "max    34728.000000  115.000000    1.000000     1.000000  96.000000  "
      ]
     },
     "execution_count": 6,
     "metadata": {},
     "output_type": "execute_result"
    }
   ],
   "source": [
    "all_data.describe()"
   ]
  },
  {
   "cell_type": "code",
   "execution_count": 7,
   "metadata": {
    "collapsed": false
   },
   "outputs": [
    {
     "data": {
      "image/png": "[encoded data removed]",
      "text/plain": [
       "<matplotlib.figure.Figure at 0x110058f98>"
      ]
     },
     "metadata": {},
     "output_type": "display_data"
    }
   ],
   "source": [
    "all_data[[c for c in all_data.columns if c.startswith('age')]].hist();"
   ]
  },
  {
   "cell_type": "markdown",
   "metadata": {},
   "source": [
    "Breakdown on studies by design."
   ]
  },
  {
   "cell_type": "code",
   "execution_count": 8,
   "metadata": {
    "collapsed": false
   },
   "outputs": [
    {
     "data": {
      "text/plain": [
       "Retrospective    95\n",
       "Prospective      40\n",
       "RCT              27\n",
       "Name: design, dtype: int64"
      ]
     },
     "execution_count": 8,
     "metadata": {},
     "output_type": "execute_result"
    }
   ],
   "source": [
    "all_data.design.value_counts()"
   ]
  },
  {
   "cell_type": "markdown",
   "metadata": {},
   "source": [
    "Following [Pritts et al. (2015)](http://www.ncbi.nlm.nih.gov/pubmed/26283890), I fit a binomial random effects model, such that event probabilities on the logit scale are normally distributed with mean $\\mu$ and standard deviation $\\sigma$. This distribution describes how the probabilities vary across studies, with the degree of variation described by $\\sigma$.\n",
    "\n",
    "$$\\theta_i \\sim N(\\mu, \\sigma^2)$$\n",
    "\n",
    "the expected value for study $i$ is then inverse-logit transformed, and used as the event probability $\\pi_i$ in a binomial model describing the number of observed tumors $t$:\n",
    "\n",
    "$$\\log\\left[\\frac{\\pi_i}{1-\\pi_i}\\right] = \\theta_i$$\n",
    "\n",
    "$$t_i \\sim \\text{Bin}(n_i, \\pi_i)$$"
   ]
  },
  {
   "cell_type": "markdown",
   "metadata": {},
   "source": [
    "There appears to be no obvious relationship between age (normalized) and tumor rate (though a quadratic model might be worth considering). We will not include age as a covariate in the model."
   ]
  },
  {
   "cell_type": "code",
   "execution_count": 9,
   "metadata": {
    "collapsed": false,
    "scrolled": false
   },
   "outputs": [
    {
     "data": {
      "text/plain": [
       "(0, 0.03)"
      ]
     },
     "execution_count": 9,
     "metadata": {},
     "output_type": "execute_result"
    },
    {
     "data": {
      "image/png": "[encoded data removed]",
      "text/plain": [
       "<matplotlib.figure.Figure at 0x1127e4f60>"
      ]
     },
     "metadata": {},
     "output_type": "display_data"
    }
   ],
   "source": [
    "(all_data.assign(age_max_norm=((all_data.age_max - 60)/10).fillna(0.5), \n",
    "                 tumor_rate=all_data.Tumors/all_data.Population)\n",
    "         .plot.scatter(x='age_max_norm', y='tumor_rate', style='ro', alpha=0.3)\n",
    "         .set_ylim(0, 0.03))"
   ]
  },
  {
   "cell_type": "markdown",
   "metadata": {},
   "source": [
    "##  Recapitulation of Pritts original  Meta-analysis\n",
    "\n",
    "Here we try to recreate the original Pritts model by exactly specifying the model as the original, and using the same dataset.\n",
    "\n",
    "Here is the model:"
   ]
  },
  {
   "cell_type": "code",
   "execution_count": 10,
   "metadata": {
    "collapsed": false
   },
   "outputs": [],
   "source": [
    "import theano.tensor as tt\n",
    "invlogit = pm.math.invlogit\n",
    "\n",
    "def original_model(model_data):\n",
    "    \n",
    "    with pm.Model() as model:\n",
    "\n",
    "        k = model_data.shape[0]\n",
    "        tumors = model_data.Tumors.values.astype(int)\n",
    "        n = model_data.Population.values.astype(int)\n",
    "\n",
    "        # Study random effect\n",
    "        μ = pm.Normal('μ', 0, sd=100)\n",
    "        σ = pm.Uniform('σ', 0, 10)\n",
    "        ζ = pm.Normal('ζ', 0, 1, shape=k)\n",
    "        θ = μ + ζ*σ\n",
    "\n",
    "        # Study-specific probabilities\n",
    "        π = pm.Deterministic('π', invlogit(θ))\n",
    "\n",
    "        # Expected probabilities by design\n",
    "        p_10000 = pm.Deterministic('p_10000', invlogit(μ)*10000)\n",
    "\n",
    "        obs = pm.Binomial('obs', n=n, p=π, observed=tumors)\n",
    "        \n",
    "    return model"
   ]
  },
  {
   "cell_type": "code",
   "execution_count": 11,
   "metadata": {
    "collapsed": true
   },
   "outputs": [],
   "source": [
    "prospective_mask = old_pritts.design=='Prospective'\n",
    "\n",
    "pritts_prospective = original_model(old_pritts[prospective_mask])\n",
    "pritts_retrospective = original_model(old_pritts[~prospective_mask])"
   ]
  },
  {
   "cell_type": "code",
   "execution_count": 12,
   "metadata": {
    "collapsed": true
   },
   "outputs": [],
   "source": [
    "iterations = 100000\n",
    "keep = 10000"
   ]
  },
  {
   "cell_type": "markdown",
   "metadata": {},
   "source": [
    "Here's the prospective model:"
   ]
  },
  {
   "cell_type": "code",
   "execution_count": 13,
   "metadata": {
    "collapsed": false,
    "scrolled": true
   },
   "outputs": [
    {
     "name": "stderr",
     "output_type": "stream",
     "text": [
      "100%|██████████| 100000/100000 [01:21<00:00, 1230.43it/s]| 1/100000 [00:00<4:51:38,  5.71it/s]\n"
     ]
    }
   ],
   "source": [
    "with pritts_prospective:\n",
    "    prospective_trace = pm.sample(iterations, step=pm.Metropolis(), njobs=4, \n",
    "                                  random_seed=rseeds)"
   ]
  },
  {
   "cell_type": "code",
   "execution_count": 14,
   "metadata": {
    "collapsed": false,
    "scrolled": false
   },
   "outputs": [
    {
     "name": "stdout",
     "output_type": "stream",
     "text": [
      "\n",
      "p_10000:\n",
      "\n",
      "  Mean             SD               MC Error         95% HPD interval\n",
      "  -------------------------------------------------------------------\n",
      "  \n",
      "  1.8916           3.1427           0.1731           [0.0000, 8.5763]\n",
      "\n",
      "  Posterior quantiles:\n",
      "  2.5            25             50             75             97.5\n",
      "  |--------------|==============|==============|--------------|\n",
      "  \n",
      "  0.0000         0.0160         0.4040         2.4383         11.1030\n",
      "\n",
      "\n",
      "μ:\n",
      "\n",
      "  Mean             SD               MC Error         95% HPD interval\n",
      "  -------------------------------------------------------------------\n",
      "  \n",
      "  -11.5088         4.3591           0.3709           [-21.0263, -6.1963]\n",
      "\n",
      "  Posterior quantiles:\n",
      "  2.5            25             50             75             97.5\n",
      "  |--------------|==============|==============|--------------|\n",
      "  \n",
      "  -23.1870       -13.3436       -10.1166       -8.3188        -6.8020\n",
      "\n",
      "\n",
      "σ:\n",
      "\n",
      "  Mean             SD               MC Error         95% HPD interval\n",
      "  -------------------------------------------------------------------\n",
      "  \n",
      "  3.3787           2.4941           0.2070           [0.0019, 8.5899]\n",
      "\n",
      "  Posterior quantiles:\n",
      "  2.5            25             50             75             97.5\n",
      "  |--------------|==============|==============|--------------|\n",
      "  \n",
      "  0.2150         1.4559         2.6818         4.7536         9.2129\n",
      "\n"
     ]
    }
   ],
   "source": [
    "pm.summary(prospective_trace[-keep:], varnames=['p_10000', 'μ', 'σ'], roundto=4)"
   ]
  },
  {
   "cell_type": "markdown",
   "metadata": {},
   "source": [
    "The following plots are the distribution of samples from the posterior distributions for the expected (population) probability of tumor (`p_update`), the inverse-logit expected probability ($\\mu$) and the standard deviation of the probabilities on the inverse-logit scale ($\\sigma$)."
   ]
  },
  {
   "cell_type": "code",
   "execution_count": 15,
   "metadata": {
    "collapsed": false
   },
   "outputs": [
    {
     "data": {
      "image/png": "[encoded data removed]",
      "text/plain": [
       "<matplotlib.figure.Figure at 0x1167bec50>"
      ]
     },
     "metadata": {},
     "output_type": "display_data"
    }
   ],
   "source": [
    "pm.forestplot(prospective_trace[-keep:], varnames=['p_10000', 'μ', 'σ']);"
   ]
  },
  {
   "cell_type": "markdown",
   "metadata": {},
   "source": [
    "Here's the retrospective model:"
   ]
  },
  {
   "cell_type": "code",
   "execution_count": 16,
   "metadata": {
    "collapsed": false
   },
   "outputs": [
    {
     "name": "stderr",
     "output_type": "stream",
     "text": [
      "100%|██████████| 100000/100000 [02:14<00:00, 744.99it/s] | 1/100000 [00:00<3:47:22,  7.33it/s]\n"
     ]
    }
   ],
   "source": [
    "with pritts_retrospective:\n",
    "    retrospective_trace = pm.sample(iterations, step=pm.Metropolis(), njobs=4, \n",
    "                                  random_seed=rseeds)"
   ]
  },
  {
   "cell_type": "code",
   "execution_count": 17,
   "metadata": {
    "collapsed": false
   },
   "outputs": [
    {
     "name": "stdout",
     "output_type": "stream",
     "text": [
      "\n",
      "p_10000:\n",
      "\n",
      "  Mean             SD               MC Error         95% HPD interval\n",
      "  -------------------------------------------------------------------\n",
      "  \n",
      "  4.9622           2.1761           0.1278           [1.1174, 9.2550]\n",
      "\n",
      "  Posterior quantiles:\n",
      "  2.5            25             50             75             97.5\n",
      "  |--------------|==============|==============|--------------|\n",
      "  \n",
      "  1.3930         3.3976         4.7207         6.3058         9.8239\n",
      "\n",
      "\n",
      "μ:\n",
      "\n",
      "  Mean             SD               MC Error         95% HPD interval\n",
      "  -------------------------------------------------------------------\n",
      "  \n",
      "  -7.7170          0.4985           0.0308           [-8.7251, -6.8437]\n",
      "\n",
      "  Posterior quantiles:\n",
      "  2.5            25             50             75             97.5\n",
      "  |--------------|==============|==============|--------------|\n",
      "  \n",
      "  -8.8787        -7.9869        -7.6579        -7.3682        -6.9245\n",
      "\n",
      "\n",
      "σ:\n",
      "\n",
      "  Mean             SD               MC Error         95% HPD interval\n",
      "  -------------------------------------------------------------------\n",
      "  \n",
      "  1.1520           0.3781           0.0242           [0.4553, 1.9177]\n",
      "\n",
      "  Posterior quantiles:\n",
      "  2.5            25             50             75             97.5\n",
      "  |--------------|==============|==============|--------------|\n",
      "  \n",
      "  0.5162         0.8864         1.1145         1.3646         2.0126\n",
      "\n"
     ]
    }
   ],
   "source": [
    "pm.summary(retrospective_trace[-keep:], varnames=['p_10000', 'μ', 'σ'], roundto=4)"
   ]
  },
  {
   "cell_type": "code",
   "execution_count": 18,
   "metadata": {
    "collapsed": false
   },
   "outputs": [
    {
     "data": {
      "image/png": "[encoded data removed]",
      "text/plain": [
       "<matplotlib.figure.Figure at 0x1167bff28>"
      ]
     },
     "metadata": {},
     "output_type": "display_data"
    }
   ],
   "source": [
    "pm.forestplot(retrospective_trace[-keep:], varnames=['p_10000', 'μ', 'σ']);"
   ]
  },
  {
   "cell_type": "markdown",
   "metadata": {},
   "source": [
    "Summary statistics from each of the above parameters."
   ]
  },
  {
   "cell_type": "code",
   "execution_count": 19,
   "metadata": {
    "collapsed": false
   },
   "outputs": [
    {
     "name": "stdout",
     "output_type": "stream",
     "text": [
      "\n",
      "p_10000:\n",
      "\n",
      "  Mean             SD               MC Error         95% HPD interval\n",
      "  -------------------------------------------------------------------\n",
      "  \n",
      "  4.9622           2.1761           0.1278           [1.1174, 9.2550]\n",
      "\n",
      "  Posterior quantiles:\n",
      "  2.5            25             50             75             97.5\n",
      "  |--------------|==============|==============|--------------|\n",
      "  \n",
      "  1.3930         3.3976         4.7207         6.3058         9.8239\n",
      "\n",
      "\n",
      "μ:\n",
      "\n",
      "  Mean             SD               MC Error         95% HPD interval\n",
      "  -------------------------------------------------------------------\n",
      "  \n",
      "  -7.7170          0.4985           0.0308           [-8.7251, -6.8437]\n",
      "\n",
      "  Posterior quantiles:\n",
      "  2.5            25             50             75             97.5\n",
      "  |--------------|==============|==============|--------------|\n",
      "  \n",
      "  -8.8787        -7.9869        -7.6579        -7.3682        -6.9245\n",
      "\n",
      "\n",
      "σ:\n",
      "\n",
      "  Mean             SD               MC Error         95% HPD interval\n",
      "  -------------------------------------------------------------------\n",
      "  \n",
      "  1.1520           0.3781           0.0242           [0.4553, 1.9177]\n",
      "\n",
      "  Posterior quantiles:\n",
      "  2.5            25             50             75             97.5\n",
      "  |--------------|==============|==============|--------------|\n",
      "  \n",
      "  0.5162         0.8864         1.1145         1.3646         2.0126\n",
      "\n"
     ]
    }
   ],
   "source": [
    "pm.summary(retrospective_trace[-keep:], varnames=['p_10000', 'μ', 'σ'], roundto=4)"
   ]
  },
  {
   "cell_type": "markdown",
   "metadata": {},
   "source": [
    "By comparison, estimates from Pritts' supplement:\n",
    "\n",
    "![pritts estimates](pritts_table.png)"
   ]
  }
 ],
 "metadata": {
  "anaconda-cloud": {},
  "kernelspec": {
   "display_name": "Python 3",
   "language": "python",
   "name": "python3"
  },
  "language_info": {
   "codemirror_mode": {
    "name": "ipython",
    "version": 3
   },
   "file_extension": ".py",
   "mimetype": "text/x-python",
   "name": "python",
   "nbconvert_exporter": "python",
   "pygments_lexer": "ipython3",
   "version": "3.5.2"
  },
  "latex_envs": {
   "bibliofile": "biblio.bib",
   "cite_by": "apalike",
   "current_citInitial": 1,
   "eqLabelWithNumbers": true,
   "eqNumInitial": 0
  }
 },
 "nbformat": 4,
 "nbformat_minor": 1
}
