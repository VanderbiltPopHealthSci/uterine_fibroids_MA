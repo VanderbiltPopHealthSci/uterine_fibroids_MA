{
 "cells": [
  {
   "cell_type": "markdown",
   "metadata": {},
   "source": [
    "# Uterine fibroids follow-up treatment meta-analysis\n",
    "\n",
    "Our goal is to estimate the probabilities of requiring one of a suite of candidate follow-up treatments following randomization to a given initial treatment for uterine fibroids. Specifically, we are interested in estimating:\n",
    "\n",
    "$$Pr(I_2|I_1 =i,T=t)$$\n",
    "\n",
    "where $I_1$ is an initial intervention, which take specific values $i = 1, 2, \\ldots , K$ for each of $K$ candidate intervention types, $I_2$ is the followup intervention that also may take any of the same values of $i$, and $T$ is followup time in months, which will generally be either 6 or 12 months.\n",
    "\n",
    "Our current set of candidate interventions include:\n",
    "\n",
    "- Myomectomy\n",
    "- Hysterectomy\n",
    "- Ablation\n",
    "- UAE\n",
    "- Magnetic resonance imaging-guided high-intensity focused ultrasound (MRIgFUS) \n",
    "- Ablation +/- hysteroscopic myomectomy\n",
    "- No intervention\n",
    "\n",
    "Rather than model each conditional probability independently, we will instead model the outcomes for a treatment arm as a multinomial random variable. That is,\n",
    "\n",
    "$$\\{X_{I_2} \\} ∼ \\text{Multinomial}(N_{I_1}=i, \\{\\pi_i\\})$$\n",
    "\n",
    "where $\\{X_{I_2}\\}$ is the vector of outcomes corresponding to each of the possible followup interventions listed above, $N_{I_1}=i$ is the number of women randomized to the initial intervention i, and $\\{\\pi_i\\}$ is a vector of conditional transition probabilities corresponding to $Pr(I_2|I_1 = i, T = t)$, as specified above. The multinomial distribution is a multivariate generalization of the categorical distribution, which is what the above simplifies to when modeling the outcome for a single patient. The multivariate formulation allows us to model study-arm-specific outcomes, incorporating covariates that are specific to that arm or study.\n",
    "       \n",
    "The quantities of interest are the vectors of transition probabilities $\\{\\pi_i\\}$ corresponding to each of the initial candidate interventions. A naive approach to modeling these is to assign a vague Dirichlet prior distribution to each set, and perform Bayesian inference using the multinomial likelihood, with which the Dirichlet is conjugate, to yield posterior estimates for each probability. However, there may be additional information with which to model these probabilities, which may include:\n",
    "\n",
    "- followup time for each study\n",
    "- arm-specific demographic covariates (e.g. race, mean age) \n",
    "- study-specific random effects\n",
    "\n",
    "hence, a given transition probability $\\pi_{ijk}$ – the probability of transitioning from initial intervention $i$ to followup intervention $j$ in study $k$ – may be modeled as:\n",
    "\n",
    "$$\\text{logit}(\\pi_{ijk})= \\theta_{ij} + X_k \\beta_{ij} + \\epsilon_k$$\n",
    "\n",
    "where $\\theta_{ij}$ is a baseline transition probability (on the logit scale), $X_k$ a matrix of study(-arm)-specific covariates, $\\beta_{ij}$ the corresponding coefficients, and $\\epsilon_k$ a mean-zero random effect for study k. We will initially consider (1) follow-up time and (2) mean/median age as covariates.\n",
    " \n",
    "An attractive benefit to using Bayesian inference to estimate this model is that it is easy to generate predictions from the model, via the posterior predictive distribution. For example, we could estimate the distribution of the expected proportion of women requiring a particular followup intervention; this estimate would factor in both the residual uncertainty in the transition probability estimates, as well as the sampling uncertainty of the intervention."
   ]
  },
  {
   "cell_type": "code",
   "execution_count": 1,
   "metadata": {
    "collapsed": false
   },
   "outputs": [
    {
     "name": "stderr",
     "output_type": "stream",
     "text": [
      "/usr/local/lib/python3.4/dist-packages/matplotlib/__init__.py:872: UserWarning: axes.color_cycle is deprecated and replaced with axes.prop_cycle; please use the latter.\n",
      "  warnings.warn(self.msg_depr % (key, alt_key))\n"
     ]
    }
   ],
   "source": [
    "%matplotlib inline\n",
    "import numpy as np\n",
    "import pandas as pd\n",
    "import pymc3 as pm\n",
    "import seaborn as sns\n",
    "import pdb\n",
    "sns.set()"
   ]
  },
  {
   "cell_type": "markdown",
   "metadata": {},
   "source": [
    "## Data Preparation\n",
    "\n",
    "Import data from worksheets in Excel spreadsheet."
   ]
  },
  {
   "cell_type": "code",
   "execution_count": 2,
   "metadata": {
    "collapsed": true
   },
   "outputs": [],
   "source": [
    "data_file = 'UF Subsequent Interventions Data_Master_updated.xlsx'"
   ]
  },
  {
   "cell_type": "code",
   "execution_count": 3,
   "metadata": {
    "collapsed": false
   },
   "outputs": [
    {
     "name": "stdout",
     "output_type": "stream",
     "text": [
      "Occlusion rows=31, columns=13, missing=6\n",
      "Med vs IAC rows=49, columns=13, missing=46\n",
      "Med vs Med rows=67, columns=13, missing=13\n",
      "UAE rows=32, columns=13, missing=0\n"
     ]
    }
   ],
   "source": [
    "missing = ['NA', 'NR', 'ND', '?', 'null']\n",
    "\n",
    "misc_data = pd.read_excel('data/' + data_file, sheetname='MISC (SP)', na_values=missing)\n",
    "misc_data = misc_data[~misc_data['baseline_n'].isnull()].drop('notes', axis=1)\n",
    "rows, cols = misc_data.shape\n",
    "print('Occlusion rows={0}, columns={1}, missing={2}'.format(rows, cols,\n",
    "                                                        misc_data.isnull().sum().sum()))\n",
    "\n",
    "med_vs_iac_data = pd.read_excel('data/' + data_file, sheetname='Med vs IAC JW', na_values=missing)\n",
    "med_vs_iac_data = med_vs_iac_data[~med_vs_iac_data['trial_arm'].isnull()].drop('notes', axis=1)\n",
    "rows, cols = med_vs_iac_data.shape\n",
    "print('Med vs IAC rows={0}, columns={1}, missing={2}'.format(rows, cols, \n",
    "                                                            med_vs_iac_data.isnull().sum().sum()))\n",
    "\n",
    "med_vs_med_data = pd.read_excel('data/' + data_file, sheetname='Med vs Med DVE', na_values=missing)\n",
    "med_vs_med_data = med_vs_med_data[~med_vs_med_data['baseline_n'].isnull()].drop('notes', axis=1)\n",
    "rows, cols = med_vs_med_data.shape\n",
    "print('Med vs Med rows={0}, columns={1}, missing={2}'.format(rows, cols, \n",
    "                                                            med_vs_med_data.isnull().sum().sum()))\n",
    "\n",
    "uae_data = pd.read_excel('data/' + data_file, sheetname='UAE SK')\n",
    "uae_data = uae_data[~uae_data['baseline_n'].isnull()].drop('notes', axis=1)\n",
    "rows, cols = uae_data.shape\n",
    "print('UAE rows={0}, columns={1}, missing={2}'.format(rows, cols, \n",
    "                                                            uae_data.isnull().sum().sum()))\n",
    "\n",
    "datasets = [misc_data, med_vs_iac_data, med_vs_med_data, uae_data]"
   ]
  },
  {
   "cell_type": "code",
   "execution_count": 4,
   "metadata": {
    "collapsed": false
   },
   "outputs": [],
   "source": [
    "unique_inerventions = set(np.concatenate([d.intervention.values for d in datasets]))"
   ]
  },
  {
   "cell_type": "markdown",
   "metadata": {},
   "source": [
    "Use the following lookup table to create \"intervention category\" field in each dataset."
   ]
  },
  {
   "cell_type": "code",
   "execution_count": 5,
   "metadata": {
    "collapsed": true
   },
   "outputs": [],
   "source": [
    "# %load intervention_lookup.py\n",
    "intervention_lookup = {'Ablation': 'ablation',\n",
    " 'Ablation+/- hysteroscopic myomectomy': 'ablation',\n",
    " 'Asoprisnil 10 mg': 'med_manage',\n",
    " 'Asoprisnil 25 mg': 'med_manage',\n",
    " 'Asoprisnil 5 mg': 'med_manage',\n",
    " 'Ulipristal (CD20)': 'med_manage',\n",
    " 'Ulipristal (CDB10)': 'med_manage',\n",
    " 'Hysterectomy': 'hysterectomy',\n",
    " 'LBCUV': 'uae',\n",
    " 'LP + GnRH agonist plus raloxifene': 'med_manage',\n",
    " 'LP + placebo': 'med_manage',\n",
    " 'LPA+ MPA / LPA+placebo': 'med_manage',\n",
    " 'LPA+ placebo / LPA+MPA': 'med_manage',\n",
    " 'LUNA plus LBCUV': 'ablation',\n",
    " 'Myomectomy': 'myomectomy',\n",
    " 'No treatment': 'control',\n",
    " 'No treatment (control)': 'control',\n",
    " 'Placebo': 'control',\n",
    " 'Raloxifene, 180mg/day': 'med_manage',\n",
    " 'SC implant of 3.6 goserelin + placebo (3 months) then tibolone 2.5 mg daily (3 months)': 'med_manage',\n",
    " 'SC implant of 3.6 goserelin + placebo (6 months)': 'med_manage',\n",
    " 'SC implant of 3.6 goserelin + tibolone 2.5 mg daily (6 months)': 'med_manage',\n",
    " 'Surgery': 'DROP',\n",
    " 'Tibolone': 'med_manage',\n",
    " 'UAE': 'uae',\n",
    " 'UAE only': 'uae',\n",
    " 'UAE plus goserelin acetate depot': 'uae',\n",
    " 'buserelin + goserelin': 'med_manage',\n",
    " 'buserelin, intranasal': 'med_manage',\n",
    " 'cabergoline': 'med_manage',\n",
    " 'diphereline': 'med_manage',\n",
    " 'gestrinone, 2.5mg': 'med_manage',\n",
    " 'gestrinone, 2.5mg oral + gestrinone, 5mg oral + gestrinone, 5mg vaginal': 'med_manage',\n",
    " 'gestrinone, 5mg': 'med_manage',\n",
    " 'gestrinone, 5mg vaginal': 'med_manage',\n",
    " 'goserelin, subcutaneous': 'med_manage',\n",
    " 'healthy controls': 'control',\n",
    " 'hormone replacement therapy, transdermal': 'DROP',\n",
    " 'hysterectomy or myomectomy': 'DROP',\n",
    " 'letrozole, 2.5mg': 'med_manage',\n",
    " 'leuprolide': 'med_manage',\n",
    " 'leuprolide acetate depot (11.25 mg q 3 months) + Placebo': 'med_manage',\n",
    " 'leuprolide acetate depot (11.25 mg q 3 months) + tibolone 2.5 mg/d orally': 'med_manage',\n",
    " 'leuprolide acetate depot (3.75 mg/28 d) + placebo (B)': 'med_manage',\n",
    " 'leuprolide plus (tibolone 2.5 mg daily) (A)': 'med_manage',\n",
    " 'leuprolide plus MPA': 'med_manage',\n",
    " 'leuprolide plus estrogen-progestin': 'med_manage',\n",
    " 'leuprolide plus placebo': 'med_manage',\n",
    " 'leuprolide plus progestin': 'med_manage',\n",
    " 'leuprolide plus raloxifene 60 mg daily': 'med_manage',\n",
    " 'leuprolide, 1.88mg': 'med_manage',\n",
    " 'leuprolide, 3.75mg': 'med_manage',\n",
    " 'mifepristone, 10mg': 'med_manage',\n",
    " 'mifepristone, 10mg + mifepristone, 5mg': 'med_manage',\n",
    " 'mifepristone, 2.5mg': 'med_manage',\n",
    " 'mifepristone, 5mg': 'med_manage',\n",
    " 'placebo': 'control',\n",
    " 'raloxifene 180 mg daily': 'med_manage',\n",
    " 'raloxifene 60 mg daily': 'med_manage',\n",
    " 'tamoxifen 20 mg daily': 'med_manage',\n",
    " 'tibolone': 'med_manage',\n",
    " 'tibolone, 2.5mg': 'med_manage',\n",
    " 'transdermal estrogen replacement therapy': 'med_manage',\n",
    " 'triptorelin, 100ug': 'med_manage',\n",
    " 'triptorelin, 100ug + triptorelin, 20ug + triptorelin, 5ug': 'med_manage',\n",
    " 'triptorelin, 20ug': 'med_manage',\n",
    " 'triptorelin, 3.6mg/mo': 'med_manage',\n",
    " 'triptorelin, 5ug': 'med_manage',\n",
    " 'ulipristal acetate followed by placebo': 'med_manage',\n",
    " 'ulipristal acetate followed by progestin': 'med_manage',\n",
    " 'ulipristal, 10mg': 'med_manage',\n",
    " 'ulipristal, 5mg': 'med_manage',\n",
    " 'HIFU': 'MRgFUS',\n",
    " 'HIFU with CEUS': 'MRgFUS',\n",
    " 'LUAO': 'uae',\n",
    " 'UAE plus PVA': 'uae',\n",
    " 'UAE plus TAG': 'uae',\n",
    " 'UAE with PVA': 'uae',\n",
    " 'UAE with PVA particles, large': 'uae',\n",
    " 'UAE with PVA particles, small': 'uae',\n",
    " 'UAE with SPA': 'uae',\n",
    " 'UAE with SPVA': 'uae',\n",
    " 'UAE with TAG': 'uae',\n",
    " 'UAE with TAG microspheres': 'uae',\n",
    " 'myomectomy': 'myomectomy',\n",
    " 'myomectomy with vasopressin': 'myomectomy',\n",
    " 'myomectomy, abdominal': 'myomectomy',\n",
    " 'myomectomy, laparoscopic': 'myomectomy',\n",
    " 'myomectomy, loop ligation with vasopressin': 'myomectomy',\n",
    " 'myomectomy, minilaparotomic': 'myomectomy'}\n"
   ]
  },
  {
   "cell_type": "markdown",
   "metadata": {},
   "source": [
    "Assign intervention **categories** to each arm"
   ]
  },
  {
   "cell_type": "code",
   "execution_count": 6,
   "metadata": {
    "collapsed": true
   },
   "outputs": [],
   "source": [
    "datasets = [d.assign(intervention_cat=d.intervention.replace(intervention_lookup)) for d in datasets]"
   ]
  },
  {
   "cell_type": "code",
   "execution_count": 7,
   "metadata": {
    "collapsed": false
   },
   "outputs": [
    {
     "data": {
      "text/plain": [
       "{'DROP',\n",
       " 'MRgFUS',\n",
       " 'ablation',\n",
       " 'control',\n",
       " 'hysterectomy',\n",
       " 'med_manage',\n",
       " 'myomectomy',\n",
       " 'uae'}"
      ]
     },
     "execution_count": 7,
     "metadata": {},
     "output_type": "execute_result"
    }
   ],
   "source": [
    "intervention_categories = set(intervention_lookup.values())\n",
    "intervention_categories"
   ]
  },
  {
   "cell_type": "markdown",
   "metadata": {},
   "source": [
    "Import demographic information"
   ]
  },
  {
   "cell_type": "code",
   "execution_count": 8,
   "metadata": {
    "collapsed": false
   },
   "outputs": [
    {
     "data": {
      "text/plain": [
       "Index(['study_id', 'Citation', 'FamCode', 'FamDesig', 'NCT', 'ArmsN',\n",
       "       'ArmCategory', 'Group_Desc', 'New Grouping', 'Demo_Category',\n",
       "       'Demo_specify', 'BL N', 'Denom_N', 'BL %', 'BL Mean', 'BL SD', 'BL_SE',\n",
       "       'BL_Median', 'BL Min', 'BL Max', 'BL 95% L', 'BL 95% H',\n",
       "       'BL_group_diff', 'Comments'],\n",
       "      dtype='object')"
      ]
     },
     "execution_count": 8,
     "metadata": {},
     "output_type": "execute_result"
    }
   ],
   "source": [
    "demographics = pd.read_excel('data/' + data_file, sheetname='ALL_DEMO_DATA', na_values=missing)\n",
    "demographics.columns"
   ]
  },
  {
   "cell_type": "markdown",
   "metadata": {},
   "source": [
    "Extract columns of interest"
   ]
  },
  {
   "cell_type": "code",
   "execution_count": 9,
   "metadata": {
    "collapsed": false
   },
   "outputs": [],
   "source": [
    "age_data = demographics.loc[demographics.Demo_Category=='Age', ['study_id', 'New Grouping', 'BL Mean', 'BL SD']]"
   ]
  },
  {
   "cell_type": "markdown",
   "metadata": {},
   "source": [
    "Clean arm labels"
   ]
  },
  {
   "cell_type": "code",
   "execution_count": 10,
   "metadata": {
    "collapsed": false
   },
   "outputs": [],
   "source": [
    "age_data = age_data.assign(arm=age_data['New Grouping'].str.replace(':','')).drop('New Grouping', axis=1)"
   ]
  },
  {
   "cell_type": "code",
   "execution_count": 11,
   "metadata": {
    "collapsed": false
   },
   "outputs": [
    {
     "data": {
      "text/plain": [
       "array(['G2', 'G1', 'G1b', 'G1a', 'G3', 'CG', 'G1c', 'G1+G2', 'G1a+G1b+G1c'], dtype=object)"
      ]
     },
     "execution_count": 11,
     "metadata": {},
     "output_type": "execute_result"
    }
   ],
   "source": [
    "age_data.arm.unique()"
   ]
  },
  {
   "cell_type": "markdown",
   "metadata": {},
   "source": [
    "Concatenate all datasets"
   ]
  },
  {
   "cell_type": "code",
   "execution_count": 12,
   "metadata": {
    "collapsed": false
   },
   "outputs": [],
   "source": [
    "all_data = pd.concat(datasets)"
   ]
  },
  {
   "cell_type": "markdown",
   "metadata": {},
   "source": [
    "Clean up study arm field"
   ]
  },
  {
   "cell_type": "code",
   "execution_count": 13,
   "metadata": {
    "collapsed": false
   },
   "outputs": [],
   "source": [
    "all_arm = all_data.trial_arm.str.replace(':','').str.replace(' ', '').str.replace('Group', 'G')\n",
    "all_data = all_data.assign(arm=all_arm).drop('trial_arm', axis=1)"
   ]
  },
  {
   "cell_type": "code",
   "execution_count": 14,
   "metadata": {
    "collapsed": false
   },
   "outputs": [
    {
     "data": {
      "text/plain": [
       "array(['G1', 'G2', 'G3', 'CG', 'G1a', 'G1b', 'G1c', 'CG1', 'CG2', 'G1/CG',\n",
       "       'CG/G1', 'G1a+G1b', 'G1a+G1b+G1c', 'G1+G2'], dtype=object)"
      ]
     },
     "execution_count": 14,
     "metadata": {},
     "output_type": "execute_result"
    }
   ],
   "source": [
    "all_data.arm.unique()"
   ]
  },
  {
   "cell_type": "markdown",
   "metadata": {},
   "source": [
    "Clean up study ID field. Currently contains non-numeric entries. Will strip out the first study ID from the compund labels, as this is the parent study ID."
   ]
  },
  {
   "cell_type": "code",
   "execution_count": 15,
   "metadata": {
    "collapsed": false
   },
   "outputs": [
    {
     "data": {
      "text/plain": [
       "array([23, 347, 1400, 1529, 1806, 1889, 2375, 2967, 3382, 3690, 3785, 5186,\n",
       "       5474, 414, 1849, 3016, 3181, 3324, 3674, 4258, 4468, 4858, 4960,\n",
       "       5276, 5302, 6091, 6263, 6696, 7155, 7504, 7797, 7936, 95.0, 629.0,\n",
       "       757.0, 1290.0, 2318.0, 2555.0, 2635.0, 3312.0, 3978.0, 4787.0,\n",
       "       4961.0, 5721.0, 6393.0, 6903.0, 7139.0, 7309.0, 7530.0, 7589.0,\n",
       "       7763.0, '3803_3052', 1546, '3365_2026_1657_986',\n",
       "       '3819_815_1986_2759_2971_\\n3120_3175_3192_3678_3721', 4789, 2006], dtype=object)"
      ]
     },
     "execution_count": 15,
     "metadata": {},
     "output_type": "execute_result"
    }
   ],
   "source": [
    "all_data.study_id.unique()"
   ]
  },
  {
   "cell_type": "code",
   "execution_count": 16,
   "metadata": {
    "collapsed": false
   },
   "outputs": [],
   "source": [
    "str_mask = all_data.study_id.str.isnumeric()==False\n",
    "all_data.loc[str_mask, 'study_id'] = all_data.study_id[str_mask].apply(lambda x: x[:x.find('_')])\n",
    "all_data.study_id = all_data.study_id.astype(int)"
   ]
  },
  {
   "cell_type": "code",
   "execution_count": 17,
   "metadata": {
    "collapsed": false
   },
   "outputs": [
    {
     "data": {
      "text/plain": [
       "array([  23,  347, 1400, 1529, 1806, 1889, 2375, 2967, 3382, 3690, 3785,\n",
       "       5186, 5474,  414, 1849, 3016, 3181, 3324, 3674, 4258, 4468, 4858,\n",
       "       4960, 5276, 5302, 6091, 6263, 6696, 7155, 7504, 7797, 7936,   95,\n",
       "        629,  757, 1290, 2318, 2555, 2635, 3312, 3978, 4787, 4961, 5721,\n",
       "       6393, 6903, 7139, 7309, 7530, 7589, 7763, 3803, 1546, 3365, 3819,\n",
       "       4789, 2006])"
      ]
     },
     "execution_count": 17,
     "metadata": {},
     "output_type": "execute_result"
    }
   ],
   "source": [
    "all_data.study_id.unique()"
   ]
  },
  {
   "cell_type": "markdown",
   "metadata": {},
   "source": [
    "Here is what the data look like after merging."
   ]
  },
  {
   "cell_type": "code",
   "execution_count": 18,
   "metadata": {
    "collapsed": false,
    "scrolled": true
   },
   "outputs": [
    {
     "data": {
      "text/html": [
       "<div>\n",
       "<table border=\"1\" class=\"dataframe\">\n",
       "  <thead>\n",
       "    <tr style=\"text-align: right;\">\n",
       "      <th></th>\n",
       "      <th>study_id</th>\n",
       "      <th>intervention</th>\n",
       "      <th>baseline_n</th>\n",
       "      <th>followup_interval</th>\n",
       "      <th>followup_n</th>\n",
       "      <th>hysterectomy</th>\n",
       "      <th>myomectomy</th>\n",
       "      <th>uae</th>\n",
       "      <th>MRIgFUS</th>\n",
       "      <th>ablation</th>\n",
       "      <th>iud</th>\n",
       "      <th>no_treatment</th>\n",
       "      <th>intervention_cat</th>\n",
       "      <th>arm</th>\n",
       "    </tr>\n",
       "  </thead>\n",
       "  <tbody>\n",
       "    <tr>\n",
       "      <th>0</th>\n",
       "      <td>23</td>\n",
       "      <td>HIFU with CEUS</td>\n",
       "      <td>17</td>\n",
       "      <td>12</td>\n",
       "      <td>17</td>\n",
       "      <td>0</td>\n",
       "      <td>0</td>\n",
       "      <td>0</td>\n",
       "      <td>1</td>\n",
       "      <td>0</td>\n",
       "      <td>0</td>\n",
       "      <td>16</td>\n",
       "      <td>MRgFUS</td>\n",
       "      <td>G1</td>\n",
       "    </tr>\n",
       "    <tr>\n",
       "      <th>1</th>\n",
       "      <td>23</td>\n",
       "      <td>HIFU</td>\n",
       "      <td>16</td>\n",
       "      <td>12</td>\n",
       "      <td>16</td>\n",
       "      <td>0</td>\n",
       "      <td>0</td>\n",
       "      <td>0</td>\n",
       "      <td>3</td>\n",
       "      <td>0</td>\n",
       "      <td>0</td>\n",
       "      <td>13</td>\n",
       "      <td>MRgFUS</td>\n",
       "      <td>G2</td>\n",
       "    </tr>\n",
       "    <tr>\n",
       "      <th>2</th>\n",
       "      <td>347</td>\n",
       "      <td>UAE with SPVA</td>\n",
       "      <td>30</td>\n",
       "      <td>12</td>\n",
       "      <td>27</td>\n",
       "      <td>1</td>\n",
       "      <td>0</td>\n",
       "      <td>0</td>\n",
       "      <td>0</td>\n",
       "      <td>0</td>\n",
       "      <td>0</td>\n",
       "      <td>26</td>\n",
       "      <td>uae</td>\n",
       "      <td>G1</td>\n",
       "    </tr>\n",
       "    <tr>\n",
       "      <th>3</th>\n",
       "      <td>347</td>\n",
       "      <td>UAE with TAG</td>\n",
       "      <td>30</td>\n",
       "      <td>12</td>\n",
       "      <td>29</td>\n",
       "      <td>0</td>\n",
       "      <td>0</td>\n",
       "      <td>0</td>\n",
       "      <td>0</td>\n",
       "      <td>0</td>\n",
       "      <td>0</td>\n",
       "      <td>29</td>\n",
       "      <td>uae</td>\n",
       "      <td>G2</td>\n",
       "    </tr>\n",
       "    <tr>\n",
       "      <th>4</th>\n",
       "      <td>1400</td>\n",
       "      <td>UAE</td>\n",
       "      <td>63</td>\n",
       "      <td>6</td>\n",
       "      <td>62</td>\n",
       "      <td>0</td>\n",
       "      <td>1</td>\n",
       "      <td>5</td>\n",
       "      <td>0</td>\n",
       "      <td>0</td>\n",
       "      <td>0</td>\n",
       "      <td>56</td>\n",
       "      <td>uae</td>\n",
       "      <td>G1</td>\n",
       "    </tr>\n",
       "  </tbody>\n",
       "</table>\n",
       "</div>"
      ],
      "text/plain": [
       "   study_id    intervention baseline_n followup_interval  followup_n  \\\n",
       "0        23  HIFU with CEUS         17                12          17   \n",
       "1        23            HIFU         16                12          16   \n",
       "2       347   UAE with SPVA         30                12          27   \n",
       "3       347    UAE with TAG         30                12          29   \n",
       "4      1400             UAE         63                 6          62   \n",
       "\n",
       "   hysterectomy  myomectomy  uae  MRIgFUS  ablation  iud  no_treatment  \\\n",
       "0             0           0    0        1         0    0            16   \n",
       "1             0           0    0        3         0    0            13   \n",
       "2             1           0    0        0         0    0            26   \n",
       "3             0           0    0        0         0    0            29   \n",
       "4             0           1    5        0         0    0            56   \n",
       "\n",
       "  intervention_cat arm  \n",
       "0           MRgFUS  G1  \n",
       "1           MRgFUS  G2  \n",
       "2              uae  G1  \n",
       "3              uae  G2  \n",
       "4              uae  G1  "
      ]
     },
     "execution_count": 18,
     "metadata": {},
     "output_type": "execute_result"
    }
   ],
   "source": [
    "all_data.head()"
   ]
  },
  {
   "cell_type": "code",
   "execution_count": 19,
   "metadata": {
    "collapsed": false,
    "scrolled": true
   },
   "outputs": [
    {
     "data": {
      "text/plain": [
       "intervention_cat\n",
       "DROP              8\n",
       "MRgFUS            2\n",
       "ablation          3\n",
       "control          11\n",
       "hysterectomy      7\n",
       "med_manage      100\n",
       "myomectomy       14\n",
       "uae              34\n",
       "Name: study_id, dtype: int64"
      ]
     },
     "execution_count": 19,
     "metadata": {},
     "output_type": "execute_result"
    }
   ],
   "source": [
    "all_data.groupby('intervention_cat')['study_id'].count()"
   ]
  },
  {
   "cell_type": "markdown",
   "metadata": {},
   "source": [
    "Merge age data with outcomes"
   ]
  },
  {
   "cell_type": "code",
   "execution_count": 20,
   "metadata": {
    "collapsed": false
   },
   "outputs": [],
   "source": [
    "all_data_merged = pd.merge(all_data, age_data, on=['study_id', 'arm'])"
   ]
  },
  {
   "cell_type": "markdown",
   "metadata": {},
   "source": [
    "For now, drop arms with no reported followup time (we may want to impute these):"
   ]
  },
  {
   "cell_type": "code",
   "execution_count": 21,
   "metadata": {
    "collapsed": false
   },
   "outputs": [],
   "source": [
    "all_data_merged = all_data_merged.dropna(subset=['followup_interval'])"
   ]
  },
  {
   "cell_type": "markdown",
   "metadata": {},
   "source": [
    "Parse followup intervals that are ranges, creating `fup_min` and `fup_max` fields."
   ]
  },
  {
   "cell_type": "code",
   "execution_count": 22,
   "metadata": {
    "collapsed": false
   },
   "outputs": [],
   "source": [
    "dataset = all_data_merged.assign(fup_min=0, fup_max=all_data.followup_interval.convert_objects(convert_numeric=True).max()+1)\n",
    "range_index = dataset.followup_interval.str.contains('to').notnull()\n",
    "range_vals = dataset[range_index].followup_interval.apply(lambda x: x.split(' '))\n",
    "dataset.loc[range_index, ['fup_min']] = range_vals.apply(lambda x: float(x[0]))\n",
    "dataset.loc[range_index, ['fup_max']] = range_vals.apply(lambda x: float(x[-1]))\n",
    "dataset.loc[range_index, ['followup_interval']] = np.nan\n",
    "dataset['followup_interval'] = dataset.followup_interval.astype(float)"
   ]
  },
  {
   "cell_type": "markdown",
   "metadata": {},
   "source": [
    "Fill missing values"
   ]
  },
  {
   "cell_type": "code",
   "execution_count": 23,
   "metadata": {
    "collapsed": false
   },
   "outputs": [],
   "source": [
    "dataset.loc[dataset.followup_n.isnull(), 'followup_n'] = dataset.loc[dataset.followup_n.isnull(), 'baseline_n']"
   ]
  },
  {
   "cell_type": "code",
   "execution_count": 24,
   "metadata": {
    "collapsed": false
   },
   "outputs": [],
   "source": [
    "dataset.loc[dataset.no_treatment.isnull(), 'no_treatment'] = dataset.followup_n - dataset[[ 'hysterectomy', 'myomectomy', 'uae',\n",
    "                                                        'MRIgFUS', 'ablation', 'iud']].sum(1)[dataset.no_treatment.isnull()]"
   ]
  },
  {
   "cell_type": "code",
   "execution_count": 25,
   "metadata": {
    "collapsed": false
   },
   "outputs": [
    {
     "data": {
      "text/plain": [
       "array([ 12. ,   6. ,   nan,  24. ,   2. ,   1. ,   3. ,   5.5,   9. ,\n",
       "        18. ,   0. ,   7. ,  60. ])"
      ]
     },
     "execution_count": 25,
     "metadata": {},
     "output_type": "execute_result"
    }
   ],
   "source": [
    "dataset.followup_interval.unique()"
   ]
  },
  {
   "cell_type": "code",
   "execution_count": 26,
   "metadata": {
    "collapsed": false
   },
   "outputs": [
    {
     "data": {
      "text/plain": [
       "array([43.1, 42, 43.9, 41.7, 41, 43.5, 40.3, 42.7, 45, 44, 38.26, 32.1,\n",
       "       34.3, 44.9, 42.5, 43.3, 38.4, 37.5, 45.9, 44.5, 33.97, 34, 41.3,\n",
       "       42.9, 42.1, 43.4, 37.7, 43, 40.2, 41.1, 49.1, 48.6, 36.3, 35.9,\n",
       "       37.2, 54.2, 51.2, 43.6, nan, 38.9, 37.1, 41.4, 36.9, 41.6, 39, 39.6,\n",
       "       39.67, 36.87, 30.94, 31, 39.5, 42.8, 56.2, 57.9, 50.2, 50.6, 34.4,\n",
       "       42.2, 49.2, 32.6, 48.4, 33.8, 38.1, 37, 32.3, 43.2, 44.6, 45.4,\n",
       "       46.4, 48.5, 48.3], dtype=object)"
      ]
     },
     "execution_count": 26,
     "metadata": {},
     "output_type": "execute_result"
    }
   ],
   "source": [
    "dataset['BL Mean'].unique()"
   ]
  },
  {
   "cell_type": "markdown",
   "metadata": {},
   "source": [
    "Identify crossover studies"
   ]
  },
  {
   "cell_type": "code",
   "execution_count": 27,
   "metadata": {
    "collapsed": true
   },
   "outputs": [],
   "source": [
    "crossover_studies = 7155, 3324, 414, 95, 7139, 6903, 3721, 3181, 4858, 4960, 4258, 4789, 2006, 2318"
   ]
  },
  {
   "cell_type": "code",
   "execution_count": 28,
   "metadata": {
    "collapsed": false
   },
   "outputs": [],
   "source": [
    "dataset['crossover_study'] = dataset.study_id.isin(crossover_studies)"
   ]
  },
  {
   "cell_type": "code",
   "execution_count": 29,
   "metadata": {
    "collapsed": false,
    "scrolled": false
   },
   "outputs": [
    {
     "data": {
      "text/html": [
       "<div>\n",
       "<table border=\"1\" class=\"dataframe\">\n",
       "  <thead>\n",
       "    <tr style=\"text-align: right;\">\n",
       "      <th></th>\n",
       "      <th>study_id</th>\n",
       "      <th>intervention</th>\n",
       "      <th>baseline_n</th>\n",
       "      <th>followup_interval</th>\n",
       "      <th>followup_n</th>\n",
       "      <th>hysterectomy</th>\n",
       "      <th>myomectomy</th>\n",
       "      <th>uae</th>\n",
       "      <th>MRIgFUS</th>\n",
       "      <th>ablation</th>\n",
       "      <th>iud</th>\n",
       "      <th>no_treatment</th>\n",
       "      <th>intervention_cat</th>\n",
       "      <th>arm</th>\n",
       "      <th>BL Mean</th>\n",
       "      <th>BL SD</th>\n",
       "      <th>fup_max</th>\n",
       "      <th>fup_min</th>\n",
       "      <th>crossover_study</th>\n",
       "    </tr>\n",
       "  </thead>\n",
       "  <tbody>\n",
       "    <tr>\n",
       "      <th>0</th>\n",
       "      <td>23</td>\n",
       "      <td>HIFU with CEUS</td>\n",
       "      <td>17</td>\n",
       "      <td>12</td>\n",
       "      <td>17</td>\n",
       "      <td>0</td>\n",
       "      <td>0</td>\n",
       "      <td>0</td>\n",
       "      <td>1</td>\n",
       "      <td>0</td>\n",
       "      <td>0</td>\n",
       "      <td>16</td>\n",
       "      <td>MRgFUS</td>\n",
       "      <td>G1</td>\n",
       "      <td>43.1</td>\n",
       "      <td>5.3</td>\n",
       "      <td>61</td>\n",
       "      <td>0</td>\n",
       "      <td>False</td>\n",
       "    </tr>\n",
       "    <tr>\n",
       "      <th>1</th>\n",
       "      <td>23</td>\n",
       "      <td>HIFU</td>\n",
       "      <td>16</td>\n",
       "      <td>12</td>\n",
       "      <td>16</td>\n",
       "      <td>0</td>\n",
       "      <td>0</td>\n",
       "      <td>0</td>\n",
       "      <td>3</td>\n",
       "      <td>0</td>\n",
       "      <td>0</td>\n",
       "      <td>13</td>\n",
       "      <td>MRgFUS</td>\n",
       "      <td>G2</td>\n",
       "      <td>42</td>\n",
       "      <td>5.4</td>\n",
       "      <td>61</td>\n",
       "      <td>0</td>\n",
       "      <td>False</td>\n",
       "    </tr>\n",
       "    <tr>\n",
       "      <th>2</th>\n",
       "      <td>347</td>\n",
       "      <td>UAE with SPVA</td>\n",
       "      <td>30</td>\n",
       "      <td>12</td>\n",
       "      <td>27</td>\n",
       "      <td>1</td>\n",
       "      <td>0</td>\n",
       "      <td>0</td>\n",
       "      <td>0</td>\n",
       "      <td>0</td>\n",
       "      <td>0</td>\n",
       "      <td>26</td>\n",
       "      <td>uae</td>\n",
       "      <td>G1</td>\n",
       "      <td>43.9</td>\n",
       "      <td>5.0</td>\n",
       "      <td>61</td>\n",
       "      <td>0</td>\n",
       "      <td>False</td>\n",
       "    </tr>\n",
       "    <tr>\n",
       "      <th>3</th>\n",
       "      <td>347</td>\n",
       "      <td>UAE with TAG</td>\n",
       "      <td>30</td>\n",
       "      <td>12</td>\n",
       "      <td>29</td>\n",
       "      <td>0</td>\n",
       "      <td>0</td>\n",
       "      <td>0</td>\n",
       "      <td>0</td>\n",
       "      <td>0</td>\n",
       "      <td>0</td>\n",
       "      <td>29</td>\n",
       "      <td>uae</td>\n",
       "      <td>G2</td>\n",
       "      <td>41.7</td>\n",
       "      <td>5.4</td>\n",
       "      <td>61</td>\n",
       "      <td>0</td>\n",
       "      <td>False</td>\n",
       "    </tr>\n",
       "    <tr>\n",
       "      <th>4</th>\n",
       "      <td>1400</td>\n",
       "      <td>UAE</td>\n",
       "      <td>63</td>\n",
       "      <td>6</td>\n",
       "      <td>62</td>\n",
       "      <td>0</td>\n",
       "      <td>1</td>\n",
       "      <td>5</td>\n",
       "      <td>0</td>\n",
       "      <td>0</td>\n",
       "      <td>0</td>\n",
       "      <td>56</td>\n",
       "      <td>uae</td>\n",
       "      <td>G1</td>\n",
       "      <td>41</td>\n",
       "      <td>3.5</td>\n",
       "      <td>61</td>\n",
       "      <td>0</td>\n",
       "      <td>False</td>\n",
       "    </tr>\n",
       "  </tbody>\n",
       "</table>\n",
       "</div>"
      ],
      "text/plain": [
       "   study_id    intervention baseline_n  followup_interval  followup_n  \\\n",
       "0        23  HIFU with CEUS         17                 12          17   \n",
       "1        23            HIFU         16                 12          16   \n",
       "2       347   UAE with SPVA         30                 12          27   \n",
       "3       347    UAE with TAG         30                 12          29   \n",
       "4      1400             UAE         63                  6          62   \n",
       "\n",
       "   hysterectomy  myomectomy  uae  MRIgFUS  ablation  iud  no_treatment  \\\n",
       "0             0           0    0        1         0    0            16   \n",
       "1             0           0    0        3         0    0            13   \n",
       "2             1           0    0        0         0    0            26   \n",
       "3             0           0    0        0         0    0            29   \n",
       "4             0           1    5        0         0    0            56   \n",
       "\n",
       "  intervention_cat arm BL Mean  BL SD  fup_max  fup_min crossover_study  \n",
       "0           MRgFUS  G1    43.1    5.3       61        0           False  \n",
       "1           MRgFUS  G2      42    5.4       61        0           False  \n",
       "2              uae  G1    43.9    5.0       61        0           False  \n",
       "3              uae  G2    41.7    5.4       61        0           False  \n",
       "4              uae  G1      41    3.5       61        0           False  "
      ]
     },
     "execution_count": 29,
     "metadata": {},
     "output_type": "execute_result"
    }
   ],
   "source": [
    "dataset.head()"
   ]
  },
  {
   "cell_type": "markdown",
   "metadata": {},
   "source": [
    "Export data for posterity"
   ]
  },
  {
   "cell_type": "code",
   "execution_count": 30,
   "metadata": {
    "collapsed": true
   },
   "outputs": [],
   "source": [
    "dataset.to_csv('data/UF_interventions_clean.csv', na_rep=None)"
   ]
  },
  {
   "cell_type": "code",
   "execution_count": 31,
   "metadata": {
    "collapsed": true
   },
   "outputs": [],
   "source": [
    "outcome_cats = [ 'hysterectomy', 'myomectomy', 'uae',\n",
    "       'MRIgFUS', 'ablation', 'iud', 'no_treatment']"
   ]
  },
  {
   "cell_type": "code",
   "execution_count": 32,
   "metadata": {
    "collapsed": false
   },
   "outputs": [],
   "source": [
    "studies = dataset.study_id.unique()\n",
    "study_index = np.array([np.argwhere(studies==i).squeeze() for i in dataset.study_id])"
   ]
  },
  {
   "cell_type": "markdown",
   "metadata": {},
   "source": [
    "## Model Specification"
   ]
  },
  {
   "cell_type": "code",
   "execution_count": 99,
   "metadata": {
    "collapsed": false
   },
   "outputs": [],
   "source": [
    "import theano.tensor as T\n",
    "from numpy.ma import masked_values\n",
    "\n",
    "\n",
    "SumTo1 = pm.transforms.SumTo1()\n",
    "inverse_logit = pm.transforms.inverse_logit\n",
    "\n",
    "def specify_model(model, intervention, intervention_random_effect=False):\n",
    "    \n",
    "    intervention_data = dataset[(dataset.intervention_cat==intervention)\n",
    "                            & ~dataset[outcome_cats].isnull().sum(axis=1).astype(bool)].copy()\n",
    "    \n",
    "    intervention_data.loc[intervention_data['followup_interval'].isnull(), 'followup_interval'] = 17.33\n",
    "    followup_masked = masked_values(intervention_data.followup_interval.values, 17.33)\n",
    "    followup_min, followup_max = intervention_data[['fup_min', 'fup_max']].values.T\n",
    "\n",
    "    outcomes = intervention_data[[ 'hysterectomy', 'myomectomy', 'uae',\n",
    "           'MRIgFUS', 'ablation', 'iud', 'no_treatment']].values\n",
    "    \n",
    "    if np.isnan(outcomes).any():\n",
    "        print('Missing values in outcomes for', intervention)\n",
    "\n",
    "    followup_n = intervention_data.followup_n.values\n",
    "\n",
    "    # Center age at 40\n",
    "    intervention_data.loc[intervention_data['BL Mean'].isnull(), 'BL Mean'] = 90\n",
    "    age_masked = masked_values(intervention_data['BL Mean'].values - 40, 50)\n",
    "    \n",
    "    studies = intervention_data.study_id.unique()\n",
    "    study_index = np.array([np.argwhere(studies==i).squeeze() for i in intervention_data.study_id])\n",
    "\n",
    "    study_id = intervention_data.study_id.values\n",
    "    \n",
    "    n_studies = len(set(study_id))\n",
    "\n",
    "    n_outcomes = 7\n",
    "    arms = len(outcomes)\n",
    "    \n",
    "    if intervention_random_effect:\n",
    "        \n",
    "        interventions = [s.split(' ')[0].replace(',','') \n",
    "                                   for s in intervention_data['intervention'].str.lower()]\n",
    "        unique_interventions = np.unique(interventions)\n",
    "        intervention_index = [np.argwhere(unique_interventions==i)[0][0] for i in interventions]\n",
    "            \n",
    "    with model:\n",
    "\n",
    "        # Impute followup times uniformly over the observed range\n",
    "        if np.any(followup_masked.mask):\n",
    "            followup_time = pm.Uniform('followup_time', followup_min.min(), followup_max.max(), \n",
    "                                       shape=len(followup_min), \n",
    "                                       observed=followup_masked)\n",
    "        else:\n",
    "            followup_time = followup_masked.data.astype(float)\n",
    "        \n",
    "        # Impute age using a T-distribution\n",
    "        if np.any(age_masked.mask):\n",
    "            nu = pm.Exponential('nu', 0.01, testval=10)\n",
    "            age_centered = pm.StudentT('age_centered', nu, shape=len(age_masked), observed=age_masked)\n",
    "        else:\n",
    "            age_centered = age_masked.data.astype(float)\n",
    "\n",
    "        # Mean probabilities (on logit scale)\n",
    "        μ = pm.Normal('μ', 0, 0.01, shape=n_outcomes, testval=np.ones(n_outcomes))\n",
    "        # Followup time covariates \n",
    "        β_fup = pm.Normal('β_fup', 0, 1e-6, shape=n_outcomes, testval=np.zeros(n_outcomes))\n",
    "        # Age covariate\n",
    "        β_age = pm.Normal('β_age', 0, 1e-6, shape=n_outcomes, testval=np.zeros(n_outcomes))\n",
    "\n",
    "        # Study random effect\n",
    "        σ = pm.Uniform('σ', 0, 100, testval=10)\n",
    "        ϵ = pm.Normal('ϵ', 0, sd=σ, shape=n_studies)\n",
    "        \n",
    "        if intervention_random_effect:\n",
    "            η = pm.Uniform('η', 0, 100, testval=10)\n",
    "            τ = pm.Normal('τ', 0, sd=η, shape=len(unique_interventions))\n",
    "            # Expected value (on logit scale)\n",
    "            θ_uae = [T.exp(μ + β_fup*followup_time[i] + β_age*age_centered[i] \n",
    "                           + ϵ[study_index[i]] + τ[intervention_index[i]]) \n",
    "                             for i in range(arms)]            \n",
    "        else:\n",
    "            # Expected value (on logit scale)\n",
    "            θ_uae = [T.exp(μ + β_fup*followup_time[i] + β_age*age_centered[i] + ϵ[study_index[i]]) \n",
    "                             for i in range(arms)]\n",
    "\n",
    "        # Inverse-logit transformation to convert to probabilities\n",
    "        π = [pm.Deterministic('π_%i' % i, t/t.sum()) for i,t in enumerate(θ_uae)]\n",
    "\n",
    "        # Multinomial data likelihood\n",
    "        likelihood = [pm.Multinomial('likelihood_%i' % i, outcomes[i].sum(), π[i], \n",
    "                                     observed=outcomes[i]) for i in range(arms)]\n",
    "        p_6 = pm.Deterministic('p_6', T.exp(μ + β_fup*6)/T.exp(μ + β_fup*6).sum())\n",
    "        p_12 = pm.Deterministic('p_12', T.exp(μ + β_fup*12)/T.exp(μ + β_fup*12).sum())\n",
    "        p_6_50 = pm.Deterministic('p_6_50', \n",
    "                          T.exp(μ + β_fup*6 + β_age*10)/T.exp(μ + β_fup*6 + β_age*10).sum())\n",
    "        \n",
    "      \n",
    "    return model"
   ]
  },
  {
   "cell_type": "markdown",
   "metadata": {},
   "source": [
    "## Model Execution"
   ]
  },
  {
   "cell_type": "code",
   "execution_count": 74,
   "metadata": {
    "collapsed": true
   },
   "outputs": [],
   "source": [
    "n_iterations = 20000\n",
    "n_burn = 10000"
   ]
  },
  {
   "cell_type": "markdown",
   "metadata": {},
   "source": [
    "### UAE Model"
   ]
  },
  {
   "cell_type": "code",
   "execution_count": 39,
   "metadata": {
    "collapsed": false,
    "scrolled": false
   },
   "outputs": [
    {
     "name": "stdout",
     "output_type": "stream",
     "text": [
      "Applied interval-transform to σ and added transformed σ_interval to model.\n"
     ]
    }
   ],
   "source": [
    "uae_model = specify_model(pm.Model(), 'uae')"
   ]
  },
  {
   "cell_type": "code",
   "execution_count": 40,
   "metadata": {
    "collapsed": false,
    "scrolled": false
   },
   "outputs": [
    {
     "name": "stdout",
     "output_type": "stream",
     "text": [
      " [-----------------100%-----------------] 20000 of 20000 complete in 96.6 sec"
     ]
    }
   ],
   "source": [
    "with uae_model:\n",
    "        \n",
    "    if False:\n",
    "#         start = pm.find_MAP()\n",
    "        trace_uae = pm.sample(5000, random_seed=20140925)\n",
    "        \n",
    "    else:\n",
    "        trace_uae = pm.sample(n_iterations, step=pm.Metropolis(), random_seed=20140925)\n",
    "\n",
    "### Model output"
   ]
  },
  {
   "cell_type": "code",
   "execution_count": 41,
   "metadata": {
    "collapsed": true
   },
   "outputs": [],
   "source": [
    "plot_labels = dataset.columns[5:12]"
   ]
  },
  {
   "cell_type": "markdown",
   "metadata": {},
   "source": [
    "Imputed follow-up times"
   ]
  },
  {
   "cell_type": "code",
   "execution_count": 75,
   "metadata": {
    "collapsed": false
   },
   "outputs": [
    {
     "data": {
      "text/plain": [
       "<matplotlib.gridspec.GridSpec at 0x7fc9fb03bc18>"
      ]
     },
     "execution_count": 75,
     "metadata": {},
     "output_type": "execute_result"
    },
    {
     "data": {
      "image/png": "[encoded data removed]",
      "text/plain": [
       "<matplotlib.figure.Figure at 0x7fc9fb03bba8>"
      ]
     },
     "metadata": {},
     "output_type": "display_data"
    }
   ],
   "source": [
    "pm.forestplot(trace_uae[n_burn:], vars=['followup_time_missing'])"
   ]
  },
  {
   "cell_type": "markdown",
   "metadata": {},
   "source": [
    "Baseline estimates for each outcome, on the log scale."
   ]
  },
  {
   "cell_type": "code",
   "execution_count": 76,
   "metadata": {
    "collapsed": false,
    "scrolled": false
   },
   "outputs": [
    {
     "data": {
      "text/plain": [
       "<matplotlib.gridspec.GridSpec at 0x7fc9fb01ff60>"
      ]
     },
     "execution_count": 76,
     "metadata": {},
     "output_type": "execute_result"
    },
    {
     "data": {
      "image/png": "[encoded data removed]",
      "text/plain": [
       "<matplotlib.figure.Figure at 0x7fc9fbd559e8>"
      ]
     },
     "metadata": {},
     "output_type": "display_data"
    }
   ],
   "source": [
    "pm.forestplot(trace_uae[n_burn:], vars=['μ'], ylabels=plot_labels)"
   ]
  },
  {
   "cell_type": "markdown",
   "metadata": {},
   "source": [
    "Follow-up time effect size estimates. Positive values indicate higher probability of event with increased follow-up time."
   ]
  },
  {
   "cell_type": "code",
   "execution_count": 77,
   "metadata": {
    "collapsed": false
   },
   "outputs": [
    {
     "data": {
      "text/plain": [
       "<matplotlib.gridspec.GridSpec at 0x7fc9fbaace48>"
      ]
     },
     "execution_count": 77,
     "metadata": {},
     "output_type": "execute_result"
    },
    {
     "data": {
      "image/png": "[encoded data removed]",
      "text/plain": [
       "<matplotlib.figure.Figure at 0x7fc9faee4630>"
      ]
     },
     "metadata": {},
     "output_type": "display_data"
    }
   ],
   "source": [
    "pm.forestplot(trace_uae[n_burn:], vars=['β_fup'], ylabels=plot_labels)"
   ]
  },
  {
   "cell_type": "markdown",
   "metadata": {},
   "source": [
    "Age effect size estimates. Positive values suggest higher probability of event with each year above age 40."
   ]
  },
  {
   "cell_type": "code",
   "execution_count": 78,
   "metadata": {
    "collapsed": false
   },
   "outputs": [
    {
     "data": {
      "text/plain": [
       "<matplotlib.gridspec.GridSpec at 0x7fc9fae896a0>"
      ]
     },
     "execution_count": 78,
     "metadata": {},
     "output_type": "execute_result"
    },
    {
     "data": {
      "image/png": "[encoded data removed]",
      "text/plain": [
       "<matplotlib.figure.Figure at 0x7fc9fae19e10>"
      ]
     },
     "metadata": {},
     "output_type": "display_data"
    }
   ],
   "source": [
    "pm.forestplot(trace_uae[n_burn:], vars=['β_age'], ylabels=plot_labels)"
   ]
  },
  {
   "cell_type": "markdown",
   "metadata": {},
   "source": [
    "Estimated probabilities of follow-up interventions for 6-month followup and age 40."
   ]
  },
  {
   "cell_type": "code",
   "execution_count": 79,
   "metadata": {
    "collapsed": false
   },
   "outputs": [
    {
     "data": {
      "text/plain": [
       "<matplotlib.gridspec.GridSpec at 0x7fc9fae12668>"
      ]
     },
     "execution_count": 79,
     "metadata": {},
     "output_type": "execute_result"
    },
    {
     "data": {
      "image/png": "[encoded data removed]",
      "text/plain": [
       "<matplotlib.figure.Figure at 0x7fc9fae12828>"
      ]
     },
     "metadata": {},
     "output_type": "display_data"
    }
   ],
   "source": [
    "pm.forestplot(trace_uae[n_burn:], vars=['p_6'], ylabels=plot_labels)"
   ]
  },
  {
   "cell_type": "markdown",
   "metadata": {},
   "source": [
    "Estimates corresponding to the above (in the same order as plotted)"
   ]
  },
  {
   "cell_type": "code",
   "execution_count": 80,
   "metadata": {
    "collapsed": false
   },
   "outputs": [
    {
     "name": "stdout",
     "output_type": "stream",
     "text": [
      "\n",
      "p_6:\n",
      "\n",
      "  Mean             SD               MC Error         95% HPD interval\n",
      "  -------------------------------------------------------------------\n",
      "  \n",
      "  0.016            0.005            0.000            [0.007, 0.027]\n",
      "  0.036            0.009            0.001            [0.020, 0.054]\n",
      "  0.013            0.004            0.000            [0.006, 0.021]\n",
      "  0.000            0.000            0.000            [0.000, 0.000]\n",
      "  0.000            0.000            0.000            [0.000, 0.001]\n",
      "  0.000            0.001            0.000            [0.000, 0.002]\n",
      "  0.934            0.011            0.001            [0.912, 0.955]\n",
      "\n",
      "  Posterior quantiles:\n",
      "  2.5            25             50             75             97.5\n",
      "  |--------------|==============|==============|--------------|\n",
      "  \n",
      "  0.008          0.013          0.016          0.019          0.028\n",
      "  0.020          0.030          0.035          0.041          0.054\n",
      "  0.006          0.010          0.013          0.016          0.022\n",
      "  0.000          0.000          0.000          0.000          0.000\n",
      "  0.000          0.000          0.000          0.000          0.001\n",
      "  0.000          0.000          0.000          0.000          0.002\n",
      "  0.911          0.927          0.935          0.942          0.954\n",
      "\n"
     ]
    }
   ],
   "source": [
    "pm.summary(trace_uae[n_burn:], vars=['p_6'])"
   ]
  },
  {
   "cell_type": "markdown",
   "metadata": {},
   "source": [
    "Estimated probabilities of follow-up interventions for 12-month followup and age 40."
   ]
  },
  {
   "cell_type": "code",
   "execution_count": 81,
   "metadata": {
    "collapsed": false
   },
   "outputs": [
    {
     "data": {
      "text/plain": [
       "<matplotlib.gridspec.GridSpec at 0x7fc9fad82358>"
      ]
     },
     "execution_count": 81,
     "metadata": {},
     "output_type": "execute_result"
    },
    {
     "data": {
      "image/png": "[encoded data removed]",
      "text/plain": [
       "<matplotlib.figure.Figure at 0x7fc9fad82630>"
      ]
     },
     "metadata": {},
     "output_type": "display_data"
    }
   ],
   "source": [
    "pm.forestplot(trace_uae[n_burn:], vars=['p_12'], ylabels=plot_labels)"
   ]
  },
  {
   "cell_type": "code",
   "execution_count": 82,
   "metadata": {
    "collapsed": false
   },
   "outputs": [
    {
     "name": "stdout",
     "output_type": "stream",
     "text": [
      "\n",
      "p_12:\n",
      "\n",
      "  Mean             SD               MC Error         95% HPD interval\n",
      "  -------------------------------------------------------------------\n",
      "  \n",
      "  0.021            0.006            0.000            [0.010, 0.034]\n",
      "  0.034            0.007            0.000            [0.021, 0.047]\n",
      "  0.016            0.004            0.000            [0.008, 0.025]\n",
      "  0.000            0.000            0.000            [0.000, 0.000]\n",
      "  0.000            0.000            0.000            [0.000, 0.001]\n",
      "  0.000            0.000            0.000            [0.000, 0.001]\n",
      "  0.929            0.010            0.001            [0.907, 0.947]\n",
      "\n",
      "  Posterior quantiles:\n",
      "  2.5            25             50             75             97.5\n",
      "  |--------------|==============|==============|--------------|\n",
      "  \n",
      "  0.010          0.017          0.020          0.025          0.035\n",
      "  0.021          0.029          0.033          0.038          0.047\n",
      "  0.008          0.013          0.016          0.019          0.025\n",
      "  0.000          0.000          0.000          0.000          0.000\n",
      "  0.000          0.000          0.000          0.000          0.001\n",
      "  0.000          0.000          0.000          0.000          0.001\n",
      "  0.908          0.922          0.930          0.936          0.948\n",
      "\n"
     ]
    }
   ],
   "source": [
    "pm.summary(trace_uae[n_burn:], vars=['p_12'])"
   ]
  },
  {
   "cell_type": "markdown",
   "metadata": {},
   "source": [
    "Estimated probabilities of follow-up interventions for 6-month followup and age 50."
   ]
  },
  {
   "cell_type": "code",
   "execution_count": 83,
   "metadata": {
    "collapsed": false
   },
   "outputs": [
    {
     "data": {
      "text/plain": [
       "<matplotlib.gridspec.GridSpec at 0x7fc9fac6ac50>"
      ]
     },
     "execution_count": 83,
     "metadata": {},
     "output_type": "execute_result"
    },
    {
     "data": {
      "image/png": "[encoded data removed]",
      "text/plain": [
       "<matplotlib.figure.Figure at 0x7fc9fac6ae80>"
      ]
     },
     "metadata": {},
     "output_type": "display_data"
    }
   ],
   "source": [
    "pm.forestplot(trace_uae[n_burn:], vars=['p_6_50'], ylabels=plot_labels)"
   ]
  },
  {
   "cell_type": "code",
   "execution_count": 84,
   "metadata": {
    "collapsed": false
   },
   "outputs": [
    {
     "name": "stdout",
     "output_type": "stream",
     "text": [
      "\n",
      "p_6_50:\n",
      "\n",
      "  Mean             SD               MC Error         95% HPD interval\n",
      "  -------------------------------------------------------------------\n",
      "  \n",
      "  0.094            0.045            0.003            [0.021, 0.184]\n",
      "  0.001            0.001            0.000            [0.000, 0.003]\n",
      "  0.011            0.008            0.001            [0.001, 0.025]\n",
      "  0.009            0.031            0.002            [0.000, 0.043]\n",
      "  0.011            0.024            0.002            [0.000, 0.048]\n",
      "  0.103            0.162            0.015            [0.000, 0.519]\n",
      "  0.771            0.148            0.013            [0.410, 0.942]\n",
      "\n",
      "  Posterior quantiles:\n",
      "  2.5            25             50             75             97.5\n",
      "  |--------------|==============|==============|--------------|\n",
      "  \n",
      "  0.031          0.063          0.085          0.115          0.205\n",
      "  0.000          0.001          0.001          0.002          0.004\n",
      "  0.003          0.006          0.010          0.014          0.030\n",
      "  0.000          0.000          0.000          0.003          0.083\n",
      "  0.000          0.000          0.003          0.010          0.084\n",
      "  0.001          0.010          0.030          0.107          0.620\n",
      "  0.324          0.734          0.819          0.867          0.918\n",
      "\n"
     ]
    }
   ],
   "source": [
    "pm.summary(trace_uae[n_burn:], vars=['p_6_50'])"
   ]
  },
  {
   "cell_type": "markdown",
   "metadata": {},
   "source": [
    "### Myomectomy model"
   ]
  },
  {
   "cell_type": "code",
   "execution_count": 59,
   "metadata": {
    "collapsed": false
   },
   "outputs": [
    {
     "name": "stdout",
     "output_type": "stream",
     "text": [
      "Applied interval-transform to σ and added transformed σ_interval to model.\n"
     ]
    }
   ],
   "source": [
    "myomectomy_model = specify_model(pm.Model(), 'myomectomy')"
   ]
  },
  {
   "cell_type": "code",
   "execution_count": 60,
   "metadata": {
    "collapsed": false
   },
   "outputs": [
    {
     "name": "stdout",
     "output_type": "stream",
     "text": [
      " [-----------------100%-----------------] 20000 of 20000 complete in 45.6 sec"
     ]
    }
   ],
   "source": [
    "with myomectomy_model:\n",
    "    \n",
    "    trace_myomectomy = pm.sample(n_iterations, step=pm.Metropolis(), random_seed=20140925)"
   ]
  },
  {
   "cell_type": "markdown",
   "metadata": {},
   "source": [
    "Baseline estimates on log scale"
   ]
  },
  {
   "cell_type": "code",
   "execution_count": 85,
   "metadata": {
    "collapsed": false
   },
   "outputs": [
    {
     "data": {
      "text/plain": [
       "<matplotlib.gridspec.GridSpec at 0x7fc9fa9f3ef0>"
      ]
     },
     "execution_count": 85,
     "metadata": {},
     "output_type": "execute_result"
    },
    {
     "data": {
      "image/png": "[encoded data removed]",
      "text/plain": [
       "<matplotlib.figure.Figure at 0x7fc9fa9f3f60>"
      ]
     },
     "metadata": {},
     "output_type": "display_data"
    }
   ],
   "source": [
    "pm.forestplot(trace_myomectomy[n_burn:], vars=['μ'], ylabels=plot_labels)"
   ]
  },
  {
   "cell_type": "markdown",
   "metadata": {},
   "source": [
    "Predicted probabilities for 6 months after followup, 40 years of age."
   ]
  },
  {
   "cell_type": "code",
   "execution_count": 86,
   "metadata": {
    "collapsed": false
   },
   "outputs": [
    {
     "data": {
      "text/plain": [
       "<matplotlib.gridspec.GridSpec at 0x7fc9fa769c18>"
      ]
     },
     "execution_count": 86,
     "metadata": {},
     "output_type": "execute_result"
    },
    {
     "data": {
      "image/png": "[encoded data removed]",
      "text/plain": [
       "<matplotlib.figure.Figure at 0x7fc9fa769c88>"
      ]
     },
     "metadata": {},
     "output_type": "display_data"
    }
   ],
   "source": [
    "pm.forestplot(trace_myomectomy[n_burn:], vars=['p_6'], ylabels=plot_labels)"
   ]
  },
  {
   "cell_type": "markdown",
   "metadata": {},
   "source": [
    "Predicted probabilities for all 3 scenarios."
   ]
  },
  {
   "cell_type": "code",
   "execution_count": 87,
   "metadata": {
    "collapsed": false
   },
   "outputs": [
    {
     "name": "stdout",
     "output_type": "stream",
     "text": [
      "\n",
      "p_6:\n",
      "\n",
      "  Mean             SD               MC Error         95% HPD interval\n",
      "  -------------------------------------------------------------------\n",
      "  \n",
      "  0.016            0.005            0.000            [0.007, 0.027]\n",
      "  0.036            0.009            0.001            [0.020, 0.054]\n",
      "  0.013            0.004            0.000            [0.006, 0.021]\n",
      "  0.000            0.000            0.000            [0.000, 0.000]\n",
      "  0.000            0.000            0.000            [0.000, 0.001]\n",
      "  0.000            0.001            0.000            [0.000, 0.002]\n",
      "  0.934            0.011            0.001            [0.912, 0.955]\n",
      "\n",
      "  Posterior quantiles:\n",
      "  2.5            25             50             75             97.5\n",
      "  |--------------|==============|==============|--------------|\n",
      "  \n",
      "  0.008          0.013          0.016          0.019          0.028\n",
      "  0.020          0.030          0.035          0.041          0.054\n",
      "  0.006          0.010          0.013          0.016          0.022\n",
      "  0.000          0.000          0.000          0.000          0.000\n",
      "  0.000          0.000          0.000          0.000          0.001\n",
      "  0.000          0.000          0.000          0.000          0.002\n",
      "  0.911          0.927          0.935          0.942          0.954\n",
      "\n",
      "\n",
      "p_12:\n",
      "\n",
      "  Mean             SD               MC Error         95% HPD interval\n",
      "  -------------------------------------------------------------------\n",
      "  \n",
      "  0.021            0.006            0.000            [0.010, 0.034]\n",
      "  0.034            0.007            0.000            [0.021, 0.047]\n",
      "  0.016            0.004            0.000            [0.008, 0.025]\n",
      "  0.000            0.000            0.000            [0.000, 0.000]\n",
      "  0.000            0.000            0.000            [0.000, 0.001]\n",
      "  0.000            0.000            0.000            [0.000, 0.001]\n",
      "  0.929            0.010            0.001            [0.907, 0.947]\n",
      "\n",
      "  Posterior quantiles:\n",
      "  2.5            25             50             75             97.5\n",
      "  |--------------|==============|==============|--------------|\n",
      "  \n",
      "  0.010          0.017          0.020          0.025          0.035\n",
      "  0.021          0.029          0.033          0.038          0.047\n",
      "  0.008          0.013          0.016          0.019          0.025\n",
      "  0.000          0.000          0.000          0.000          0.000\n",
      "  0.000          0.000          0.000          0.000          0.001\n",
      "  0.000          0.000          0.000          0.000          0.001\n",
      "  0.908          0.922          0.930          0.936          0.948\n",
      "\n",
      "\n",
      "p_6_50:\n",
      "\n",
      "  Mean             SD               MC Error         95% HPD interval\n",
      "  -------------------------------------------------------------------\n",
      "  \n",
      "  0.094            0.045            0.003            [0.021, 0.184]\n",
      "  0.001            0.001            0.000            [0.000, 0.003]\n",
      "  0.011            0.008            0.001            [0.001, 0.025]\n",
      "  0.009            0.031            0.002            [0.000, 0.043]\n",
      "  0.011            0.024            0.002            [0.000, 0.048]\n",
      "  0.103            0.162            0.015            [0.000, 0.519]\n",
      "  0.771            0.148            0.013            [0.410, 0.942]\n",
      "\n",
      "  Posterior quantiles:\n",
      "  2.5            25             50             75             97.5\n",
      "  |--------------|==============|==============|--------------|\n",
      "  \n",
      "  0.031          0.063          0.085          0.115          0.205\n",
      "  0.000          0.001          0.001          0.002          0.004\n",
      "  0.003          0.006          0.010          0.014          0.030\n",
      "  0.000          0.000          0.000          0.003          0.083\n",
      "  0.000          0.000          0.003          0.010          0.084\n",
      "  0.001          0.010          0.030          0.107          0.620\n",
      "  0.324          0.734          0.819          0.867          0.918\n",
      "\n"
     ]
    }
   ],
   "source": [
    "pm.summary(trace_uae[n_burn:], vars=['p_6', 'p_12', 'p_6_50'])"
   ]
  },
  {
   "cell_type": "markdown",
   "metadata": {},
   "source": [
    "### Medical management model"
   ]
  },
  {
   "cell_type": "code",
   "execution_count": 117,
   "metadata": {
    "collapsed": false
   },
   "outputs": [
    {
     "name": "stdout",
     "output_type": "stream",
     "text": [
      "Applied log-transform to nu and added transformed nu_log to model.\n",
      "Applied interval-transform to σ and added transformed σ_interval to model.\n"
     ]
    }
   ],
   "source": [
    "med_manage_model = specify_model(pm.Model(), 'med_manage', False)"
   ]
  },
  {
   "cell_type": "code",
   "execution_count": 118,
   "metadata": {
    "collapsed": false
   },
   "outputs": [
    {
     "name": "stdout",
     "output_type": "stream",
     "text": [
      " [-----------------100%-----------------] 20000 of 20000 complete in 329.0 sec"
     ]
    }
   ],
   "source": [
    "with med_manage_model:\n",
    "        \n",
    "    trace_med_manage = pm.sample(n_iterations, step=pm.Metropolis(), random_seed=20140925)"
   ]
  },
  {
   "cell_type": "code",
   "execution_count": 119,
   "metadata": {
    "collapsed": false
   },
   "outputs": [
    {
     "data": {
      "text/plain": [
       "<matplotlib.gridspec.GridSpec at 0x7fc9e72d9a90>"
      ]
     },
     "execution_count": 119,
     "metadata": {},
     "output_type": "execute_result"
    },
    {
     "data": {
      "image/png": "[encoded data removed]",
      "text/plain": [
       "<matplotlib.figure.Figure at 0x7fc9e551a7f0>"
      ]
     },
     "metadata": {},
     "output_type": "display_data"
    }
   ],
   "source": [
    "pm.forestplot(trace_med_manage[n_burn:], vars=['p_6'])"
   ]
  },
  {
   "cell_type": "code",
   "execution_count": 123,
   "metadata": {
    "collapsed": false
   },
   "outputs": [
    {
     "data": {
      "text/plain": [
       "<matplotlib.gridspec.GridSpec at 0x7fc9e8e1f2b0>"
      ]
     },
     "execution_count": 123,
     "metadata": {},
     "output_type": "execute_result"
    },
    {
     "data": {
      "image/png": "[encoded data removed]",
      "text/plain": [
       "<matplotlib.figure.Figure at 0x7fca01948e10>"
      ]
     },
     "metadata": {},
     "output_type": "display_data"
    }
   ],
   "source": [
    "pm.forestplot(trace_med_manage[n_burn:], vars=['p_12'], ylabels=plot_labels)"
   ]
  },
  {
   "cell_type": "code",
   "execution_count": 120,
   "metadata": {
    "collapsed": false
   },
   "outputs": [
    {
     "name": "stdout",
     "output_type": "stream",
     "text": [
      "\n",
      "p_6:\n",
      "\n",
      "  Mean             SD               MC Error         95% HPD interval\n",
      "  -------------------------------------------------------------------\n",
      "  \n",
      "  0.009            0.002            0.000            [0.005, 0.013]\n",
      "  0.003            0.001            0.000            [0.001, 0.005]\n",
      "  0.000            0.000            0.000            [0.000, 0.000]\n",
      "  0.000            0.000            0.000            [0.000, 0.000]\n",
      "  0.000            0.000            0.000            [0.000, 0.000]\n",
      "  0.000            0.000            0.000            [0.000, 0.000]\n",
      "  0.989            0.002            0.000            [0.984, 0.993]\n",
      "\n",
      "  Posterior quantiles:\n",
      "  2.5            25             50             75             97.5\n",
      "  |--------------|==============|==============|--------------|\n",
      "  \n",
      "  0.005          0.007          0.008          0.010          0.013\n",
      "  0.001          0.002          0.003          0.003          0.005\n",
      "  0.000          0.000          0.000          0.000          0.000\n",
      "  0.000          0.000          0.000          0.000          0.000\n",
      "  0.000          0.000          0.000          0.000          0.000\n",
      "  0.000          0.000          0.000          0.000          0.000\n",
      "  0.984          0.987          0.989          0.990          0.992\n",
      "\n",
      "\n",
      "p_12:\n",
      "\n",
      "  Mean             SD               MC Error         95% HPD interval\n",
      "  -------------------------------------------------------------------\n",
      "  \n",
      "  0.001            0.001            0.000            [0.000, 0.003]\n",
      "  0.002            0.001            0.000            [0.000, 0.004]\n",
      "  0.000            0.000            0.000            [0.000, 0.000]\n",
      "  0.000            0.000            0.000            [0.000, 0.000]\n",
      "  0.000            0.000            0.000            [0.000, 0.000]\n",
      "  0.000            0.000            0.000            [0.000, 0.000]\n",
      "  0.997            0.001            0.000            [0.994, 0.999]\n",
      "\n",
      "  Posterior quantiles:\n",
      "  2.5            25             50             75             97.5\n",
      "  |--------------|==============|==============|--------------|\n",
      "  \n",
      "  0.000          0.001          0.001          0.002          0.003\n",
      "  0.000          0.001          0.001          0.002          0.005\n",
      "  0.000          0.000          0.000          0.000          0.000\n",
      "  0.000          0.000          0.000          0.000          0.000\n",
      "  0.000          0.000          0.000          0.000          0.000\n",
      "  0.000          0.000          0.000          0.000          0.000\n",
      "  0.993          0.996          0.997          0.998          0.999\n",
      "\n"
     ]
    }
   ],
   "source": [
    "pm.summary(trace_med_manage[n_burn:], vars=['p_6', 'p_12', 'p_6_50'])"
   ]
  },
  {
   "cell_type": "code",
   "execution_count": 121,
   "metadata": {
    "collapsed": false
   },
   "outputs": [
    {
     "data": {
      "text/plain": [
       "<matplotlib.gridspec.GridSpec at 0x7fc9f2038dd8>"
      ]
     },
     "execution_count": 121,
     "metadata": {},
     "output_type": "execute_result"
    },
    {
     "data": {
      "image/png": "[encoded data removed]",
      "text/plain": [
       "<matplotlib.figure.Figure at 0x7fc9e88e4da0>"
      ]
     },
     "metadata": {},
     "output_type": "display_data"
    }
   ],
   "source": [
    "pm.forestplot(trace_med_manage[n_burn:], vars=['μ'], ylabels=plot_labels)"
   ]
  },
  {
   "cell_type": "markdown",
   "metadata": {},
   "source": [
    "## Sandbox\n",
    "\n",
    "This section is just for debugging. Not part of the results."
   ]
  },
  {
   "cell_type": "code",
   "execution_count": 111,
   "metadata": {
    "collapsed": true
   },
   "outputs": [],
   "source": [
    "def get_data(intervention):\n",
    "    \n",
    "    intervention_data = dataset[(dataset.intervention_cat==intervention)\n",
    "                            & ~dataset[outcome_cats].isnull().sum(axis=1).astype(bool)]\n",
    "    \n",
    "    interventions = intervention_data.intervention\n",
    "    \n",
    "    followup_masked = masked_values(intervention_data.followup_interval.values, np.nan)\n",
    "    followup_min, followup_max = intervention_data[['fup_min', 'fup_max']].values.T\n",
    "\n",
    "    outcomes = intervention_data[[ 'hysterectomy', 'myomectomy', 'uae',\n",
    "           'MRIgFUS', 'ablation', 'iud', 'no_treatment']].values\n",
    "    \n",
    "    if np.isnan(outcomes).any():\n",
    "        print('Missing values in outcomes for', intervention)\n",
    "\n",
    "    followup_n = intervention_data.followup_n.values\n",
    "\n",
    "    # Center age at 40\n",
    "    age_masked = masked_values(intervention_data['BL Mean'].values - 40, np.nan)\n",
    "    \n",
    "    studies = intervention_data.study_id.unique()\n",
    "    study_index = np.array([np.argwhere(studies==i).squeeze() for i in intervention_data.study_id])\n",
    "\n",
    "    study_id = intervention_data.study_id.values\n",
    "    \n",
    "    n_studies = len(set(study_id))\n",
    "\n",
    "    n_outcomes = 7\n",
    "    arms = len(outcomes)    \n",
    "    intervention_data = dataset[(dataset.intervention_cat==intervention)\n",
    "                            & ~dataset[outcome_cats].isnull().sum(axis=1).astype(bool)]\n",
    "    \n",
    "    followup_masked = masked_values(intervention_data.followup_interval.values, 17.33)\n",
    "    followup_min, followup_max = intervention_data[['fup_min', 'fup_max']].values.T\n",
    "\n",
    "    outcomes = intervention_data[[ 'hysterectomy', 'myomectomy', 'uae',\n",
    "           'MRIgFUS', 'ablation', 'iud', 'no_treatment']].values\n",
    "\n",
    "    followup_n = intervention_data.followup_n.values\n",
    "\n",
    "    age_masked = masked_values(intervention_data['BL Mean'].values, 41.33)\n",
    "    \n",
    "    studies = intervention_data.study_id.unique()\n",
    "    study_index = np.array([np.argwhere(studies==i).squeeze() for i in intervention_data.study_id])\n",
    "\n",
    "    study_id = intervention_data.study_id.values\n",
    "    \n",
    "    n_studies = len(set(study_id))\n",
    "\n",
    "    n_outcomes = 7\n",
    "    arms = len(outcomes)\n",
    "    \n",
    "    return locals()"
   ]
  },
  {
   "cell_type": "code",
   "execution_count": 112,
   "metadata": {
    "collapsed": false
   },
   "outputs": [],
   "source": [
    "myo = get_data('myomectomy')"
   ]
  },
  {
   "cell_type": "code",
   "execution_count": 113,
   "metadata": {
    "collapsed": false
   },
   "outputs": [
    {
     "data": {
      "text/plain": [
       "12     myomectomy, loop ligation with vasopressin\n",
       "13                    myomectomy with vasopressin\n",
       "14                    myomectomy, minilaparotomic\n",
       "15                       myomectomy, laparoscopic\n",
       "20                    myomectomy, minilaparotomic\n",
       "21                       myomectomy, laparoscopic\n",
       "30                       myomectomy, laparoscopic\n",
       "31                          myomectomy, abdominal\n",
       "137                                    Myomectomy\n",
       "138                                    Myomectomy\n",
       "139                                    Myomectomy\n",
       "142                                    Myomectomy\n",
       "143                                    Myomectomy\n",
       "Name: intervention, dtype: object"
      ]
     },
     "execution_count": 113,
     "metadata": {},
     "output_type": "execute_result"
    }
   ],
   "source": [
    "myo['interventions']"
   ]
  },
  {
   "cell_type": "code",
   "execution_count": 114,
   "metadata": {
    "collapsed": false
   },
   "outputs": [],
   "source": [
    "med_manage = get_data('med_manage')"
   ]
  },
  {
   "cell_type": "code",
   "execution_count": 116,
   "metadata": {
    "collapsed": false
   },
   "outputs": [
    {
     "data": {
      "text/plain": [
       "32                                    Ulipristal (CDB10)\n",
       "33                                    Ulipristal (CDB10)\n",
       "34                                     Ulipristal (CD20)\n",
       "35                                     Ulipristal (CD20)\n",
       "38     leuprolide acetate depot (11.25 mg q 3 months)...\n",
       "40                                       Asoprisnil 5 mg\n",
       "41                                      Asoprisnil 10 mg\n",
       "42                                      Asoprisnil 25 mg\n",
       "46                                 Raloxifene, 180mg/day\n",
       "48                leuprolide plus raloxifene 60 mg daily\n",
       "49                               leuprolide plus placebo\n",
       "50                                raloxifene 60 mg daily\n",
       "51                               raloxifene 180 mg daily\n",
       "53                                raloxifene 60 mg daily\n",
       "55                                 tamoxifen 20 mg daily\n",
       "57           leuprolide plus (tibolone 2.5 mg daily) (A)\n",
       "58                                              Tibolone\n",
       "60                                   leuprolide plus MPA\n",
       "61                               leuprolide plus placebo\n",
       "62                                            leuprolide\n",
       "63                                            leuprolide\n",
       "64                               leuprolide plus placebo\n",
       "65                                       ulipristal, 5mg\n",
       "66                                       ulipristal, 5mg\n",
       "67                                      ulipristal, 10mg\n",
       "68                                      ulipristal, 10mg\n",
       "69                                   mifepristone, 2.5mg\n",
       "70                                   mifepristone, 2.5mg\n",
       "71                                   mifepristone, 2.5mg\n",
       "72                                     mifepristone, 5mg\n",
       "                             ...                        \n",
       "91                                           diphereline\n",
       "92                                           cabergoline\n",
       "93                                      letrozole, 2.5mg\n",
       "94                                 triptorelin, 3.6mg/mo\n",
       "101                                      tibolone, 2.5mg\n",
       "103                                             tibolone\n",
       "104             transdermal estrogen replacement therapy\n",
       "105    triptorelin, 100ug + triptorelin, 20ug + tript...\n",
       "106                   leuprolide plus estrogen-progestin\n",
       "107                            leuprolide plus progestin\n",
       "108                                   leuprolide, 1.88mg\n",
       "109                                   leuprolide, 1.88mg\n",
       "110                                   leuprolide, 3.75mg\n",
       "111                                   leuprolide, 3.75mg\n",
       "112                                buserelin, intranasal\n",
       "113                                buserelin, intranasal\n",
       "114                                buserelin, intranasal\n",
       "115                                buserelin, intranasal\n",
       "116                                buserelin, intranasal\n",
       "117                                buserelin, intranasal\n",
       "124                                buserelin, intranasal\n",
       "125                              goserelin, subcutaneous\n",
       "126    gestrinone, 2.5mg oral + gestrinone, 5mg oral ...\n",
       "127    gestrinone, 2.5mg oral + gestrinone, 5mg oral ...\n",
       "128                                    gestrinone, 2.5mg\n",
       "129                                    gestrinone, 2.5mg\n",
       "130                                      gestrinone, 5mg\n",
       "131                                      gestrinone, 5mg\n",
       "132                              gestrinone, 5mg vaginal\n",
       "133                              gestrinone, 5mg vaginal\n",
       "Name: intervention, dtype: object"
      ]
     },
     "execution_count": 116,
     "metadata": {},
     "output_type": "execute_result"
    }
   ],
   "source": [
    "med_manage['interventions']"
   ]
  },
  {
   "cell_type": "code",
   "execution_count": null,
   "metadata": {
    "collapsed": true
   },
   "outputs": [],
   "source": []
  }
 ],
 "metadata": {
  "kernelspec": {
   "display_name": "Python 3",
   "language": "python",
   "name": "python3"
  },
  "language_info": {
   "codemirror_mode": {
    "name": "ipython",
    "version": 3
   },
   "file_extension": ".py",
   "mimetype": "text/x-python",
   "name": "python",
   "nbconvert_exporter": "python",
   "pygments_lexer": "ipython3",
   "version": "3.4.3"
  }
 },
 "nbformat": 4,
 "nbformat_minor": 0
}
