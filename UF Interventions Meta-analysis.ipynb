{
 "cells": [
  {
   "cell_type": "markdown",
   "metadata": {},
   "source": [
    "## Links to Output\n",
    "\n",
    "These links will take you directly to the summary plots and statistics for each model in the notebook:\n",
    "\n",
    "* [UAE](#UAE-Model)\n",
    "* [Myomectomy](#Myomectomy-model)\n",
    "* [Medical management](#Medical-management-model)"
   ]
  },
  {
   "cell_type": "markdown",
   "metadata": {},
   "source": [
    "# Uterine fibroids follow-up treatment meta-analysis\n",
    "\n",
    "Our goal is to estimate the probabilities of requiring one of a suite of candidate follow-up treatments following randomization to a given initial treatment for uterine fibroids. Specifically, we are interested in estimating:\n",
    "\n",
    "$$Pr(I_2|I_1 =i,T=t)$$\n",
    "\n",
    "where $I_1$ is an initial intervention, which take specific values $i = 1, 2, \\ldots , K$ for each of $K$ candidate intervention types, $I_2$ is the followup intervention that also may take any of the same values of $i$, and $T$ is followup time in months, which will generally be either 6 or 12 months.\n",
    "\n",
    "Our current set of candidate interventions include:\n",
    "\n",
    "- Myomectomy\n",
    "- Hysterectomy\n",
    "- Ablation\n",
    "- UAE\n",
    "- Magnetic resonance imaging-guided high-intensity focused ultrasound (MRIgFUS) \n",
    "- Ablation +/- hysteroscopic myomectomy\n",
    "- No intervention\n",
    "\n",
    "Rather than model each conditional probability independently, we will instead model the outcomes for a treatment arm as a multinomial random variable. That is,\n",
    "\n",
    "$$\\{X_{I_2} \\} ∼ \\text{Multinomial}(N_{I_1}=i, \\{\\pi_i\\})$$\n",
    "\n",
    "where $\\{X_{I_2}\\}$ is the vector of outcomes corresponding to each of the possible followup interventions listed above, $N_{I_1}=i$ is the number of women randomized to the initial intervention i, and $\\{\\pi_i\\}$ is a vector of conditional transition probabilities corresponding to $Pr(I_2|I_1 = i, T = t)$, as specified above. The multinomial distribution is a multivariate generalization of the categorical distribution, which is what the above simplifies to when modeling the outcome for a single patient. The multivariate formulation allows us to model study-arm-specific outcomes, incorporating covariates that are specific to that arm or study.\n",
    "       \n",
    "The quantities of interest are the vectors of transition probabilities $\\{\\pi_i\\}$ corresponding to each of the initial candidate interventions. A naive approach to modeling these is to assign a vague Dirichlet prior distribution to each set, and perform Bayesian inference using the multinomial likelihood, with which the Dirichlet is conjugate, to yield posterior estimates for each probability. However, there may be additional information with which to model these probabilities, which may include:\n",
    "\n",
    "- followup time for each study\n",
    "- arm-specific demographic covariates (e.g. race, mean age) \n",
    "- study-specific random effects\n",
    "\n",
    "hence, a given transition probability $\\pi_{ijk}$ – the probability of transitioning from initial intervention $i$ to followup intervention $j$ in study $k$ – may be modeled as:\n",
    "\n",
    "$$\\text{logit}(\\pi_{ijk})= \\theta_{ij} + X_k \\beta_{ij} + \\epsilon_k$$\n",
    "\n",
    "where $\\theta_{ij}$ is a baseline transition probability (on the logit scale), $X_k$ a matrix of study(-arm)-specific covariates, $\\beta_{ij}$ the corresponding coefficients, and $\\epsilon_k$ a mean-zero random effect for study k. We will initially consider (1) follow-up time and (2) mean/median age as covariates.\n",
    " \n",
    "An attractive benefit to using Bayesian inference to estimate this model is that it is easy to generate predictions from the model, via the posterior predictive distribution. For example, we could estimate the distribution of the expected proportion of women requiring a particular followup intervention; this estimate would factor in both the residual uncertainty in the transition probability estimates, as well as the sampling uncertainty of the intervention."
   ]
  },
  {
   "cell_type": "code",
   "execution_count": 1,
   "metadata": {
    "collapsed": false
   },
   "outputs": [
    {
     "name": "stdout",
     "output_type": "stream",
     "text": [
      "Couldn't import dot_parser, loading of dot files will not be possible.\n"
     ]
    }
   ],
   "source": [
    "%matplotlib inline\n",
    "import numpy as np\n",
    "import pandas as pd\n",
    "import pymc3 as pm\n",
    "import seaborn as sns\n",
    "import pdb\n",
    "sns.set()"
   ]
  },
  {
   "cell_type": "markdown",
   "metadata": {},
   "source": [
    "## Data Preparation\n",
    "\n",
    "Import data from worksheets in Excel spreadsheet."
   ]
  },
  {
   "cell_type": "code",
   "execution_count": 2,
   "metadata": {
    "collapsed": true
   },
   "outputs": [],
   "source": [
    "data_file = 'UF Subsequent Interventions Data_Master_updated.xlsx'"
   ]
  },
  {
   "cell_type": "code",
   "execution_count": 3,
   "metadata": {
    "collapsed": false
   },
   "outputs": [
    {
     "name": "stdout",
     "output_type": "stream",
     "text": [
      "Occlusion rows=31, columns=13, missing=6\n",
      "Med vs IAC rows=49, columns=13, missing=46\n",
      "Med vs Med rows=67, columns=13, missing=13\n",
      "UAE rows=32, columns=13, missing=0\n"
     ]
    }
   ],
   "source": [
    "missing = ['NA', 'NR', 'ND', '?', 'null']\n",
    "\n",
    "misc_data = pd.read_excel('data/' + data_file, sheetname='MISC (SP)', na_values=missing)\n",
    "misc_data = misc_data[~misc_data['baseline_n'].isnull()].drop('notes', axis=1)\n",
    "rows, cols = misc_data.shape\n",
    "print('Occlusion rows={0}, columns={1}, missing={2}'.format(rows, cols,\n",
    "                                                        misc_data.isnull().sum().sum()))\n",
    "\n",
    "med_vs_iac_data = pd.read_excel('data/' + data_file, sheetname='Med vs IAC JW', na_values=missing)\n",
    "med_vs_iac_data = med_vs_iac_data[~med_vs_iac_data['trial_arm'].isnull()].drop('notes', axis=1)\n",
    "rows, cols = med_vs_iac_data.shape\n",
    "print('Med vs IAC rows={0}, columns={1}, missing={2}'.format(rows, cols, \n",
    "                                                            med_vs_iac_data.isnull().sum().sum()))\n",
    "\n",
    "med_vs_med_data = pd.read_excel('data/' + data_file, sheetname='Med vs Med DVE', na_values=missing)\n",
    "med_vs_med_data = med_vs_med_data[~med_vs_med_data['baseline_n'].isnull()].drop('notes', axis=1)\n",
    "rows, cols = med_vs_med_data.shape\n",
    "print('Med vs Med rows={0}, columns={1}, missing={2}'.format(rows, cols, \n",
    "                                                            med_vs_med_data.isnull().sum().sum()))\n",
    "\n",
    "uae_data = pd.read_excel('data/' + data_file, sheetname='UAE SK')\n",
    "uae_data = uae_data[~uae_data['baseline_n'].isnull()].drop('notes', axis=1)\n",
    "rows, cols = uae_data.shape\n",
    "print('UAE rows={0}, columns={1}, missing={2}'.format(rows, cols, \n",
    "                                                            uae_data.isnull().sum().sum()))\n",
    "\n",
    "datasets = [misc_data, med_vs_iac_data, med_vs_med_data, uae_data]"
   ]
  },
  {
   "cell_type": "code",
   "execution_count": 4,
   "metadata": {
    "collapsed": false
   },
   "outputs": [],
   "source": [
    "unique_inerventions = set(np.concatenate([d.intervention.values for d in datasets]))"
   ]
  },
  {
   "cell_type": "markdown",
   "metadata": {},
   "source": [
    "Use the following lookup table to create \"intervention category\" field in each dataset."
   ]
  },
  {
   "cell_type": "code",
   "execution_count": 5,
   "metadata": {
    "collapsed": true
   },
   "outputs": [],
   "source": [
    "# %load intervention_lookup.py\n",
    "intervention_lookup = {'Ablation': 'ablation',\n",
    " 'Ablation+/- hysteroscopic myomectomy': 'ablation',\n",
    " 'Asoprisnil 10 mg': 'med_manage',\n",
    " 'Asoprisnil 25 mg': 'med_manage',\n",
    " 'Asoprisnil 5 mg': 'med_manage',\n",
    " 'Ulipristal (CD20)': 'med_manage',\n",
    " 'Ulipristal (CDB10)': 'med_manage',\n",
    " 'Hysterectomy': 'hysterectomy',\n",
    " 'LBCUV': 'uae',\n",
    " 'LP + GnRH agonist plus raloxifene': 'med_manage',\n",
    " 'LP + placebo': 'med_manage',\n",
    " 'LPA+ MPA / LPA+placebo': 'med_manage',\n",
    " 'LPA+ placebo / LPA+MPA': 'med_manage',\n",
    " 'LUNA plus LBCUV': 'ablation',\n",
    " 'Myomectomy': 'myomectomy',\n",
    " 'No treatment': 'control',\n",
    " 'No treatment (control)': 'control',\n",
    " 'Placebo': 'control',\n",
    " 'Raloxifene, 180mg/day': 'med_manage',\n",
    " 'SC implant of 3.6 goserelin + placebo (3 months) then tibolone 2.5 mg daily (3 months)': 'med_manage',\n",
    " 'SC implant of 3.6 goserelin + placebo (6 months)': 'med_manage',\n",
    " 'SC implant of 3.6 goserelin + tibolone 2.5 mg daily (6 months)': 'med_manage',\n",
    " 'Surgery': 'DROP',\n",
    " 'Tibolone': 'med_manage',\n",
    " 'UAE': 'uae',\n",
    " 'UAE only': 'uae',\n",
    " 'UAE plus goserelin acetate depot': 'uae',\n",
    " 'buserelin + goserelin': 'med_manage',\n",
    " 'buserelin, intranasal': 'med_manage',\n",
    " 'cabergoline': 'med_manage',\n",
    " 'diphereline': 'med_manage',\n",
    " 'gestrinone, 2.5mg': 'med_manage',\n",
    " 'gestrinone, 2.5mg oral + gestrinone, 5mg oral + gestrinone, 5mg vaginal': 'med_manage',\n",
    " 'gestrinone, 5mg': 'med_manage',\n",
    " 'gestrinone, 5mg vaginal': 'med_manage',\n",
    " 'goserelin, subcutaneous': 'med_manage',\n",
    " 'healthy controls': 'control',\n",
    " 'hormone replacement therapy, transdermal': 'DROP',\n",
    " 'hysterectomy or myomectomy': 'DROP',\n",
    " 'letrozole, 2.5mg': 'med_manage',\n",
    " 'leuprolide': 'med_manage',\n",
    " 'leuprolide acetate depot (11.25 mg q 3 months) + Placebo': 'med_manage',\n",
    " 'leuprolide acetate depot (11.25 mg q 3 months) + tibolone 2.5 mg/d orally': 'med_manage',\n",
    " 'leuprolide acetate depot (3.75 mg/28 d) + placebo (B)': 'med_manage',\n",
    " 'leuprolide plus (tibolone 2.5 mg daily) (A)': 'med_manage',\n",
    " 'leuprolide plus MPA': 'med_manage',\n",
    " 'leuprolide plus estrogen-progestin': 'med_manage',\n",
    " 'leuprolide plus placebo': 'med_manage',\n",
    " 'leuprolide plus progestin': 'med_manage',\n",
    " 'leuprolide plus raloxifene 60 mg daily': 'med_manage',\n",
    " 'leuprolide, 1.88mg': 'med_manage',\n",
    " 'leuprolide, 3.75mg': 'med_manage',\n",
    " 'mifepristone, 10mg': 'med_manage',\n",
    " 'mifepristone, 10mg + mifepristone, 5mg': 'med_manage',\n",
    " 'mifepristone, 2.5mg': 'med_manage',\n",
    " 'mifepristone, 5mg': 'med_manage',\n",
    " 'placebo': 'control',\n",
    " 'raloxifene 180 mg daily': 'med_manage',\n",
    " 'raloxifene 60 mg daily': 'med_manage',\n",
    " 'tamoxifen 20 mg daily': 'med_manage',\n",
    " 'tibolone': 'med_manage',\n",
    " 'tibolone, 2.5mg': 'med_manage',\n",
    " 'transdermal estrogen replacement therapy': 'med_manage',\n",
    " 'triptorelin, 100ug': 'med_manage',\n",
    " 'triptorelin, 100ug + triptorelin, 20ug + triptorelin, 5ug': 'med_manage',\n",
    " 'triptorelin, 20ug': 'med_manage',\n",
    " 'triptorelin, 3.6mg/mo': 'med_manage',\n",
    " 'triptorelin, 5ug': 'med_manage',\n",
    " 'ulipristal acetate followed by placebo': 'med_manage',\n",
    " 'ulipristal acetate followed by progestin': 'med_manage',\n",
    " 'ulipristal, 10mg': 'med_manage',\n",
    " 'ulipristal, 5mg': 'med_manage',\n",
    " 'HIFU': 'MRgFUS',\n",
    " 'HIFU with CEUS': 'MRgFUS',\n",
    " 'LUAO': 'uae',\n",
    " 'UAE plus PVA': 'uae',\n",
    " 'UAE plus TAG': 'uae',\n",
    " 'UAE with PVA': 'uae',\n",
    " 'UAE with PVA particles, large': 'uae',\n",
    " 'UAE with PVA particles, small': 'uae',\n",
    " 'UAE with SPA': 'uae',\n",
    " 'UAE with SPVA': 'uae',\n",
    " 'UAE with TAG': 'uae',\n",
    " 'UAE with TAG microspheres': 'uae',\n",
    " 'myomectomy': 'myomectomy',\n",
    " 'myomectomy with vasopressin': 'myomectomy',\n",
    " 'myomectomy, abdominal': 'myomectomy',\n",
    " 'myomectomy, laparoscopic': 'myomectomy',\n",
    " 'myomectomy, loop ligation with vasopressin': 'myomectomy',\n",
    " 'myomectomy, minilaparotomic': 'myomectomy'}\n"
   ]
  },
  {
   "cell_type": "markdown",
   "metadata": {},
   "source": [
    "Assign intervention **categories** to each arm"
   ]
  },
  {
   "cell_type": "code",
   "execution_count": 6,
   "metadata": {
    "collapsed": true
   },
   "outputs": [],
   "source": [
    "datasets = [d.assign(intervention_cat=d.intervention.replace(intervention_lookup)) for d in datasets]"
   ]
  },
  {
   "cell_type": "code",
   "execution_count": 7,
   "metadata": {
    "collapsed": false
   },
   "outputs": [
    {
     "data": {
      "text/plain": [
       "{'DROP',\n",
       " 'MRgFUS',\n",
       " 'ablation',\n",
       " 'control',\n",
       " 'hysterectomy',\n",
       " 'med_manage',\n",
       " 'myomectomy',\n",
       " 'uae'}"
      ]
     },
     "execution_count": 7,
     "metadata": {},
     "output_type": "execute_result"
    }
   ],
   "source": [
    "intervention_categories = set(intervention_lookup.values())\n",
    "intervention_categories"
   ]
  },
  {
   "cell_type": "markdown",
   "metadata": {},
   "source": [
    "Import demographic information"
   ]
  },
  {
   "cell_type": "code",
   "execution_count": 8,
   "metadata": {
    "collapsed": false
   },
   "outputs": [
    {
     "data": {
      "text/plain": [
       "Index(['study_id', 'Citation', 'FamCode', 'FamDesig', 'NCT', 'ArmsN',\n",
       "       'ArmCategory', 'Group_Desc', 'New Grouping', 'Demo_Category',\n",
       "       'Demo_specify', 'BL N', 'Denom_N', 'BL %', 'BL Mean', 'BL SD', 'BL_SE',\n",
       "       'BL_Median', 'BL Min', 'BL Max', 'BL 95% L', 'BL 95% H',\n",
       "       'BL_group_diff', 'Comments'],\n",
       "      dtype='object')"
      ]
     },
     "execution_count": 8,
     "metadata": {},
     "output_type": "execute_result"
    }
   ],
   "source": [
    "demographics = pd.read_excel('data/' + data_file, sheetname='ALL_DEMO_DATA', na_values=missing)\n",
    "demographics.columns"
   ]
  },
  {
   "cell_type": "markdown",
   "metadata": {},
   "source": [
    "Extract columns of interest"
   ]
  },
  {
   "cell_type": "code",
   "execution_count": 9,
   "metadata": {
    "collapsed": false
   },
   "outputs": [],
   "source": [
    "age_data = demographics.loc[demographics.Demo_Category=='Age', ['study_id', 'New Grouping', 'BL Mean', 'BL SD']]"
   ]
  },
  {
   "cell_type": "markdown",
   "metadata": {},
   "source": [
    "Clean arm labels"
   ]
  },
  {
   "cell_type": "code",
   "execution_count": 10,
   "metadata": {
    "collapsed": false
   },
   "outputs": [],
   "source": [
    "age_data = age_data.assign(arm=age_data['New Grouping'].str.replace(':','')).drop('New Grouping', axis=1)"
   ]
  },
  {
   "cell_type": "code",
   "execution_count": 11,
   "metadata": {
    "collapsed": false
   },
   "outputs": [
    {
     "data": {
      "text/plain": [
       "array(['G2', 'G1', 'G1b', 'G1a', 'G3', 'CG', 'G1c', 'G1+G2', 'G1a+G1b+G1c'], dtype=object)"
      ]
     },
     "execution_count": 11,
     "metadata": {},
     "output_type": "execute_result"
    }
   ],
   "source": [
    "age_data.arm.unique()"
   ]
  },
  {
   "cell_type": "markdown",
   "metadata": {},
   "source": [
    "Concatenate all datasets"
   ]
  },
  {
   "cell_type": "code",
   "execution_count": 12,
   "metadata": {
    "collapsed": false
   },
   "outputs": [],
   "source": [
    "all_data = pd.concat(datasets)"
   ]
  },
  {
   "cell_type": "markdown",
   "metadata": {},
   "source": [
    "Clean up study arm field"
   ]
  },
  {
   "cell_type": "code",
   "execution_count": 13,
   "metadata": {
    "collapsed": false
   },
   "outputs": [],
   "source": [
    "all_arm = all_data.trial_arm.str.replace(':','').str.replace(' ', '').str.replace('Group', 'G')\n",
    "all_data = all_data.assign(arm=all_arm).drop('trial_arm', axis=1)"
   ]
  },
  {
   "cell_type": "code",
   "execution_count": 14,
   "metadata": {
    "collapsed": false
   },
   "outputs": [
    {
     "data": {
      "text/plain": [
       "array(['G1', 'G2', 'G3', 'CG', 'G1a', 'G1b', 'G1c', 'CG1', 'CG2', 'G1/CG',\n",
       "       'CG/G1', 'G1a+G1b', 'G1a+G1b+G1c', 'G1+G2'], dtype=object)"
      ]
     },
     "execution_count": 14,
     "metadata": {},
     "output_type": "execute_result"
    }
   ],
   "source": [
    "all_data.arm.unique()"
   ]
  },
  {
   "cell_type": "markdown",
   "metadata": {},
   "source": [
    "Clean up study ID field. Currently contains non-numeric entries. Will strip out the first study ID from the compund labels, as this is the parent study ID."
   ]
  },
  {
   "cell_type": "code",
   "execution_count": 15,
   "metadata": {
    "collapsed": false
   },
   "outputs": [
    {
     "data": {
      "text/plain": [
       "array([23, 347, 1400, 1529, 1806, 1889, 2375, 2967, 3382, 3690, 3785, 5186,\n",
       "       5474, 414, 1849, 3016, 3181, 3324, 3674, 4258, 4468, 4858, 4960,\n",
       "       5276, 5302, 6091, 6263, 6696, 7155, 7504, 7797, 7936, 95.0, 629.0,\n",
       "       757.0, 1290.0, 2318.0, 2555.0, 2635.0, 3312.0, 3978.0, 4787.0,\n",
       "       4961.0, 5721.0, 6393.0, 6903.0, 7139.0, 7309.0, 7530.0, 7589.0,\n",
       "       7763.0, '3803_3052', 1546, '3365_2026_1657_986',\n",
       "       '3819_815_1986_2759_2971_\\n3120_3175_3192_3678_3721', 4789, 2006], dtype=object)"
      ]
     },
     "execution_count": 15,
     "metadata": {},
     "output_type": "execute_result"
    }
   ],
   "source": [
    "all_data.study_id.unique()"
   ]
  },
  {
   "cell_type": "code",
   "execution_count": 16,
   "metadata": {
    "collapsed": false
   },
   "outputs": [],
   "source": [
    "str_mask = all_data.study_id.str.isnumeric()==False\n",
    "all_data.loc[str_mask, 'study_id'] = all_data.study_id[str_mask].apply(lambda x: x[:x.find('_')])\n",
    "all_data.study_id = all_data.study_id.astype(int)"
   ]
  },
  {
   "cell_type": "code",
   "execution_count": 17,
   "metadata": {
    "collapsed": false
   },
   "outputs": [
    {
     "data": {
      "text/plain": [
       "array([  23,  347, 1400, 1529, 1806, 1889, 2375, 2967, 3382, 3690, 3785,\n",
       "       5186, 5474,  414, 1849, 3016, 3181, 3324, 3674, 4258, 4468, 4858,\n",
       "       4960, 5276, 5302, 6091, 6263, 6696, 7155, 7504, 7797, 7936,   95,\n",
       "        629,  757, 1290, 2318, 2555, 2635, 3312, 3978, 4787, 4961, 5721,\n",
       "       6393, 6903, 7139, 7309, 7530, 7589, 7763, 3803, 1546, 3365, 3819,\n",
       "       4789, 2006])"
      ]
     },
     "execution_count": 17,
     "metadata": {},
     "output_type": "execute_result"
    }
   ],
   "source": [
    "all_data.study_id.unique()"
   ]
  },
  {
   "cell_type": "markdown",
   "metadata": {},
   "source": [
    "Here is what the data look like after merging."
   ]
  },
  {
   "cell_type": "code",
   "execution_count": 18,
   "metadata": {
    "collapsed": false,
    "scrolled": true
   },
   "outputs": [
    {
     "data": {
      "text/html": [
       "<div>\n",
       "<table border=\"1\" class=\"dataframe\">\n",
       "  <thead>\n",
       "    <tr style=\"text-align: right;\">\n",
       "      <th></th>\n",
       "      <th>study_id</th>\n",
       "      <th>intervention</th>\n",
       "      <th>baseline_n</th>\n",
       "      <th>followup_interval</th>\n",
       "      <th>followup_n</th>\n",
       "      <th>hysterectomy</th>\n",
       "      <th>myomectomy</th>\n",
       "      <th>uae</th>\n",
       "      <th>MRIgFUS</th>\n",
       "      <th>ablation</th>\n",
       "      <th>iud</th>\n",
       "      <th>no_treatment</th>\n",
       "      <th>intervention_cat</th>\n",
       "      <th>arm</th>\n",
       "    </tr>\n",
       "  </thead>\n",
       "  <tbody>\n",
       "    <tr>\n",
       "      <th>0</th>\n",
       "      <td>23</td>\n",
       "      <td>HIFU with CEUS</td>\n",
       "      <td>17</td>\n",
       "      <td>12</td>\n",
       "      <td>17</td>\n",
       "      <td>0</td>\n",
       "      <td>0</td>\n",
       "      <td>0</td>\n",
       "      <td>1</td>\n",
       "      <td>0</td>\n",
       "      <td>0</td>\n",
       "      <td>16</td>\n",
       "      <td>MRgFUS</td>\n",
       "      <td>G1</td>\n",
       "    </tr>\n",
       "    <tr>\n",
       "      <th>1</th>\n",
       "      <td>23</td>\n",
       "      <td>HIFU</td>\n",
       "      <td>16</td>\n",
       "      <td>12</td>\n",
       "      <td>16</td>\n",
       "      <td>0</td>\n",
       "      <td>0</td>\n",
       "      <td>0</td>\n",
       "      <td>3</td>\n",
       "      <td>0</td>\n",
       "      <td>0</td>\n",
       "      <td>13</td>\n",
       "      <td>MRgFUS</td>\n",
       "      <td>G2</td>\n",
       "    </tr>\n",
       "    <tr>\n",
       "      <th>2</th>\n",
       "      <td>347</td>\n",
       "      <td>UAE with SPVA</td>\n",
       "      <td>30</td>\n",
       "      <td>12</td>\n",
       "      <td>27</td>\n",
       "      <td>1</td>\n",
       "      <td>0</td>\n",
       "      <td>0</td>\n",
       "      <td>0</td>\n",
       "      <td>0</td>\n",
       "      <td>0</td>\n",
       "      <td>26</td>\n",
       "      <td>uae</td>\n",
       "      <td>G1</td>\n",
       "    </tr>\n",
       "    <tr>\n",
       "      <th>3</th>\n",
       "      <td>347</td>\n",
       "      <td>UAE with TAG</td>\n",
       "      <td>30</td>\n",
       "      <td>12</td>\n",
       "      <td>29</td>\n",
       "      <td>0</td>\n",
       "      <td>0</td>\n",
       "      <td>0</td>\n",
       "      <td>0</td>\n",
       "      <td>0</td>\n",
       "      <td>0</td>\n",
       "      <td>29</td>\n",
       "      <td>uae</td>\n",
       "      <td>G2</td>\n",
       "    </tr>\n",
       "    <tr>\n",
       "      <th>4</th>\n",
       "      <td>1400</td>\n",
       "      <td>UAE</td>\n",
       "      <td>63</td>\n",
       "      <td>6</td>\n",
       "      <td>62</td>\n",
       "      <td>0</td>\n",
       "      <td>1</td>\n",
       "      <td>5</td>\n",
       "      <td>0</td>\n",
       "      <td>0</td>\n",
       "      <td>0</td>\n",
       "      <td>56</td>\n",
       "      <td>uae</td>\n",
       "      <td>G1</td>\n",
       "    </tr>\n",
       "  </tbody>\n",
       "</table>\n",
       "</div>"
      ],
      "text/plain": [
       "   study_id    intervention baseline_n followup_interval  followup_n  \\\n",
       "0        23  HIFU with CEUS         17                12          17   \n",
       "1        23            HIFU         16                12          16   \n",
       "2       347   UAE with SPVA         30                12          27   \n",
       "3       347    UAE with TAG         30                12          29   \n",
       "4      1400             UAE         63                 6          62   \n",
       "\n",
       "   hysterectomy  myomectomy  uae  MRIgFUS  ablation  iud  no_treatment  \\\n",
       "0             0           0    0        1         0    0            16   \n",
       "1             0           0    0        3         0    0            13   \n",
       "2             1           0    0        0         0    0            26   \n",
       "3             0           0    0        0         0    0            29   \n",
       "4             0           1    5        0         0    0            56   \n",
       "\n",
       "  intervention_cat arm  \n",
       "0           MRgFUS  G1  \n",
       "1           MRgFUS  G2  \n",
       "2              uae  G1  \n",
       "3              uae  G2  \n",
       "4              uae  G1  "
      ]
     },
     "execution_count": 18,
     "metadata": {},
     "output_type": "execute_result"
    }
   ],
   "source": [
    "all_data.head()"
   ]
  },
  {
   "cell_type": "code",
   "execution_count": 19,
   "metadata": {
    "collapsed": false,
    "scrolled": true
   },
   "outputs": [
    {
     "data": {
      "text/plain": [
       "intervention_cat\n",
       "DROP              8\n",
       "MRgFUS            2\n",
       "ablation          3\n",
       "control          11\n",
       "hysterectomy      7\n",
       "med_manage      100\n",
       "myomectomy       14\n",
       "uae              34\n",
       "Name: study_id, dtype: int64"
      ]
     },
     "execution_count": 19,
     "metadata": {},
     "output_type": "execute_result"
    }
   ],
   "source": [
    "all_data.groupby('intervention_cat')['study_id'].count()"
   ]
  },
  {
   "cell_type": "markdown",
   "metadata": {},
   "source": [
    "Merge age data with outcomes"
   ]
  },
  {
   "cell_type": "code",
   "execution_count": 20,
   "metadata": {
    "collapsed": false
   },
   "outputs": [],
   "source": [
    "all_data_merged = pd.merge(all_data, age_data, on=['study_id', 'arm'])"
   ]
  },
  {
   "cell_type": "markdown",
   "metadata": {},
   "source": [
    "For now, drop arms with no reported followup time (we may want to impute these):"
   ]
  },
  {
   "cell_type": "code",
   "execution_count": 21,
   "metadata": {
    "collapsed": false
   },
   "outputs": [],
   "source": [
    "all_data_merged = all_data_merged.dropna(subset=['followup_interval'])"
   ]
  },
  {
   "cell_type": "markdown",
   "metadata": {},
   "source": [
    "Parse followup intervals that are ranges, creating `fup_min` and `fup_max` fields."
   ]
  },
  {
   "cell_type": "code",
   "execution_count": 22,
   "metadata": {
    "collapsed": false
   },
   "outputs": [],
   "source": [
    "dataset = all_data_merged.assign(fup_min=0, fup_max=all_data.followup_interval.convert_objects(convert_numeric=True).max()+1)\n",
    "range_index = dataset.followup_interval.str.contains('to').notnull()\n",
    "range_vals = dataset[range_index].followup_interval.apply(lambda x: x.split(' '))\n",
    "dataset.loc[range_index, ['fup_min']] = range_vals.apply(lambda x: float(x[0]))\n",
    "dataset.loc[range_index, ['fup_max']] = range_vals.apply(lambda x: float(x[-1]))\n",
    "dataset.loc[range_index, ['followup_interval']] = np.nan\n",
    "dataset['followup_interval'] = dataset.followup_interval.astype(float)"
   ]
  },
  {
   "cell_type": "markdown",
   "metadata": {},
   "source": [
    "Fill missing values"
   ]
  },
  {
   "cell_type": "code",
   "execution_count": 23,
   "metadata": {
    "collapsed": false
   },
   "outputs": [],
   "source": [
    "dataset.loc[dataset.followup_n.isnull(), 'followup_n'] = dataset.loc[dataset.followup_n.isnull(), 'baseline_n']"
   ]
  },
  {
   "cell_type": "code",
   "execution_count": 24,
   "metadata": {
    "collapsed": false
   },
   "outputs": [],
   "source": [
    "dataset.loc[dataset.no_treatment.isnull(), 'no_treatment'] = dataset.followup_n - dataset[[ 'hysterectomy', 'myomectomy', 'uae',\n",
    "                                                        'MRIgFUS', 'ablation', 'iud']].sum(1)[dataset.no_treatment.isnull()]"
   ]
  },
  {
   "cell_type": "code",
   "execution_count": 25,
   "metadata": {
    "collapsed": false
   },
   "outputs": [
    {
     "data": {
      "text/plain": [
       "array([ 12. ,   6. ,   nan,  24. ,   2. ,   1. ,   3. ,   5.5,   9. ,\n",
       "        18. ,   0. ,   7. ,  60. ])"
      ]
     },
     "execution_count": 25,
     "metadata": {},
     "output_type": "execute_result"
    }
   ],
   "source": [
    "dataset.followup_interval.unique()"
   ]
  },
  {
   "cell_type": "code",
   "execution_count": 26,
   "metadata": {
    "collapsed": false
   },
   "outputs": [
    {
     "data": {
      "text/plain": [
       "array([43.1, 42, 43.9, 41.7, 41, 43.5, 40.3, 42.7, 45, 44, 38.26, 32.1,\n",
       "       34.3, 44.9, 42.5, 43.3, 38.4, 37.5, 45.9, 44.5, 33.97, 34, 41.3,\n",
       "       42.9, 42.1, 43.4, 37.7, 43, 40.2, 41.1, 49.1, 48.6, 36.3, 35.9,\n",
       "       37.2, 54.2, 51.2, 43.6, nan, 38.9, 37.1, 41.4, 36.9, 41.6, 39, 39.6,\n",
       "       39.67, 36.87, 30.94, 31, 39.5, 42.8, 56.2, 57.9, 50.2, 50.6, 34.4,\n",
       "       42.2, 49.2, 32.6, 48.4, 33.8, 38.1, 37, 32.3, 43.2, 44.6, 45.4,\n",
       "       46.4, 48.5, 48.3], dtype=object)"
      ]
     },
     "execution_count": 26,
     "metadata": {},
     "output_type": "execute_result"
    }
   ],
   "source": [
    "dataset['BL Mean'].unique()"
   ]
  },
  {
   "cell_type": "markdown",
   "metadata": {},
   "source": [
    "Identify crossover studies"
   ]
  },
  {
   "cell_type": "code",
   "execution_count": 27,
   "metadata": {
    "collapsed": true
   },
   "outputs": [],
   "source": [
    "crossover_studies = 7155, 3324, 414, 95, 7139, 6903, 3721, 3181, 4858, 4960, 4258, 4789, 2006, 2318"
   ]
  },
  {
   "cell_type": "code",
   "execution_count": 28,
   "metadata": {
    "collapsed": false
   },
   "outputs": [],
   "source": [
    "dataset['crossover_study'] = dataset.study_id.isin(crossover_studies)"
   ]
  },
  {
   "cell_type": "code",
   "execution_count": 29,
   "metadata": {
    "collapsed": false,
    "scrolled": false
   },
   "outputs": [
    {
     "data": {
      "text/html": [
       "<div>\n",
       "<table border=\"1\" class=\"dataframe\">\n",
       "  <thead>\n",
       "    <tr style=\"text-align: right;\">\n",
       "      <th></th>\n",
       "      <th>study_id</th>\n",
       "      <th>intervention</th>\n",
       "      <th>baseline_n</th>\n",
       "      <th>followup_interval</th>\n",
       "      <th>followup_n</th>\n",
       "      <th>hysterectomy</th>\n",
       "      <th>myomectomy</th>\n",
       "      <th>uae</th>\n",
       "      <th>MRIgFUS</th>\n",
       "      <th>ablation</th>\n",
       "      <th>iud</th>\n",
       "      <th>no_treatment</th>\n",
       "      <th>intervention_cat</th>\n",
       "      <th>arm</th>\n",
       "      <th>BL Mean</th>\n",
       "      <th>BL SD</th>\n",
       "      <th>fup_max</th>\n",
       "      <th>fup_min</th>\n",
       "      <th>crossover_study</th>\n",
       "    </tr>\n",
       "  </thead>\n",
       "  <tbody>\n",
       "    <tr>\n",
       "      <th>0</th>\n",
       "      <td>23</td>\n",
       "      <td>HIFU with CEUS</td>\n",
       "      <td>17</td>\n",
       "      <td>12</td>\n",
       "      <td>17</td>\n",
       "      <td>0</td>\n",
       "      <td>0</td>\n",
       "      <td>0</td>\n",
       "      <td>1</td>\n",
       "      <td>0</td>\n",
       "      <td>0</td>\n",
       "      <td>16</td>\n",
       "      <td>MRgFUS</td>\n",
       "      <td>G1</td>\n",
       "      <td>43.1</td>\n",
       "      <td>5.3</td>\n",
       "      <td>61</td>\n",
       "      <td>0</td>\n",
       "      <td>False</td>\n",
       "    </tr>\n",
       "    <tr>\n",
       "      <th>1</th>\n",
       "      <td>23</td>\n",
       "      <td>HIFU</td>\n",
       "      <td>16</td>\n",
       "      <td>12</td>\n",
       "      <td>16</td>\n",
       "      <td>0</td>\n",
       "      <td>0</td>\n",
       "      <td>0</td>\n",
       "      <td>3</td>\n",
       "      <td>0</td>\n",
       "      <td>0</td>\n",
       "      <td>13</td>\n",
       "      <td>MRgFUS</td>\n",
       "      <td>G2</td>\n",
       "      <td>42</td>\n",
       "      <td>5.4</td>\n",
       "      <td>61</td>\n",
       "      <td>0</td>\n",
       "      <td>False</td>\n",
       "    </tr>\n",
       "    <tr>\n",
       "      <th>2</th>\n",
       "      <td>347</td>\n",
       "      <td>UAE with SPVA</td>\n",
       "      <td>30</td>\n",
       "      <td>12</td>\n",
       "      <td>27</td>\n",
       "      <td>1</td>\n",
       "      <td>0</td>\n",
       "      <td>0</td>\n",
       "      <td>0</td>\n",
       "      <td>0</td>\n",
       "      <td>0</td>\n",
       "      <td>26</td>\n",
       "      <td>uae</td>\n",
       "      <td>G1</td>\n",
       "      <td>43.9</td>\n",
       "      <td>5.0</td>\n",
       "      <td>61</td>\n",
       "      <td>0</td>\n",
       "      <td>False</td>\n",
       "    </tr>\n",
       "    <tr>\n",
       "      <th>3</th>\n",
       "      <td>347</td>\n",
       "      <td>UAE with TAG</td>\n",
       "      <td>30</td>\n",
       "      <td>12</td>\n",
       "      <td>29</td>\n",
       "      <td>0</td>\n",
       "      <td>0</td>\n",
       "      <td>0</td>\n",
       "      <td>0</td>\n",
       "      <td>0</td>\n",
       "      <td>0</td>\n",
       "      <td>29</td>\n",
       "      <td>uae</td>\n",
       "      <td>G2</td>\n",
       "      <td>41.7</td>\n",
       "      <td>5.4</td>\n",
       "      <td>61</td>\n",
       "      <td>0</td>\n",
       "      <td>False</td>\n",
       "    </tr>\n",
       "    <tr>\n",
       "      <th>4</th>\n",
       "      <td>1400</td>\n",
       "      <td>UAE</td>\n",
       "      <td>63</td>\n",
       "      <td>6</td>\n",
       "      <td>62</td>\n",
       "      <td>0</td>\n",
       "      <td>1</td>\n",
       "      <td>5</td>\n",
       "      <td>0</td>\n",
       "      <td>0</td>\n",
       "      <td>0</td>\n",
       "      <td>56</td>\n",
       "      <td>uae</td>\n",
       "      <td>G1</td>\n",
       "      <td>41</td>\n",
       "      <td>3.5</td>\n",
       "      <td>61</td>\n",
       "      <td>0</td>\n",
       "      <td>False</td>\n",
       "    </tr>\n",
       "  </tbody>\n",
       "</table>\n",
       "</div>"
      ],
      "text/plain": [
       "   study_id    intervention baseline_n  followup_interval  followup_n  \\\n",
       "0        23  HIFU with CEUS         17                 12          17   \n",
       "1        23            HIFU         16                 12          16   \n",
       "2       347   UAE with SPVA         30                 12          27   \n",
       "3       347    UAE with TAG         30                 12          29   \n",
       "4      1400             UAE         63                  6          62   \n",
       "\n",
       "   hysterectomy  myomectomy  uae  MRIgFUS  ablation  iud  no_treatment  \\\n",
       "0             0           0    0        1         0    0            16   \n",
       "1             0           0    0        3         0    0            13   \n",
       "2             1           0    0        0         0    0            26   \n",
       "3             0           0    0        0         0    0            29   \n",
       "4             0           1    5        0         0    0            56   \n",
       "\n",
       "  intervention_cat arm BL Mean  BL SD  fup_max  fup_min crossover_study  \n",
       "0           MRgFUS  G1    43.1    5.3       61        0           False  \n",
       "1           MRgFUS  G2      42    5.4       61        0           False  \n",
       "2              uae  G1    43.9    5.0       61        0           False  \n",
       "3              uae  G2    41.7    5.4       61        0           False  \n",
       "4              uae  G1      41    3.5       61        0           False  "
      ]
     },
     "execution_count": 29,
     "metadata": {},
     "output_type": "execute_result"
    }
   ],
   "source": [
    "dataset.head()"
   ]
  },
  {
   "cell_type": "markdown",
   "metadata": {},
   "source": [
    "Export data for posterity"
   ]
  },
  {
   "cell_type": "code",
   "execution_count": 30,
   "metadata": {
    "collapsed": true
   },
   "outputs": [],
   "source": [
    "dataset.to_csv('data/UF_interventions_clean.csv', na_rep=None)"
   ]
  },
  {
   "cell_type": "code",
   "execution_count": 31,
   "metadata": {
    "collapsed": true
   },
   "outputs": [],
   "source": [
    "outcome_cats = [ 'hysterectomy', 'myomectomy', 'uae',\n",
    "       'MRIgFUS', 'ablation', 'iud', 'no_treatment']"
   ]
  },
  {
   "cell_type": "code",
   "execution_count": 32,
   "metadata": {
    "collapsed": false
   },
   "outputs": [],
   "source": [
    "studies = dataset.study_id.unique()\n",
    "study_index = np.array([np.argwhere(studies==i).squeeze() for i in dataset.study_id])"
   ]
  },
  {
   "cell_type": "markdown",
   "metadata": {},
   "source": [
    "## Model Specification"
   ]
  },
  {
   "cell_type": "code",
   "execution_count": 33,
   "metadata": {
    "collapsed": true
   },
   "outputs": [],
   "source": [
    "def append(tensor, value):\n",
    "    return T.concatenate([tensor, T.stack([value], axis=0)])"
   ]
  },
  {
   "cell_type": "code",
   "execution_count": 34,
   "metadata": {
    "collapsed": false
   },
   "outputs": [],
   "source": [
    "import theano.tensor as T\n",
    "from numpy.ma import masked_values\n",
    "\n",
    "\n",
    "SumTo1 = pm.transforms.SumTo1()\n",
    "inverse_logit = pm.transforms.inverse_logit\n",
    "\n",
    "def specify_model(model, intervention):\n",
    "    \n",
    "    intervention_data = dataset[(dataset.intervention_cat==intervention)\n",
    "                            & ~dataset[outcome_cats].isnull().sum(axis=1).astype(bool)].copy()\n",
    "    \n",
    "    intervention_data.loc[intervention_data['followup_interval'].isnull(), 'followup_interval'] = 17.33\n",
    "    followup_masked = masked_values(intervention_data.followup_interval.values, 17.33)\n",
    "    followup_min, followup_max = intervention_data[['fup_min', 'fup_max']].values.T\n",
    "\n",
    "    outcomes = intervention_data[[ 'hysterectomy', 'myomectomy', 'uae',\n",
    "           'MRIgFUS', 'ablation', 'iud', 'no_treatment']].values\n",
    "    \n",
    "    if np.isnan(outcomes).any():\n",
    "        print('Missing values in outcomes for', intervention)\n",
    "\n",
    "    followup_n = intervention_data.followup_n.values\n",
    "\n",
    "    # Center age at 40\n",
    "    intervention_data.loc[intervention_data['BL Mean'].isnull(), 'BL Mean'] = 90\n",
    "    age_masked = masked_values(intervention_data['BL Mean'].values - 40, 50)\n",
    "    \n",
    "    studies = intervention_data.study_id.unique()\n",
    "    study_index = np.array([np.argwhere(studies==i).squeeze() for i in intervention_data.study_id])\n",
    "\n",
    "    study_id = intervention_data.study_id.values\n",
    "    \n",
    "    n_studies = len(set(study_id))\n",
    "\n",
    "    n_outcomes = 7\n",
    "    arms = len(outcomes)\n",
    "\n",
    "    with model:\n",
    "\n",
    "        # Impute followup times uniformly over the observed range\n",
    "        if np.any(followup_masked.mask):\n",
    "            followup_time = pm.Uniform('followup_time', followup_min.min(), followup_max.max(), \n",
    "                                       shape=len(followup_min), \n",
    "                                       observed=followup_masked)\n",
    "        else:\n",
    "            followup_time = followup_masked.data.astype(float)\n",
    "        \n",
    "        # Impute age using a T-distribution\n",
    "        if np.any(age_masked.mask):\n",
    "            nu = pm.Exponential('nu', 0.01, testval=10)\n",
    "            age_centered = pm.StudentT('age_centered', nu, shape=len(age_masked), observed=age_masked)\n",
    "        else:\n",
    "            age_centered = age_masked.data.astype(float)\n",
    "\n",
    "        # Mean probabilities (on logit scale)\n",
    "        μ = pm.Flat('μ', shape=n_outcomes, testval=np.ones(n_outcomes))\n",
    "        # Followup time covariates \n",
    "        θ_fup = pm.Normal('θ_fup', 0, 1e-6, shape=n_outcomes-1, testval=np.zeros(n_outcomes-1))\n",
    "        # Append a zero for no treatmnet\n",
    "        β_fup = append(θ_fup, 0)\n",
    "        # Age covariate\n",
    "        θ_age = pm.Normal('θ_age', 0, 1e-6, shape=n_outcomes-1, testval=np.zeros(n_outcomes-1))\n",
    "        # Append a zero for no treatment\n",
    "        β_age = append(θ_age, 0)\n",
    "\n",
    "        # Study random effect\n",
    "        η = pm.Normal('η', 0, 1, shape=n_studies)\n",
    "        σ = pm.HalfCauchy('σ', 5)\n",
    "        ϵ = η*σ\n",
    "\n",
    "        # Poisson rate\n",
    "        λ = [T.exp(μ + β_fup*followup_time[i] + β_age*age_centered[i] + ϵ[study_index[i]]) \n",
    "                         for i in range(arms)]\n",
    "\n",
    "        # Multinomial data likelihood\n",
    "        likelihood = [pm.Poisson('likelihood_%i' % i, λ[i], observed=outcomes[i]) for i in range(arms)]\n",
    "        \n",
    "        ppc = [pm.Poisson('ppc_%i' % i, λ[i], shape=outcomes[i].shape) for i in range(arms)]\n",
    "        \n",
    "        '''\n",
    "        Scenario predictions\n",
    "        '''\n",
    "        \n",
    "        # 40-years old, 6-month followup\n",
    "        p_6 = pm.Deterministic('p_6', T.exp(μ + β_fup*6)/T.exp(μ + β_fup*6).sum())\n",
    "        # 40-years old, 12-month followup\n",
    "        p_12 = pm.Deterministic('p_12', T.exp(μ + β_fup*12)/T.exp(μ + β_fup*12).sum())\n",
    "        # 40-years old, 24-month followup\n",
    "        p_24 = pm.Deterministic('p_24', T.exp(μ + β_fup*24)/T.exp(μ + β_fup*24).sum())\n",
    "        # 50-years old, 6-month followup\n",
    "        p_6_50 = pm.Deterministic('p_6_50', \n",
    "                          T.exp(μ + β_fup*6 + β_age*10)/T.exp(μ + β_fup*6 + β_age*10).sum())\n",
    "        # 50-years old, 6-month followup\n",
    "        p_6_30 = pm.Deterministic('p_6_30', \n",
    "                          T.exp(μ + β_fup*6 + β_age*(-10))/T.exp(μ + β_fup*6 + β_age*(-10)).sum())\n",
    "        # 50-years old, 24-month followup\n",
    "        p_24_50 = pm.Deterministic('p_24_50', \n",
    "                          T.exp(μ + β_fup*24 + β_age*10)/T.exp(μ + β_fup*24 + β_age*10).sum())\n",
    "        # 50-years old, 24-month followup\n",
    "        p_24_30 = pm.Deterministic('p_24_30', \n",
    "                          T.exp(μ + β_fup*24 + β_age*(-10))/T.exp(μ + β_fup*24 + β_age*(-10)).sum())\n",
    "        \n",
    "      \n",
    "    return model"
   ]
  },
  {
   "cell_type": "markdown",
   "metadata": {},
   "source": [
    "## Model Execution"
   ]
  },
  {
   "cell_type": "code",
   "execution_count": 35,
   "metadata": {
    "collapsed": true
   },
   "outputs": [],
   "source": [
    "n_iterations = 50000\n",
    "\n",
    "use_NUTS = False\n",
    "\n",
    "n_burn = 40000\n",
    "if use_NUTS:\n",
    "    n_burn = 0\n",
    "    \n",
    "njobs = 1"
   ]
  },
  {
   "cell_type": "markdown",
   "metadata": {},
   "source": [
    "### UAE Model"
   ]
  },
  {
   "cell_type": "code",
   "execution_count": null,
   "metadata": {
    "collapsed": false,
    "scrolled": false
   },
   "outputs": [
    {
     "name": "stdout",
     "output_type": "stream",
     "text": [
      "Applied log-transform to σ and added transformed σ_log to model.\n"
     ]
    }
   ],
   "source": [
    "uae_model = specify_model(pm.Model(), 'uae')"
   ]
  },
  {
   "cell_type": "code",
   "execution_count": null,
   "metadata": {
    "collapsed": false,
    "scrolled": false
   },
   "outputs": [
    {
     "name": "stdout",
     "output_type": "stream",
     "text": [
      " [-----------------78%---------         ] 39420 of 50000 complete in 450.3 sec"
     ]
    }
   ],
   "source": [
    "with uae_model:\n",
    "        \n",
    "    if use_NUTS:\n",
    "        start = pm.find_MAP()\n",
    "        trace_uae = pm.sample(n_iterations/20, start=start, random_seed=20140925)\n",
    "        \n",
    "    else:\n",
    "        trace_uae = pm.sample(n_iterations, step=pm.Metropolis(), random_seed=20140925)\n",
    "\n",
    "### Model output"
   ]
  },
  {
   "cell_type": "code",
   "execution_count": 39,
   "metadata": {
    "collapsed": true
   },
   "outputs": [],
   "source": [
    "plot_labels = dataset.columns[5:12]"
   ]
  },
  {
   "cell_type": "markdown",
   "metadata": {},
   "source": [
    "Imputed follow-up times"
   ]
  },
  {
   "cell_type": "code",
   "execution_count": 40,
   "metadata": {
    "collapsed": false
   },
   "outputs": [
    {
     "data": {
      "text/plain": [
       "<matplotlib.gridspec.GridSpec at 0x7f2cabd3dbe0>"
      ]
     },
     "execution_count": 40,
     "metadata": {},
     "output_type": "execute_result"
    },
    {
     "data": {
      "image/png": "[encoded data removed]",
      "text/plain": [
       "<matplotlib.figure.Figure at 0x7f2cabd41048>"
      ]
     },
     "metadata": {},
     "output_type": "display_data"
    }
   ],
   "source": [
    "pm.forestplot(trace_uae[n_burn:], varnames=['followup_time_missing'])"
   ]
  },
  {
   "cell_type": "markdown",
   "metadata": {},
   "source": [
    "Baseline estimates for each outcome, on the log scale."
   ]
  },
  {
   "cell_type": "code",
   "execution_count": 43,
   "metadata": {
    "collapsed": false
   },
   "outputs": [
    {
     "data": {
      "text/plain": [
       "array([[<matplotlib.axes._subplots.AxesSubplot object at 0x7f2ca8e88cc0>,\n",
       "        <matplotlib.axes._subplots.AxesSubplot object at 0x7f2ca8db55f8>]], dtype=object)"
      ]
     },
     "execution_count": 43,
     "metadata": {},
     "output_type": "execute_result"
    },
    {
     "data": {
      "image/png": "[encoded data removed]",
      "text/plain": [
       "<matplotlib.figure.Figure at 0x7f2ca8e1a2e8>"
      ]
     },
     "metadata": {},
     "output_type": "display_data"
    }
   ],
   "source": [
    "pm.traceplot(trace_uae[n_burn:], varnames=['μ'])"
   ]
  },
  {
   "cell_type": "code",
   "execution_count": 41,
   "metadata": {
    "collapsed": false,
    "scrolled": false
   },
   "outputs": [
    {
     "data": {
      "text/plain": [
       "<matplotlib.gridspec.GridSpec at 0x7f2ca8f6b1d0>"
      ]
     },
     "execution_count": 41,
     "metadata": {},
     "output_type": "execute_result"
    },
    {
     "data": {
      "image/png": "[encoded data removed]",
      "text/plain": [
       "<matplotlib.figure.Figure at 0x7f2ca8f6b2e8>"
      ]
     },
     "metadata": {},
     "output_type": "display_data"
    }
   ],
   "source": [
    "pm.forestplot(trace_uae[n_burn:], varnames=['μ'], ylabels=plot_labels)"
   ]
  },
  {
   "cell_type": "markdown",
   "metadata": {},
   "source": [
    "Follow-up time effect size estimates. Positive values indicate higher probability of event with increased follow-up time."
   ]
  },
  {
   "cell_type": "code",
   "execution_count": 44,
   "metadata": {
    "collapsed": false
   },
   "outputs": [
    {
     "data": {
      "text/plain": [
       "array([[<matplotlib.axes._subplots.AxesSubplot object at 0x7f2ca8d21588>,\n",
       "        <matplotlib.axes._subplots.AxesSubplot object at 0x7f2ca8ca6898>]], dtype=object)"
      ]
     },
     "execution_count": 44,
     "metadata": {},
     "output_type": "execute_result"
    },
    {
     "data": {
      "image/png": "[encoded data removed]",
      "text/plain": [
       "<matplotlib.figure.Figure at 0x7f2ca8d2b080>"
      ]
     },
     "metadata": {},
     "output_type": "display_data"
    }
   ],
   "source": [
    "pm.traceplot(trace_uae[n_burn:], varnames=['θ_fup'])"
   ]
  },
  {
   "cell_type": "code",
   "execution_count": 45,
   "metadata": {
    "collapsed": false
   },
   "outputs": [
    {
     "data": {
      "text/plain": [
       "<matplotlib.gridspec.GridSpec at 0x7f2ca8cb12b0>"
      ]
     },
     "execution_count": 45,
     "metadata": {},
     "output_type": "execute_result"
    },
    {
     "data": {
      "image/png": "[encoded data removed]",
      "text/plain": [
       "<matplotlib.figure.Figure at 0x7f2ca8ec3eb8>"
      ]
     },
     "metadata": {},
     "output_type": "display_data"
    }
   ],
   "source": [
    "pm.forestplot(trace_uae[n_burn:], varnames=['θ_fup'], ylabels=plot_labels[:-1])"
   ]
  },
  {
   "cell_type": "markdown",
   "metadata": {},
   "source": [
    "Age effect size estimates. Positive values suggest higher probability of event with each year above age 40."
   ]
  },
  {
   "cell_type": "code",
   "execution_count": 46,
   "metadata": {
    "collapsed": false
   },
   "outputs": [
    {
     "data": {
      "text/plain": [
       "<matplotlib.gridspec.GridSpec at 0x7f2ca8bb3f28>"
      ]
     },
     "execution_count": 46,
     "metadata": {},
     "output_type": "execute_result"
    },
    {
     "data": {
      "image/png": "[encoded data removed]",
      "text/plain": [
       "<matplotlib.figure.Figure at 0x7f2ca8bb3748>"
      ]
     },
     "metadata": {},
     "output_type": "display_data"
    }
   ],
   "source": [
    "pm.forestplot(trace_uae[n_burn:], varnames=['θ_age'], ylabels=plot_labels[:-1])"
   ]
  },
  {
   "cell_type": "markdown",
   "metadata": {},
   "source": [
    "Estimated probabilities of follow-up interventions for 6-month followup and age 40."
   ]
  },
  {
   "cell_type": "code",
   "execution_count": 47,
   "metadata": {
    "collapsed": false
   },
   "outputs": [
    {
     "data": {
      "text/plain": [
       "<matplotlib.gridspec.GridSpec at 0x7f2ca8b1edd8>"
      ]
     },
     "execution_count": 47,
     "metadata": {},
     "output_type": "execute_result"
    },
    {
     "data": {
      "image/png": "[encoded data removed]",
      "text/plain": [
       "<matplotlib.figure.Figure at 0x7f2ca8f2ea20>"
      ]
     },
     "metadata": {},
     "output_type": "display_data"
    }
   ],
   "source": [
    "pm.forestplot(trace_uae[n_burn:], varnames=['p_6'], ylabels=plot_labels)"
   ]
  },
  {
   "cell_type": "markdown",
   "metadata": {},
   "source": [
    "Estimates corresponding to the above (in the same order as plotted)"
   ]
  },
  {
   "cell_type": "code",
   "execution_count": 48,
   "metadata": {
    "collapsed": false
   },
   "outputs": [
    {
     "name": "stdout",
     "output_type": "stream",
     "text": [
      "\n",
      "p_6:\n",
      "\n",
      "  Mean             SD               MC Error         95% HPD interval\n",
      "  -------------------------------------------------------------------\n",
      "  \n",
      "  0.018            0.004            0.000            [0.010, 0.026]\n",
      "  0.042            0.011            0.001            [0.021, 0.062]\n",
      "  0.014            0.006            0.001            [0.004, 0.026]\n",
      "  0.000            0.000            0.000            [0.000, 0.000]\n",
      "  0.000            0.000            0.000            [0.000, 0.000]\n",
      "  0.000            0.000            0.000            [0.000, 0.000]\n",
      "  0.925            0.011            0.001            [0.906, 0.951]\n",
      "\n",
      "  Posterior quantiles:\n",
      "  2.5            25             50             75             97.5\n",
      "  |--------------|==============|==============|--------------|\n",
      "  \n",
      "  0.010          0.015          0.018          0.021          0.027\n",
      "  0.023          0.035          0.042          0.050          0.064\n",
      "  0.005          0.010          0.013          0.017          0.028\n",
      "  0.000          0.000          0.000          0.000          0.000\n",
      "  0.000          0.000          0.000          0.000          0.000\n",
      "  0.000          0.000          0.000          0.000          0.000\n",
      "  0.903          0.918          0.925          0.932          0.949\n",
      "\n"
     ]
    }
   ],
   "source": [
    "pm.summary(trace_uae[n_burn:], varnames=['p_6'])"
   ]
  },
  {
   "cell_type": "markdown",
   "metadata": {},
   "source": [
    "Estimated probabilities of follow-up interventions for 12-month followup and age 40."
   ]
  },
  {
   "cell_type": "code",
   "execution_count": 49,
   "metadata": {
    "collapsed": false
   },
   "outputs": [
    {
     "data": {
      "text/plain": [
       "<matplotlib.gridspec.GridSpec at 0x7f2ca8bdc6d8>"
      ]
     },
     "execution_count": 49,
     "metadata": {},
     "output_type": "execute_result"
    },
    {
     "data": {
      "image/png": "[encoded data removed]",
      "text/plain": [
       "<matplotlib.figure.Figure at 0x7f2ca8ab3e48>"
      ]
     },
     "metadata": {},
     "output_type": "display_data"
    }
   ],
   "source": [
    "pm.forestplot(trace_uae[n_burn:], varnames=['p_12'], ylabels=plot_labels)"
   ]
  },
  {
   "cell_type": "code",
   "execution_count": 50,
   "metadata": {
    "collapsed": false
   },
   "outputs": [
    {
     "name": "stdout",
     "output_type": "stream",
     "text": [
      "\n",
      "p_12:\n",
      "\n",
      "  Mean             SD               MC Error         95% HPD interval\n",
      "  -------------------------------------------------------------------\n",
      "  \n",
      "  0.022            0.005            0.000            [0.013, 0.032]\n",
      "  0.036            0.008            0.001            [0.023, 0.052]\n",
      "  0.016            0.006            0.001            [0.005, 0.029]\n",
      "  0.000            0.000            0.000            [0.000, 0.000]\n",
      "  0.000            0.000            0.000            [0.000, 0.000]\n",
      "  0.000            0.000            0.000            [0.000, 0.000]\n",
      "  0.925            0.009            0.001            [0.908, 0.945]\n",
      "\n",
      "  Posterior quantiles:\n",
      "  2.5            25             50             75             97.5\n",
      "  |--------------|==============|==============|--------------|\n",
      "  \n",
      "  0.013          0.018          0.022          0.026          0.033\n",
      "  0.023          0.031          0.036          0.041          0.052\n",
      "  0.006          0.012          0.015          0.019          0.031\n",
      "  0.000          0.000          0.000          0.000          0.000\n",
      "  0.000          0.000          0.000          0.000          0.000\n",
      "  0.000          0.000          0.000          0.000          0.000\n",
      "  0.907          0.919          0.925          0.932          0.944\n",
      "\n"
     ]
    }
   ],
   "source": [
    "pm.summary(trace_uae[n_burn:], varnames=['p_12'])"
   ]
  },
  {
   "cell_type": "markdown",
   "metadata": {},
   "source": [
    "Estimated probabilities of follow-up interventions for 24-month followup and age 40."
   ]
  },
  {
   "cell_type": "code",
   "execution_count": 51,
   "metadata": {
    "collapsed": false
   },
   "outputs": [
    {
     "data": {
      "text/plain": [
       "<matplotlib.gridspec.GridSpec at 0x7f2ca8a082e8>"
      ]
     },
     "execution_count": 51,
     "metadata": {},
     "output_type": "execute_result"
    },
    {
     "data": {
      "image/png": "[encoded data removed]",
      "text/plain": [
       "<matplotlib.figure.Figure at 0x7f2ca8da8cf8>"
      ]
     },
     "metadata": {},
     "output_type": "display_data"
    }
   ],
   "source": [
    "pm.forestplot(trace_uae[n_burn:], varnames=['p_24'], ylabels=plot_labels)"
   ]
  },
  {
   "cell_type": "code",
   "execution_count": 52,
   "metadata": {
    "collapsed": false
   },
   "outputs": [
    {
     "name": "stdout",
     "output_type": "stream",
     "text": [
      "\n",
      "p_24:\n",
      "\n",
      "  Mean             SD               MC Error         95% HPD interval\n",
      "  -------------------------------------------------------------------\n",
      "  \n",
      "  0.034            0.008            0.001            [0.020, 0.050]\n",
      "  0.026            0.006            0.001            [0.015, 0.040]\n",
      "  0.022            0.007            0.001            [0.009, 0.034]\n",
      "  0.000            0.000            0.000            [0.000, 0.000]\n",
      "  0.000            0.000            0.000            [0.000, 0.000]\n",
      "  0.000            0.000            0.000            [0.000, 0.000]\n",
      "  0.917            0.010            0.001            [0.898, 0.936]\n",
      "\n",
      "  Posterior quantiles:\n",
      "  2.5            25             50             75             97.5\n",
      "  |--------------|==============|==============|--------------|\n",
      "  \n",
      "  0.021          0.028          0.034          0.039          0.051\n",
      "  0.015          0.022          0.026          0.030          0.041\n",
      "  0.010          0.017          0.021          0.026          0.037\n",
      "  0.000          0.000          0.000          0.000          0.000\n",
      "  0.000          0.000          0.000          0.000          0.000\n",
      "  0.000          0.000          0.000          0.000          0.000\n",
      "  0.899          0.910          0.918          0.924          0.938\n",
      "\n"
     ]
    }
   ],
   "source": [
    "pm.summary(trace_uae[n_burn:], varnames=['p_24'])"
   ]
  },
  {
   "cell_type": "markdown",
   "metadata": {},
   "source": [
    "Estimated probabilities of follow-up interventions for 6-month followup and age 30."
   ]
  },
  {
   "cell_type": "code",
   "execution_count": 53,
   "metadata": {
    "collapsed": false
   },
   "outputs": [
    {
     "data": {
      "text/plain": [
       "<matplotlib.gridspec.GridSpec at 0x7f2ca8984c88>"
      ]
     },
     "execution_count": 53,
     "metadata": {},
     "output_type": "execute_result"
    },
    {
     "data": {
      "image/png": "[encoded data removed]",
      "text/plain": [
       "<matplotlib.figure.Figure at 0x7f2ca8984eb8>"
      ]
     },
     "metadata": {},
     "output_type": "display_data"
    }
   ],
   "source": [
    "pm.forestplot(trace_uae[n_burn:], varnames=['p_6_30'], ylabels=plot_labels)"
   ]
  },
  {
   "cell_type": "code",
   "execution_count": 54,
   "metadata": {
    "collapsed": false
   },
   "outputs": [
    {
     "name": "stdout",
     "output_type": "stream",
     "text": [
      "\n",
      "p_6_30:\n",
      "\n",
      "  Mean             SD               MC Error         95% HPD interval\n",
      "  -------------------------------------------------------------------\n",
      "  \n",
      "  0.002            0.002            0.000            [0.000, 0.006]\n",
      "  0.470            0.057            0.004            [0.362, 0.576]\n",
      "  0.010            0.009            0.001            [0.001, 0.028]\n",
      "  0.000            0.000            0.000            [0.000, 0.000]\n",
      "  0.000            0.000            0.000            [0.000, 0.000]\n",
      "  0.000            0.000            0.000            [0.000, 0.000]\n",
      "  0.518            0.059            0.004            [0.404, 0.624]\n",
      "\n",
      "  Posterior quantiles:\n",
      "  2.5            25             50             75             97.5\n",
      "  |--------------|==============|==============|--------------|\n",
      "  \n",
      "  0.000          0.001          0.002          0.003          0.007\n",
      "  0.361          0.429          0.472          0.510          0.575\n",
      "  0.001          0.004          0.007          0.014          0.032\n",
      "  0.000          0.000          0.000          0.000          0.000\n",
      "  0.000          0.000          0.000          0.000          0.000\n",
      "  0.000          0.000          0.000          0.000          0.000\n",
      "  0.408          0.476          0.517          0.561          0.629\n",
      "\n"
     ]
    }
   ],
   "source": [
    "pm.summary(trace_uae[n_burn:], varnames=['p_6_30'])"
   ]
  },
  {
   "cell_type": "markdown",
   "metadata": {},
   "source": [
    "Estimated probabilities of follow-up interventions for 6-month followup and age 50."
   ]
  },
  {
   "cell_type": "code",
   "execution_count": 55,
   "metadata": {
    "collapsed": false
   },
   "outputs": [
    {
     "data": {
      "text/plain": [
       "<matplotlib.gridspec.GridSpec at 0x7f2ca896aef0>"
      ]
     },
     "execution_count": 55,
     "metadata": {},
     "output_type": "execute_result"
    },
    {
     "data": {
      "image/png": "[encoded data removed]",
      "text/plain": [
       "<matplotlib.figure.Figure at 0x7f2ca885a0b8>"
      ]
     },
     "metadata": {},
     "output_type": "display_data"
    }
   ],
   "source": [
    "pm.forestplot(trace_uae[n_burn:], varnames=['p_6_50'], ylabels=plot_labels)"
   ]
  },
  {
   "cell_type": "code",
   "execution_count": 56,
   "metadata": {
    "collapsed": false
   },
   "outputs": [
    {
     "name": "stdout",
     "output_type": "stream",
     "text": [
      "\n",
      "p_6_50:\n",
      "\n",
      "  Mean             SD               MC Error         95% HPD interval\n",
      "  -------------------------------------------------------------------\n",
      "  \n",
      "  0.097            0.040            0.004            [0.022, 0.173]\n",
      "  0.002            0.001            0.000            [0.000, 0.004]\n",
      "  0.013            0.007            0.001            [0.002, 0.028]\n",
      "  0.000            0.000            0.000            [0.000, 0.000]\n",
      "  0.032            0.047            0.004            [0.000, 0.145]\n",
      "  0.126            0.153            0.015            [0.001, 0.465]\n",
      "  0.730            0.137            0.013            [0.404, 0.908]\n",
      "\n",
      "  Posterior quantiles:\n",
      "  2.5            25             50             75             97.5\n",
      "  |--------------|==============|==============|--------------|\n",
      "  \n",
      "  0.026          0.068          0.093          0.122          0.182\n",
      "  0.000          0.001          0.002          0.003          0.005\n",
      "  0.003          0.007          0.011          0.017          0.031\n",
      "  0.000          0.000          0.000          0.000          0.000\n",
      "  0.000          0.003          0.012          0.039          0.185\n",
      "  0.002          0.023          0.063          0.175          0.544\n",
      "  0.356          0.693          0.768          0.821          0.889\n",
      "\n"
     ]
    }
   ],
   "source": [
    "pm.summary(trace_uae[n_burn:], varnames=['p_6_50'])"
   ]
  },
  {
   "cell_type": "markdown",
   "metadata": {},
   "source": [
    "Estimated probabilities of follow-up interventions for 24-month followup and age 30."
   ]
  },
  {
   "cell_type": "code",
   "execution_count": 57,
   "metadata": {
    "collapsed": false
   },
   "outputs": [
    {
     "data": {
      "text/plain": [
       "<matplotlib.gridspec.GridSpec at 0x7f2ca87d72b0>"
      ]
     },
     "execution_count": 57,
     "metadata": {},
     "output_type": "execute_result"
    },
    {
     "data": {
      "image/png": "[encoded data removed]",
      "text/plain": [
       "<matplotlib.figure.Figure at 0x7f2ca87d7390>"
      ]
     },
     "metadata": {},
     "output_type": "display_data"
    }
   ],
   "source": [
    "pm.forestplot(trace_uae[n_burn:], varnames=['p_24_30'], ylabels=plot_labels)"
   ]
  },
  {
   "cell_type": "code",
   "execution_count": 58,
   "metadata": {
    "collapsed": false
   },
   "outputs": [
    {
     "name": "stdout",
     "output_type": "stream",
     "text": [
      "\n",
      "p_24_30:\n",
      "\n",
      "  Mean             SD               MC Error         95% HPD interval\n",
      "  -------------------------------------------------------------------\n",
      "  \n",
      "  0.005            0.004            0.000            [0.000, 0.014]\n",
      "  0.358            0.071            0.006            [0.222, 0.498]\n",
      "  0.019            0.016            0.001            [0.001, 0.052]\n",
      "  0.000            0.000            0.000            [0.000, 0.000]\n",
      "  0.000            0.000            0.000            [0.000, 0.000]\n",
      "  0.000            0.000            0.000            [0.000, 0.000]\n",
      "  0.618            0.071            0.006            [0.482, 0.751]\n",
      "\n",
      "  Posterior quantiles:\n",
      "  2.5            25             50             75             97.5\n",
      "  |--------------|==============|==============|--------------|\n",
      "  \n",
      "  0.001          0.002          0.003          0.006          0.018\n",
      "  0.224          0.310          0.355          0.406          0.500\n",
      "  0.002          0.007          0.013          0.026          0.061\n",
      "  0.000          0.000          0.000          0.000          0.000\n",
      "  0.000          0.000          0.000          0.000          0.000\n",
      "  0.000          0.000          0.000          0.000          0.000\n",
      "  0.476          0.571          0.622          0.668          0.746\n",
      "\n"
     ]
    }
   ],
   "source": [
    "pm.summary(trace_uae[n_burn:], varnames=['p_24_30'])"
   ]
  },
  {
   "cell_type": "markdown",
   "metadata": {},
   "source": [
    "Estimated probabilities of follow-up interventions for 24-month followup and age 50."
   ]
  },
  {
   "cell_type": "code",
   "execution_count": 59,
   "metadata": {
    "collapsed": false
   },
   "outputs": [
    {
     "data": {
      "text/plain": [
       "<matplotlib.gridspec.GridSpec at 0x7f2ca8a08128>"
      ]
     },
     "execution_count": 59,
     "metadata": {},
     "output_type": "execute_result"
    },
    {
     "data": {
      "image/png": "[encoded data removed]",
      "text/plain": [
       "<matplotlib.figure.Figure at 0x7f2ca87feda0>"
      ]
     },
     "metadata": {},
     "output_type": "display_data"
    }
   ],
   "source": [
    "pm.forestplot(trace_uae[n_burn:], varnames=['p_24_50'], ylabels=plot_labels)"
   ]
  },
  {
   "cell_type": "code",
   "execution_count": 60,
   "metadata": {
    "collapsed": false
   },
   "outputs": [
    {
     "name": "stdout",
     "output_type": "stream",
     "text": [
      "\n",
      "p_24_50:\n",
      "\n",
      "  Mean             SD               MC Error         95% HPD interval\n",
      "  -------------------------------------------------------------------\n",
      "  \n",
      "  0.169            0.055            0.005            [0.063, 0.278]\n",
      "  0.001            0.001            0.000            [0.000, 0.002]\n",
      "  0.018            0.009            0.001            [0.004, 0.037]\n",
      "  0.000            0.000            0.000            [0.000, 0.000]\n",
      "  0.046            0.060            0.005            [0.000, 0.184]\n",
      "  0.087            0.091            0.008            [0.001, 0.281]\n",
      "  0.677            0.094            0.008            [0.466, 0.835]\n",
      "\n",
      "  Posterior quantiles:\n",
      "  2.5            25             50             75             97.5\n",
      "  |--------------|==============|==============|--------------|\n",
      "  \n",
      "  0.071          0.133          0.165          0.203          0.291\n",
      "  0.000          0.001          0.001          0.001          0.003\n",
      "  0.006          0.012          0.016          0.024          0.041\n",
      "  0.000          0.000          0.000          0.000          0.000\n",
      "  0.000          0.006          0.022          0.061          0.231\n",
      "  0.003          0.022          0.052          0.126          0.330\n",
      "  0.441          0.627          0.694          0.742          0.823\n",
      "\n"
     ]
    }
   ],
   "source": [
    "pm.summary(trace_uae[n_burn:], varnames=['p_24_50'])"
   ]
  },
  {
   "cell_type": "markdown",
   "metadata": {},
   "source": [
    "### Myomectomy model"
   ]
  },
  {
   "cell_type": "code",
   "execution_count": 61,
   "metadata": {
    "collapsed": false
   },
   "outputs": [
    {
     "name": "stdout",
     "output_type": "stream",
     "text": [
      "Applied log-transform to σ and added transformed σ_log to model.\n"
     ]
    }
   ],
   "source": [
    "myomectomy_model = specify_model(pm.Model(), 'myomectomy')"
   ]
  },
  {
   "cell_type": "code",
   "execution_count": 62,
   "metadata": {
    "collapsed": false
   },
   "outputs": [
    {
     "name": "stdout",
     "output_type": "stream",
     "text": [
      " [-----------------100%-----------------] 50000 of 50000 complete in 265.2 sec"
     ]
    }
   ],
   "source": [
    "with myomectomy_model:\n",
    "    \n",
    "    if use_NUTS:\n",
    "        \n",
    "        trace_myomectomy = pm.sample(n_iterations/20, random_seed=20140925)\n",
    "    \n",
    "    else:\n",
    "    \n",
    "        trace_myomectomy = pm.sample(n_iterations, step=pm.Metropolis(),  \n",
    "                                     random_seed=20140925)"
   ]
  },
  {
   "cell_type": "markdown",
   "metadata": {},
   "source": [
    "Baseline estimates on log scale"
   ]
  },
  {
   "cell_type": "code",
   "execution_count": 63,
   "metadata": {
    "collapsed": false
   },
   "outputs": [
    {
     "data": {
      "text/plain": [
       "<matplotlib.gridspec.GridSpec at 0x7f2cb260e6a0>"
      ]
     },
     "execution_count": 63,
     "metadata": {},
     "output_type": "execute_result"
    },
    {
     "data": {
      "image/png": "[encoded data removed]",
      "text/plain": [
       "<matplotlib.figure.Figure at 0x7f2cb260ebe0>"
      ]
     },
     "metadata": {},
     "output_type": "display_data"
    }
   ],
   "source": [
    "pm.forestplot(trace_myomectomy[n_burn:], varnames=['μ'], ylabels=plot_labels)"
   ]
  },
  {
   "cell_type": "markdown",
   "metadata": {},
   "source": [
    "Followup time effect"
   ]
  },
  {
   "cell_type": "code",
   "execution_count": 66,
   "metadata": {
    "collapsed": false
   },
   "outputs": [
    {
     "data": {
      "text/plain": [
       "<matplotlib.gridspec.GridSpec at 0x7f2cb29c8470>"
      ]
     },
     "execution_count": 66,
     "metadata": {},
     "output_type": "execute_result"
    },
    {
     "data": {
      "image/png": "[encoded data removed]",
      "text/plain": [
       "<matplotlib.figure.Figure at 0x7f2cb5b790f0>"
      ]
     },
     "metadata": {},
     "output_type": "display_data"
    }
   ],
   "source": [
    "pm.forestplot(trace_myomectomy[n_burn:], varnames=['θ_fup'], ylabels=plot_labels[:-1])"
   ]
  },
  {
   "cell_type": "markdown",
   "metadata": {},
   "source": [
    "Age over 40 effect"
   ]
  },
  {
   "cell_type": "code",
   "execution_count": 67,
   "metadata": {
    "collapsed": false
   },
   "outputs": [
    {
     "data": {
      "text/plain": [
       "<matplotlib.gridspec.GridSpec at 0x7f2cb41124a8>"
      ]
     },
     "execution_count": 67,
     "metadata": {},
     "output_type": "execute_result"
    },
    {
     "data": {
      "image/png": "[encoded data removed]",
      "text/plain": [
       "<matplotlib.figure.Figure at 0x7f2cb4119f98>"
      ]
     },
     "metadata": {},
     "output_type": "display_data"
    }
   ],
   "source": [
    "pm.forestplot(trace_myomectomy[n_burn:], varnames=['θ_age'], ylabels=plot_labels[:-1])"
   ]
  },
  {
   "cell_type": "markdown",
   "metadata": {},
   "source": [
    "Predicted probabilities for 6 months after followup, 40 years of age."
   ]
  },
  {
   "cell_type": "code",
   "execution_count": 68,
   "metadata": {
    "collapsed": false
   },
   "outputs": [
    {
     "data": {
      "text/plain": [
       "<matplotlib.gridspec.GridSpec at 0x7f2cc3db4240>"
      ]
     },
     "execution_count": 68,
     "metadata": {},
     "output_type": "execute_result"
    },
    {
     "data": {
      "image/png": "[encoded data removed]",
      "text/plain": [
       "<matplotlib.figure.Figure at 0x7f2cc1cbeef0>"
      ]
     },
     "metadata": {},
     "output_type": "display_data"
    }
   ],
   "source": [
    "pm.forestplot(trace_myomectomy[n_burn:], varnames=['p_6'], ylabels=plot_labels)"
   ]
  },
  {
   "cell_type": "code",
   "execution_count": 69,
   "metadata": {
    "collapsed": false
   },
   "outputs": [
    {
     "name": "stdout",
     "output_type": "stream",
     "text": [
      "\n",
      "p_6:\n",
      "\n",
      "  Mean             SD               MC Error         95% HPD interval\n",
      "  -------------------------------------------------------------------\n",
      "  \n",
      "  0.011            0.007            0.001            [0.001, 0.025]\n",
      "  0.000            0.000            0.000            [0.000, 0.000]\n",
      "  0.000            0.000            0.000            [0.000, 0.000]\n",
      "  0.000            0.000            0.000            [0.000, 0.000]\n",
      "  0.000            0.000            0.000            [0.000, 0.000]\n",
      "  0.000            0.000            0.000            [0.000, 0.000]\n",
      "  0.989            0.007            0.001            [0.975, 0.999]\n",
      "\n",
      "  Posterior quantiles:\n",
      "  2.5            25             50             75             97.5\n",
      "  |--------------|==============|==============|--------------|\n",
      "  \n",
      "  0.002          0.005          0.009          0.015          0.028\n",
      "  0.000          0.000          0.000          0.000          0.000\n",
      "  0.000          0.000          0.000          0.000          0.000\n",
      "  0.000          0.000          0.000          0.000          0.000\n",
      "  0.000          0.000          0.000          0.000          0.000\n",
      "  0.000          0.000          0.000          0.000          0.000\n",
      "  0.972          0.985          0.991          0.995          0.998\n",
      "\n"
     ]
    }
   ],
   "source": [
    "pm.summary(trace_myomectomy[n_burn:], varnames=['p_6'])"
   ]
  },
  {
   "cell_type": "code",
   "execution_count": 70,
   "metadata": {
    "collapsed": false
   },
   "outputs": [
    {
     "data": {
      "text/plain": [
       "<matplotlib.gridspec.GridSpec at 0x7f2cb25f9a90>"
      ]
     },
     "execution_count": 70,
     "metadata": {},
     "output_type": "execute_result"
    },
    {
     "data": {
      "image/png": "[encoded data removed]",
      "text/plain": [
       "<matplotlib.figure.Figure at 0x7f2cc4e6ecf8>"
      ]
     },
     "metadata": {},
     "output_type": "display_data"
    }
   ],
   "source": [
    "pm.forestplot(trace_myomectomy[n_burn:], varnames=['p_12'], ylabels=plot_labels)"
   ]
  },
  {
   "cell_type": "code",
   "execution_count": 71,
   "metadata": {
    "collapsed": false
   },
   "outputs": [
    {
     "name": "stdout",
     "output_type": "stream",
     "text": [
      "\n",
      "p_12:\n",
      "\n",
      "  Mean             SD               MC Error         95% HPD interval\n",
      "  -------------------------------------------------------------------\n",
      "  \n",
      "  0.003            0.003            0.000            [0.000, 0.009]\n",
      "  0.000            0.000            0.000            [0.000, 0.000]\n",
      "  0.000            0.000            0.000            [0.000, 0.000]\n",
      "  0.000            0.000            0.000            [0.000, 0.000]\n",
      "  0.000            0.000            0.000            [0.000, 0.000]\n",
      "  0.000            0.000            0.000            [0.000, 0.000]\n",
      "  0.997            0.003            0.000            [0.991, 1.000]\n",
      "\n",
      "  Posterior quantiles:\n",
      "  2.5            25             50             75             97.5\n",
      "  |--------------|==============|==============|--------------|\n",
      "  \n",
      "  0.000          0.001          0.002          0.004          0.011\n",
      "  0.000          0.000          0.000          0.000          0.001\n",
      "  0.000          0.000          0.000          0.000          0.000\n",
      "  0.000          0.000          0.000          0.000          0.000\n",
      "  0.000          0.000          0.000          0.000          0.000\n",
      "  0.000          0.000          0.000          0.000          0.000\n",
      "  0.988          0.996          0.998          0.999          1.000\n",
      "\n"
     ]
    }
   ],
   "source": [
    "pm.summary(trace_myomectomy[n_burn:], varnames=['p_12'])"
   ]
  },
  {
   "cell_type": "code",
   "execution_count": 72,
   "metadata": {
    "collapsed": false
   },
   "outputs": [
    {
     "data": {
      "text/plain": [
       "<matplotlib.gridspec.GridSpec at 0x7f2cb5bc5358>"
      ]
     },
     "execution_count": 72,
     "metadata": {},
     "output_type": "execute_result"
    },
    {
     "data": {
      "image/png": "[encoded data removed]",
      "text/plain": [
       "<matplotlib.figure.Figure at 0x7f2cc6741710>"
      ]
     },
     "metadata": {},
     "output_type": "display_data"
    }
   ],
   "source": [
    "pm.forestplot(trace_myomectomy[n_burn:], varnames=['p_24'], ylabels=plot_labels)"
   ]
  },
  {
   "cell_type": "code",
   "execution_count": 73,
   "metadata": {
    "collapsed": false
   },
   "outputs": [
    {
     "name": "stdout",
     "output_type": "stream",
     "text": [
      "\n",
      "p_24:\n",
      "\n",
      "  Mean             SD               MC Error         95% HPD interval\n",
      "  -------------------------------------------------------------------\n",
      "  \n",
      "  0.001            0.002            0.000            [0.000, 0.005]\n",
      "  0.000            0.001            0.000            [0.000, 0.001]\n",
      "  0.000            0.000            0.000            [0.000, 0.000]\n",
      "  0.000            0.000            0.000            [0.000, 0.000]\n",
      "  0.000            0.000            0.000            [0.000, 0.000]\n",
      "  0.000            0.000            0.000            [0.000, 0.000]\n",
      "  0.999            0.002            0.000            [0.994, 1.000]\n",
      "\n",
      "  Posterior quantiles:\n",
      "  2.5            25             50             75             97.5\n",
      "  |--------------|==============|==============|--------------|\n",
      "  \n",
      "  0.000          0.000          0.000          0.001          0.007\n",
      "  0.000          0.000          0.000          0.000          0.002\n",
      "  0.000          0.000          0.000          0.000          0.000\n",
      "  0.000          0.000          0.000          0.000          0.000\n",
      "  0.000          0.000          0.000          0.000          0.000\n",
      "  0.000          0.000          0.000          0.000          0.000\n",
      "  0.992          0.998          0.999          1.000          1.000\n",
      "\n"
     ]
    }
   ],
   "source": [
    "pm.summary(trace_myomectomy[n_burn:], varnames=['p_24'])"
   ]
  },
  {
   "cell_type": "code",
   "execution_count": 74,
   "metadata": {
    "collapsed": false
   },
   "outputs": [
    {
     "data": {
      "text/plain": [
       "<matplotlib.gridspec.GridSpec at 0x7f2cc676bdd8>"
      ]
     },
     "execution_count": 74,
     "metadata": {},
     "output_type": "execute_result"
    },
    {
     "data": {
      "image/png": "[encoded data removed]",
      "text/plain": [
       "<matplotlib.figure.Figure at 0x7f2cb8f91160>"
      ]
     },
     "metadata": {},
     "output_type": "display_data"
    }
   ],
   "source": [
    "pm.forestplot(trace_myomectomy[n_burn:], varnames=['p_6_30'], ylabels=plot_labels)"
   ]
  },
  {
   "cell_type": "code",
   "execution_count": 75,
   "metadata": {
    "collapsed": false
   },
   "outputs": [
    {
     "name": "stdout",
     "output_type": "stream",
     "text": [
      "\n",
      "p_6_30:\n",
      "\n",
      "  Mean             SD               MC Error         95% HPD interval\n",
      "  -------------------------------------------------------------------\n",
      "  \n",
      "  0.004            0.007            0.000            [0.000, 0.014]\n",
      "  0.128            0.098            0.008            [0.006, 0.330]\n",
      "  0.005            0.025            0.002            [0.000, 0.025]\n",
      "  0.000            0.000            0.000            [0.000, 0.000]\n",
      "  0.000            0.000            0.000            [0.000, 0.000]\n",
      "  0.000            0.000            0.000            [0.000, 0.000]\n",
      "  0.863            0.099            0.008            [0.660, 0.995]\n",
      "\n",
      "  Posterior quantiles:\n",
      "  2.5            25             50             75             97.5\n",
      "  |--------------|==============|==============|--------------|\n",
      "  \n",
      "  0.000          0.001          0.002          0.005          0.023\n",
      "  0.014          0.053          0.098          0.178          0.376\n",
      "  0.000          0.000          0.000          0.000          0.072\n",
      "  0.000          0.000          0.000          0.000          0.000\n",
      "  0.000          0.000          0.000          0.000          0.000\n",
      "  0.000          0.000          0.000          0.000          0.000\n",
      "  0.617          0.808          0.892          0.938          0.982\n",
      "\n"
     ]
    }
   ],
   "source": [
    "pm.summary(trace_myomectomy[n_burn:], varnames=['p_6_30'])"
   ]
  },
  {
   "cell_type": "code",
   "execution_count": 76,
   "metadata": {
    "collapsed": false
   },
   "outputs": [
    {
     "data": {
      "text/plain": [
       "<matplotlib.gridspec.GridSpec at 0x7f2cb43ae828>"
      ]
     },
     "execution_count": 76,
     "metadata": {},
     "output_type": "execute_result"
    },
    {
     "data": {
      "image/png": "[encoded data removed]",
      "text/plain": [
       "<matplotlib.figure.Figure at 0x7f2cba5f2ba8>"
      ]
     },
     "metadata": {},
     "output_type": "display_data"
    }
   ],
   "source": [
    "pm.forestplot(trace_myomectomy[n_burn:], varnames=['p_6_50'], ylabels=plot_labels)"
   ]
  },
  {
   "cell_type": "code",
   "execution_count": 77,
   "metadata": {
    "collapsed": false
   },
   "outputs": [
    {
     "name": "stdout",
     "output_type": "stream",
     "text": [
      "\n",
      "p_6_50:\n",
      "\n",
      "  Mean             SD               MC Error         95% HPD interval\n",
      "  -------------------------------------------------------------------\n",
      "  \n",
      "  0.022            0.068            0.004            [0.000, 0.137]\n",
      "  0.000            0.000            0.000            [0.000, 0.000]\n",
      "  0.018            0.125            0.012            [0.000, 0.000]\n",
      "  0.008            0.076            0.005            [0.000, 0.000]\n",
      "  0.613            0.475            0.047            [0.000, 1.000]\n",
      "  0.000            0.000            0.000            [0.000, 0.000]\n",
      "  0.338            0.446            0.044            [0.000, 0.996]\n",
      "\n",
      "  Posterior quantiles:\n",
      "  2.5            25             50             75             97.5\n",
      "  |--------------|==============|==============|--------------|\n",
      "  \n",
      "  0.000          0.000          0.000          0.009          0.229\n",
      "  0.000          0.000          0.000          0.000          0.000\n",
      "  0.000          0.000          0.000          0.000          0.091\n",
      "  0.000          0.000          0.000          0.000          0.001\n",
      "  0.000          0.001          1.000          1.000          1.000\n",
      "  0.000          0.000          0.000          0.000          0.000\n",
      "  0.000          0.000          0.000          0.934          0.999\n",
      "\n"
     ]
    }
   ],
   "source": [
    "pm.summary(trace_myomectomy[n_burn:], varnames=['p_6_50'])"
   ]
  },
  {
   "cell_type": "code",
   "execution_count": 78,
   "metadata": {
    "collapsed": false
   },
   "outputs": [
    {
     "data": {
      "text/plain": [
       "<matplotlib.gridspec.GridSpec at 0x7f2cba5fe208>"
      ]
     },
     "execution_count": 78,
     "metadata": {},
     "output_type": "execute_result"
    },
    {
     "data": {
      "image/png": "[encoded data removed]",
      "text/plain": [
       "<matplotlib.figure.Figure at 0x7f2cb3ac85f8>"
      ]
     },
     "metadata": {},
     "output_type": "display_data"
    }
   ],
   "source": [
    "pm.forestplot(trace_myomectomy[n_burn:], varnames=['p_24_30'], ylabels=plot_labels)"
   ]
  },
  {
   "cell_type": "code",
   "execution_count": 79,
   "metadata": {
    "collapsed": false
   },
   "outputs": [
    {
     "name": "stdout",
     "output_type": "stream",
     "text": [
      "\n",
      "p_24_30:\n",
      "\n",
      "  Mean             SD               MC Error         95% HPD interval\n",
      "  -------------------------------------------------------------------\n",
      "  \n",
      "  0.000            0.001            0.000            [0.000, 0.002]\n",
      "  0.199            0.121            0.010            [0.017, 0.445]\n",
      "  0.000            0.000            0.000            [0.000, 0.000]\n",
      "  0.000            0.000            0.000            [0.000, 0.000]\n",
      "  0.000            0.000            0.000            [0.000, 0.000]\n",
      "  0.000            0.000            0.000            [0.000, 0.000]\n",
      "  0.800            0.120            0.010            [0.555, 0.983]\n",
      "\n",
      "  Posterior quantiles:\n",
      "  2.5            25             50             75             97.5\n",
      "  |--------------|==============|==============|--------------|\n",
      "  \n",
      "  0.000          0.000          0.000          0.000          0.003\n",
      "  0.041          0.113          0.173          0.258          0.528\n",
      "  0.000          0.000          0.000          0.000          0.000\n",
      "  0.000          0.000          0.000          0.000          0.000\n",
      "  0.000          0.000          0.000          0.000          0.000\n",
      "  0.000          0.000          0.000          0.000          0.000\n",
      "  0.473          0.742          0.827          0.887          0.958\n",
      "\n"
     ]
    }
   ],
   "source": [
    "pm.summary(trace_myomectomy[n_burn:], varnames=['p_24_30'])"
   ]
  },
  {
   "cell_type": "code",
   "execution_count": 80,
   "metadata": {
    "collapsed": false
   },
   "outputs": [
    {
     "data": {
      "text/plain": [
       "<matplotlib.gridspec.GridSpec at 0x7f2cb3a9ac18>"
      ]
     },
     "execution_count": 80,
     "metadata": {},
     "output_type": "execute_result"
    },
    {
     "data": {
      "image/png": "[encoded data removed]",
      "text/plain": [
       "<matplotlib.figure.Figure at 0x7f2cc574e048>"
      ]
     },
     "metadata": {},
     "output_type": "display_data"
    }
   ],
   "source": [
    "pm.forestplot(trace_myomectomy[n_burn:], varnames=['p_24_50'], ylabels=plot_labels)"
   ]
  },
  {
   "cell_type": "code",
   "execution_count": 81,
   "metadata": {
    "collapsed": false
   },
   "outputs": [
    {
     "name": "stdout",
     "output_type": "stream",
     "text": [
      "\n",
      "p_24_50:\n",
      "\n",
      "  Mean             SD               MC Error         95% HPD interval\n",
      "  -------------------------------------------------------------------\n",
      "  \n",
      "  0.008            0.029            0.002            [0.000, 0.036]\n",
      "  0.000            0.000            0.000            [0.000, 0.000]\n",
      "  0.000            0.000            0.000            [0.000, 0.000]\n",
      "  0.000            0.000            0.000            [0.000, 0.000]\n",
      "  0.037            0.173            0.015            [0.000, 0.112]\n",
      "  0.000            0.000            0.000            [0.000, 0.000]\n",
      "  0.954            0.173            0.015            [0.759, 1.000]\n",
      "\n",
      "  Posterior quantiles:\n",
      "  2.5            25             50             75             97.5\n",
      "  |--------------|==============|==============|--------------|\n",
      "  \n",
      "  0.000          0.000          0.001          0.004          0.081\n",
      "  0.000          0.000          0.000          0.000          0.000\n",
      "  0.000          0.000          0.000          0.000          0.000\n",
      "  0.000          0.000          0.000          0.000          0.000\n",
      "  0.000          0.000          0.000          0.000          0.855\n",
      "  0.000          0.000          0.000          0.000          0.000\n",
      "  0.144          0.993          0.999          1.000          1.000\n",
      "\n"
     ]
    }
   ],
   "source": [
    "pm.summary(trace_myomectomy[n_burn:], varnames=['p_24_50'])"
   ]
  },
  {
   "cell_type": "markdown",
   "metadata": {},
   "source": [
    "### Medical management model"
   ]
  },
  {
   "cell_type": "code",
   "execution_count": 85,
   "metadata": {
    "collapsed": false
   },
   "outputs": [
    {
     "name": "stdout",
     "output_type": "stream",
     "text": [
      "Applied log-transform to nu and added transformed nu_log to model.\n",
      "Applied log-transform to σ and added transformed σ_log to model.\n"
     ]
    }
   ],
   "source": [
    "med_manage_model = specify_model(pm.Model(), 'med_manage')"
   ]
  },
  {
   "cell_type": "code",
   "execution_count": 86,
   "metadata": {
    "collapsed": false
   },
   "outputs": [
    {
     "ename": "KeyboardInterrupt",
     "evalue": "",
     "output_type": "error",
     "traceback": [
      "\u001b[1;31m---------------------------------------------------------------------------\u001b[0m",
      "\u001b[1;31mKeyboardInterrupt\u001b[0m                         Traceback (most recent call last)",
      "\u001b[1;32m<ipython-input-86-9f9a5b5d8d44>\u001b[0m in \u001b[0;36m<module>\u001b[1;34m()\u001b[0m\n\u001b[0;32m      7\u001b[0m     \u001b[1;32melse\u001b[0m\u001b[1;33m:\u001b[0m\u001b[1;33m\u001b[0m\u001b[0m\n\u001b[0;32m      8\u001b[0m \u001b[1;33m\u001b[0m\u001b[0m\n\u001b[1;32m----> 9\u001b[1;33m         trace_med_manage = pm.sample(n_iterations, step=pm.Metropolis(),  \n\u001b[0m\u001b[0;32m     10\u001b[0m                                      random_seed=20140925)\n",
      "\u001b[1;32m/root/pymc3/pymc3/step_methods/arraystep.py\u001b[0m in \u001b[0;36m__new__\u001b[1;34m(cls, *args, **kwargs)\u001b[0m\n\u001b[0;32m     56\u001b[0m                 \u001b[1;31m# If we don't return the instance we have to manually\u001b[0m\u001b[1;33m\u001b[0m\u001b[1;33m\u001b[0m\u001b[0m\n\u001b[0;32m     57\u001b[0m                 \u001b[1;31m# call __init__\u001b[0m\u001b[1;33m\u001b[0m\u001b[1;33m\u001b[0m\u001b[0m\n\u001b[1;32m---> 58\u001b[1;33m                 \u001b[0mstep\u001b[0m\u001b[1;33m.\u001b[0m\u001b[0m__init__\u001b[0m\u001b[1;33m(\u001b[0m\u001b[1;33m[\u001b[0m\u001b[0mvar\u001b[0m\u001b[1;33m]\u001b[0m\u001b[1;33m,\u001b[0m \u001b[1;33m*\u001b[0m\u001b[0margs\u001b[0m\u001b[1;33m,\u001b[0m \u001b[1;33m**\u001b[0m\u001b[0mkwargs\u001b[0m\u001b[1;33m)\u001b[0m\u001b[1;33m\u001b[0m\u001b[0m\n\u001b[0m\u001b[0;32m     59\u001b[0m                 \u001b[0msteps\u001b[0m\u001b[1;33m.\u001b[0m\u001b[0mappend\u001b[0m\u001b[1;33m(\u001b[0m\u001b[0mstep\u001b[0m\u001b[1;33m)\u001b[0m\u001b[1;33m\u001b[0m\u001b[0m\n\u001b[0;32m     60\u001b[0m \u001b[1;33m\u001b[0m\u001b[0m\n",
      "\u001b[1;32m/root/pymc3/pymc3/step_methods/metropolis.py\u001b[0m in \u001b[0;36m__init__\u001b[1;34m(self, vars, S, proposal_dist, scaling, tune, tune_interval, model, **kwargs)\u001b[0m\n\u001b[0;32m     97\u001b[0m \u001b[1;33m\u001b[0m\u001b[0m\n\u001b[0;32m     98\u001b[0m         \u001b[0mshared\u001b[0m \u001b[1;33m=\u001b[0m \u001b[0mmake_shared_replacements\u001b[0m\u001b[1;33m(\u001b[0m\u001b[0mvars\u001b[0m\u001b[1;33m,\u001b[0m \u001b[0mmodel\u001b[0m\u001b[1;33m)\u001b[0m\u001b[1;33m\u001b[0m\u001b[0m\n\u001b[1;32m---> 99\u001b[1;33m         \u001b[0mself\u001b[0m\u001b[1;33m.\u001b[0m\u001b[0mdelta_logp\u001b[0m \u001b[1;33m=\u001b[0m \u001b[0mdelta_logp\u001b[0m\u001b[1;33m(\u001b[0m\u001b[0mmodel\u001b[0m\u001b[1;33m.\u001b[0m\u001b[0mlogpt\u001b[0m\u001b[1;33m,\u001b[0m \u001b[0mvars\u001b[0m\u001b[1;33m,\u001b[0m \u001b[0mshared\u001b[0m\u001b[1;33m)\u001b[0m\u001b[1;33m\u001b[0m\u001b[0m\n\u001b[0m\u001b[0;32m    100\u001b[0m         \u001b[0msuper\u001b[0m\u001b[1;33m(\u001b[0m\u001b[0mMetropolis\u001b[0m\u001b[1;33m,\u001b[0m \u001b[0mself\u001b[0m\u001b[1;33m)\u001b[0m\u001b[1;33m.\u001b[0m\u001b[0m__init__\u001b[0m\u001b[1;33m(\u001b[0m\u001b[0mvars\u001b[0m\u001b[1;33m,\u001b[0m \u001b[0mshared\u001b[0m\u001b[1;33m)\u001b[0m\u001b[1;33m\u001b[0m\u001b[0m\n\u001b[0;32m    101\u001b[0m \u001b[1;33m\u001b[0m\u001b[0m\n",
      "\u001b[1;32m/root/pymc3/pymc3/step_methods/metropolis.py\u001b[0m in \u001b[0;36mdelta_logp\u001b[1;34m(logp, vars, shared)\u001b[0m\n\u001b[0;32m    275\u001b[0m     \u001b[0mlogp1\u001b[0m \u001b[1;33m=\u001b[0m \u001b[0mCallableTensor\u001b[0m\u001b[1;33m(\u001b[0m\u001b[0mlogp0\u001b[0m\u001b[1;33m)\u001b[0m\u001b[1;33m(\u001b[0m\u001b[0minarray1\u001b[0m\u001b[1;33m)\u001b[0m\u001b[1;33m\u001b[0m\u001b[0m\n\u001b[0;32m    276\u001b[0m \u001b[1;33m\u001b[0m\u001b[0m\n\u001b[1;32m--> 277\u001b[1;33m     \u001b[0mf\u001b[0m \u001b[1;33m=\u001b[0m \u001b[0mtheano\u001b[0m\u001b[1;33m.\u001b[0m\u001b[0mfunction\u001b[0m\u001b[1;33m(\u001b[0m\u001b[1;33m[\u001b[0m\u001b[0minarray1\u001b[0m\u001b[1;33m,\u001b[0m \u001b[0minarray0\u001b[0m\u001b[1;33m]\u001b[0m\u001b[1;33m,\u001b[0m \u001b[0mlogp1\u001b[0m \u001b[1;33m-\u001b[0m \u001b[0mlogp0\u001b[0m\u001b[1;33m)\u001b[0m\u001b[1;33m\u001b[0m\u001b[0m\n\u001b[0m\u001b[0;32m    278\u001b[0m     \u001b[0mf\u001b[0m\u001b[1;33m.\u001b[0m\u001b[0mtrust_input\u001b[0m \u001b[1;33m=\u001b[0m \u001b[1;32mTrue\u001b[0m\u001b[1;33m\u001b[0m\u001b[0m\n\u001b[0;32m    279\u001b[0m     \u001b[1;32mreturn\u001b[0m \u001b[0mf\u001b[0m\u001b[1;33m\u001b[0m\u001b[0m\n",
      "\u001b[1;32m/usr/local/lib/python3.4/dist-packages/theano/compile/function.py\u001b[0m in \u001b[0;36mfunction\u001b[1;34m(inputs, outputs, mode, updates, givens, no_default_updates, accept_inplace, name, rebuild_strict, allow_input_downcast, profile, on_unused_input)\u001b[0m\n\u001b[0;32m    315\u001b[0m                    \u001b[0mon_unused_input\u001b[0m\u001b[1;33m=\u001b[0m\u001b[0mon_unused_input\u001b[0m\u001b[1;33m,\u001b[0m\u001b[1;33m\u001b[0m\u001b[0m\n\u001b[0;32m    316\u001b[0m                    \u001b[0mprofile\u001b[0m\u001b[1;33m=\u001b[0m\u001b[0mprofile\u001b[0m\u001b[1;33m,\u001b[0m\u001b[1;33m\u001b[0m\u001b[0m\n\u001b[1;32m--> 317\u001b[1;33m                    output_keys=output_keys)\n\u001b[0m\u001b[0;32m    318\u001b[0m     \u001b[1;31m# We need to add the flag check_aliased inputs if we have any mutable or\u001b[0m\u001b[1;33m\u001b[0m\u001b[1;33m\u001b[0m\u001b[0m\n\u001b[0;32m    319\u001b[0m     \u001b[1;31m# borrowed used defined inputs\u001b[0m\u001b[1;33m\u001b[0m\u001b[1;33m\u001b[0m\u001b[0m\n",
      "\u001b[1;32m/usr/local/lib/python3.4/dist-packages/theano/compile/pfunc.py\u001b[0m in \u001b[0;36mpfunc\u001b[1;34m(params, outputs, mode, updates, givens, no_default_updates, accept_inplace, name, rebuild_strict, allow_input_downcast, profile, on_unused_input, output_keys)\u001b[0m\n\u001b[0;32m    524\u001b[0m                          \u001b[0maccept_inplace\u001b[0m\u001b[1;33m=\u001b[0m\u001b[0maccept_inplace\u001b[0m\u001b[1;33m,\u001b[0m \u001b[0mname\u001b[0m\u001b[1;33m=\u001b[0m\u001b[0mname\u001b[0m\u001b[1;33m,\u001b[0m\u001b[1;33m\u001b[0m\u001b[0m\n\u001b[0;32m    525\u001b[0m                          \u001b[0mprofile\u001b[0m\u001b[1;33m=\u001b[0m\u001b[0mprofile\u001b[0m\u001b[1;33m,\u001b[0m \u001b[0mon_unused_input\u001b[0m\u001b[1;33m=\u001b[0m\u001b[0mon_unused_input\u001b[0m\u001b[1;33m,\u001b[0m\u001b[1;33m\u001b[0m\u001b[0m\n\u001b[1;32m--> 526\u001b[1;33m                          output_keys=output_keys)\n\u001b[0m\u001b[0;32m    527\u001b[0m \u001b[1;33m\u001b[0m\u001b[0m\n\u001b[0;32m    528\u001b[0m \u001b[1;33m\u001b[0m\u001b[0m\n",
      "\u001b[1;32m/usr/local/lib/python3.4/dist-packages/theano/compile/function_module.py\u001b[0m in \u001b[0;36morig_function\u001b[1;34m(inputs, outputs, mode, accept_inplace, name, profile, on_unused_input, output_keys)\u001b[0m\n\u001b[0;32m   1775\u001b[0m                    \u001b[0mprofile\u001b[0m\u001b[1;33m=\u001b[0m\u001b[0mprofile\u001b[0m\u001b[1;33m,\u001b[0m\u001b[1;33m\u001b[0m\u001b[0m\n\u001b[0;32m   1776\u001b[0m                    \u001b[0mon_unused_input\u001b[0m\u001b[1;33m=\u001b[0m\u001b[0mon_unused_input\u001b[0m\u001b[1;33m,\u001b[0m\u001b[1;33m\u001b[0m\u001b[0m\n\u001b[1;32m-> 1777\u001b[1;33m                    \u001b[0moutput_keys\u001b[0m\u001b[1;33m=\u001b[0m\u001b[0moutput_keys\u001b[0m\u001b[1;33m)\u001b[0m\u001b[1;33m.\u001b[0m\u001b[0mcreate\u001b[0m\u001b[1;33m(\u001b[0m\u001b[1;33m\u001b[0m\u001b[0m\n\u001b[0m\u001b[0;32m   1778\u001b[0m             defaults)\n\u001b[0;32m   1779\u001b[0m \u001b[1;33m\u001b[0m\u001b[0m\n",
      "\u001b[1;32m/usr/local/lib/python3.4/dist-packages/theano/compile/function_module.py\u001b[0m in \u001b[0;36m__init__\u001b[1;34m(self, inputs, outputs, mode, accept_inplace, function_builder, profile, on_unused_input, fgraph, output_keys)\u001b[0m\n\u001b[0;32m   1455\u001b[0m                         optimizer, inputs, outputs)\n\u001b[0;32m   1456\u001b[0m                 \u001b[1;32melse\u001b[0m\u001b[1;33m:\u001b[0m\u001b[1;33m\u001b[0m\u001b[0m\n\u001b[1;32m-> 1457\u001b[1;33m                     \u001b[0moptimizer_profile\u001b[0m \u001b[1;33m=\u001b[0m \u001b[0moptimizer\u001b[0m\u001b[1;33m(\u001b[0m\u001b[0mfgraph\u001b[0m\u001b[1;33m)\u001b[0m\u001b[1;33m\u001b[0m\u001b[0m\n\u001b[0m\u001b[0;32m   1458\u001b[0m \u001b[1;33m\u001b[0m\u001b[0m\n\u001b[0;32m   1459\u001b[0m                 \u001b[0mend_optimizer\u001b[0m \u001b[1;33m=\u001b[0m \u001b[0mtime\u001b[0m\u001b[1;33m.\u001b[0m\u001b[0mtime\u001b[0m\u001b[1;33m(\u001b[0m\u001b[1;33m)\u001b[0m\u001b[1;33m\u001b[0m\u001b[0m\n",
      "\u001b[1;32m/usr/local/lib/python3.4/dist-packages/theano/gof/opt.py\u001b[0m in \u001b[0;36m__call__\u001b[1;34m(self, fgraph)\u001b[0m\n\u001b[0;32m     99\u001b[0m \u001b[1;33m\u001b[0m\u001b[0m\n\u001b[0;32m    100\u001b[0m         \"\"\"\n\u001b[1;32m--> 101\u001b[1;33m         \u001b[1;32mreturn\u001b[0m \u001b[0mself\u001b[0m\u001b[1;33m.\u001b[0m\u001b[0moptimize\u001b[0m\u001b[1;33m(\u001b[0m\u001b[0mfgraph\u001b[0m\u001b[1;33m)\u001b[0m\u001b[1;33m\u001b[0m\u001b[0m\n\u001b[0m\u001b[0;32m    102\u001b[0m \u001b[1;33m\u001b[0m\u001b[0m\n\u001b[0;32m    103\u001b[0m     \u001b[1;32mdef\u001b[0m \u001b[0madd_requirements\u001b[0m\u001b[1;33m(\u001b[0m\u001b[0mself\u001b[0m\u001b[1;33m,\u001b[0m \u001b[0mfgraph\u001b[0m\u001b[1;33m)\u001b[0m\u001b[1;33m:\u001b[0m\u001b[1;33m\u001b[0m\u001b[0m\n",
      "\u001b[1;32m/usr/local/lib/python3.4/dist-packages/theano/gof/opt.py\u001b[0m in \u001b[0;36moptimize\u001b[1;34m(self, fgraph, *args, **kwargs)\u001b[0m\n\u001b[0;32m     87\u001b[0m             \u001b[0morig\u001b[0m \u001b[1;33m=\u001b[0m \u001b[0mtheano\u001b[0m\u001b[1;33m.\u001b[0m\u001b[0mtensor\u001b[0m\u001b[1;33m.\u001b[0m\u001b[0mbasic\u001b[0m\u001b[1;33m.\u001b[0m\u001b[0mconstant\u001b[0m\u001b[1;33m.\u001b[0m\u001b[0menable\u001b[0m\u001b[1;33m\u001b[0m\u001b[0m\n\u001b[0;32m     88\u001b[0m             \u001b[0mtheano\u001b[0m\u001b[1;33m.\u001b[0m\u001b[0mtensor\u001b[0m\u001b[1;33m.\u001b[0m\u001b[0mbasic\u001b[0m\u001b[1;33m.\u001b[0m\u001b[0mconstant\u001b[0m\u001b[1;33m.\u001b[0m\u001b[0menable\u001b[0m \u001b[1;33m=\u001b[0m \u001b[1;32mFalse\u001b[0m\u001b[1;33m\u001b[0m\u001b[0m\n\u001b[1;32m---> 89\u001b[1;33m             \u001b[0mret\u001b[0m \u001b[1;33m=\u001b[0m \u001b[0mself\u001b[0m\u001b[1;33m.\u001b[0m\u001b[0mapply\u001b[0m\u001b[1;33m(\u001b[0m\u001b[0mfgraph\u001b[0m\u001b[1;33m,\u001b[0m \u001b[1;33m*\u001b[0m\u001b[0margs\u001b[0m\u001b[1;33m,\u001b[0m \u001b[1;33m**\u001b[0m\u001b[0mkwargs\u001b[0m\u001b[1;33m)\u001b[0m\u001b[1;33m\u001b[0m\u001b[0m\n\u001b[0m\u001b[0;32m     90\u001b[0m         \u001b[1;32mfinally\u001b[0m\u001b[1;33m:\u001b[0m\u001b[1;33m\u001b[0m\u001b[0m\n\u001b[0;32m     91\u001b[0m             \u001b[0mtheano\u001b[0m\u001b[1;33m.\u001b[0m\u001b[0mtensor\u001b[0m\u001b[1;33m.\u001b[0m\u001b[0mbasic\u001b[0m\u001b[1;33m.\u001b[0m\u001b[0mconstant\u001b[0m\u001b[1;33m.\u001b[0m\u001b[0menable\u001b[0m \u001b[1;33m=\u001b[0m \u001b[0morig\u001b[0m\u001b[1;33m\u001b[0m\u001b[0m\n",
      "\u001b[1;32m/usr/local/lib/python3.4/dist-packages/theano/gof/opt.py\u001b[0m in \u001b[0;36mapply\u001b[1;34m(self, fgraph)\u001b[0m\n\u001b[0;32m    228\u001b[0m             \u001b[1;32mtry\u001b[0m\u001b[1;33m:\u001b[0m\u001b[1;33m\u001b[0m\u001b[0m\n\u001b[0;32m    229\u001b[0m                 \u001b[0mt0\u001b[0m \u001b[1;33m=\u001b[0m \u001b[0mtime\u001b[0m\u001b[1;33m.\u001b[0m\u001b[0mtime\u001b[0m\u001b[1;33m(\u001b[0m\u001b[1;33m)\u001b[0m\u001b[1;33m\u001b[0m\u001b[0m\n\u001b[1;32m--> 230\u001b[1;33m                 \u001b[0msub_prof\u001b[0m \u001b[1;33m=\u001b[0m \u001b[0moptimizer\u001b[0m\u001b[1;33m.\u001b[0m\u001b[0moptimize\u001b[0m\u001b[1;33m(\u001b[0m\u001b[0mfgraph\u001b[0m\u001b[1;33m)\u001b[0m\u001b[1;33m\u001b[0m\u001b[0m\n\u001b[0m\u001b[0;32m    231\u001b[0m                 \u001b[0ml\u001b[0m\u001b[1;33m.\u001b[0m\u001b[0mappend\u001b[0m\u001b[1;33m(\u001b[0m\u001b[0mfloat\u001b[0m\u001b[1;33m(\u001b[0m\u001b[0mtime\u001b[0m\u001b[1;33m.\u001b[0m\u001b[0mtime\u001b[0m\u001b[1;33m(\u001b[0m\u001b[1;33m)\u001b[0m \u001b[1;33m-\u001b[0m \u001b[0mt0\u001b[0m\u001b[1;33m)\u001b[0m\u001b[1;33m)\u001b[0m\u001b[1;33m\u001b[0m\u001b[0m\n\u001b[0;32m    232\u001b[0m                 \u001b[0msub_profs\u001b[0m\u001b[1;33m.\u001b[0m\u001b[0mappend\u001b[0m\u001b[1;33m(\u001b[0m\u001b[0msub_prof\u001b[0m\u001b[1;33m)\u001b[0m\u001b[1;33m\u001b[0m\u001b[0m\n",
      "\u001b[1;32m/usr/local/lib/python3.4/dist-packages/theano/gof/opt.py\u001b[0m in \u001b[0;36moptimize\u001b[1;34m(self, fgraph, *args, **kwargs)\u001b[0m\n\u001b[0;32m     87\u001b[0m             \u001b[0morig\u001b[0m \u001b[1;33m=\u001b[0m \u001b[0mtheano\u001b[0m\u001b[1;33m.\u001b[0m\u001b[0mtensor\u001b[0m\u001b[1;33m.\u001b[0m\u001b[0mbasic\u001b[0m\u001b[1;33m.\u001b[0m\u001b[0mconstant\u001b[0m\u001b[1;33m.\u001b[0m\u001b[0menable\u001b[0m\u001b[1;33m\u001b[0m\u001b[0m\n\u001b[0;32m     88\u001b[0m             \u001b[0mtheano\u001b[0m\u001b[1;33m.\u001b[0m\u001b[0mtensor\u001b[0m\u001b[1;33m.\u001b[0m\u001b[0mbasic\u001b[0m\u001b[1;33m.\u001b[0m\u001b[0mconstant\u001b[0m\u001b[1;33m.\u001b[0m\u001b[0menable\u001b[0m \u001b[1;33m=\u001b[0m \u001b[1;32mFalse\u001b[0m\u001b[1;33m\u001b[0m\u001b[0m\n\u001b[1;32m---> 89\u001b[1;33m             \u001b[0mret\u001b[0m \u001b[1;33m=\u001b[0m \u001b[0mself\u001b[0m\u001b[1;33m.\u001b[0m\u001b[0mapply\u001b[0m\u001b[1;33m(\u001b[0m\u001b[0mfgraph\u001b[0m\u001b[1;33m,\u001b[0m \u001b[1;33m*\u001b[0m\u001b[0margs\u001b[0m\u001b[1;33m,\u001b[0m \u001b[1;33m**\u001b[0m\u001b[0mkwargs\u001b[0m\u001b[1;33m)\u001b[0m\u001b[1;33m\u001b[0m\u001b[0m\n\u001b[0m\u001b[0;32m     90\u001b[0m         \u001b[1;32mfinally\u001b[0m\u001b[1;33m:\u001b[0m\u001b[1;33m\u001b[0m\u001b[0m\n\u001b[0;32m     91\u001b[0m             \u001b[0mtheano\u001b[0m\u001b[1;33m.\u001b[0m\u001b[0mtensor\u001b[0m\u001b[1;33m.\u001b[0m\u001b[0mbasic\u001b[0m\u001b[1;33m.\u001b[0m\u001b[0mconstant\u001b[0m\u001b[1;33m.\u001b[0m\u001b[0menable\u001b[0m \u001b[1;33m=\u001b[0m \u001b[0morig\u001b[0m\u001b[1;33m\u001b[0m\u001b[0m\n",
      "\u001b[1;32m/usr/local/lib/python3.4/dist-packages/theano/gof/opt.py\u001b[0m in \u001b[0;36mapply\u001b[1;34m(self, fgraph)\u001b[0m\n\u001b[0;32m    823\u001b[0m \u001b[1;33m\u001b[0m\u001b[0m\n\u001b[0;32m    824\u001b[0m                 \u001b[1;32mtry\u001b[0m\u001b[1;33m:\u001b[0m\u001b[1;33m\u001b[0m\u001b[0m\n\u001b[1;32m--> 825\u001b[1;33m                     \u001b[0mfgraph\u001b[0m\u001b[1;33m.\u001b[0m\u001b[0mreplace_all_validate\u001b[0m\u001b[1;33m(\u001b[0m\u001b[0mpairs\u001b[0m\u001b[1;33m,\u001b[0m \u001b[1;34m'MergeOptimizer'\u001b[0m\u001b[1;33m)\u001b[0m\u001b[1;33m\u001b[0m\u001b[0m\n\u001b[0m\u001b[0;32m    826\u001b[0m                 \u001b[1;32mexcept\u001b[0m \u001b[0mInconsistencyError\u001b[0m\u001b[1;33m:\u001b[0m\u001b[1;33m\u001b[0m\u001b[0m\n\u001b[0;32m    827\u001b[0m                     \u001b[0msuccess\u001b[0m \u001b[1;33m=\u001b[0m \u001b[1;32mFalse\u001b[0m\u001b[1;33m\u001b[0m\u001b[0m\n",
      "\u001b[1;32m/usr/local/lib/python3.4/dist-packages/theano/gof/toolbox.py\u001b[0m in \u001b[0;36mreplace_all_validate\u001b[1;34m(self, fgraph, replacements, reason, verbose)\u001b[0m\n\u001b[0;32m    304\u001b[0m         \u001b[1;32mfor\u001b[0m \u001b[0mr\u001b[0m\u001b[1;33m,\u001b[0m \u001b[0mnew_r\u001b[0m \u001b[1;32min\u001b[0m \u001b[0mreplacements\u001b[0m\u001b[1;33m:\u001b[0m\u001b[1;33m\u001b[0m\u001b[0m\n\u001b[0;32m    305\u001b[0m             \u001b[1;32mtry\u001b[0m\u001b[1;33m:\u001b[0m\u001b[1;33m\u001b[0m\u001b[0m\n\u001b[1;32m--> 306\u001b[1;33m                 \u001b[0mfgraph\u001b[0m\u001b[1;33m.\u001b[0m\u001b[0mreplace\u001b[0m\u001b[1;33m(\u001b[0m\u001b[0mr\u001b[0m\u001b[1;33m,\u001b[0m \u001b[0mnew_r\u001b[0m\u001b[1;33m,\u001b[0m \u001b[0mreason\u001b[0m\u001b[1;33m=\u001b[0m\u001b[0mreason\u001b[0m\u001b[1;33m,\u001b[0m \u001b[0mverbose\u001b[0m\u001b[1;33m=\u001b[0m\u001b[1;32mFalse\u001b[0m\u001b[1;33m)\u001b[0m\u001b[1;33m\u001b[0m\u001b[0m\n\u001b[0m\u001b[0;32m    307\u001b[0m             \u001b[1;32mexcept\u001b[0m \u001b[0mException\u001b[0m \u001b[1;32mas\u001b[0m \u001b[0me\u001b[0m\u001b[1;33m:\u001b[0m\u001b[1;33m\u001b[0m\u001b[0m\n\u001b[0;32m    308\u001b[0m                 \u001b[0mmsg\u001b[0m \u001b[1;33m=\u001b[0m \u001b[0mstr\u001b[0m\u001b[1;33m(\u001b[0m\u001b[0me\u001b[0m\u001b[1;33m)\u001b[0m\u001b[1;33m\u001b[0m\u001b[0m\n",
      "\u001b[1;32m/usr/local/lib/python3.4/dist-packages/theano/gof/fg.py\u001b[0m in \u001b[0;36mreplace\u001b[1;34m(self, r, new_r, reason, verbose)\u001b[0m\n\u001b[0;32m    590\u001b[0m         \u001b[1;32mfor\u001b[0m \u001b[0mnode\u001b[0m\u001b[1;33m,\u001b[0m \u001b[0mi\u001b[0m \u001b[1;32min\u001b[0m \u001b[0mlist\u001b[0m\u001b[1;33m(\u001b[0m\u001b[0mr\u001b[0m\u001b[1;33m.\u001b[0m\u001b[0mclients\u001b[0m\u001b[1;33m)\u001b[0m\u001b[1;33m:\u001b[0m  \u001b[1;31m# copy the client list for iteration\u001b[0m\u001b[1;33m\u001b[0m\u001b[0m\n\u001b[0;32m    591\u001b[0m             \u001b[1;32massert\u001b[0m \u001b[1;33m(\u001b[0m\u001b[0mnode\u001b[0m \u001b[1;33m==\u001b[0m \u001b[1;34m'output'\u001b[0m \u001b[1;32mand\u001b[0m \u001b[0mself\u001b[0m\u001b[1;33m.\u001b[0m\u001b[0moutputs\u001b[0m\u001b[1;33m[\u001b[0m\u001b[0mi\u001b[0m\u001b[1;33m]\u001b[0m \u001b[1;32mis\u001b[0m \u001b[0mr\u001b[0m\u001b[1;33m)\u001b[0m \u001b[1;32mor\u001b[0m \u001b[1;33m(\u001b[0m\u001b[0mnode\u001b[0m\u001b[1;33m.\u001b[0m\u001b[0minputs\u001b[0m\u001b[1;33m[\u001b[0m\u001b[0mi\u001b[0m\u001b[1;33m]\u001b[0m \u001b[1;32mis\u001b[0m \u001b[0mr\u001b[0m\u001b[1;33m)\u001b[0m\u001b[1;33m\u001b[0m\u001b[0m\n\u001b[1;32m--> 592\u001b[1;33m             \u001b[0mself\u001b[0m\u001b[1;33m.\u001b[0m\u001b[0mchange_input\u001b[0m\u001b[1;33m(\u001b[0m\u001b[0mnode\u001b[0m\u001b[1;33m,\u001b[0m \u001b[0mi\u001b[0m\u001b[1;33m,\u001b[0m \u001b[0mnew_r\u001b[0m\u001b[1;33m,\u001b[0m \u001b[0mreason\u001b[0m\u001b[1;33m=\u001b[0m\u001b[0mreason\u001b[0m\u001b[1;33m)\u001b[0m\u001b[1;33m\u001b[0m\u001b[0m\n\u001b[0m\u001b[0;32m    593\u001b[0m \u001b[1;33m\u001b[0m\u001b[0m\n\u001b[0;32m    594\u001b[0m         \u001b[1;31m# sometimes the following is triggered.  If you understand why, please explain to James.\u001b[0m\u001b[1;33m\u001b[0m\u001b[1;33m\u001b[0m\u001b[0m\n",
      "\u001b[1;32m/usr/local/lib/python3.4/dist-packages/theano/gof/fg.py\u001b[0m in \u001b[0;36mchange_input\u001b[1;34m(self, node, i, new_r, reason)\u001b[0m\n\u001b[0;32m    535\u001b[0m         \u001b[1;31m# transaction will be reverted later.\u001b[0m\u001b[1;33m\u001b[0m\u001b[1;33m\u001b[0m\u001b[0m\n\u001b[0;32m    536\u001b[0m         self.execute_callbacks('on_change_input', node, i,\n\u001b[1;32m--> 537\u001b[1;33m                                r, new_r, reason=reason)\n\u001b[0m\u001b[0;32m    538\u001b[0m         \u001b[1;32mif\u001b[0m \u001b[0mprune\u001b[0m\u001b[1;33m:\u001b[0m\u001b[1;33m\u001b[0m\u001b[0m\n\u001b[0;32m    539\u001b[0m             \u001b[0mself\u001b[0m\u001b[1;33m.\u001b[0m\u001b[0m__remove_clients__\u001b[0m\u001b[1;33m(\u001b[0m\u001b[0mr\u001b[0m\u001b[1;33m,\u001b[0m \u001b[1;33m[\u001b[0m\u001b[1;33m]\u001b[0m\u001b[1;33m,\u001b[0m \u001b[1;32mTrue\u001b[0m\u001b[1;33m)\u001b[0m\u001b[1;33m\u001b[0m\u001b[0m\n",
      "\u001b[1;32m/usr/local/lib/python3.4/dist-packages/theano/gof/fg.py\u001b[0m in \u001b[0;36mexecute_callbacks\u001b[1;34m(self, name, *args, **kwargs)\u001b[0m\n\u001b[0;32m    674\u001b[0m                 \u001b[1;32mcontinue\u001b[0m\u001b[1;33m\u001b[0m\u001b[0m\n\u001b[0;32m    675\u001b[0m             \u001b[0mtf0\u001b[0m \u001b[1;33m=\u001b[0m \u001b[0mtime\u001b[0m\u001b[1;33m.\u001b[0m\u001b[0mtime\u001b[0m\u001b[1;33m(\u001b[0m\u001b[1;33m)\u001b[0m\u001b[1;33m\u001b[0m\u001b[0m\n\u001b[1;32m--> 676\u001b[1;33m             \u001b[0mfn\u001b[0m\u001b[1;33m(\u001b[0m\u001b[0mself\u001b[0m\u001b[1;33m,\u001b[0m \u001b[1;33m*\u001b[0m\u001b[0margs\u001b[0m\u001b[1;33m,\u001b[0m \u001b[1;33m**\u001b[0m\u001b[0mkwargs\u001b[0m\u001b[1;33m)\u001b[0m\u001b[1;33m\u001b[0m\u001b[0m\n\u001b[0m\u001b[0;32m    677\u001b[0m             \u001b[0mself\u001b[0m\u001b[1;33m.\u001b[0m\u001b[0mexecute_callbacks_times\u001b[0m\u001b[1;33m[\u001b[0m\u001b[0mfeature\u001b[0m\u001b[1;33m]\u001b[0m \u001b[1;33m+=\u001b[0m \u001b[0mtime\u001b[0m\u001b[1;33m.\u001b[0m\u001b[0mtime\u001b[0m\u001b[1;33m(\u001b[0m\u001b[1;33m)\u001b[0m \u001b[1;33m-\u001b[0m \u001b[0mtf0\u001b[0m\u001b[1;33m\u001b[0m\u001b[0m\n\u001b[0;32m    678\u001b[0m         \u001b[0mself\u001b[0m\u001b[1;33m.\u001b[0m\u001b[0mexecute_callbacks_time\u001b[0m \u001b[1;33m+=\u001b[0m \u001b[0mtime\u001b[0m\u001b[1;33m.\u001b[0m\u001b[0mtime\u001b[0m\u001b[1;33m(\u001b[0m\u001b[1;33m)\u001b[0m \u001b[1;33m-\u001b[0m \u001b[0mt0\u001b[0m\u001b[1;33m\u001b[0m\u001b[0m\n",
      "\u001b[1;32m/usr/local/lib/python3.4/dist-packages/theano/gof/opt.py\u001b[0m in \u001b[0;36mon_change_input\u001b[1;34m(self, fgraph, node, i, r, new_r, reason)\u001b[0m\n\u001b[0;32m    515\u001b[0m         \u001b[1;32mif\u001b[0m \u001b[0mnode\u001b[0m \u001b[1;32min\u001b[0m \u001b[0mself\u001b[0m\u001b[1;33m.\u001b[0m\u001b[0mnodes_seen\u001b[0m\u001b[1;33m:\u001b[0m\u001b[1;33m\u001b[0m\u001b[0m\n\u001b[0;32m    516\u001b[0m             \u001b[0mself\u001b[0m\u001b[1;33m.\u001b[0m\u001b[0mnodes_seen\u001b[0m\u001b[1;33m.\u001b[0m\u001b[0mdiscard\u001b[0m\u001b[1;33m(\u001b[0m\u001b[0mnode\u001b[0m\u001b[1;33m)\u001b[0m\u001b[1;33m\u001b[0m\u001b[0m\n\u001b[1;32m--> 517\u001b[1;33m             \u001b[0mself\u001b[0m\u001b[1;33m.\u001b[0m\u001b[0mprocess_node\u001b[0m\u001b[1;33m(\u001b[0m\u001b[0mfgraph\u001b[0m\u001b[1;33m,\u001b[0m \u001b[0mnode\u001b[0m\u001b[1;33m)\u001b[0m\u001b[1;33m\u001b[0m\u001b[0m\n\u001b[0m\u001b[0;32m    518\u001b[0m \u001b[1;33m\u001b[0m\u001b[0m\n\u001b[0;32m    519\u001b[0m         \u001b[1;31m# Since we are in on_change_input, node should have inputs.\u001b[0m\u001b[1;33m\u001b[0m\u001b[1;33m\u001b[0m\u001b[0m\n",
      "\u001b[1;32m/usr/local/lib/python3.4/dist-packages/theano/gof/opt.py\u001b[0m in \u001b[0;36mprocess_node\u001b[1;34m(self, fgraph, node)\u001b[0m\n\u001b[0;32m    581\u001b[0m             \u001b[1;32massert\u001b[0m \u001b[1;33m(\u001b[0m\u001b[0mnode\u001b[0m\u001b[1;33m,\u001b[0m \u001b[1;36m0\u001b[0m\u001b[1;33m)\u001b[0m \u001b[1;32min\u001b[0m \u001b[0mnode\u001b[0m\u001b[1;33m.\u001b[0m\u001b[0minputs\u001b[0m\u001b[1;33m[\u001b[0m\u001b[1;36m0\u001b[0m\u001b[1;33m]\u001b[0m\u001b[1;33m.\u001b[0m\u001b[0mclients\u001b[0m\u001b[1;33m\u001b[0m\u001b[0m\n\u001b[0;32m    582\u001b[0m \u001b[1;33m\u001b[0m\u001b[0m\n\u001b[1;32m--> 583\u001b[1;33m             merge_candidates = [c for (c, i) in node.inputs[0].clients\n\u001b[0m\u001b[0;32m    584\u001b[0m                                 if c in self.nodes_seen]\n\u001b[0;32m    585\u001b[0m \u001b[1;33m\u001b[0m\u001b[0m\n",
      "\u001b[1;32m/usr/local/lib/python3.4/dist-packages/theano/gof/opt.py\u001b[0m in \u001b[0;36m<listcomp>\u001b[1;34m(.0)\u001b[0m\n\u001b[0;32m    581\u001b[0m             \u001b[1;32massert\u001b[0m \u001b[1;33m(\u001b[0m\u001b[0mnode\u001b[0m\u001b[1;33m,\u001b[0m \u001b[1;36m0\u001b[0m\u001b[1;33m)\u001b[0m \u001b[1;32min\u001b[0m \u001b[0mnode\u001b[0m\u001b[1;33m.\u001b[0m\u001b[0minputs\u001b[0m\u001b[1;33m[\u001b[0m\u001b[1;36m0\u001b[0m\u001b[1;33m]\u001b[0m\u001b[1;33m.\u001b[0m\u001b[0mclients\u001b[0m\u001b[1;33m\u001b[0m\u001b[0m\n\u001b[0;32m    582\u001b[0m \u001b[1;33m\u001b[0m\u001b[0m\n\u001b[1;32m--> 583\u001b[1;33m             merge_candidates = [c for (c, i) in node.inputs[0].clients\n\u001b[0m\u001b[0;32m    584\u001b[0m                                 if c in self.nodes_seen]\n\u001b[0;32m    585\u001b[0m \u001b[1;33m\u001b[0m\u001b[0m\n",
      "\u001b[1;31mKeyboardInterrupt\u001b[0m: "
     ]
    }
   ],
   "source": [
    "with med_manage_model:\n",
    "    \n",
    "    if use_NUTS:\n",
    "        \n",
    "        trace_med_manage = pm.sample(n_iterations/20, random_seed=20140925)\n",
    "        \n",
    "    else:\n",
    "        \n",
    "        trace_med_manage = pm.sample(n_iterations, step=pm.Metropolis(),  \n",
    "                                     random_seed=20140925)"
   ]
  },
  {
   "cell_type": "code",
   "execution_count": null,
   "metadata": {
    "collapsed": false
   },
   "outputs": [],
   "source": [
    "pm.forestplot(trace_med_manage[n_burn:], varnames=['μ'], ylabels=plot_labels)"
   ]
  },
  {
   "cell_type": "code",
   "execution_count": null,
   "metadata": {
    "collapsed": false
   },
   "outputs": [],
   "source": [
    "pm.forestplot(trace_med_manage[n_burn:], varnames=['p_6'])"
   ]
  },
  {
   "cell_type": "code",
   "execution_count": null,
   "metadata": {
    "collapsed": false
   },
   "outputs": [],
   "source": [
    "pm.summary(trace_med_manage[n_burn:], varnames=['p_6'])"
   ]
  },
  {
   "cell_type": "code",
   "execution_count": null,
   "metadata": {
    "collapsed": false
   },
   "outputs": [],
   "source": [
    "pm.forestplot(trace_med_manage[n_burn:], varnames=['p_12'], ylabels=plot_labels)"
   ]
  },
  {
   "cell_type": "code",
   "execution_count": null,
   "metadata": {
    "collapsed": false
   },
   "outputs": [],
   "source": [
    "pm.summary(trace_med_manage[n_burn:], varnames=['p_12'])"
   ]
  },
  {
   "cell_type": "code",
   "execution_count": null,
   "metadata": {
    "collapsed": false
   },
   "outputs": [],
   "source": [
    "pm.forestplot(trace_med_manage[n_burn:], varnames=['p_24'], ylabels=plot_labels)"
   ]
  },
  {
   "cell_type": "code",
   "execution_count": null,
   "metadata": {
    "collapsed": false
   },
   "outputs": [],
   "source": [
    "pm.summary(trace_med_manage[n_burn:], varnames=['p_24'])"
   ]
  },
  {
   "cell_type": "code",
   "execution_count": null,
   "metadata": {
    "collapsed": false
   },
   "outputs": [],
   "source": [
    "pm.forestplot(trace_med_manage[n_burn:], varnames=['p_6_30'], ylabels=plot_labels)"
   ]
  },
  {
   "cell_type": "code",
   "execution_count": null,
   "metadata": {
    "collapsed": false
   },
   "outputs": [],
   "source": [
    "pm.summary(trace_med_manage[n_burn:], varnames=['p_6_30'])"
   ]
  },
  {
   "cell_type": "code",
   "execution_count": null,
   "metadata": {
    "collapsed": false
   },
   "outputs": [],
   "source": [
    "pm.forestplot(trace_med_manage[n_burn:], varnames=['p_6_50'], ylabels=plot_labels)"
   ]
  },
  {
   "cell_type": "code",
   "execution_count": null,
   "metadata": {
    "collapsed": false
   },
   "outputs": [],
   "source": [
    "pm.summary(trace_med_manage[n_burn:], varnames=['p_6_50'])"
   ]
  },
  {
   "cell_type": "code",
   "execution_count": null,
   "metadata": {
    "collapsed": false
   },
   "outputs": [],
   "source": [
    "pm.forestplot(trace_med_manage[n_burn:], varnames=['p_24_30'], ylabels=plot_labels)"
   ]
  },
  {
   "cell_type": "code",
   "execution_count": null,
   "metadata": {
    "collapsed": false
   },
   "outputs": [],
   "source": [
    "pm.summary(trace_med_manage[n_burn:], varnames=['p_24_30'])"
   ]
  },
  {
   "cell_type": "code",
   "execution_count": null,
   "metadata": {
    "collapsed": false
   },
   "outputs": [],
   "source": [
    "pm.forestplot(trace_med_manage[n_burn:], varnames=['p_24_50'], ylabels=plot_labels)"
   ]
  },
  {
   "cell_type": "code",
   "execution_count": null,
   "metadata": {
    "collapsed": false
   },
   "outputs": [],
   "source": [
    "pm.summary(trace_med_manage[n_burn:], varnames=['p_24_50'])"
   ]
  }
 ],
 "metadata": {
  "kernelspec": {
   "display_name": "Python 3",
   "language": "python",
   "name": "python3"
  },
  "language_info": {
   "codemirror_mode": {
    "name": "ipython",
    "version": 3
   },
   "file_extension": ".py",
   "mimetype": "text/x-python",
   "name": "python",
   "nbconvert_exporter": "python",
   "pygments_lexer": "ipython3",
   "version": "3.4.3"
  }
 },
 "nbformat": 4,
 "nbformat_minor": 0
}
