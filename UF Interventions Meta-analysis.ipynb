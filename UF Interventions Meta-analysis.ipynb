{
 "cells": [
  {
   "cell_type": "markdown",
   "metadata": {},
   "source": [
    "# Uterine fibroids follow-up treatment meta-analysis\n",
    "\n",
    "Our goal is to estimate the probabilities of requiring one of a suite of candidate follow-up treatments following randomization to a given initial treatment for uterine fibroids. Specifically, we are interested in estimating:\n",
    "\n",
    "$$\\phi_{ijk} = Pr(I_j=J|I_i=I,T_k=t,A_k=a)$$\n",
    "\n",
    "where $I_i$ is an initial intervention, which take specific values $I = 1, 2, \\ldots , K$ for each of $K$ candidate intervention types. We extracted sufficient data to fit models for three initial interventions: UAE, myomectomy, and medical management. $I_j$ is the follow-up intervention that  may take any of the seven values of I listed above, $A_k$ is the mean age for the treatment arm of  study $k$ (centered at age 40),and $T_k$ is corresponding followup time in months, which generally will be 6, 12 or 24 months. Hence, the probability of a subsequent intervention was assumed to be a function of both age and followup time.\n",
    "\n",
    "\n",
    "Our current set of candidate interventions include:\n",
    "\n",
    "- Myomectomy\n",
    "- Hysterectomy\n",
    "- Ablation\n",
    "- UAE\n",
    "- Magnetic resonance imaging-guided high-intensity focused ultrasound (MRIgFUS) \n",
    "- Ablation +/- hysteroscopic myomectomy\n",
    "- No intervention\n",
    "\n",
    "The rates of subsequent intervention for each intervention category were estimated using a Poisson model:\n",
    "\n",
    "$$y_{ijk} \\sim Poisson(\\phi_{ijk}n_{ik})$$\n",
    "\n",
    "\n",
    "where here $y_{ijk}$ is the number of individuals is study with initial intervention $j$ that underwent subsequent intervention $j$, and $n_{ik}$ the corresponding number of women in study $k$ that received initial intervention $i$.\n",
    "\n",
    "The quantities of interest are the vectors of transition probabilities $\\{\\pi_i\\}$ corresponding to each of the initial candidate interventions. These probabilities were modeled on the logarithmic scale as a function of age and followup length covariates as:\n",
    "\n",
    "$$\\text{log}(\\phi_{ijk})= \\theta_{ij} + X_k \\beta_{ij} + \\epsilon_k$$\n",
    "\n",
    "where $\\theta_{ij}$ is a baseline transition probability (on the logit scale), $X_k$ a matrix of study(-arm)-specific covariates, $\\beta_{ij}$ the corresponding coefficients, and $\\epsilon_k$ a mean-zero random effect for study k. which accounts for the correlation among arms within the same study.\n",
    "\n",
    "As some studies did not report the average age of constituent study arms, we imputed the missing values jointly with the model, using a Student-t distribution to characterize the distribution of ages across studies. Note that this assumes reported ages are missing completely at random and are not omitted for any reason related to the underlying event probabilities.\n",
    "\n",
    "An attractive benefit to using Bayesian inference for this model is that it is easy to generate predictions from the model, via the posterior predictive distribution. We present estimates of the distribution of the expected rate of women requiring a particular follow-up intervention; this factors in both residual uncertainty in the rate estimates, as well as the sampling uncertainty of the intervention.\n"
   ]
  },
  {
   "cell_type": "code",
   "execution_count": 1,
   "metadata": {
    "collapsed": false
   },
   "outputs": [
    {
     "name": "stderr",
     "output_type": "stream",
     "text": [
      "/usr/local/lib/python3.4/dist-packages/matplotlib/font_manager.py:273: UserWarning: Matplotlib is building the font cache using fc-list. This may take a moment.\n",
      "  warnings.warn('Matplotlib is building the font cache using fc-list. This may take a moment.')\n",
      "/usr/local/lib/python3.4/dist-packages/matplotlib/font_manager.py:273: UserWarning: Matplotlib is building the font cache using fc-list. This may take a moment.\n",
      "  warnings.warn('Matplotlib is building the font cache using fc-list. This may take a moment.')\n"
     ]
    }
   ],
   "source": [
    "%matplotlib inline\n",
    "import numpy as np\n",
    "import pandas as pd\n",
    "import pymc3 as pm\n",
    "import seaborn as sns\n",
    "import matplotlib.pyplot as plt\n",
    "import pdb\n",
    "sns.set(style=\"ticks\")"
   ]
  },
  {
   "cell_type": "markdown",
   "metadata": {},
   "source": [
    "## Data Preparation\n",
    "\n",
    "Import data from worksheets in Excel spreadsheet."
   ]
  },
  {
   "cell_type": "code",
   "execution_count": 2,
   "metadata": {
    "collapsed": true
   },
   "outputs": [],
   "source": [
    "data_file = 'UF Subsequent Interventions Data_Master_updated_07272016_SK.xlsx'"
   ]
  },
  {
   "cell_type": "code",
   "execution_count": 3,
   "metadata": {
    "collapsed": false
   },
   "outputs": [
    {
     "name": "stdout",
     "output_type": "stream",
     "text": [
      "Occlusion rows=31, columns=13, missing=6\n",
      "Med vs IAC rows=49, columns=13, missing=46\n",
      "Med vs Med rows=59, columns=13, missing=13\n",
      "UAE rows=28, columns=14, missing=26\n"
     ]
    }
   ],
   "source": [
    "missing = ['NA', 'NR', 'ND', '?', 'null']\n",
    "\n",
    "misc_data = pd.read_excel('data/' + data_file, sheetname='MISC (SP)', na_values=missing)\n",
    "misc_data = misc_data[~misc_data['baseline_n'].isnull()].drop('notes', axis=1)\n",
    "rows, cols = misc_data.shape\n",
    "print('Occlusion rows={0}, columns={1}, missing={2}'.format(rows, cols,\n",
    "                                                        misc_data.isnull().sum().sum()))\n",
    "\n",
    "med_vs_iac_data = pd.read_excel('data/' + data_file, sheetname='Med vs IAC JW', na_values=missing)\n",
    "med_vs_iac_data = med_vs_iac_data[~med_vs_iac_data['trial_arm'].isnull()].drop('notes', axis=1)\n",
    "rows, cols = med_vs_iac_data.shape\n",
    "print('Med vs IAC rows={0}, columns={1}, missing={2}'.format(rows, cols, \n",
    "                                                            med_vs_iac_data.isnull().sum().sum()))\n",
    "\n",
    "med_vs_med_data = pd.read_excel('data/' + data_file, sheetname='Med vs Med DVE', na_values=missing)\n",
    "med_vs_med_data = med_vs_med_data[~med_vs_med_data['baseline_n'].isnull()].drop('notes', axis=1)\n",
    "rows, cols = med_vs_med_data.shape\n",
    "print('Med vs Med rows={0}, columns={1}, missing={2}'.format(rows, cols, \n",
    "                                                            med_vs_med_data.isnull().sum().sum()))\n",
    "\n",
    "uae_data = pd.read_excel('data/' + data_file, sheetname='UAE SK')\n",
    "uae_data = uae_data[~uae_data['baseline_n'].isnull()].drop('notes', axis=1)\n",
    "rows, cols = uae_data.shape\n",
    "print('UAE rows={0}, columns={1}, missing={2}'.format(rows, cols, \n",
    "                                                            uae_data.isnull().sum().sum()))\n",
    "\n",
    "datasets = [misc_data, med_vs_iac_data, med_vs_med_data, uae_data]"
   ]
  },
  {
   "cell_type": "code",
   "execution_count": null,
   "metadata": {
    "collapsed": true
   },
   "outputs": [
    {
     "data": {
      "text/html": [
       "<div>\n",
       "<table border=\"1\" class=\"dataframe\">\n",
       "  <thead>\n",
       "    <tr style=\"text-align: right;\">\n",
       "      <th></th>\n",
       "      <th>study_id</th>\n",
       "      <th>trial_arm</th>\n",
       "      <th>intervention</th>\n",
       "      <th>baseline_n</th>\n",
       "      <th>followup_interval</th>\n",
       "      <th>followup_n</th>\n",
       "      <th>hysterectomy</th>\n",
       "      <th>myomectomy</th>\n",
       "      <th>uae</th>\n",
       "      <th>MRIgFUS</th>\n",
       "      <th>ablation</th>\n",
       "      <th>iud</th>\n",
       "      <th>medication</th>\n",
       "      <th>no_treatment</th>\n",
       "    </tr>\n",
       "  </thead>\n",
       "  <tbody>\n",
       "    <tr>\n",
       "      <th>0</th>\n",
       "      <td>3803_3052</td>\n",
       "      <td>G1:</td>\n",
       "      <td>UAE</td>\n",
       "      <td>58</td>\n",
       "      <td>24</td>\n",
       "      <td>58</td>\n",
       "      <td>0</td>\n",
       "      <td>19</td>\n",
       "      <td>0</td>\n",
       "      <td>0</td>\n",
       "      <td>0</td>\n",
       "      <td>0</td>\n",
       "      <td>NaN</td>\n",
       "      <td>39</td>\n",
       "    </tr>\n",
       "    <tr>\n",
       "      <th>1</th>\n",
       "      <td>3803_3052</td>\n",
       "      <td>G2:</td>\n",
       "      <td>Myomectomy</td>\n",
       "      <td>63</td>\n",
       "      <td>24</td>\n",
       "      <td>62</td>\n",
       "      <td>0</td>\n",
       "      <td>2</td>\n",
       "      <td>0</td>\n",
       "      <td>0</td>\n",
       "      <td>0</td>\n",
       "      <td>0</td>\n",
       "      <td>NaN</td>\n",
       "      <td>60</td>\n",
       "    </tr>\n",
       "    <tr>\n",
       "      <th>2</th>\n",
       "      <td>1546</td>\n",
       "      <td>G1:</td>\n",
       "      <td>UAE</td>\n",
       "      <td>82</td>\n",
       "      <td>7</td>\n",
       "      <td>63</td>\n",
       "      <td>0</td>\n",
       "      <td>0</td>\n",
       "      <td>0</td>\n",
       "      <td>0</td>\n",
       "      <td>0</td>\n",
       "      <td>0</td>\n",
       "      <td>NaN</td>\n",
       "      <td>63</td>\n",
       "    </tr>\n",
       "    <tr>\n",
       "      <th>3</th>\n",
       "      <td>1546</td>\n",
       "      <td>G2:</td>\n",
       "      <td>Myomectomy</td>\n",
       "      <td>81</td>\n",
       "      <td>7</td>\n",
       "      <td>59</td>\n",
       "      <td>1</td>\n",
       "      <td>0</td>\n",
       "      <td>0</td>\n",
       "      <td>0</td>\n",
       "      <td>0</td>\n",
       "      <td>0</td>\n",
       "      <td>NaN</td>\n",
       "      <td>58</td>\n",
       "    </tr>\n",
       "    <tr>\n",
       "      <th>4</th>\n",
       "      <td>1546</td>\n",
       "      <td>G1:</td>\n",
       "      <td>UAE</td>\n",
       "      <td>82</td>\n",
       "      <td>12 to 24</td>\n",
       "      <td>63</td>\n",
       "      <td>6</td>\n",
       "      <td>2</td>\n",
       "      <td>1</td>\n",
       "      <td>0</td>\n",
       "      <td>0</td>\n",
       "      <td>0</td>\n",
       "      <td>NaN</td>\n",
       "      <td>54</td>\n",
       "    </tr>\n",
       "    <tr>\n",
       "      <th>5</th>\n",
       "      <td>1546</td>\n",
       "      <td>G2:</td>\n",
       "      <td>Myomectomy</td>\n",
       "      <td>81</td>\n",
       "      <td>12 to 24</td>\n",
       "      <td>59</td>\n",
       "      <td>0</td>\n",
       "      <td>0</td>\n",
       "      <td>0</td>\n",
       "      <td>0</td>\n",
       "      <td>0</td>\n",
       "      <td>0</td>\n",
       "      <td>NaN</td>\n",
       "      <td>59</td>\n",
       "    </tr>\n",
       "    <tr>\n",
       "      <th>6</th>\n",
       "      <td>3365_2026_1657_986</td>\n",
       "      <td>G1:</td>\n",
       "      <td>UAE</td>\n",
       "      <td>106</td>\n",
       "      <td>12</td>\n",
       "      <td>95</td>\n",
       "      <td>5</td>\n",
       "      <td>0</td>\n",
       "      <td>4</td>\n",
       "      <td>0</td>\n",
       "      <td>0</td>\n",
       "      <td>0</td>\n",
       "      <td>NaN</td>\n",
       "      <td>86</td>\n",
       "    </tr>\n",
       "    <tr>\n",
       "      <th>7</th>\n",
       "      <td>3365_2026_1657_986</td>\n",
       "      <td>G2:</td>\n",
       "      <td>Surgery</td>\n",
       "      <td>51</td>\n",
       "      <td>12</td>\n",
       "      <td>45</td>\n",
       "      <td>1</td>\n",
       "      <td>0</td>\n",
       "      <td>0</td>\n",
       "      <td>0</td>\n",
       "      <td>0</td>\n",
       "      <td>0</td>\n",
       "      <td>NaN</td>\n",
       "      <td>44</td>\n",
       "    </tr>\n",
       "    <tr>\n",
       "      <th>8</th>\n",
       "      <td>3365_2026_1657_986</td>\n",
       "      <td>G1:</td>\n",
       "      <td>UAE</td>\n",
       "      <td>106</td>\n",
       "      <td>12 to 60</td>\n",
       "      <td>96</td>\n",
       "      <td>13</td>\n",
       "      <td>0</td>\n",
       "      <td>4</td>\n",
       "      <td>0</td>\n",
       "      <td>1</td>\n",
       "      <td>0</td>\n",
       "      <td>NaN</td>\n",
       "      <td>78</td>\n",
       "    </tr>\n",
       "    <tr>\n",
       "      <th>9</th>\n",
       "      <td>3365_2026_1657_986</td>\n",
       "      <td>G2:</td>\n",
       "      <td>Surgery</td>\n",
       "      <td>51</td>\n",
       "      <td>12 to 60</td>\n",
       "      <td>48</td>\n",
       "      <td>0</td>\n",
       "      <td>0</td>\n",
       "      <td>0</td>\n",
       "      <td>0</td>\n",
       "      <td>0</td>\n",
       "      <td>0</td>\n",
       "      <td>NaN</td>\n",
       "      <td>48</td>\n",
       "    </tr>\n",
       "    <tr>\n",
       "      <th>10</th>\n",
       "      <td>3365_2026_1657_986</td>\n",
       "      <td>G1:</td>\n",
       "      <td>UAE</td>\n",
       "      <td>106</td>\n",
       "      <td>By 60</td>\n",
       "      <td>96</td>\n",
       "      <td>18</td>\n",
       "      <td>0</td>\n",
       "      <td>8</td>\n",
       "      <td>0</td>\n",
       "      <td>1</td>\n",
       "      <td>0</td>\n",
       "      <td>NaN</td>\n",
       "      <td>69</td>\n",
       "    </tr>\n",
       "    <tr>\n",
       "      <th>11</th>\n",
       "      <td>3365_2026_1657_986</td>\n",
       "      <td>G2:</td>\n",
       "      <td>Surgery</td>\n",
       "      <td>51</td>\n",
       "      <td>By 60</td>\n",
       "      <td>48</td>\n",
       "      <td>1</td>\n",
       "      <td>0</td>\n",
       "      <td>0</td>\n",
       "      <td>0</td>\n",
       "      <td>0</td>\n",
       "      <td>0</td>\n",
       "      <td>NaN</td>\n",
       "      <td>47</td>\n",
       "    </tr>\n",
       "    <tr>\n",
       "      <th>12</th>\n",
       "      <td>1400</td>\n",
       "      <td>G1:</td>\n",
       "      <td>UAE</td>\n",
       "      <td>63</td>\n",
       "      <td>6 to 12</td>\n",
       "      <td>62</td>\n",
       "      <td>0</td>\n",
       "      <td>1</td>\n",
       "      <td>5</td>\n",
       "      <td>0</td>\n",
       "      <td>0</td>\n",
       "      <td>0</td>\n",
       "      <td>NaN</td>\n",
       "      <td>56</td>\n",
       "    </tr>\n",
       "    <tr>\n",
       "      <th>13</th>\n",
       "      <td>1400</td>\n",
       "      <td>G2:</td>\n",
       "      <td>Surgery</td>\n",
       "      <td>64</td>\n",
       "      <td>6 to 12</td>\n",
       "      <td>62</td>\n",
       "      <td>0</td>\n",
       "      <td>6</td>\n",
       "      <td>0</td>\n",
       "      <td>0</td>\n",
       "      <td>0</td>\n",
       "      <td>0</td>\n",
       "      <td>NaN</td>\n",
       "      <td>56</td>\n",
       "    </tr>\n",
       "    <tr>\n",
       "      <th>14</th>\n",
       "      <td>3819_815_1986_2759_2971_\\n3120_3175_3192_3678_...</td>\n",
       "      <td>G1:</td>\n",
       "      <td>UAE</td>\n",
       "      <td>88</td>\n",
       "      <td>6</td>\n",
       "      <td>79</td>\n",
       "      <td>6</td>\n",
       "      <td>0</td>\n",
       "      <td>0</td>\n",
       "      <td>0</td>\n",
       "      <td>0</td>\n",
       "      <td>0</td>\n",
       "      <td>NaN</td>\n",
       "      <td>73</td>\n",
       "    </tr>\n",
       "    <tr>\n",
       "      <th>15</th>\n",
       "      <td>3819_815_1986_2759_2971_\\n3120_3175_3192_3678_...</td>\n",
       "      <td>G2:</td>\n",
       "      <td>Hysterectomy</td>\n",
       "      <td>89</td>\n",
       "      <td>6</td>\n",
       "      <td>72</td>\n",
       "      <td>0</td>\n",
       "      <td>0</td>\n",
       "      <td>0</td>\n",
       "      <td>0</td>\n",
       "      <td>0</td>\n",
       "      <td>0</td>\n",
       "      <td>NaN</td>\n",
       "      <td>72</td>\n",
       "    </tr>\n",
       "    <tr>\n",
       "      <th>16</th>\n",
       "      <td>3819_815_1986_2759_2971_\\n3120_3175_3192_3678_...</td>\n",
       "      <td>G1:</td>\n",
       "      <td>UAE</td>\n",
       "      <td>88</td>\n",
       "      <td>12</td>\n",
       "      <td>78</td>\n",
       "      <td>4</td>\n",
       "      <td>0</td>\n",
       "      <td>0</td>\n",
       "      <td>0</td>\n",
       "      <td>0</td>\n",
       "      <td>0</td>\n",
       "      <td>NaN</td>\n",
       "      <td>74</td>\n",
       "    </tr>\n",
       "    <tr>\n",
       "      <th>17</th>\n",
       "      <td>3819_815_1986_2759_2971_\\n3120_3175_3192_3678_...</td>\n",
       "      <td>G2:</td>\n",
       "      <td>Hysterectomy</td>\n",
       "      <td>89</td>\n",
       "      <td>12</td>\n",
       "      <td>73</td>\n",
       "      <td>0</td>\n",
       "      <td>0</td>\n",
       "      <td>0</td>\n",
       "      <td>0</td>\n",
       "      <td>0</td>\n",
       "      <td>0</td>\n",
       "      <td>NaN</td>\n",
       "      <td>73</td>\n",
       "    </tr>\n",
       "    <tr>\n",
       "      <th>18</th>\n",
       "      <td>3819_815_1986_2759_2971_\\n3120_3175_3192_3678_...</td>\n",
       "      <td>G1:</td>\n",
       "      <td>UAE</td>\n",
       "      <td>88</td>\n",
       "      <td>24</td>\n",
       "      <td>81</td>\n",
       "      <td>9</td>\n",
       "      <td>1</td>\n",
       "      <td>0</td>\n",
       "      <td>0</td>\n",
       "      <td>0</td>\n",
       "      <td>0</td>\n",
       "      <td>NaN</td>\n",
       "      <td>71</td>\n",
       "    </tr>\n",
       "    <tr>\n",
       "      <th>19</th>\n",
       "      <td>3819_815_1986_2759_2971_\\n3120_3175_3192_3678_...</td>\n",
       "      <td>G2:</td>\n",
       "      <td>Hysterectomy</td>\n",
       "      <td>89</td>\n",
       "      <td>24</td>\n",
       "      <td>73</td>\n",
       "      <td>0</td>\n",
       "      <td>0</td>\n",
       "      <td>0</td>\n",
       "      <td>0</td>\n",
       "      <td>0</td>\n",
       "      <td>0</td>\n",
       "      <td>NaN</td>\n",
       "      <td>73</td>\n",
       "    </tr>\n",
       "    <tr>\n",
       "      <th>20</th>\n",
       "      <td>3819_815_1986_2759_2971_\\n3120_3175_3192_3678_...</td>\n",
       "      <td>G1:</td>\n",
       "      <td>UAE</td>\n",
       "      <td>88</td>\n",
       "      <td>25 to 60</td>\n",
       "      <td>75</td>\n",
       "      <td>4</td>\n",
       "      <td>1</td>\n",
       "      <td>0</td>\n",
       "      <td>0</td>\n",
       "      <td>1</td>\n",
       "      <td>0</td>\n",
       "      <td>NaN</td>\n",
       "      <td>69</td>\n",
       "    </tr>\n",
       "    <tr>\n",
       "      <th>21</th>\n",
       "      <td>3819_815_1986_2759_2971_\\n3120_3175_3192_3678_...</td>\n",
       "      <td>G2:</td>\n",
       "      <td>Hysterectomy</td>\n",
       "      <td>89</td>\n",
       "      <td>25 to 60</td>\n",
       "      <td>70</td>\n",
       "      <td>0</td>\n",
       "      <td>0</td>\n",
       "      <td>0</td>\n",
       "      <td>0</td>\n",
       "      <td>0</td>\n",
       "      <td>0</td>\n",
       "      <td>NaN</td>\n",
       "      <td>70</td>\n",
       "    </tr>\n",
       "    <tr>\n",
       "      <th>22</th>\n",
       "      <td>3819_815_1986_2759_2971_\\n3120_3175_3192_3678_...</td>\n",
       "      <td>G1:</td>\n",
       "      <td>UAE</td>\n",
       "      <td>88</td>\n",
       "      <td>By 60</td>\n",
       "      <td>75</td>\n",
       "      <td>23</td>\n",
       "      <td>2</td>\n",
       "      <td>0</td>\n",
       "      <td>0</td>\n",
       "      <td>1</td>\n",
       "      <td>7</td>\n",
       "      <td>5</td>\n",
       "      <td>37</td>\n",
       "    </tr>\n",
       "    <tr>\n",
       "      <th>23</th>\n",
       "      <td>3819_815_1986_2759_2971_\\n3120_3175_3192_3678_...</td>\n",
       "      <td>G2:</td>\n",
       "      <td>Hysterectomy</td>\n",
       "      <td>89</td>\n",
       "      <td>By 60</td>\n",
       "      <td>70</td>\n",
       "      <td>0</td>\n",
       "      <td>0</td>\n",
       "      <td>0</td>\n",
       "      <td>0</td>\n",
       "      <td>0</td>\n",
       "      <td>0</td>\n",
       "      <td>0</td>\n",
       "      <td>70</td>\n",
       "    </tr>\n",
       "    <tr>\n",
       "      <th>24</th>\n",
       "      <td>4789</td>\n",
       "      <td>G1:</td>\n",
       "      <td>UAE</td>\n",
       "      <td>38</td>\n",
       "      <td>6</td>\n",
       "      <td>37</td>\n",
       "      <td>2</td>\n",
       "      <td>0</td>\n",
       "      <td>0</td>\n",
       "      <td>0</td>\n",
       "      <td>0</td>\n",
       "      <td>0</td>\n",
       "      <td>NaN</td>\n",
       "      <td>35</td>\n",
       "    </tr>\n",
       "    <tr>\n",
       "      <th>25</th>\n",
       "      <td>4789</td>\n",
       "      <td>G2:</td>\n",
       "      <td>Hysterectomy</td>\n",
       "      <td>19</td>\n",
       "      <td>6</td>\n",
       "      <td>16</td>\n",
       "      <td>0</td>\n",
       "      <td>0</td>\n",
       "      <td>0</td>\n",
       "      <td>0</td>\n",
       "      <td>0</td>\n",
       "      <td>0</td>\n",
       "      <td>NaN</td>\n",
       "      <td>16</td>\n",
       "    </tr>\n",
       "    <tr>\n",
       "      <th>26</th>\n",
       "      <td>2006</td>\n",
       "      <td>G1:</td>\n",
       "      <td>UAE</td>\n",
       "      <td>27</td>\n",
       "      <td>24</td>\n",
       "      <td>26</td>\n",
       "      <td>3</td>\n",
       "      <td>1</td>\n",
       "      <td>0</td>\n",
       "      <td>0</td>\n",
       "      <td>0</td>\n",
       "      <td>1</td>\n",
       "      <td>NaN</td>\n",
       "      <td>21</td>\n",
       "    </tr>\n",
       "    <tr>\n",
       "      <th>27</th>\n",
       "      <td>2006</td>\n",
       "      <td>G2:</td>\n",
       "      <td>Hysterectomy</td>\n",
       "      <td>30</td>\n",
       "      <td>24</td>\n",
       "      <td>29</td>\n",
       "      <td>0</td>\n",
       "      <td>0</td>\n",
       "      <td>0</td>\n",
       "      <td>0</td>\n",
       "      <td>0</td>\n",
       "      <td>0</td>\n",
       "      <td>NaN</td>\n",
       "      <td>29</td>\n",
       "    </tr>\n",
       "  </tbody>\n",
       "</table>\n",
       "</div>"
      ],
      "text/plain": [
       "                                             study_id trial_arm  intervention  \\\n",
       "0                                           3803_3052       G1:           UAE   \n",
       "1                                           3803_3052       G2:    Myomectomy   \n",
       "2                                                1546       G1:           UAE   \n",
       "3                                                1546       G2:    Myomectomy   \n",
       "4                                                1546       G1:           UAE   \n",
       "5                                                1546       G2:    Myomectomy   \n",
       "6                                  3365_2026_1657_986       G1:           UAE   \n",
       "7                                  3365_2026_1657_986       G2:       Surgery   \n",
       "8                                  3365_2026_1657_986       G1:           UAE   \n",
       "9                                  3365_2026_1657_986       G2:       Surgery   \n",
       "10                                 3365_2026_1657_986       G1:           UAE   \n",
       "11                                 3365_2026_1657_986       G2:       Surgery   \n",
       "12                                               1400       G1:           UAE   \n",
       "13                                               1400       G2:       Surgery   \n",
       "14  3819_815_1986_2759_2971_\\n3120_3175_3192_3678_...       G1:           UAE   \n",
       "15  3819_815_1986_2759_2971_\\n3120_3175_3192_3678_...       G2:  Hysterectomy   \n",
       "16  3819_815_1986_2759_2971_\\n3120_3175_3192_3678_...       G1:           UAE   \n",
       "17  3819_815_1986_2759_2971_\\n3120_3175_3192_3678_...       G2:  Hysterectomy   \n",
       "18  3819_815_1986_2759_2971_\\n3120_3175_3192_3678_...       G1:           UAE   \n",
       "19  3819_815_1986_2759_2971_\\n3120_3175_3192_3678_...       G2:  Hysterectomy   \n",
       "20  3819_815_1986_2759_2971_\\n3120_3175_3192_3678_...       G1:           UAE   \n",
       "21  3819_815_1986_2759_2971_\\n3120_3175_3192_3678_...       G2:  Hysterectomy   \n",
       "22  3819_815_1986_2759_2971_\\n3120_3175_3192_3678_...       G1:           UAE   \n",
       "23  3819_815_1986_2759_2971_\\n3120_3175_3192_3678_...       G2:  Hysterectomy   \n",
       "24                                               4789       G1:           UAE   \n",
       "25                                               4789       G2:  Hysterectomy   \n",
       "26                                               2006       G1:           UAE   \n",
       "27                                               2006       G2:  Hysterectomy   \n",
       "\n",
       "    baseline_n followup_interval  followup_n  hysterectomy  myomectomy  uae  \\\n",
       "0           58                24          58             0          19    0   \n",
       "1           63                24          62             0           2    0   \n",
       "2           82                 7          63             0           0    0   \n",
       "3           81                 7          59             1           0    0   \n",
       "4           82          12 to 24          63             6           2    1   \n",
       "5           81          12 to 24          59             0           0    0   \n",
       "6          106                12          95             5           0    4   \n",
       "7           51                12          45             1           0    0   \n",
       "8          106          12 to 60          96            13           0    4   \n",
       "9           51          12 to 60          48             0           0    0   \n",
       "10         106             By 60          96            18           0    8   \n",
       "11          51             By 60          48             1           0    0   \n",
       "12          63           6 to 12          62             0           1    5   \n",
       "13          64           6 to 12          62             0           6    0   \n",
       "14          88                 6          79             6           0    0   \n",
       "15          89                 6          72             0           0    0   \n",
       "16          88                12          78             4           0    0   \n",
       "17          89                12          73             0           0    0   \n",
       "18          88                24          81             9           1    0   \n",
       "19          89                24          73             0           0    0   \n",
       "20          88          25 to 60          75             4           1    0   \n",
       "21          89          25 to 60          70             0           0    0   \n",
       "22          88             By 60          75            23           2    0   \n",
       "23          89             By 60          70             0           0    0   \n",
       "24          38                 6          37             2           0    0   \n",
       "25          19                 6          16             0           0    0   \n",
       "26          27                24          26             3           1    0   \n",
       "27          30                24          29             0           0    0   \n",
       "\n",
       "    MRIgFUS  ablation  iud  medication  no_treatment  \n",
       "0         0         0    0         NaN            39  \n",
       "1         0         0    0         NaN            60  \n",
       "2         0         0    0         NaN            63  \n",
       "3         0         0    0         NaN            58  \n",
       "4         0         0    0         NaN            54  \n",
       "5         0         0    0         NaN            59  \n",
       "6         0         0    0         NaN            86  \n",
       "7         0         0    0         NaN            44  \n",
       "8         0         1    0         NaN            78  \n",
       "9         0         0    0         NaN            48  \n",
       "10        0         1    0         NaN            69  \n",
       "11        0         0    0         NaN            47  \n",
       "12        0         0    0         NaN            56  \n",
       "13        0         0    0         NaN            56  \n",
       "14        0         0    0         NaN            73  \n",
       "15        0         0    0         NaN            72  \n",
       "16        0         0    0         NaN            74  \n",
       "17        0         0    0         NaN            73  \n",
       "18        0         0    0         NaN            71  \n",
       "19        0         0    0         NaN            73  \n",
       "20        0         1    0         NaN            69  \n",
       "21        0         0    0         NaN            70  \n",
       "22        0         1    7           5            37  \n",
       "23        0         0    0           0            70  \n",
       "24        0         0    0         NaN            35  \n",
       "25        0         0    0         NaN            16  \n",
       "26        0         0    1         NaN            21  \n",
       "27        0         0    0         NaN            29  "
      ]
     },
     "execution_count": 113,
     "metadata": {},
     "output_type": "execute_result"
    }
   ],
   "source": [
    "uae_data"
   ]
  },
  {
   "cell_type": "code",
   "execution_count": 4,
   "metadata": {
    "collapsed": false
   },
   "outputs": [],
   "source": [
    "unique_inerventions = set(np.concatenate([d.intervention.values for d in datasets]))"
   ]
  },
  {
   "cell_type": "markdown",
   "metadata": {},
   "source": [
    "Use the following lookup table to create \"intervention category\" field in each dataset."
   ]
  },
  {
   "cell_type": "code",
   "execution_count": 5,
   "metadata": {
    "collapsed": true
   },
   "outputs": [],
   "source": [
    "# %load intervention_lookup.py\n",
    "intervention_lookup = {'Ablation': 'ablation',\n",
    " 'Ablation+/- hysteroscopic myomectomy': 'ablation',\n",
    " 'Asoprisnil 10 mg': 'med_manage',\n",
    " 'Asoprisnil 25 mg': 'med_manage',\n",
    " 'Asoprisnil 5 mg': 'med_manage',\n",
    " 'Ulipristal (CD20)': 'med_manage',\n",
    " 'Ulipristal (CDB10)': 'med_manage',\n",
    " 'Hysterectomy': 'hysterectomy',\n",
    " 'LBCUV': 'uae',\n",
    " 'LP + GnRH agonist plus raloxifene': 'med_manage',\n",
    " 'LP + placebo': 'med_manage',\n",
    " 'LPA+ MPA / LPA+placebo': 'med_manage',\n",
    " 'LPA+ placebo / LPA+MPA': 'med_manage',\n",
    " 'LUNA plus LBCUV': 'ablation',\n",
    " 'Myomectomy': 'myomectomy',\n",
    " 'No treatment': 'control',\n",
    " 'No treatment (control)': 'control',\n",
    " 'Placebo': 'control',\n",
    " 'Raloxifene, 180mg/day': 'med_manage',\n",
    " 'SC implant of 3.6 goserelin + placebo (3 months) then tibolone 2.5 mg daily (3 months)': 'med_manage',\n",
    " 'SC implant of 3.6 goserelin + placebo (6 months)': 'med_manage',\n",
    " 'SC implant of 3.6 goserelin + tibolone 2.5 mg daily (6 months)': 'med_manage',\n",
    " 'Surgery': 'DROP',\n",
    " 'Tibolone': 'med_manage',\n",
    " 'UAE': 'uae',\n",
    " 'UAE only': 'uae',\n",
    " 'UAE plus goserelin acetate depot': 'uae',\n",
    " 'buserelin + goserelin': 'med_manage',\n",
    " 'buserelin, intranasal': 'med_manage',\n",
    " 'cabergoline': 'med_manage',\n",
    " 'diphereline': 'med_manage',\n",
    " 'gestrinone, 2.5mg': 'med_manage',\n",
    " 'gestrinone, 2.5mg oral + gestrinone, 5mg oral + gestrinone, 5mg vaginal': 'med_manage',\n",
    " 'gestrinone, 5mg': 'med_manage',\n",
    " 'gestrinone, 5mg vaginal': 'med_manage',\n",
    " 'goserelin, subcutaneous': 'med_manage',\n",
    " 'healthy controls': 'control',\n",
    " 'hormone replacement therapy, transdermal': 'DROP',\n",
    " 'hysterectomy or myomectomy': 'DROP',\n",
    " 'letrozole, 2.5mg': 'med_manage',\n",
    " 'leuprolide': 'med_manage',\n",
    " 'leuprolide acetate depot (11.25 mg q 3 months) + Placebo': 'med_manage',\n",
    " 'leuprolide acetate depot (11.25 mg q 3 months) + tibolone 2.5 mg/d orally': 'med_manage',\n",
    " 'leuprolide acetate depot (3.75 mg/28 d) + placebo (B)': 'med_manage',\n",
    " 'leuprolide plus (tibolone 2.5 mg daily) (A)': 'med_manage',\n",
    " 'leuprolide plus MPA': 'med_manage',\n",
    " 'leuprolide plus estrogen-progestin': 'med_manage',\n",
    " 'leuprolide plus placebo': 'med_manage',\n",
    " 'leuprolide plus progestin': 'med_manage',\n",
    " 'leuprolide plus raloxifene 60 mg daily': 'med_manage',\n",
    " 'leuprolide, 1.88mg': 'med_manage',\n",
    " 'leuprolide, 3.75mg': 'med_manage',\n",
    " 'mifepristone, 10mg': 'med_manage',\n",
    " 'mifepristone, 10mg + mifepristone, 5mg': 'med_manage',\n",
    " 'mifepristone, 2.5mg': 'med_manage',\n",
    " 'mifepristone, 5mg': 'med_manage',\n",
    " 'placebo': 'control',\n",
    " 'raloxifene 180 mg daily': 'med_manage',\n",
    " 'raloxifene 60 mg daily': 'med_manage',\n",
    " 'tamoxifen 20 mg daily': 'med_manage',\n",
    " 'tibolone': 'med_manage',\n",
    " 'tibolone, 2.5mg': 'med_manage',\n",
    " 'transdermal estrogen replacement therapy': 'med_manage',\n",
    " 'triptorelin, 100ug': 'med_manage',\n",
    " 'triptorelin, 100ug + triptorelin, 20ug + triptorelin, 5ug': 'med_manage',\n",
    " 'triptorelin, 20ug': 'med_manage',\n",
    " 'triptorelin, 3.6mg/mo': 'med_manage',\n",
    " 'triptorelin, 5ug': 'med_manage',\n",
    " 'ulipristal acetate followed by placebo': 'med_manage',\n",
    " 'ulipristal acetate followed by progestin': 'med_manage',\n",
    " 'ulipristal, 10mg': 'med_manage',\n",
    " 'ulipristal, 5mg': 'med_manage',\n",
    " 'HIFU': 'MRgFUS',\n",
    " 'HIFU with CEUS': 'MRgFUS',\n",
    " 'LUAO': 'uae',\n",
    " 'UAE plus PVA': 'uae',\n",
    " 'UAE plus TAG': 'uae',\n",
    " 'UAE with PVA': 'uae',\n",
    " 'UAE with PVA particles, large': 'uae',\n",
    " 'UAE with PVA particles, small': 'uae',\n",
    " 'UAE with SPA': 'uae',\n",
    " 'UAE with SPVA': 'uae',\n",
    " 'UAE with TAG': 'uae',\n",
    " 'UAE with TAG microspheres': 'uae',\n",
    " 'myomectomy': 'myomectomy',\n",
    " 'myomectomy with vasopressin': 'myomectomy',\n",
    " 'myomectomy, abdominal': 'myomectomy',\n",
    " 'myomectomy, laparoscopic': 'myomectomy',\n",
    " 'myomectomy, loop ligation with vasopressin': 'myomectomy',\n",
    " 'myomectomy, minilaparotomic': 'myomectomy'}\n"
   ]
  },
  {
   "cell_type": "markdown",
   "metadata": {},
   "source": [
    "Assign intervention **categories** to each arm"
   ]
  },
  {
   "cell_type": "code",
   "execution_count": 6,
   "metadata": {
    "collapsed": true
   },
   "outputs": [],
   "source": [
    "datasets = [d.assign(intervention_cat=d.intervention.replace(intervention_lookup)) for d in datasets]"
   ]
  },
  {
   "cell_type": "code",
   "execution_count": 7,
   "metadata": {
    "collapsed": false
   },
   "outputs": [
    {
     "data": {
      "text/plain": [
       "{'DROP',\n",
       " 'MRgFUS',\n",
       " 'ablation',\n",
       " 'control',\n",
       " 'hysterectomy',\n",
       " 'med_manage',\n",
       " 'myomectomy',\n",
       " 'uae'}"
      ]
     },
     "execution_count": 7,
     "metadata": {},
     "output_type": "execute_result"
    }
   ],
   "source": [
    "intervention_categories = set(intervention_lookup.values())\n",
    "intervention_categories"
   ]
  },
  {
   "cell_type": "markdown",
   "metadata": {},
   "source": [
    "Import demographic information"
   ]
  },
  {
   "cell_type": "code",
   "execution_count": 8,
   "metadata": {
    "collapsed": false
   },
   "outputs": [
    {
     "data": {
      "text/plain": [
       "Index(['study_id', 'Citation', 'FamCode', 'FamDesig', 'NCT', 'ArmsN',\n",
       "       'ArmCategory', 'Group_Desc', 'New Grouping', 'Demo_Category',\n",
       "       'Demo_specify', 'BL N', 'Denom_N', 'BL %', 'BL Mean', 'BL SD', 'BL_SE',\n",
       "       'BL_Median', 'BL Min', 'BL Max', 'BL 95% L', 'BL 95% H',\n",
       "       'BL_group_diff', 'Comments'],\n",
       "      dtype='object')"
      ]
     },
     "execution_count": 8,
     "metadata": {},
     "output_type": "execute_result"
    }
   ],
   "source": [
    "demographics = pd.read_excel('data/' + data_file, sheetname='ALL_DEMO_DATA', na_values=missing)\n",
    "demographics.columns"
   ]
  },
  {
   "cell_type": "markdown",
   "metadata": {},
   "source": [
    "Extract columns of interest"
   ]
  },
  {
   "cell_type": "code",
   "execution_count": 9,
   "metadata": {
    "collapsed": false
   },
   "outputs": [],
   "source": [
    "age_data = demographics.loc[demographics.Demo_Category=='Age', ['study_id', 'New Grouping', 'BL Mean', 'BL SD']]"
   ]
  },
  {
   "cell_type": "markdown",
   "metadata": {},
   "source": [
    "Clean arm labels"
   ]
  },
  {
   "cell_type": "code",
   "execution_count": 10,
   "metadata": {
    "collapsed": false
   },
   "outputs": [],
   "source": [
    "age_data = age_data.assign(arm=age_data['New Grouping'].str.replace(':','')).drop('New Grouping', axis=1)"
   ]
  },
  {
   "cell_type": "code",
   "execution_count": 11,
   "metadata": {
    "collapsed": false
   },
   "outputs": [
    {
     "data": {
      "text/plain": [
       "array(['G2', 'G1', 'G1b', 'G1a', 'G3', 'CG', 'G1c', 'G1+G2', 'G1a+G1b+G1c'], dtype=object)"
      ]
     },
     "execution_count": 11,
     "metadata": {},
     "output_type": "execute_result"
    }
   ],
   "source": [
    "age_data.arm.unique()"
   ]
  },
  {
   "cell_type": "markdown",
   "metadata": {},
   "source": [
    "Concatenate all datasets"
   ]
  },
  {
   "cell_type": "code",
   "execution_count": 12,
   "metadata": {
    "collapsed": false
   },
   "outputs": [],
   "source": [
    "all_data = pd.concat(datasets)"
   ]
  },
  {
   "cell_type": "markdown",
   "metadata": {},
   "source": [
    "Clean up study arm field"
   ]
  },
  {
   "cell_type": "code",
   "execution_count": 13,
   "metadata": {
    "collapsed": false
   },
   "outputs": [],
   "source": [
    "all_arm = all_data.trial_arm.str.replace(':','').str.replace(' ', '').str.replace('Group', 'G')\n",
    "all_data = all_data.assign(arm=all_arm).drop('trial_arm', axis=1)"
   ]
  },
  {
   "cell_type": "code",
   "execution_count": 14,
   "metadata": {
    "collapsed": false
   },
   "outputs": [
    {
     "data": {
      "text/plain": [
       "array(['G1', 'G2', 'G3', 'CG', 'G1a', 'G1b', 'G1c', 'CG1', 'CG2', 'G1/CG',\n",
       "       'CG/G1', 'G1a+G1b', 'G1a+G1b+G1c', 'G1+G2'], dtype=object)"
      ]
     },
     "execution_count": 14,
     "metadata": {},
     "output_type": "execute_result"
    }
   ],
   "source": [
    "all_data.arm.unique()"
   ]
  },
  {
   "cell_type": "markdown",
   "metadata": {},
   "source": [
    "Clean up study ID field. Currently contains non-numeric entries. Will strip out the first study ID from the compund labels, as this is the parent study ID."
   ]
  },
  {
   "cell_type": "code",
   "execution_count": 15,
   "metadata": {
    "collapsed": false
   },
   "outputs": [],
   "source": [
    "str_mask = all_data.study_id.str.isnumeric()==False\n",
    "all_data.loc[str_mask, 'study_id'] = all_data.study_id[str_mask].apply(lambda x: x[:x.find('_')])\n",
    "all_data.study_id = all_data.study_id.astype(int)"
   ]
  },
  {
   "cell_type": "code",
   "execution_count": 16,
   "metadata": {
    "collapsed": false
   },
   "outputs": [
    {
     "data": {
      "text/plain": [
       "array([  23,  347, 1400, 1529, 1806, 1889, 2375, 2967, 3382, 3690, 3785,\n",
       "       5186, 5474,  414, 1849, 3016, 3181, 3324, 3674, 4258, 4468, 4858,\n",
       "       4960, 5276, 5302, 6091, 6263, 6696, 7155, 7504, 7797, 7936,   95,\n",
       "        629,  757, 1290, 2318, 2555, 2635, 3312, 3978, 4787, 4961, 5721,\n",
       "       6393, 6903, 7139, 7309, 7530, 7589, 3803, 1546, 3365, 3819, 4789,\n",
       "       2006])"
      ]
     },
     "execution_count": 16,
     "metadata": {},
     "output_type": "execute_result"
    }
   ],
   "source": [
    "all_data.study_id.unique()"
   ]
  },
  {
   "cell_type": "markdown",
   "metadata": {},
   "source": [
    "Here is what the data look like after merging."
   ]
  },
  {
   "cell_type": "code",
   "execution_count": 17,
   "metadata": {
    "collapsed": false,
    "scrolled": true
   },
   "outputs": [
    {
     "data": {
      "text/html": [
       "<div>\n",
       "<table border=\"1\" class=\"dataframe\">\n",
       "  <thead>\n",
       "    <tr style=\"text-align: right;\">\n",
       "      <th></th>\n",
       "      <th>MRIgFUS</th>\n",
       "      <th>ablation</th>\n",
       "      <th>baseline_n</th>\n",
       "      <th>followup_interval</th>\n",
       "      <th>followup_n</th>\n",
       "      <th>hysterectomy</th>\n",
       "      <th>intervention</th>\n",
       "      <th>intervention_cat</th>\n",
       "      <th>iud</th>\n",
       "      <th>medication</th>\n",
       "      <th>myomectomy</th>\n",
       "      <th>no_treatment</th>\n",
       "      <th>study_id</th>\n",
       "      <th>uae</th>\n",
       "      <th>arm</th>\n",
       "    </tr>\n",
       "  </thead>\n",
       "  <tbody>\n",
       "    <tr>\n",
       "      <th>0</th>\n",
       "      <td>1</td>\n",
       "      <td>0</td>\n",
       "      <td>17</td>\n",
       "      <td>12</td>\n",
       "      <td>17</td>\n",
       "      <td>0</td>\n",
       "      <td>HIFU with CEUS</td>\n",
       "      <td>MRgFUS</td>\n",
       "      <td>0</td>\n",
       "      <td>NaN</td>\n",
       "      <td>0</td>\n",
       "      <td>16</td>\n",
       "      <td>23</td>\n",
       "      <td>0</td>\n",
       "      <td>G1</td>\n",
       "    </tr>\n",
       "    <tr>\n",
       "      <th>1</th>\n",
       "      <td>3</td>\n",
       "      <td>0</td>\n",
       "      <td>16</td>\n",
       "      <td>12</td>\n",
       "      <td>16</td>\n",
       "      <td>0</td>\n",
       "      <td>HIFU</td>\n",
       "      <td>MRgFUS</td>\n",
       "      <td>0</td>\n",
       "      <td>NaN</td>\n",
       "      <td>0</td>\n",
       "      <td>13</td>\n",
       "      <td>23</td>\n",
       "      <td>0</td>\n",
       "      <td>G2</td>\n",
       "    </tr>\n",
       "    <tr>\n",
       "      <th>2</th>\n",
       "      <td>0</td>\n",
       "      <td>0</td>\n",
       "      <td>30</td>\n",
       "      <td>12</td>\n",
       "      <td>27</td>\n",
       "      <td>1</td>\n",
       "      <td>UAE with SPVA</td>\n",
       "      <td>uae</td>\n",
       "      <td>0</td>\n",
       "      <td>NaN</td>\n",
       "      <td>0</td>\n",
       "      <td>26</td>\n",
       "      <td>347</td>\n",
       "      <td>0</td>\n",
       "      <td>G1</td>\n",
       "    </tr>\n",
       "    <tr>\n",
       "      <th>3</th>\n",
       "      <td>0</td>\n",
       "      <td>0</td>\n",
       "      <td>30</td>\n",
       "      <td>12</td>\n",
       "      <td>29</td>\n",
       "      <td>0</td>\n",
       "      <td>UAE with TAG</td>\n",
       "      <td>uae</td>\n",
       "      <td>0</td>\n",
       "      <td>NaN</td>\n",
       "      <td>0</td>\n",
       "      <td>29</td>\n",
       "      <td>347</td>\n",
       "      <td>0</td>\n",
       "      <td>G2</td>\n",
       "    </tr>\n",
       "    <tr>\n",
       "      <th>4</th>\n",
       "      <td>0</td>\n",
       "      <td>0</td>\n",
       "      <td>63</td>\n",
       "      <td>6</td>\n",
       "      <td>62</td>\n",
       "      <td>0</td>\n",
       "      <td>UAE</td>\n",
       "      <td>uae</td>\n",
       "      <td>0</td>\n",
       "      <td>NaN</td>\n",
       "      <td>1</td>\n",
       "      <td>56</td>\n",
       "      <td>1400</td>\n",
       "      <td>5</td>\n",
       "      <td>G1</td>\n",
       "    </tr>\n",
       "  </tbody>\n",
       "</table>\n",
       "</div>"
      ],
      "text/plain": [
       "   MRIgFUS  ablation baseline_n followup_interval  followup_n  hysterectomy  \\\n",
       "0        1         0         17                12          17             0   \n",
       "1        3         0         16                12          16             0   \n",
       "2        0         0         30                12          27             1   \n",
       "3        0         0         30                12          29             0   \n",
       "4        0         0         63                 6          62             0   \n",
       "\n",
       "     intervention intervention_cat  iud  medication  myomectomy  no_treatment  \\\n",
       "0  HIFU with CEUS           MRgFUS    0         NaN           0            16   \n",
       "1            HIFU           MRgFUS    0         NaN           0            13   \n",
       "2   UAE with SPVA              uae    0         NaN           0            26   \n",
       "3    UAE with TAG              uae    0         NaN           0            29   \n",
       "4             UAE              uae    0         NaN           1            56   \n",
       "\n",
       "   study_id  uae arm  \n",
       "0        23    0  G1  \n",
       "1        23    0  G2  \n",
       "2       347    0  G1  \n",
       "3       347    0  G2  \n",
       "4      1400    5  G1  "
      ]
     },
     "execution_count": 17,
     "metadata": {},
     "output_type": "execute_result"
    }
   ],
   "source": [
    "all_data.head()"
   ]
  },
  {
   "cell_type": "code",
   "execution_count": 18,
   "metadata": {
    "collapsed": false,
    "scrolled": true
   },
   "outputs": [
    {
     "data": {
      "text/plain": [
       "intervention_cat\n",
       "DROP             8\n",
       "MRgFUS           2\n",
       "ablation         3\n",
       "control         11\n",
       "hysterectomy     7\n",
       "med_manage      92\n",
       "myomectomy      12\n",
       "uae             32\n",
       "Name: study_id, dtype: int64"
      ]
     },
     "execution_count": 18,
     "metadata": {},
     "output_type": "execute_result"
    }
   ],
   "source": [
    "all_data.groupby('intervention_cat')['study_id'].count()"
   ]
  },
  {
   "cell_type": "markdown",
   "metadata": {},
   "source": [
    "Merge age data with outcomes"
   ]
  },
  {
   "cell_type": "code",
   "execution_count": 19,
   "metadata": {
    "collapsed": false
   },
   "outputs": [],
   "source": [
    "all_data_merged = pd.merge(all_data, age_data, on=['study_id', 'arm'])"
   ]
  },
  {
   "cell_type": "markdown",
   "metadata": {},
   "source": [
    "For now, drop arms with no reported followup time (we may want to impute these):"
   ]
  },
  {
   "cell_type": "code",
   "execution_count": 20,
   "metadata": {
    "collapsed": false
   },
   "outputs": [],
   "source": [
    "all_data_merged = all_data_merged.dropna(subset=['followup_interval'])"
   ]
  },
  {
   "cell_type": "markdown",
   "metadata": {},
   "source": [
    "Parse followup intervals that are ranges, creating `fup_min` and `fup_max` fields."
   ]
  },
  {
   "cell_type": "code",
   "execution_count": 21,
   "metadata": {
    "collapsed": false
   },
   "outputs": [],
   "source": [
    "dataset = all_data_merged.assign(fup_min=0, fup_max=all_data.followup_interval.convert_objects(convert_numeric=True).max()+1)\n",
    "range_index = dataset.followup_interval.str.contains('to').notnull()\n",
    "range_vals = (dataset[range_index].followup_interval.apply(lambda x: x.split(' '))\n",
    "                              .apply(lambda r: [0] + r[1:] if r[0]=='By' else r))\n",
    "dataset.loc[range_index, ['fup_min']] = range_vals.apply(lambda x: float(x[0]))\n",
    "dataset.loc[range_index, ['fup_max']] = range_vals.apply(lambda x: float(x[-1]))\n",
    "dataset.loc[range_index, ['followup_interval']] = np.nan\n",
    "dataset['followup_interval'] = dataset.followup_interval.astype(float)"
   ]
  },
  {
   "cell_type": "markdown",
   "metadata": {},
   "source": [
    "Fill missing values"
   ]
  },
  {
   "cell_type": "code",
   "execution_count": 22,
   "metadata": {
    "collapsed": false
   },
   "outputs": [],
   "source": [
    "dataset.loc[dataset.followup_n.isnull(), 'followup_n'] = dataset.loc[dataset.followup_n.isnull(), 'baseline_n']"
   ]
  },
  {
   "cell_type": "code",
   "execution_count": 23,
   "metadata": {
    "collapsed": false
   },
   "outputs": [],
   "source": [
    "dataset.loc[dataset.no_treatment.isnull(), 'no_treatment'] = dataset.followup_n - dataset[[ 'hysterectomy', 'myomectomy', 'uae',\n",
    "                                                        'MRIgFUS', 'ablation', 'iud']].sum(1)[dataset.no_treatment.isnull()]"
   ]
  },
  {
   "cell_type": "code",
   "execution_count": 24,
   "metadata": {
    "collapsed": false
   },
   "outputs": [
    {
     "data": {
      "text/plain": [
       "array([ 12. ,   6. ,   nan,  24. ,   2. ,   1. ,   3. ,   5.5,   9. ,\n",
       "        18. ,   0. ,   7. ])"
      ]
     },
     "execution_count": 24,
     "metadata": {},
     "output_type": "execute_result"
    }
   ],
   "source": [
    "dataset.followup_interval.unique()"
   ]
  },
  {
   "cell_type": "code",
   "execution_count": 25,
   "metadata": {
    "collapsed": false
   },
   "outputs": [
    {
     "data": {
      "text/plain": [
       "array([43.1, 42, 43.9, 41.7, 41, 43.5, 40.3, 42.7, 45, 44, 38.26, 32.1,\n",
       "       34.3, 44.9, 42.5, 43.3, 38.4, 37.5, 45.9, 44.5, 33.97, 34, 41.3,\n",
       "       42.9, 42.1, 43.4, 37.7, 43, 40.2, 41.1, 49.1, 48.6, 36.3, 35.9,\n",
       "       37.2, 54.2, 51.2, 43.6, nan, 38.9, 37.1, 41.4, 36.9, 41.6, 39, 39.6,\n",
       "       39.67, 36.87, 30.94, 31, 39.5, 42.8, 56.2, 57.9, 50.2, 50.6, 34.4,\n",
       "       42.2, 49.2, 32.6, 48.4, 33.8, 38.1, 32.3, 43.2, 44.6, 45.4, 46.4,\n",
       "       48.5, 48.3], dtype=object)"
      ]
     },
     "execution_count": 25,
     "metadata": {},
     "output_type": "execute_result"
    }
   ],
   "source": [
    "dataset['BL Mean'].unique()"
   ]
  },
  {
   "cell_type": "markdown",
   "metadata": {},
   "source": [
    "Identify crossover studies"
   ]
  },
  {
   "cell_type": "code",
   "execution_count": 26,
   "metadata": {
    "collapsed": true
   },
   "outputs": [],
   "source": [
    "crossover_studies = 7155, 3324, 414, 95, 7139, 6903, 3721, 3181, 4858, 4960, 4258, 4789, 2006, 2318"
   ]
  },
  {
   "cell_type": "code",
   "execution_count": 27,
   "metadata": {
    "collapsed": false
   },
   "outputs": [],
   "source": [
    "dataset['crossover_study'] = dataset.study_id.isin(crossover_studies)"
   ]
  },
  {
   "cell_type": "code",
   "execution_count": 28,
   "metadata": {
    "collapsed": false,
    "scrolled": false
   },
   "outputs": [
    {
     "data": {
      "text/html": [
       "<div>\n",
       "<table border=\"1\" class=\"dataframe\">\n",
       "  <thead>\n",
       "    <tr style=\"text-align: right;\">\n",
       "      <th></th>\n",
       "      <th>MRIgFUS</th>\n",
       "      <th>ablation</th>\n",
       "      <th>baseline_n</th>\n",
       "      <th>followup_interval</th>\n",
       "      <th>followup_n</th>\n",
       "      <th>hysterectomy</th>\n",
       "      <th>intervention</th>\n",
       "      <th>intervention_cat</th>\n",
       "      <th>iud</th>\n",
       "      <th>medication</th>\n",
       "      <th>myomectomy</th>\n",
       "      <th>no_treatment</th>\n",
       "      <th>study_id</th>\n",
       "      <th>uae</th>\n",
       "      <th>arm</th>\n",
       "      <th>BL Mean</th>\n",
       "      <th>BL SD</th>\n",
       "      <th>fup_max</th>\n",
       "      <th>fup_min</th>\n",
       "      <th>crossover_study</th>\n",
       "    </tr>\n",
       "  </thead>\n",
       "  <tbody>\n",
       "    <tr>\n",
       "      <th>0</th>\n",
       "      <td>1</td>\n",
       "      <td>0</td>\n",
       "      <td>17</td>\n",
       "      <td>12</td>\n",
       "      <td>17</td>\n",
       "      <td>0</td>\n",
       "      <td>HIFU with CEUS</td>\n",
       "      <td>MRgFUS</td>\n",
       "      <td>0</td>\n",
       "      <td>NaN</td>\n",
       "      <td>0</td>\n",
       "      <td>16</td>\n",
       "      <td>23</td>\n",
       "      <td>0</td>\n",
       "      <td>G1</td>\n",
       "      <td>43.1</td>\n",
       "      <td>5.3</td>\n",
       "      <td>25</td>\n",
       "      <td>0</td>\n",
       "      <td>False</td>\n",
       "    </tr>\n",
       "    <tr>\n",
       "      <th>1</th>\n",
       "      <td>3</td>\n",
       "      <td>0</td>\n",
       "      <td>16</td>\n",
       "      <td>12</td>\n",
       "      <td>16</td>\n",
       "      <td>0</td>\n",
       "      <td>HIFU</td>\n",
       "      <td>MRgFUS</td>\n",
       "      <td>0</td>\n",
       "      <td>NaN</td>\n",
       "      <td>0</td>\n",
       "      <td>13</td>\n",
       "      <td>23</td>\n",
       "      <td>0</td>\n",
       "      <td>G2</td>\n",
       "      <td>42</td>\n",
       "      <td>5.4</td>\n",
       "      <td>25</td>\n",
       "      <td>0</td>\n",
       "      <td>False</td>\n",
       "    </tr>\n",
       "    <tr>\n",
       "      <th>2</th>\n",
       "      <td>0</td>\n",
       "      <td>0</td>\n",
       "      <td>30</td>\n",
       "      <td>12</td>\n",
       "      <td>27</td>\n",
       "      <td>1</td>\n",
       "      <td>UAE with SPVA</td>\n",
       "      <td>uae</td>\n",
       "      <td>0</td>\n",
       "      <td>NaN</td>\n",
       "      <td>0</td>\n",
       "      <td>26</td>\n",
       "      <td>347</td>\n",
       "      <td>0</td>\n",
       "      <td>G1</td>\n",
       "      <td>43.9</td>\n",
       "      <td>5.0</td>\n",
       "      <td>25</td>\n",
       "      <td>0</td>\n",
       "      <td>False</td>\n",
       "    </tr>\n",
       "    <tr>\n",
       "      <th>3</th>\n",
       "      <td>0</td>\n",
       "      <td>0</td>\n",
       "      <td>30</td>\n",
       "      <td>12</td>\n",
       "      <td>29</td>\n",
       "      <td>0</td>\n",
       "      <td>UAE with TAG</td>\n",
       "      <td>uae</td>\n",
       "      <td>0</td>\n",
       "      <td>NaN</td>\n",
       "      <td>0</td>\n",
       "      <td>29</td>\n",
       "      <td>347</td>\n",
       "      <td>0</td>\n",
       "      <td>G2</td>\n",
       "      <td>41.7</td>\n",
       "      <td>5.4</td>\n",
       "      <td>25</td>\n",
       "      <td>0</td>\n",
       "      <td>False</td>\n",
       "    </tr>\n",
       "    <tr>\n",
       "      <th>4</th>\n",
       "      <td>0</td>\n",
       "      <td>0</td>\n",
       "      <td>63</td>\n",
       "      <td>6</td>\n",
       "      <td>62</td>\n",
       "      <td>0</td>\n",
       "      <td>UAE</td>\n",
       "      <td>uae</td>\n",
       "      <td>0</td>\n",
       "      <td>NaN</td>\n",
       "      <td>1</td>\n",
       "      <td>56</td>\n",
       "      <td>1400</td>\n",
       "      <td>5</td>\n",
       "      <td>G1</td>\n",
       "      <td>41</td>\n",
       "      <td>3.5</td>\n",
       "      <td>25</td>\n",
       "      <td>0</td>\n",
       "      <td>False</td>\n",
       "    </tr>\n",
       "  </tbody>\n",
       "</table>\n",
       "</div>"
      ],
      "text/plain": [
       "   MRIgFUS  ablation baseline_n  followup_interval  followup_n  hysterectomy  \\\n",
       "0        1         0         17                 12          17             0   \n",
       "1        3         0         16                 12          16             0   \n",
       "2        0         0         30                 12          27             1   \n",
       "3        0         0         30                 12          29             0   \n",
       "4        0         0         63                  6          62             0   \n",
       "\n",
       "     intervention intervention_cat  iud  medication  myomectomy  no_treatment  \\\n",
       "0  HIFU with CEUS           MRgFUS    0         NaN           0            16   \n",
       "1            HIFU           MRgFUS    0         NaN           0            13   \n",
       "2   UAE with SPVA              uae    0         NaN           0            26   \n",
       "3    UAE with TAG              uae    0         NaN           0            29   \n",
       "4             UAE              uae    0         NaN           1            56   \n",
       "\n",
       "   study_id  uae arm BL Mean  BL SD  fup_max  fup_min crossover_study  \n",
       "0        23    0  G1    43.1    5.3       25        0           False  \n",
       "1        23    0  G2      42    5.4       25        0           False  \n",
       "2       347    0  G1    43.9    5.0       25        0           False  \n",
       "3       347    0  G2    41.7    5.4       25        0           False  \n",
       "4      1400    5  G1      41    3.5       25        0           False  "
      ]
     },
     "execution_count": 28,
     "metadata": {},
     "output_type": "execute_result"
    }
   ],
   "source": [
    "dataset.head()"
   ]
  },
  {
   "cell_type": "markdown",
   "metadata": {},
   "source": [
    "Export data for posterity"
   ]
  },
  {
   "cell_type": "code",
   "execution_count": 29,
   "metadata": {
    "collapsed": true
   },
   "outputs": [],
   "source": [
    "dataset.to_csv('data/UF_interventions_clean.csv', na_rep=None)"
   ]
  },
  {
   "cell_type": "code",
   "execution_count": 30,
   "metadata": {
    "collapsed": true
   },
   "outputs": [],
   "source": [
    "outcome_cats = [ 'hysterectomy', 'myomectomy', 'uae',\n",
    "       'MRIgFUS', 'ablation', 'iud', 'no_treatment']"
   ]
  },
  {
   "cell_type": "markdown",
   "metadata": {},
   "source": [
    "Studies that use one of UAE, myomectomy or medical management as the intial intervention:"
   ]
  },
  {
   "cell_type": "code",
   "execution_count": 31,
   "metadata": {
    "collapsed": false
   },
   "outputs": [],
   "source": [
    "studies = dataset.study_id.unique()\n",
    "study_index = np.array([np.argwhere(studies==i).squeeze() for i in dataset.study_id])"
   ]
  },
  {
   "cell_type": "code",
   "execution_count": 32,
   "metadata": {
    "collapsed": false
   },
   "outputs": [
    {
     "data": {
      "text/plain": [
       "array([ 347, 1400, 1529, 1806, 1889, 2375, 2967, 3382, 3690, 3785, 5186,\n",
       "       5474, 1849, 3016, 3181, 3324, 3674, 4468, 4858, 4960, 5276, 5302,\n",
       "       6091, 6263, 6696, 7504, 7797, 7936,   95,  629,  757, 1290, 2318,\n",
       "       2555, 2635, 4961, 5721, 6393, 7139, 7309, 7530, 7589, 3803, 1546,\n",
       "       3365, 3819, 4789, 2006])"
      ]
     },
     "execution_count": 32,
     "metadata": {},
     "output_type": "execute_result"
    }
   ],
   "source": [
    "dataset[dataset.intervention_cat.isin(['uae', 'myomectomy', 'med_manage'])].study_id.unique()"
   ]
  },
  {
   "cell_type": "code",
   "execution_count": 114,
   "metadata": {
    "collapsed": false
   },
   "outputs": [
    {
     "data": {
      "text/html": [
       "<div>\n",
       "<table border=\"1\" class=\"dataframe\">\n",
       "  <thead>\n",
       "    <tr style=\"text-align: right;\">\n",
       "      <th></th>\n",
       "      <th>MRIgFUS</th>\n",
       "      <th>ablation</th>\n",
       "      <th>baseline_n</th>\n",
       "      <th>followup_interval</th>\n",
       "      <th>followup_n</th>\n",
       "      <th>hysterectomy</th>\n",
       "      <th>intervention</th>\n",
       "      <th>intervention_cat</th>\n",
       "      <th>iud</th>\n",
       "      <th>medication</th>\n",
       "      <th>myomectomy</th>\n",
       "      <th>no_treatment</th>\n",
       "      <th>study_id</th>\n",
       "      <th>uae</th>\n",
       "      <th>arm</th>\n",
       "      <th>BL Mean</th>\n",
       "      <th>BL SD</th>\n",
       "      <th>fup_max</th>\n",
       "      <th>fup_min</th>\n",
       "      <th>crossover_study</th>\n",
       "    </tr>\n",
       "  </thead>\n",
       "  <tbody>\n",
       "    <tr>\n",
       "      <th>2</th>\n",
       "      <td>0</td>\n",
       "      <td>0</td>\n",
       "      <td>30</td>\n",
       "      <td>12</td>\n",
       "      <td>27</td>\n",
       "      <td>1</td>\n",
       "      <td>UAE with SPVA</td>\n",
       "      <td>uae</td>\n",
       "      <td>0</td>\n",
       "      <td>NaN</td>\n",
       "      <td>0</td>\n",
       "      <td>26</td>\n",
       "      <td>347</td>\n",
       "      <td>0</td>\n",
       "      <td>G1</td>\n",
       "      <td>43.9</td>\n",
       "      <td>5.00</td>\n",
       "      <td>25</td>\n",
       "      <td>0</td>\n",
       "      <td>False</td>\n",
       "    </tr>\n",
       "    <tr>\n",
       "      <th>3</th>\n",
       "      <td>0</td>\n",
       "      <td>0</td>\n",
       "      <td>30</td>\n",
       "      <td>12</td>\n",
       "      <td>29</td>\n",
       "      <td>0</td>\n",
       "      <td>UAE with TAG</td>\n",
       "      <td>uae</td>\n",
       "      <td>0</td>\n",
       "      <td>NaN</td>\n",
       "      <td>0</td>\n",
       "      <td>29</td>\n",
       "      <td>347</td>\n",
       "      <td>0</td>\n",
       "      <td>G2</td>\n",
       "      <td>41.7</td>\n",
       "      <td>5.40</td>\n",
       "      <td>25</td>\n",
       "      <td>0</td>\n",
       "      <td>False</td>\n",
       "    </tr>\n",
       "    <tr>\n",
       "      <th>4</th>\n",
       "      <td>0</td>\n",
       "      <td>0</td>\n",
       "      <td>63</td>\n",
       "      <td>6</td>\n",
       "      <td>62</td>\n",
       "      <td>0</td>\n",
       "      <td>UAE</td>\n",
       "      <td>uae</td>\n",
       "      <td>0</td>\n",
       "      <td>NaN</td>\n",
       "      <td>1</td>\n",
       "      <td>56</td>\n",
       "      <td>1400</td>\n",
       "      <td>5</td>\n",
       "      <td>G1</td>\n",
       "      <td>41</td>\n",
       "      <td>3.50</td>\n",
       "      <td>25</td>\n",
       "      <td>0</td>\n",
       "      <td>False</td>\n",
       "    </tr>\n",
       "    <tr>\n",
       "      <th>5</th>\n",
       "      <td>0</td>\n",
       "      <td>0</td>\n",
       "      <td>63</td>\n",
       "      <td>NaN</td>\n",
       "      <td>62</td>\n",
       "      <td>0</td>\n",
       "      <td>UAE</td>\n",
       "      <td>uae</td>\n",
       "      <td>0</td>\n",
       "      <td>NaN</td>\n",
       "      <td>1</td>\n",
       "      <td>56</td>\n",
       "      <td>1400</td>\n",
       "      <td>5</td>\n",
       "      <td>G1</td>\n",
       "      <td>41</td>\n",
       "      <td>3.50</td>\n",
       "      <td>12</td>\n",
       "      <td>6</td>\n",
       "      <td>False</td>\n",
       "    </tr>\n",
       "    <tr>\n",
       "      <th>8</th>\n",
       "      <td>0</td>\n",
       "      <td>0</td>\n",
       "      <td>30</td>\n",
       "      <td>24</td>\n",
       "      <td>29</td>\n",
       "      <td>8</td>\n",
       "      <td>UAE with PVA</td>\n",
       "      <td>uae</td>\n",
       "      <td>0</td>\n",
       "      <td>NaN</td>\n",
       "      <td>1</td>\n",
       "      <td>21</td>\n",
       "      <td>1529</td>\n",
       "      <td>0</td>\n",
       "      <td>G1</td>\n",
       "      <td>40.3</td>\n",
       "      <td>5.10</td>\n",
       "      <td>25</td>\n",
       "      <td>0</td>\n",
       "      <td>False</td>\n",
       "    </tr>\n",
       "    <tr>\n",
       "      <th>9</th>\n",
       "      <td>0</td>\n",
       "      <td>0</td>\n",
       "      <td>30</td>\n",
       "      <td>24</td>\n",
       "      <td>27</td>\n",
       "      <td>1</td>\n",
       "      <td>UAE with TAG microspheres</td>\n",
       "      <td>uae</td>\n",
       "      <td>0</td>\n",
       "      <td>NaN</td>\n",
       "      <td>0</td>\n",
       "      <td>26</td>\n",
       "      <td>1529</td>\n",
       "      <td>0</td>\n",
       "      <td>G2</td>\n",
       "      <td>42.7</td>\n",
       "      <td>5.15</td>\n",
       "      <td>25</td>\n",
       "      <td>0</td>\n",
       "      <td>False</td>\n",
       "    </tr>\n",
       "    <tr>\n",
       "      <th>16</th>\n",
       "      <td>0</td>\n",
       "      <td>0</td>\n",
       "      <td>26</td>\n",
       "      <td>2</td>\n",
       "      <td>26</td>\n",
       "      <td>0</td>\n",
       "      <td>UAE plus TAG</td>\n",
       "      <td>uae</td>\n",
       "      <td>0</td>\n",
       "      <td>NaN</td>\n",
       "      <td>0</td>\n",
       "      <td>26</td>\n",
       "      <td>2967</td>\n",
       "      <td>0</td>\n",
       "      <td>G2</td>\n",
       "      <td>44.9</td>\n",
       "      <td>NaN</td>\n",
       "      <td>25</td>\n",
       "      <td>0</td>\n",
       "      <td>False</td>\n",
       "    </tr>\n",
       "    <tr>\n",
       "      <th>17</th>\n",
       "      <td>0</td>\n",
       "      <td>0</td>\n",
       "      <td>27</td>\n",
       "      <td>2</td>\n",
       "      <td>27</td>\n",
       "      <td>1</td>\n",
       "      <td>UAE plus PVA</td>\n",
       "      <td>uae</td>\n",
       "      <td>0</td>\n",
       "      <td>NaN</td>\n",
       "      <td>0</td>\n",
       "      <td>26</td>\n",
       "      <td>2967</td>\n",
       "      <td>0</td>\n",
       "      <td>G1</td>\n",
       "      <td>45</td>\n",
       "      <td>NaN</td>\n",
       "      <td>25</td>\n",
       "      <td>0</td>\n",
       "      <td>False</td>\n",
       "    </tr>\n",
       "    <tr>\n",
       "      <th>18</th>\n",
       "      <td>0</td>\n",
       "      <td>0</td>\n",
       "      <td>29</td>\n",
       "      <td>6</td>\n",
       "      <td>29</td>\n",
       "      <td>1</td>\n",
       "      <td>UAE</td>\n",
       "      <td>uae</td>\n",
       "      <td>1</td>\n",
       "      <td>NaN</td>\n",
       "      <td>0</td>\n",
       "      <td>27</td>\n",
       "      <td>3382</td>\n",
       "      <td>0</td>\n",
       "      <td>G1</td>\n",
       "      <td>42.5</td>\n",
       "      <td>4.30</td>\n",
       "      <td>25</td>\n",
       "      <td>0</td>\n",
       "      <td>False</td>\n",
       "    </tr>\n",
       "    <tr>\n",
       "      <th>19</th>\n",
       "      <td>0</td>\n",
       "      <td>0</td>\n",
       "      <td>29</td>\n",
       "      <td>6</td>\n",
       "      <td>29</td>\n",
       "      <td>1</td>\n",
       "      <td>LUAO</td>\n",
       "      <td>uae</td>\n",
       "      <td>0</td>\n",
       "      <td>NaN</td>\n",
       "      <td>3</td>\n",
       "      <td>23</td>\n",
       "      <td>3382</td>\n",
       "      <td>2</td>\n",
       "      <td>G2</td>\n",
       "      <td>43.3</td>\n",
       "      <td>5.20</td>\n",
       "      <td>25</td>\n",
       "      <td>0</td>\n",
       "      <td>False</td>\n",
       "    </tr>\n",
       "    <tr>\n",
       "      <th>22</th>\n",
       "      <td>0</td>\n",
       "      <td>0</td>\n",
       "      <td>17</td>\n",
       "      <td>12</td>\n",
       "      <td>17</td>\n",
       "      <td>0</td>\n",
       "      <td>UAE with SPA</td>\n",
       "      <td>uae</td>\n",
       "      <td>0</td>\n",
       "      <td>NaN</td>\n",
       "      <td>0</td>\n",
       "      <td>15</td>\n",
       "      <td>3785</td>\n",
       "      <td>2</td>\n",
       "      <td>G1</td>\n",
       "      <td>45.9</td>\n",
       "      <td>4.40</td>\n",
       "      <td>25</td>\n",
       "      <td>0</td>\n",
       "      <td>False</td>\n",
       "    </tr>\n",
       "    <tr>\n",
       "      <th>23</th>\n",
       "      <td>0</td>\n",
       "      <td>0</td>\n",
       "      <td>19</td>\n",
       "      <td>12</td>\n",
       "      <td>19</td>\n",
       "      <td>0</td>\n",
       "      <td>UAE with TAG microspheres</td>\n",
       "      <td>uae</td>\n",
       "      <td>0</td>\n",
       "      <td>NaN</td>\n",
       "      <td>0</td>\n",
       "      <td>17</td>\n",
       "      <td>3785</td>\n",
       "      <td>0</td>\n",
       "      <td>G2</td>\n",
       "      <td>44.9</td>\n",
       "      <td>6.20</td>\n",
       "      <td>25</td>\n",
       "      <td>0</td>\n",
       "      <td>False</td>\n",
       "    </tr>\n",
       "    <tr>\n",
       "      <th>27</th>\n",
       "      <td>0</td>\n",
       "      <td>0</td>\n",
       "      <td>43</td>\n",
       "      <td>1</td>\n",
       "      <td>42</td>\n",
       "      <td>0</td>\n",
       "      <td>LBCUV</td>\n",
       "      <td>uae</td>\n",
       "      <td>0</td>\n",
       "      <td>NaN</td>\n",
       "      <td>0</td>\n",
       "      <td>42</td>\n",
       "      <td>5186</td>\n",
       "      <td>0</td>\n",
       "      <td>G2</td>\n",
       "      <td>43.1</td>\n",
       "      <td>5.10</td>\n",
       "      <td>25</td>\n",
       "      <td>0</td>\n",
       "      <td>False</td>\n",
       "    </tr>\n",
       "    <tr>\n",
       "      <th>28</th>\n",
       "      <td>0</td>\n",
       "      <td>0</td>\n",
       "      <td>43</td>\n",
       "      <td>3</td>\n",
       "      <td>42</td>\n",
       "      <td>0</td>\n",
       "      <td>LBCUV</td>\n",
       "      <td>uae</td>\n",
       "      <td>0</td>\n",
       "      <td>NaN</td>\n",
       "      <td>0</td>\n",
       "      <td>42</td>\n",
       "      <td>5186</td>\n",
       "      <td>0</td>\n",
       "      <td>G2</td>\n",
       "      <td>43.1</td>\n",
       "      <td>5.10</td>\n",
       "      <td>25</td>\n",
       "      <td>0</td>\n",
       "      <td>False</td>\n",
       "    </tr>\n",
       "    <tr>\n",
       "      <th>29</th>\n",
       "      <td>0</td>\n",
       "      <td>0</td>\n",
       "      <td>43</td>\n",
       "      <td>6</td>\n",
       "      <td>42</td>\n",
       "      <td>0</td>\n",
       "      <td>LBCUV</td>\n",
       "      <td>uae</td>\n",
       "      <td>0</td>\n",
       "      <td>NaN</td>\n",
       "      <td>0</td>\n",
       "      <td>42</td>\n",
       "      <td>5186</td>\n",
       "      <td>0</td>\n",
       "      <td>G2</td>\n",
       "      <td>43.1</td>\n",
       "      <td>5.10</td>\n",
       "      <td>25</td>\n",
       "      <td>0</td>\n",
       "      <td>False</td>\n",
       "    </tr>\n",
       "    <tr>\n",
       "      <th>44</th>\n",
       "      <td>0</td>\n",
       "      <td>0</td>\n",
       "      <td>12</td>\n",
       "      <td>12</td>\n",
       "      <td>12</td>\n",
       "      <td>0</td>\n",
       "      <td>UAE plus goserelin acetate depot</td>\n",
       "      <td>uae</td>\n",
       "      <td>0</td>\n",
       "      <td>NaN</td>\n",
       "      <td>0</td>\n",
       "      <td>12</td>\n",
       "      <td>3674</td>\n",
       "      <td>0</td>\n",
       "      <td>G1</td>\n",
       "      <td>37.7</td>\n",
       "      <td>5.70</td>\n",
       "      <td>25</td>\n",
       "      <td>0</td>\n",
       "      <td>False</td>\n",
       "    </tr>\n",
       "    <tr>\n",
       "      <th>45</th>\n",
       "      <td>0</td>\n",
       "      <td>0</td>\n",
       "      <td>10</td>\n",
       "      <td>12</td>\n",
       "      <td>10</td>\n",
       "      <td>0</td>\n",
       "      <td>UAE only</td>\n",
       "      <td>uae</td>\n",
       "      <td>0</td>\n",
       "      <td>NaN</td>\n",
       "      <td>0</td>\n",
       "      <td>10</td>\n",
       "      <td>3674</td>\n",
       "      <td>0</td>\n",
       "      <td>G2</td>\n",
       "      <td>43</td>\n",
       "      <td>4.80</td>\n",
       "      <td>25</td>\n",
       "      <td>0</td>\n",
       "      <td>False</td>\n",
       "    </tr>\n",
       "    <tr>\n",
       "      <th>126</th>\n",
       "      <td>0</td>\n",
       "      <td>0</td>\n",
       "      <td>58</td>\n",
       "      <td>24</td>\n",
       "      <td>58</td>\n",
       "      <td>0</td>\n",
       "      <td>UAE</td>\n",
       "      <td>uae</td>\n",
       "      <td>0</td>\n",
       "      <td>NaN</td>\n",
       "      <td>19</td>\n",
       "      <td>39</td>\n",
       "      <td>3803</td>\n",
       "      <td>0</td>\n",
       "      <td>G1</td>\n",
       "      <td>32.3</td>\n",
       "      <td>NaN</td>\n",
       "      <td>25</td>\n",
       "      <td>0</td>\n",
       "      <td>False</td>\n",
       "    </tr>\n",
       "    <tr>\n",
       "      <th>128</th>\n",
       "      <td>0</td>\n",
       "      <td>0</td>\n",
       "      <td>82</td>\n",
       "      <td>7</td>\n",
       "      <td>63</td>\n",
       "      <td>0</td>\n",
       "      <td>UAE</td>\n",
       "      <td>uae</td>\n",
       "      <td>0</td>\n",
       "      <td>NaN</td>\n",
       "      <td>0</td>\n",
       "      <td>63</td>\n",
       "      <td>1546</td>\n",
       "      <td>0</td>\n",
       "      <td>G1</td>\n",
       "      <td>43.2</td>\n",
       "      <td>5.30</td>\n",
       "      <td>25</td>\n",
       "      <td>0</td>\n",
       "      <td>False</td>\n",
       "    </tr>\n",
       "    <tr>\n",
       "      <th>129</th>\n",
       "      <td>0</td>\n",
       "      <td>0</td>\n",
       "      <td>82</td>\n",
       "      <td>NaN</td>\n",
       "      <td>63</td>\n",
       "      <td>6</td>\n",
       "      <td>UAE</td>\n",
       "      <td>uae</td>\n",
       "      <td>0</td>\n",
       "      <td>NaN</td>\n",
       "      <td>2</td>\n",
       "      <td>54</td>\n",
       "      <td>1546</td>\n",
       "      <td>1</td>\n",
       "      <td>G1</td>\n",
       "      <td>43.2</td>\n",
       "      <td>5.30</td>\n",
       "      <td>24</td>\n",
       "      <td>12</td>\n",
       "      <td>False</td>\n",
       "    </tr>\n",
       "    <tr>\n",
       "      <th>132</th>\n",
       "      <td>0</td>\n",
       "      <td>0</td>\n",
       "      <td>106</td>\n",
       "      <td>12</td>\n",
       "      <td>95</td>\n",
       "      <td>5</td>\n",
       "      <td>UAE</td>\n",
       "      <td>uae</td>\n",
       "      <td>0</td>\n",
       "      <td>NaN</td>\n",
       "      <td>0</td>\n",
       "      <td>86</td>\n",
       "      <td>3365</td>\n",
       "      <td>4</td>\n",
       "      <td>G1</td>\n",
       "      <td>43.6</td>\n",
       "      <td>5.50</td>\n",
       "      <td>25</td>\n",
       "      <td>0</td>\n",
       "      <td>False</td>\n",
       "    </tr>\n",
       "    <tr>\n",
       "      <th>133</th>\n",
       "      <td>0</td>\n",
       "      <td>1</td>\n",
       "      <td>106</td>\n",
       "      <td>NaN</td>\n",
       "      <td>96</td>\n",
       "      <td>13</td>\n",
       "      <td>UAE</td>\n",
       "      <td>uae</td>\n",
       "      <td>0</td>\n",
       "      <td>NaN</td>\n",
       "      <td>0</td>\n",
       "      <td>78</td>\n",
       "      <td>3365</td>\n",
       "      <td>4</td>\n",
       "      <td>G1</td>\n",
       "      <td>43.6</td>\n",
       "      <td>5.50</td>\n",
       "      <td>60</td>\n",
       "      <td>12</td>\n",
       "      <td>False</td>\n",
       "    </tr>\n",
       "    <tr>\n",
       "      <th>134</th>\n",
       "      <td>0</td>\n",
       "      <td>1</td>\n",
       "      <td>106</td>\n",
       "      <td>NaN</td>\n",
       "      <td>96</td>\n",
       "      <td>18</td>\n",
       "      <td>UAE</td>\n",
       "      <td>uae</td>\n",
       "      <td>0</td>\n",
       "      <td>NaN</td>\n",
       "      <td>0</td>\n",
       "      <td>69</td>\n",
       "      <td>3365</td>\n",
       "      <td>8</td>\n",
       "      <td>G1</td>\n",
       "      <td>43.6</td>\n",
       "      <td>5.50</td>\n",
       "      <td>60</td>\n",
       "      <td>0</td>\n",
       "      <td>False</td>\n",
       "    </tr>\n",
       "    <tr>\n",
       "      <th>138</th>\n",
       "      <td>0</td>\n",
       "      <td>0</td>\n",
       "      <td>88</td>\n",
       "      <td>6</td>\n",
       "      <td>79</td>\n",
       "      <td>6</td>\n",
       "      <td>UAE</td>\n",
       "      <td>uae</td>\n",
       "      <td>0</td>\n",
       "      <td>NaN</td>\n",
       "      <td>0</td>\n",
       "      <td>73</td>\n",
       "      <td>3819</td>\n",
       "      <td>0</td>\n",
       "      <td>G1</td>\n",
       "      <td>44.6</td>\n",
       "      <td>4.80</td>\n",
       "      <td>25</td>\n",
       "      <td>0</td>\n",
       "      <td>False</td>\n",
       "    </tr>\n",
       "    <tr>\n",
       "      <th>139</th>\n",
       "      <td>0</td>\n",
       "      <td>0</td>\n",
       "      <td>88</td>\n",
       "      <td>12</td>\n",
       "      <td>78</td>\n",
       "      <td>4</td>\n",
       "      <td>UAE</td>\n",
       "      <td>uae</td>\n",
       "      <td>0</td>\n",
       "      <td>NaN</td>\n",
       "      <td>0</td>\n",
       "      <td>74</td>\n",
       "      <td>3819</td>\n",
       "      <td>0</td>\n",
       "      <td>G1</td>\n",
       "      <td>44.6</td>\n",
       "      <td>4.80</td>\n",
       "      <td>25</td>\n",
       "      <td>0</td>\n",
       "      <td>False</td>\n",
       "    </tr>\n",
       "    <tr>\n",
       "      <th>140</th>\n",
       "      <td>0</td>\n",
       "      <td>0</td>\n",
       "      <td>88</td>\n",
       "      <td>24</td>\n",
       "      <td>81</td>\n",
       "      <td>9</td>\n",
       "      <td>UAE</td>\n",
       "      <td>uae</td>\n",
       "      <td>0</td>\n",
       "      <td>NaN</td>\n",
       "      <td>1</td>\n",
       "      <td>71</td>\n",
       "      <td>3819</td>\n",
       "      <td>0</td>\n",
       "      <td>G1</td>\n",
       "      <td>44.6</td>\n",
       "      <td>4.80</td>\n",
       "      <td>25</td>\n",
       "      <td>0</td>\n",
       "      <td>False</td>\n",
       "    </tr>\n",
       "    <tr>\n",
       "      <th>141</th>\n",
       "      <td>0</td>\n",
       "      <td>1</td>\n",
       "      <td>88</td>\n",
       "      <td>NaN</td>\n",
       "      <td>75</td>\n",
       "      <td>4</td>\n",
       "      <td>UAE</td>\n",
       "      <td>uae</td>\n",
       "      <td>0</td>\n",
       "      <td>NaN</td>\n",
       "      <td>1</td>\n",
       "      <td>69</td>\n",
       "      <td>3819</td>\n",
       "      <td>0</td>\n",
       "      <td>G1</td>\n",
       "      <td>44.6</td>\n",
       "      <td>4.80</td>\n",
       "      <td>60</td>\n",
       "      <td>25</td>\n",
       "      <td>False</td>\n",
       "    </tr>\n",
       "    <tr>\n",
       "      <th>142</th>\n",
       "      <td>0</td>\n",
       "      <td>1</td>\n",
       "      <td>88</td>\n",
       "      <td>NaN</td>\n",
       "      <td>75</td>\n",
       "      <td>23</td>\n",
       "      <td>UAE</td>\n",
       "      <td>uae</td>\n",
       "      <td>7</td>\n",
       "      <td>5</td>\n",
       "      <td>2</td>\n",
       "      <td>37</td>\n",
       "      <td>3819</td>\n",
       "      <td>0</td>\n",
       "      <td>G1</td>\n",
       "      <td>44.6</td>\n",
       "      <td>4.80</td>\n",
       "      <td>60</td>\n",
       "      <td>0</td>\n",
       "      <td>False</td>\n",
       "    </tr>\n",
       "    <tr>\n",
       "      <th>148</th>\n",
       "      <td>0</td>\n",
       "      <td>0</td>\n",
       "      <td>38</td>\n",
       "      <td>6</td>\n",
       "      <td>37</td>\n",
       "      <td>2</td>\n",
       "      <td>UAE</td>\n",
       "      <td>uae</td>\n",
       "      <td>0</td>\n",
       "      <td>NaN</td>\n",
       "      <td>0</td>\n",
       "      <td>35</td>\n",
       "      <td>4789</td>\n",
       "      <td>0</td>\n",
       "      <td>G1</td>\n",
       "      <td>46.4</td>\n",
       "      <td>4.40</td>\n",
       "      <td>25</td>\n",
       "      <td>0</td>\n",
       "      <td>True</td>\n",
       "    </tr>\n",
       "    <tr>\n",
       "      <th>150</th>\n",
       "      <td>0</td>\n",
       "      <td>0</td>\n",
       "      <td>27</td>\n",
       "      <td>24</td>\n",
       "      <td>26</td>\n",
       "      <td>3</td>\n",
       "      <td>UAE</td>\n",
       "      <td>uae</td>\n",
       "      <td>1</td>\n",
       "      <td>NaN</td>\n",
       "      <td>1</td>\n",
       "      <td>21</td>\n",
       "      <td>2006</td>\n",
       "      <td>0</td>\n",
       "      <td>G1</td>\n",
       "      <td>48.5</td>\n",
       "      <td>3.60</td>\n",
       "      <td>25</td>\n",
       "      <td>0</td>\n",
       "      <td>True</td>\n",
       "    </tr>\n",
       "  </tbody>\n",
       "</table>\n",
       "</div>"
      ],
      "text/plain": [
       "     MRIgFUS  ablation baseline_n  followup_interval  followup_n  \\\n",
       "2          0         0         30                 12          27   \n",
       "3          0         0         30                 12          29   \n",
       "4          0         0         63                  6          62   \n",
       "5          0         0         63                NaN          62   \n",
       "8          0         0         30                 24          29   \n",
       "9          0         0         30                 24          27   \n",
       "16         0         0         26                  2          26   \n",
       "17         0         0         27                  2          27   \n",
       "18         0         0         29                  6          29   \n",
       "19         0         0         29                  6          29   \n",
       "22         0         0         17                 12          17   \n",
       "23         0         0         19                 12          19   \n",
       "27         0         0         43                  1          42   \n",
       "28         0         0         43                  3          42   \n",
       "29         0         0         43                  6          42   \n",
       "44         0         0         12                 12          12   \n",
       "45         0         0         10                 12          10   \n",
       "126        0         0         58                 24          58   \n",
       "128        0         0         82                  7          63   \n",
       "129        0         0         82                NaN          63   \n",
       "132        0         0        106                 12          95   \n",
       "133        0         1        106                NaN          96   \n",
       "134        0         1        106                NaN          96   \n",
       "138        0         0         88                  6          79   \n",
       "139        0         0         88                 12          78   \n",
       "140        0         0         88                 24          81   \n",
       "141        0         1         88                NaN          75   \n",
       "142        0         1         88                NaN          75   \n",
       "148        0         0         38                  6          37   \n",
       "150        0         0         27                 24          26   \n",
       "\n",
       "     hysterectomy                      intervention intervention_cat  iud  \\\n",
       "2               1                     UAE with SPVA              uae    0   \n",
       "3               0                      UAE with TAG              uae    0   \n",
       "4               0                               UAE              uae    0   \n",
       "5               0                               UAE              uae    0   \n",
       "8               8                      UAE with PVA              uae    0   \n",
       "9               1         UAE with TAG microspheres              uae    0   \n",
       "16              0                      UAE plus TAG              uae    0   \n",
       "17              1                      UAE plus PVA              uae    0   \n",
       "18              1                               UAE              uae    1   \n",
       "19              1                              LUAO              uae    0   \n",
       "22              0                      UAE with SPA              uae    0   \n",
       "23              0         UAE with TAG microspheres              uae    0   \n",
       "27              0                             LBCUV              uae    0   \n",
       "28              0                             LBCUV              uae    0   \n",
       "29              0                             LBCUV              uae    0   \n",
       "44              0  UAE plus goserelin acetate depot              uae    0   \n",
       "45              0                          UAE only              uae    0   \n",
       "126             0                               UAE              uae    0   \n",
       "128             0                               UAE              uae    0   \n",
       "129             6                               UAE              uae    0   \n",
       "132             5                               UAE              uae    0   \n",
       "133            13                               UAE              uae    0   \n",
       "134            18                               UAE              uae    0   \n",
       "138             6                               UAE              uae    0   \n",
       "139             4                               UAE              uae    0   \n",
       "140             9                               UAE              uae    0   \n",
       "141             4                               UAE              uae    0   \n",
       "142            23                               UAE              uae    7   \n",
       "148             2                               UAE              uae    0   \n",
       "150             3                               UAE              uae    1   \n",
       "\n",
       "     medication  myomectomy  no_treatment  study_id  uae arm BL Mean  BL SD  \\\n",
       "2           NaN           0            26       347    0  G1    43.9   5.00   \n",
       "3           NaN           0            29       347    0  G2    41.7   5.40   \n",
       "4           NaN           1            56      1400    5  G1      41   3.50   \n",
       "5           NaN           1            56      1400    5  G1      41   3.50   \n",
       "8           NaN           1            21      1529    0  G1    40.3   5.10   \n",
       "9           NaN           0            26      1529    0  G2    42.7   5.15   \n",
       "16          NaN           0            26      2967    0  G2    44.9    NaN   \n",
       "17          NaN           0            26      2967    0  G1      45    NaN   \n",
       "18          NaN           0            27      3382    0  G1    42.5   4.30   \n",
       "19          NaN           3            23      3382    2  G2    43.3   5.20   \n",
       "22          NaN           0            15      3785    2  G1    45.9   4.40   \n",
       "23          NaN           0            17      3785    0  G2    44.9   6.20   \n",
       "27          NaN           0            42      5186    0  G2    43.1   5.10   \n",
       "28          NaN           0            42      5186    0  G2    43.1   5.10   \n",
       "29          NaN           0            42      5186    0  G2    43.1   5.10   \n",
       "44          NaN           0            12      3674    0  G1    37.7   5.70   \n",
       "45          NaN           0            10      3674    0  G2      43   4.80   \n",
       "126         NaN          19            39      3803    0  G1    32.3    NaN   \n",
       "128         NaN           0            63      1546    0  G1    43.2   5.30   \n",
       "129         NaN           2            54      1546    1  G1    43.2   5.30   \n",
       "132         NaN           0            86      3365    4  G1    43.6   5.50   \n",
       "133         NaN           0            78      3365    4  G1    43.6   5.50   \n",
       "134         NaN           0            69      3365    8  G1    43.6   5.50   \n",
       "138         NaN           0            73      3819    0  G1    44.6   4.80   \n",
       "139         NaN           0            74      3819    0  G1    44.6   4.80   \n",
       "140         NaN           1            71      3819    0  G1    44.6   4.80   \n",
       "141         NaN           1            69      3819    0  G1    44.6   4.80   \n",
       "142           5           2            37      3819    0  G1    44.6   4.80   \n",
       "148         NaN           0            35      4789    0  G1    46.4   4.40   \n",
       "150         NaN           1            21      2006    0  G1    48.5   3.60   \n",
       "\n",
       "     fup_max  fup_min crossover_study  \n",
       "2         25        0           False  \n",
       "3         25        0           False  \n",
       "4         25        0           False  \n",
       "5         12        6           False  \n",
       "8         25        0           False  \n",
       "9         25        0           False  \n",
       "16        25        0           False  \n",
       "17        25        0           False  \n",
       "18        25        0           False  \n",
       "19        25        0           False  \n",
       "22        25        0           False  \n",
       "23        25        0           False  \n",
       "27        25        0           False  \n",
       "28        25        0           False  \n",
       "29        25        0           False  \n",
       "44        25        0           False  \n",
       "45        25        0           False  \n",
       "126       25        0           False  \n",
       "128       25        0           False  \n",
       "129       24       12           False  \n",
       "132       25        0           False  \n",
       "133       60       12           False  \n",
       "134       60        0           False  \n",
       "138       25        0           False  \n",
       "139       25        0           False  \n",
       "140       25        0           False  \n",
       "141       60       25           False  \n",
       "142       60        0           False  \n",
       "148       25        0            True  \n",
       "150       25        0            True  "
      ]
     },
     "execution_count": 114,
     "metadata": {},
     "output_type": "execute_result"
    }
   ],
   "source": [
    "dataset[(dataset.intervention_cat=='uae')\n",
    "                            & ~dataset[outcome_cats].isnull().sum(axis=1).astype(bool)].copy()"
   ]
  },
  {
   "cell_type": "markdown",
   "metadata": {},
   "source": [
    "## Model Specification"
   ]
  },
  {
   "cell_type": "code",
   "execution_count": 33,
   "metadata": {
    "collapsed": true
   },
   "outputs": [],
   "source": [
    "def append(tensor, value):\n",
    "    return T.concatenate([tensor, T.stack([value], axis=0)])"
   ]
  },
  {
   "cell_type": "code",
   "execution_count": 77,
   "metadata": {
    "collapsed": true
   },
   "outputs": [],
   "source": [
    "intervention_data = dataset[(dataset.intervention_cat=='uae')\n",
    "                            & ~dataset[outcome_cats].isnull().sum(axis=1).astype(bool)]"
   ]
  },
  {
   "cell_type": "code",
   "execution_count": 121,
   "metadata": {
    "collapsed": false
   },
   "outputs": [],
   "source": [
    "import theano.tensor as T\n",
    "from numpy.ma import masked_values\n",
    "\n",
    "def specify_model(model, intervention):\n",
    "    \n",
    "    intervention_data = dataset[(dataset.intervention_cat==intervention)\n",
    "                            & ~dataset[outcome_cats].isnull().sum(axis=1).astype(bool)].copy()\n",
    "    \n",
    "    intervention_data.loc[intervention_data['followup_interval'].isnull(), 'followup_interval'] = 17.33\n",
    "    followup_masked = masked_values(intervention_data.followup_interval.values, 17.33)\n",
    "    followup_min, followup_max = intervention_data[['fup_min', 'fup_max']].values.T\n",
    "\n",
    "    outcomes = intervention_data[outcome_cats].values\n",
    "    \n",
    "    if np.isnan(outcomes).any():\n",
    "        print('Missing values in outcomes for', intervention)\n",
    "\n",
    "    followup_n = intervention_data.followup_n.values\n",
    "\n",
    "    # Center age at 40\n",
    "    intervention_data.loc[intervention_data['BL Mean'].isnull(), 'BL Mean'] = 90\n",
    "    age_masked = masked_values(intervention_data['BL Mean'].values - 40, 50)\n",
    "    \n",
    "    studies = intervention_data.study_id.unique()\n",
    "    study_index = np.array([np.argwhere(studies==i).squeeze() for i in intervention_data.study_id])\n",
    "\n",
    "    study_id = intervention_data.study_id.values\n",
    "    \n",
    "    n_studies = len(set(study_id))\n",
    "\n",
    "    n_outcomes = 7\n",
    "    arms = len(outcomes)\n",
    "\n",
    "    with model:\n",
    "\n",
    "        # Impute followup times uniformly over the observed range\n",
    "        if np.any(followup_masked.mask):\n",
    "            followup_time = pm.Uniform('followup_time', followup_min.min(), followup_max.max(), \n",
    "                                       shape=len(followup_min), \n",
    "                                       observed=followup_masked)\n",
    "        else:\n",
    "            followup_time = followup_masked.data.astype(float)\n",
    "        \n",
    "        # Impute age using a T-distribution\n",
    "        if np.any(age_masked.mask):\n",
    "            nu = pm.Exponential('nu', 0.01, testval=10)\n",
    "            age_centered = pm.StudentT('age_centered', nu, shape=len(age_masked), observed=age_masked)\n",
    "        else:\n",
    "            age_centered = age_masked.data.astype(float)\n",
    "        \n",
    "        # Mean probabilities (on log scale)\n",
    "        μ = pm.Normal('μ', np.ones(n_outcomes), sd=1000, shape=n_outcomes)\n",
    "        # Followup time covariates \n",
    "        σ_fup = pm.Exponential('σ_fup', 0.1)\n",
    "        μ_fup = pm.Normal('μ_fup', 0, sd=10)\n",
    "        θ_fup = pm.Normal('θ_fup', μ_fup, sd=σ_fup, shape=n_outcomes-1)\n",
    "        # Append a zero for no treatmnet\n",
    "        β_fup = append(θ_fup, 0)\n",
    "        # Age covariate\n",
    "        σ_age = pm.Exponential('σ_age', 0.1)\n",
    "        μ_age = pm.Normal('μ_age', 0, sd=10)\n",
    "        θ_age = pm.Normal('θ_age', μ_age, sd=σ_age, shape=n_outcomes-1)\n",
    "        # Append a zero for no treatment\n",
    "        β_age = append(θ_age, 0)\n",
    "\n",
    "        # Study random effect\n",
    "        η = pm.Normal('η', 0, 1, shape=n_studies)\n",
    "        σ = pm.HalfCauchy('σ', 5)\n",
    "        ϵ = η*σ\n",
    "\n",
    "        # Poisson rate\n",
    "        λ = [T.exp(μ + β_fup*followup_time[i] + β_age*age_centered[i] + ϵ[study_index[i]]) \n",
    "                         for i in range(arms)]\n",
    "\n",
    "        # Multinomial data likelihood\n",
    "        likelihood = [pm.Poisson('likelihood_%i' % i, λ[i]*followup_n[i], observed=outcomes[i]) for i in range(arms)]\n",
    "        \n",
    "        \n",
    "        '''\n",
    "        Scenario predictions\n",
    "        '''\n",
    "        \n",
    "        # 40-years old, 6-month followup\n",
    "        p_6_40 = pm.Deterministic('p_6_40', T.exp(μ + β_fup*6)/T.exp(μ + β_fup*6).sum())\n",
    "        # 40-years old, 12-month followup\n",
    "        p_12_40 = pm.Deterministic('p_12_40', T.exp(μ + β_fup*12)/T.exp(μ + β_fup*12).sum())\n",
    "        # 40-years old, 24-month followup\n",
    "        p_24_40 = pm.Deterministic('p_24_40', T.exp(μ + β_fup*24)/T.exp(μ + β_fup*24).sum())\n",
    "        # 50-years old, 6-month followup\n",
    "        p_6_50 = pm.Deterministic('p_6_50', \n",
    "                          T.exp(μ + β_fup*6 + β_age*10)/T.exp(μ + β_fup*6 + β_age*10).sum())\n",
    "        # 50-years old, 12-month followup\n",
    "        p_12_50 = pm.Deterministic('p_12_50', \n",
    "                          T.exp(μ + β_fup*12 + β_age*10)/T.exp(μ + β_fup*12 + β_age*10).sum())\n",
    "        # 50-years old, 6-month followup\n",
    "        p_6_30 = pm.Deterministic('p_6_30', \n",
    "                          T.exp(μ + β_fup*6 + β_age*(-10))/T.exp(μ + β_fup*6 + β_age*(-10)).sum())\n",
    "        # 50-years old, 24-month followup\n",
    "        p_24_50 = pm.Deterministic('p_24_50', \n",
    "                          T.exp(μ + β_fup*24 + β_age*10)/T.exp(μ + β_fup*24 + β_age*10).sum())\n",
    "        # 50-years old, 24-month followup\n",
    "        p_24_30 = pm.Deterministic('p_24_30', \n",
    "                          T.exp(μ + β_fup*24 + β_age*(-10))/T.exp(μ + β_fup*24 + β_age*(-10)).sum())\n",
    "        # 30-years old, 12-month followup\n",
    "        p_12_30 = pm.Deterministic('p_12_30', \n",
    "                          T.exp(μ + β_fup*12 + β_age*-10)/T.exp(μ + β_fup*12 + β_age*-10).sum())\n",
    "        \n",
    "      \n",
    "    return model"
   ]
  },
  {
   "cell_type": "markdown",
   "metadata": {},
   "source": [
    "## Model Execution"
   ]
  },
  {
   "cell_type": "code",
   "execution_count": 122,
   "metadata": {
    "collapsed": true
   },
   "outputs": [],
   "source": [
    "\n",
    "\n",
    "use_NUTS = False\n",
    "\n",
    "\n",
    "if use_NUTS:\n",
    "    n_iterations, n_burn = 5000, 1000\n",
    "    \n",
    "else:\n",
    "    n_iterations, n_burn = 100000, 90000\n",
    "   "
   ]
  },
  {
   "cell_type": "markdown",
   "metadata": {},
   "source": [
    "### UAE Model"
   ]
  },
  {
   "cell_type": "code",
   "execution_count": 123,
   "metadata": {
    "collapsed": false,
    "scrolled": false
   },
   "outputs": [
    {
     "name": "stdout",
     "output_type": "stream",
     "text": [
      "Applied log-transform to σ_fup and added transformed σ_fup_log_ to model.\n",
      "Applied log-transform to σ_age and added transformed σ_age_log_ to model.\n",
      "Applied log-transform to σ and added transformed σ_log_ to model.\n"
     ]
    }
   ],
   "source": [
    "uae_model = specify_model(pm.Model(), 'uae')"
   ]
  },
  {
   "cell_type": "code",
   "execution_count": 124,
   "metadata": {
    "collapsed": false
   },
   "outputs": [
    {
     "name": "stdout",
     "output_type": "stream",
     "text": [
      " [-----------------100%-----------------] 100000 of 100000 complete in 239.6 sec"
     ]
    }
   ],
   "source": [
    "with uae_model:\n",
    "        \n",
    "    if use_NUTS:\n",
    "        start = pm.find_MAP()\n",
    "        trace_uae = pm.sample(n_iterations, start=start, random_seed=20140925)\n",
    "    else:\n",
    "        trace_uae = pm.sample(n_iterations, step=pm.Metropolis(), \n",
    "                          random_seed=20140925)"
   ]
  },
  {
   "cell_type": "markdown",
   "metadata": {},
   "source": [
    "Imputed follow-up times"
   ]
  },
  {
   "cell_type": "code",
   "execution_count": 125,
   "metadata": {
    "collapsed": false
   },
   "outputs": [
    {
     "data": {
      "text/plain": [
       "<matplotlib.gridspec.GridSpec at 0x7f50abfd4128>"
      ]
     },
     "execution_count": 125,
     "metadata": {},
     "output_type": "execute_result"
    },
    {
     "data": {
      "image/png": "[encoded data removed]",
      "text/plain": [
       "<matplotlib.figure.Figure at 0x7f50abfd47f0>"
      ]
     },
     "metadata": {},
     "output_type": "display_data"
    }
   ],
   "source": [
    "pm.forestplot(trace_uae[n_burn:], varnames=['followup_time_missing'])"
   ]
  },
  {
   "cell_type": "markdown",
   "metadata": {},
   "source": [
    "Baseline estimates for each outcome, on the log scale."
   ]
  },
  {
   "cell_type": "code",
   "execution_count": 126,
   "metadata": {
    "collapsed": false,
    "scrolled": false
   },
   "outputs": [
    {
     "data": {
      "text/plain": [
       "<matplotlib.gridspec.GridSpec at 0x7f50b2d61160>"
      ]
     },
     "execution_count": 126,
     "metadata": {},
     "output_type": "execute_result"
    },
    {
     "data": {
      "image/png": "[encoded data removed]",
      "text/plain": [
       "<matplotlib.figure.Figure at 0x7f50b2d61400>"
      ]
     },
     "metadata": {},
     "output_type": "display_data"
    }
   ],
   "source": [
    "pm.forestplot(trace_uae[n_burn:], varnames=['μ'], ylabels=outcome_cats)"
   ]
  },
  {
   "cell_type": "code",
   "execution_count": 127,
   "metadata": {
    "collapsed": false
   },
   "outputs": [
    {
     "data": {
      "text/plain": [
       "array([[<matplotlib.axes._subplots.AxesSubplot object at 0x7f50c629bd68>,\n",
       "        <matplotlib.axes._subplots.AxesSubplot object at 0x7f50a9cb8b70>]], dtype=object)"
      ]
     },
     "execution_count": 127,
     "metadata": {},
     "output_type": "execute_result"
    },
    {
     "data": {
      "image/png": "[encoded data removed]",
      "text/plain": [
       "<matplotlib.figure.Figure at 0x7f50b9eac240>"
      ]
     },
     "metadata": {},
     "output_type": "display_data"
    }
   ],
   "source": [
    "pm.traceplot(trace_uae[n_burn:], varnames=['μ'])"
   ]
  },
  {
   "cell_type": "markdown",
   "metadata": {},
   "source": [
    "Follow-up time effect size estimates. Positive values indicate higher probability of event with increased follow-up time."
   ]
  },
  {
   "cell_type": "code",
   "execution_count": 128,
   "metadata": {
    "collapsed": false
   },
   "outputs": [
    {
     "data": {
      "text/plain": [
       "<matplotlib.gridspec.GridSpec at 0x7f50ba3e9780>"
      ]
     },
     "execution_count": 128,
     "metadata": {},
     "output_type": "execute_result"
    },
    {
     "data": {
      "image/png": "[encoded data removed]",
      "text/plain": [
       "<matplotlib.figure.Figure at 0x7f50ba3e9e10>"
      ]
     },
     "metadata": {},
     "output_type": "display_data"
    }
   ],
   "source": [
    "pm.forestplot(trace_uae[n_burn:], varnames=['θ_fup'], ylabels=outcome_cats[:-1])"
   ]
  },
  {
   "cell_type": "code",
   "execution_count": 129,
   "metadata": {
    "collapsed": false
   },
   "outputs": [
    {
     "data": {
      "text/plain": [
       "array([[<matplotlib.axes._subplots.AxesSubplot object at 0x7f50a95d2f98>,\n",
       "        <matplotlib.axes._subplots.AxesSubplot object at 0x7f50c2257ac8>]], dtype=object)"
      ]
     },
     "execution_count": 129,
     "metadata": {},
     "output_type": "execute_result"
    },
    {
     "data": {
      "image/png": "[encoded data removed]",
      "text/plain": [
       "<matplotlib.figure.Figure at 0x7f50a41c69b0>"
      ]
     },
     "metadata": {},
     "output_type": "display_data"
    }
   ],
   "source": [
    "pm.traceplot(trace_uae[n_burn:], varnames=['θ_fup'])"
   ]
  },
  {
   "cell_type": "markdown",
   "metadata": {},
   "source": [
    "Age effect size estimates. Positive values suggest higher probability of event with each year above age 40."
   ]
  },
  {
   "cell_type": "code",
   "execution_count": 130,
   "metadata": {
    "collapsed": false
   },
   "outputs": [
    {
     "data": {
      "text/plain": [
       "<matplotlib.gridspec.GridSpec at 0x7f50c7016be0>"
      ]
     },
     "execution_count": 130,
     "metadata": {},
     "output_type": "execute_result"
    },
    {
     "data": {
      "image/png": "[encoded data removed]",
      "text/plain": [
       "<matplotlib.figure.Figure at 0x7f50a1fcb5f8>"
      ]
     },
     "metadata": {},
     "output_type": "display_data"
    }
   ],
   "source": [
    "pm.forestplot(trace_uae[n_burn:], varnames=['θ_age'], ylabels=outcome_cats[:-1])"
   ]
  },
  {
   "cell_type": "markdown",
   "metadata": {},
   "source": [
    "Estimated probabilities of follow-up interventions for 6-month followup and age 40."
   ]
  },
  {
   "cell_type": "code",
   "execution_count": 131,
   "metadata": {
    "collapsed": false
   },
   "outputs": [
    {
     "data": {
      "text/plain": [
       "<matplotlib.gridspec.GridSpec at 0x7f50c7026198>"
      ]
     },
     "execution_count": 131,
     "metadata": {},
     "output_type": "execute_result"
    },
    {
     "data": {
      "image/png": "[encoded data removed]",
      "text/plain": [
       "<matplotlib.figure.Figure at 0x7f50a8ac2fd0>"
      ]
     },
     "metadata": {},
     "output_type": "display_data"
    }
   ],
   "source": [
    "pm.forestplot(trace_uae[n_burn:], varnames=['p_6_40'], ylabels=outcome_cats)"
   ]
  },
  {
   "cell_type": "markdown",
   "metadata": {},
   "source": [
    "Estimated probabilities of follow-up interventions for 12-month followup and age 40."
   ]
  },
  {
   "cell_type": "code",
   "execution_count": 132,
   "metadata": {
    "collapsed": false
   },
   "outputs": [
    {
     "data": {
      "text/plain": [
       "<matplotlib.gridspec.GridSpec at 0x7f50b2df4518>"
      ]
     },
     "execution_count": 132,
     "metadata": {},
     "output_type": "execute_result"
    },
    {
     "data": {
      "image/png": "[encoded data removed]",
      "text/plain": [
       "<matplotlib.figure.Figure at 0x7f50b2de4390>"
      ]
     },
     "metadata": {},
     "output_type": "display_data"
    }
   ],
   "source": [
    "pm.forestplot(trace_uae[n_burn:], varnames=['p_12_40'], ylabels=outcome_cats)"
   ]
  },
  {
   "cell_type": "markdown",
   "metadata": {},
   "source": [
    "Estimated probabilities of follow-up interventions for 24-month followup and age 40."
   ]
  },
  {
   "cell_type": "code",
   "execution_count": 133,
   "metadata": {
    "collapsed": false
   },
   "outputs": [
    {
     "data": {
      "text/plain": [
       "<matplotlib.gridspec.GridSpec at 0x7f50aafd8470>"
      ]
     },
     "execution_count": 133,
     "metadata": {},
     "output_type": "execute_result"
    },
    {
     "data": {
      "image/png": "[encoded data removed]",
      "text/plain": [
       "<matplotlib.figure.Figure at 0x7f50aafd8780>"
      ]
     },
     "metadata": {},
     "output_type": "display_data"
    }
   ],
   "source": [
    "pm.forestplot(trace_uae[n_burn:], varnames=['p_24_40'], ylabels=outcome_cats)"
   ]
  },
  {
   "cell_type": "markdown",
   "metadata": {},
   "source": [
    "Estimated probabilities of follow-up interventions for 6-month followup and age 30."
   ]
  },
  {
   "cell_type": "code",
   "execution_count": 134,
   "metadata": {
    "collapsed": false
   },
   "outputs": [
    {
     "data": {
      "text/plain": [
       "<matplotlib.gridspec.GridSpec at 0x7f50aafc9ac8>"
      ]
     },
     "execution_count": 134,
     "metadata": {},
     "output_type": "execute_result"
    },
    {
     "data": {
      "image/png": "[encoded data removed]",
      "text/plain": [
       "<matplotlib.figure.Figure at 0x7f50a4419f60>"
      ]
     },
     "metadata": {},
     "output_type": "display_data"
    }
   ],
   "source": [
    "pm.forestplot(trace_uae[n_burn:], varnames=['p_6_30'], ylabels=outcome_cats)"
   ]
  },
  {
   "cell_type": "markdown",
   "metadata": {},
   "source": [
    "Estimated probabilities of follow-up interventions for 6-month followup and age 50."
   ]
  },
  {
   "cell_type": "code",
   "execution_count": 135,
   "metadata": {
    "collapsed": false
   },
   "outputs": [
    {
     "data": {
      "text/plain": [
       "<matplotlib.gridspec.GridSpec at 0x7f50a9e11358>"
      ]
     },
     "execution_count": 135,
     "metadata": {},
     "output_type": "execute_result"
    },
    {
     "data": {
      "image/png": "[encoded data removed]",
      "text/plain": [
       "<matplotlib.figure.Figure at 0x7f50a9e11390>"
      ]
     },
     "metadata": {},
     "output_type": "display_data"
    }
   ],
   "source": [
    "pm.forestplot(trace_uae[n_burn:], varnames=['p_6_50'], ylabels=outcome_cats)"
   ]
  },
  {
   "cell_type": "markdown",
   "metadata": {},
   "source": [
    "Estimated probabilities of follow-up interventions for 24-month followup and age 30."
   ]
  },
  {
   "cell_type": "code",
   "execution_count": 136,
   "metadata": {
    "collapsed": false
   },
   "outputs": [
    {
     "data": {
      "text/plain": [
       "<matplotlib.gridspec.GridSpec at 0x7f50bc67d048>"
      ]
     },
     "execution_count": 136,
     "metadata": {},
     "output_type": "execute_result"
    },
    {
     "data": {
      "image/png": "[encoded data removed]",
      "text/plain": [
       "<matplotlib.figure.Figure at 0x7f50a6b13898>"
      ]
     },
     "metadata": {},
     "output_type": "display_data"
    }
   ],
   "source": [
    "pm.forestplot(trace_uae[n_burn:], varnames=['p_24_30'], ylabels=outcome_cats)"
   ]
  },
  {
   "cell_type": "markdown",
   "metadata": {},
   "source": [
    "Estimated probabilities of follow-up interventions for 24-month followup and age 50."
   ]
  },
  {
   "cell_type": "code",
   "execution_count": 137,
   "metadata": {
    "collapsed": false
   },
   "outputs": [
    {
     "data": {
      "text/plain": [
       "<matplotlib.gridspec.GridSpec at 0x7f50aafd34e0>"
      ]
     },
     "execution_count": 137,
     "metadata": {},
     "output_type": "execute_result"
    },
    {
     "data": {
      "image/png": "[encoded data removed]",
      "text/plain": [
       "<matplotlib.figure.Figure at 0x7f50a4413940>"
      ]
     },
     "metadata": {},
     "output_type": "display_data"
    }
   ],
   "source": [
    "pm.forestplot(trace_uae[n_burn:], varnames=['p_24_50'], ylabels=outcome_cats)"
   ]
  },
  {
   "cell_type": "code",
   "execution_count": null,
   "metadata": {
    "collapsed": true
   },
   "outputs": [],
   "source": [
    "scenarios = ['p_6_40', 'p_12_40', 'p_24_40', 'p_6_50', 'p_12_50', 'p_6_30', 'p_24_50', 'p_24_30', 'p_12_30']"
   ]
  },
  {
   "cell_type": "code",
   "execution_count": null,
   "metadata": {
    "collapsed": false
   },
   "outputs": [],
   "source": [
    "def generate_table(model, trace):\n",
    "    \n",
    "    tables = []\n",
    "\n",
    "    for scenario in scenarios:\n",
    "\n",
    "        table = pm.df_summary(trace, varnames=[scenario]).round(3).drop('mc_error', axis=1)\n",
    "        table.index = outcome_cats[:-1] + ['none']\n",
    "\n",
    "        tokens = scenario.name.split('_')\n",
    "        fup = int(tokens[1])\n",
    "        age = int(tokens[2])\n",
    "\n",
    "        table['age'] = age\n",
    "        table['followup'] = fup\n",
    "        table.index.name = 'next intervention'\n",
    "\n",
    "        tables.append(table)\n",
    "        \n",
    "    return (pd.concat(tables).set_index(['age', 'followup'], append=True)\n",
    "                 .reorder_levels([1,2,0])\n",
    "                 .sort_index(level='age'))\n"
   ]
  },
  {
   "cell_type": "code",
   "execution_count": null,
   "metadata": {
    "collapsed": false
   },
   "outputs": [],
   "source": [
    "uae_table = generate_table(uae_model, trace_uae[n_burn:])"
   ]
  },
  {
   "cell_type": "code",
   "execution_count": 106,
   "metadata": {
    "collapsed": false
   },
   "outputs": [
    {
     "data": {
      "text/html": [
       "<div>\n",
       "<table border=\"1\" class=\"dataframe\">\n",
       "  <thead>\n",
       "    <tr style=\"text-align: right;\">\n",
       "      <th></th>\n",
       "      <th></th>\n",
       "      <th></th>\n",
       "      <th>mean</th>\n",
       "      <th>sd</th>\n",
       "      <th>hpd_2.5</th>\n",
       "      <th>hpd_97.5</th>\n",
       "    </tr>\n",
       "    <tr>\n",
       "      <th>age</th>\n",
       "      <th>followup</th>\n",
       "      <th>next intervention</th>\n",
       "      <th></th>\n",
       "      <th></th>\n",
       "      <th></th>\n",
       "      <th></th>\n",
       "    </tr>\n",
       "  </thead>\n",
       "  <tbody>\n",
       "    <tr>\n",
       "      <th rowspan=\"21\" valign=\"top\">30</th>\n",
       "      <th rowspan=\"7\" valign=\"top\">6</th>\n",
       "      <th>MRIgFUS</th>\n",
       "      <td>1.000</td>\n",
       "      <td>0.000</td>\n",
       "      <td>1.000</td>\n",
       "      <td>1.000</td>\n",
       "    </tr>\n",
       "    <tr>\n",
       "      <th>ablation</th>\n",
       "      <td>0.000</td>\n",
       "      <td>0.000</td>\n",
       "      <td>0.000</td>\n",
       "      <td>0.000</td>\n",
       "    </tr>\n",
       "    <tr>\n",
       "      <th>hysterectomy</th>\n",
       "      <td>0.000</td>\n",
       "      <td>0.000</td>\n",
       "      <td>0.000</td>\n",
       "      <td>0.000</td>\n",
       "    </tr>\n",
       "    <tr>\n",
       "      <th>iud</th>\n",
       "      <td>0.000</td>\n",
       "      <td>0.000</td>\n",
       "      <td>0.000</td>\n",
       "      <td>0.000</td>\n",
       "    </tr>\n",
       "    <tr>\n",
       "      <th>myomectomy</th>\n",
       "      <td>0.000</td>\n",
       "      <td>0.000</td>\n",
       "      <td>0.000</td>\n",
       "      <td>0.000</td>\n",
       "    </tr>\n",
       "    <tr>\n",
       "      <th>none</th>\n",
       "      <td>0.000</td>\n",
       "      <td>0.000</td>\n",
       "      <td>0.000</td>\n",
       "      <td>0.000</td>\n",
       "    </tr>\n",
       "    <tr>\n",
       "      <th>uae</th>\n",
       "      <td>0.000</td>\n",
       "      <td>0.000</td>\n",
       "      <td>0.000</td>\n",
       "      <td>0.000</td>\n",
       "    </tr>\n",
       "    <tr>\n",
       "      <th rowspan=\"7\" valign=\"top\">12</th>\n",
       "      <th>MRIgFUS</th>\n",
       "      <td>0.840</td>\n",
       "      <td>0.315</td>\n",
       "      <td>0.066</td>\n",
       "      <td>1.000</td>\n",
       "    </tr>\n",
       "    <tr>\n",
       "      <th>ablation</th>\n",
       "      <td>0.000</td>\n",
       "      <td>0.000</td>\n",
       "      <td>0.000</td>\n",
       "      <td>0.000</td>\n",
       "    </tr>\n",
       "    <tr>\n",
       "      <th>hysterectomy</th>\n",
       "      <td>0.001</td>\n",
       "      <td>0.002</td>\n",
       "      <td>0.000</td>\n",
       "      <td>0.005</td>\n",
       "    </tr>\n",
       "    <tr>\n",
       "      <th>iud</th>\n",
       "      <td>0.000</td>\n",
       "      <td>0.000</td>\n",
       "      <td>0.000</td>\n",
       "      <td>0.000</td>\n",
       "    </tr>\n",
       "    <tr>\n",
       "      <th>myomectomy</th>\n",
       "      <td>0.064</td>\n",
       "      <td>0.130</td>\n",
       "      <td>0.000</td>\n",
       "      <td>0.381</td>\n",
       "    </tr>\n",
       "    <tr>\n",
       "      <th>none</th>\n",
       "      <td>0.092</td>\n",
       "      <td>0.182</td>\n",
       "      <td>0.000</td>\n",
       "      <td>0.531</td>\n",
       "    </tr>\n",
       "    <tr>\n",
       "      <th>uae</th>\n",
       "      <td>0.003</td>\n",
       "      <td>0.008</td>\n",
       "      <td>0.000</td>\n",
       "      <td>0.017</td>\n",
       "    </tr>\n",
       "    <tr>\n",
       "      <th rowspan=\"7\" valign=\"top\">24</th>\n",
       "      <th>MRIgFUS</th>\n",
       "      <td>0.228</td>\n",
       "      <td>0.393</td>\n",
       "      <td>0.000</td>\n",
       "      <td>1.000</td>\n",
       "    </tr>\n",
       "    <tr>\n",
       "      <th>ablation</th>\n",
       "      <td>0.001</td>\n",
       "      <td>0.003</td>\n",
       "      <td>0.000</td>\n",
       "      <td>0.006</td>\n",
       "    </tr>\n",
       "    <tr>\n",
       "      <th>hysterectomy</th>\n",
       "      <td>0.009</td>\n",
       "      <td>0.010</td>\n",
       "      <td>0.000</td>\n",
       "      <td>0.029</td>\n",
       "    </tr>\n",
       "    <tr>\n",
       "      <th>iud</th>\n",
       "      <td>0.000</td>\n",
       "      <td>0.000</td>\n",
       "      <td>0.000</td>\n",
       "      <td>0.000</td>\n",
       "    </tr>\n",
       "    <tr>\n",
       "      <th>myomectomy</th>\n",
       "      <td>0.317</td>\n",
       "      <td>0.173</td>\n",
       "      <td>0.000</td>\n",
       "      <td>0.516</td>\n",
       "    </tr>\n",
       "    <tr>\n",
       "      <th>none</th>\n",
       "      <td>0.426</td>\n",
       "      <td>0.224</td>\n",
       "      <td>0.000</td>\n",
       "      <td>0.651</td>\n",
       "    </tr>\n",
       "    <tr>\n",
       "      <th>uae</th>\n",
       "      <td>0.019</td>\n",
       "      <td>0.019</td>\n",
       "      <td>0.000</td>\n",
       "      <td>0.058</td>\n",
       "    </tr>\n",
       "    <tr>\n",
       "      <th rowspan=\"19\" valign=\"top\">40</th>\n",
       "      <th rowspan=\"7\" valign=\"top\">6</th>\n",
       "      <th>MRIgFUS</th>\n",
       "      <td>0.000</td>\n",
       "      <td>0.000</td>\n",
       "      <td>0.000</td>\n",
       "      <td>0.000</td>\n",
       "    </tr>\n",
       "    <tr>\n",
       "      <th>ablation</th>\n",
       "      <td>0.000</td>\n",
       "      <td>0.000</td>\n",
       "      <td>0.000</td>\n",
       "      <td>0.001</td>\n",
       "    </tr>\n",
       "    <tr>\n",
       "      <th>hysterectomy</th>\n",
       "      <td>0.016</td>\n",
       "      <td>0.005</td>\n",
       "      <td>0.009</td>\n",
       "      <td>0.027</td>\n",
       "    </tr>\n",
       "    <tr>\n",
       "      <th>iud</th>\n",
       "      <td>0.000</td>\n",
       "      <td>0.000</td>\n",
       "      <td>0.000</td>\n",
       "      <td>0.000</td>\n",
       "    </tr>\n",
       "    <tr>\n",
       "      <th>myomectomy</th>\n",
       "      <td>0.022</td>\n",
       "      <td>0.010</td>\n",
       "      <td>0.006</td>\n",
       "      <td>0.040</td>\n",
       "    </tr>\n",
       "    <tr>\n",
       "      <th>none</th>\n",
       "      <td>0.941</td>\n",
       "      <td>0.010</td>\n",
       "      <td>0.922</td>\n",
       "      <td>0.961</td>\n",
       "    </tr>\n",
       "    <tr>\n",
       "      <th>uae</th>\n",
       "      <td>0.021</td>\n",
       "      <td>0.007</td>\n",
       "      <td>0.010</td>\n",
       "      <td>0.033</td>\n",
       "    </tr>\n",
       "    <tr>\n",
       "      <th rowspan=\"5\" valign=\"top\">12</th>\n",
       "      <th>MRIgFUS</th>\n",
       "      <td>0.000</td>\n",
       "      <td>0.000</td>\n",
       "      <td>0.000</td>\n",
       "      <td>0.000</td>\n",
       "    </tr>\n",
       "    <tr>\n",
       "      <th>ablation</th>\n",
       "      <td>0.000</td>\n",
       "      <td>0.000</td>\n",
       "      <td>0.000</td>\n",
       "      <td>0.001</td>\n",
       "    </tr>\n",
       "    <tr>\n",
       "      <th>...</th>\n",
       "      <td>...</td>\n",
       "      <td>...</td>\n",
       "      <td>...</td>\n",
       "      <td>...</td>\n",
       "    </tr>\n",
       "    <tr>\n",
       "      <th>...</th>\n",
       "      <td>0.928</td>\n",
       "      <td>0.010</td>\n",
       "      <td>0.909</td>\n",
       "      <td>0.947</td>\n",
       "    </tr>\n",
       "    <tr>\n",
       "      <th>none</th>\n",
       "      <td>0.022</td>\n",
       "      <td>0.006</td>\n",
       "      <td>0.011</td>\n",
       "      <td>0.033</td>\n",
       "    </tr>\n",
       "    <tr>\n",
       "      <th rowspan=\"7\" valign=\"top\">12</th>\n",
       "      <th>uae</th>\n",
       "      <td>0.000</td>\n",
       "      <td>0.000</td>\n",
       "      <td>0.000</td>\n",
       "      <td>0.000</td>\n",
       "    </tr>\n",
       "    <tr>\n",
       "      <th>MRIgFUS</th>\n",
       "      <td>0.002</td>\n",
       "      <td>0.002</td>\n",
       "      <td>0.000</td>\n",
       "      <td>0.007</td>\n",
       "    </tr>\n",
       "    <tr>\n",
       "      <th>ablation</th>\n",
       "      <td>0.058</td>\n",
       "      <td>0.017</td>\n",
       "      <td>0.029</td>\n",
       "      <td>0.095</td>\n",
       "    </tr>\n",
       "    <tr>\n",
       "      <th>hysterectomy</th>\n",
       "      <td>0.000</td>\n",
       "      <td>0.000</td>\n",
       "      <td>0.000</td>\n",
       "      <td>0.001</td>\n",
       "    </tr>\n",
       "    <tr>\n",
       "      <th>iud</th>\n",
       "      <td>0.032</td>\n",
       "      <td>0.007</td>\n",
       "      <td>0.017</td>\n",
       "      <td>0.046</td>\n",
       "    </tr>\n",
       "    <tr>\n",
       "      <th>myomectomy</th>\n",
       "      <td>0.882</td>\n",
       "      <td>0.022</td>\n",
       "      <td>0.840</td>\n",
       "      <td>0.923</td>\n",
       "    </tr>\n",
       "    <tr>\n",
       "      <th>none</th>\n",
       "      <td>0.025</td>\n",
       "      <td>0.006</td>\n",
       "      <td>0.013</td>\n",
       "      <td>0.038</td>\n",
       "    </tr>\n",
       "    <tr>\n",
       "      <th rowspan=\"21\" valign=\"top\">40</th>\n",
       "      <th rowspan=\"7\" valign=\"top\">24</th>\n",
       "      <th>uae</th>\n",
       "      <td>0.000</td>\n",
       "      <td>0.000</td>\n",
       "      <td>0.000</td>\n",
       "      <td>0.000</td>\n",
       "    </tr>\n",
       "    <tr>\n",
       "      <th>MRIgFUS</th>\n",
       "      <td>0.004</td>\n",
       "      <td>0.012</td>\n",
       "      <td>0.000</td>\n",
       "      <td>0.021</td>\n",
       "    </tr>\n",
       "    <tr>\n",
       "      <th>ablation</th>\n",
       "      <td>0.063</td>\n",
       "      <td>0.025</td>\n",
       "      <td>0.019</td>\n",
       "      <td>0.115</td>\n",
       "    </tr>\n",
       "    <tr>\n",
       "      <th>hysterectomy</th>\n",
       "      <td>0.005</td>\n",
       "      <td>0.009</td>\n",
       "      <td>0.000</td>\n",
       "      <td>0.021</td>\n",
       "    </tr>\n",
       "    <tr>\n",
       "      <th>iud</th>\n",
       "      <td>0.001</td>\n",
       "      <td>0.001</td>\n",
       "      <td>0.000</td>\n",
       "      <td>0.002</td>\n",
       "    </tr>\n",
       "    <tr>\n",
       "      <th>myomectomy</th>\n",
       "      <td>0.909</td>\n",
       "      <td>0.032</td>\n",
       "      <td>0.843</td>\n",
       "      <td>0.961</td>\n",
       "    </tr>\n",
       "    <tr>\n",
       "      <th>none</th>\n",
       "      <td>0.017</td>\n",
       "      <td>0.009</td>\n",
       "      <td>0.004</td>\n",
       "      <td>0.034</td>\n",
       "    </tr>\n",
       "    <tr>\n",
       "      <th rowspan=\"7\" valign=\"top\">6</th>\n",
       "      <th>uae</th>\n",
       "      <td>0.000</td>\n",
       "      <td>0.000</td>\n",
       "      <td>0.000</td>\n",
       "      <td>0.000</td>\n",
       "    </tr>\n",
       "    <tr>\n",
       "      <th>MRIgFUS</th>\n",
       "      <td>0.006</td>\n",
       "      <td>0.014</td>\n",
       "      <td>0.000</td>\n",
       "      <td>0.028</td>\n",
       "    </tr>\n",
       "    <tr>\n",
       "      <th>ablation</th>\n",
       "      <td>0.091</td>\n",
       "      <td>0.031</td>\n",
       "      <td>0.030</td>\n",
       "      <td>0.151</td>\n",
       "    </tr>\n",
       "    <tr>\n",
       "      <th>hysterectomy</th>\n",
       "      <td>0.016</td>\n",
       "      <td>0.023</td>\n",
       "      <td>0.000</td>\n",
       "      <td>0.058</td>\n",
       "    </tr>\n",
       "    <tr>\n",
       "      <th>iud</th>\n",
       "      <td>0.001</td>\n",
       "      <td>0.001</td>\n",
       "      <td>0.000</td>\n",
       "      <td>0.002</td>\n",
       "    </tr>\n",
       "    <tr>\n",
       "      <th>myomectomy</th>\n",
       "      <td>0.868</td>\n",
       "      <td>0.043</td>\n",
       "      <td>0.781</td>\n",
       "      <td>0.941</td>\n",
       "    </tr>\n",
       "    <tr>\n",
       "      <th>none</th>\n",
       "      <td>0.018</td>\n",
       "      <td>0.008</td>\n",
       "      <td>0.005</td>\n",
       "      <td>0.034</td>\n",
       "    </tr>\n",
       "    <tr>\n",
       "      <th rowspan=\"7\" valign=\"top\">12</th>\n",
       "      <th>uae</th>\n",
       "      <td>0.000</td>\n",
       "      <td>0.000</td>\n",
       "      <td>0.000</td>\n",
       "      <td>0.000</td>\n",
       "    </tr>\n",
       "    <tr>\n",
       "      <th>MRIgFUS</th>\n",
       "      <td>0.011</td>\n",
       "      <td>0.017</td>\n",
       "      <td>0.000</td>\n",
       "      <td>0.044</td>\n",
       "    </tr>\n",
       "    <tr>\n",
       "      <th>ablation</th>\n",
       "      <td>0.169</td>\n",
       "      <td>0.052</td>\n",
       "      <td>0.075</td>\n",
       "      <td>0.276</td>\n",
       "    </tr>\n",
       "    <tr>\n",
       "      <th>hysterectomy</th>\n",
       "      <td>0.123</td>\n",
       "      <td>0.115</td>\n",
       "      <td>0.001</td>\n",
       "      <td>0.354</td>\n",
       "    </tr>\n",
       "    <tr>\n",
       "      <th>iud</th>\n",
       "      <td>0.001</td>\n",
       "      <td>0.001</td>\n",
       "      <td>0.000</td>\n",
       "      <td>0.003</td>\n",
       "    </tr>\n",
       "    <tr>\n",
       "      <th>myomectomy</th>\n",
       "      <td>0.679</td>\n",
       "      <td>0.107</td>\n",
       "      <td>0.460</td>\n",
       "      <td>0.863</td>\n",
       "    </tr>\n",
       "    <tr>\n",
       "      <th>none</th>\n",
       "      <td>0.017</td>\n",
       "      <td>0.008</td>\n",
       "      <td>0.004</td>\n",
       "      <td>0.033</td>\n",
       "    </tr>\n",
       "  </tbody>\n",
       "</table>\n",
       "<p>63 rows × 4 columns</p>\n",
       "</div>"
      ],
      "text/plain": [
       "                                 mean     sd  hpd_2.5  hpd_97.5\n",
       "age followup next intervention                                 \n",
       "30  6        MRIgFUS            1.000  0.000    1.000     1.000\n",
       "             ablation           0.000  0.000    0.000     0.000\n",
       "             hysterectomy       0.000  0.000    0.000     0.000\n",
       "             iud                0.000  0.000    0.000     0.000\n",
       "             myomectomy         0.000  0.000    0.000     0.000\n",
       "             none               0.000  0.000    0.000     0.000\n",
       "             uae                0.000  0.000    0.000     0.000\n",
       "    12       MRIgFUS            0.840  0.315    0.066     1.000\n",
       "             ablation           0.000  0.000    0.000     0.000\n",
       "             hysterectomy       0.001  0.002    0.000     0.005\n",
       "             iud                0.000  0.000    0.000     0.000\n",
       "             myomectomy         0.064  0.130    0.000     0.381\n",
       "             none               0.092  0.182    0.000     0.531\n",
       "             uae                0.003  0.008    0.000     0.017\n",
       "    24       MRIgFUS            0.228  0.393    0.000     1.000\n",
       "             ablation           0.001  0.003    0.000     0.006\n",
       "             hysterectomy       0.009  0.010    0.000     0.029\n",
       "             iud                0.000  0.000    0.000     0.000\n",
       "             myomectomy         0.317  0.173    0.000     0.516\n",
       "             none               0.426  0.224    0.000     0.651\n",
       "             uae                0.019  0.019    0.000     0.058\n",
       "40  6        MRIgFUS            0.000  0.000    0.000     0.000\n",
       "             ablation           0.000  0.000    0.000     0.001\n",
       "             hysterectomy       0.016  0.005    0.009     0.027\n",
       "             iud                0.000  0.000    0.000     0.000\n",
       "             myomectomy         0.022  0.010    0.006     0.040\n",
       "             none               0.941  0.010    0.922     0.961\n",
       "             uae                0.021  0.007    0.010     0.033\n",
       "    12       MRIgFUS            0.000  0.000    0.000     0.000\n",
       "             ablation           0.000  0.000    0.000     0.001\n",
       "...                               ...    ...      ...       ...\n",
       "             none               0.928  0.010    0.909     0.947\n",
       "             uae                0.022  0.006    0.011     0.033\n",
       "    24       MRIgFUS            0.000  0.000    0.000     0.000\n",
       "             ablation           0.002  0.002    0.000     0.007\n",
       "             hysterectomy       0.058  0.017    0.029     0.095\n",
       "             iud                0.000  0.000    0.000     0.001\n",
       "             myomectomy         0.032  0.007    0.017     0.046\n",
       "             none               0.882  0.022    0.840     0.923\n",
       "             uae                0.025  0.006    0.013     0.038\n",
       "50  6        MRIgFUS            0.000  0.000    0.000     0.000\n",
       "             ablation           0.004  0.012    0.000     0.021\n",
       "             hysterectomy       0.063  0.025    0.019     0.115\n",
       "             iud                0.005  0.009    0.000     0.021\n",
       "             myomectomy         0.001  0.001    0.000     0.002\n",
       "             none               0.909  0.032    0.843     0.961\n",
       "             uae                0.017  0.009    0.004     0.034\n",
       "    12       MRIgFUS            0.000  0.000    0.000     0.000\n",
       "             ablation           0.006  0.014    0.000     0.028\n",
       "             hysterectomy       0.091  0.031    0.030     0.151\n",
       "             iud                0.016  0.023    0.000     0.058\n",
       "             myomectomy         0.001  0.001    0.000     0.002\n",
       "             none               0.868  0.043    0.781     0.941\n",
       "             uae                0.018  0.008    0.005     0.034\n",
       "    24       MRIgFUS            0.000  0.000    0.000     0.000\n",
       "             ablation           0.011  0.017    0.000     0.044\n",
       "             hysterectomy       0.169  0.052    0.075     0.276\n",
       "             iud                0.123  0.115    0.001     0.354\n",
       "             myomectomy         0.001  0.001    0.000     0.003\n",
       "             none               0.679  0.107    0.460     0.863\n",
       "             uae                0.017  0.008    0.004     0.033\n",
       "\n",
       "[63 rows x 4 columns]"
      ]
     },
     "execution_count": 106,
     "metadata": {},
     "output_type": "execute_result"
    }
   ],
   "source": [
    "uae_table"
   ]
  },
  {
   "cell_type": "code",
   "execution_count": 107,
   "metadata": {
    "collapsed": false
   },
   "outputs": [],
   "source": [
    "def factorplot(table):\n",
    "    \n",
    "    table_flat = table.reset_index().rename(columns = {'mean':'probability'})\n",
    "    \n",
    "    sns.factorplot(x=\"followup\", y=\"probability\", hue=\"next intervention\", col=\"age\", \n",
    "                   data=table_flat[table_flat['next intervention']!='none'], \n",
    "                   facet_kws={'ylim':(0,0.6)})"
   ]
  },
  {
   "cell_type": "code",
   "execution_count": 108,
   "metadata": {
    "collapsed": false
   },
   "outputs": [
    {
     "data": {
      "image/png": "[encoded data removed]",
      "text/plain": [
       "<matplotlib.figure.Figure at 0x7f50c2d8db00>"
      ]
     },
     "metadata": {},
     "output_type": "display_data"
    }
   ],
   "source": [
    "factorplot(uae_table)"
   ]
  },
  {
   "cell_type": "code",
   "execution_count": 104,
   "metadata": {
    "collapsed": false
   },
   "outputs": [],
   "source": [
    "uae_table_flat = uae_table.reset_index().rename(columns = {'mean':'probability'}).drop(['sd'],\n",
    "                                                                                      axis=1)"
   ]
  },
  {
   "cell_type": "markdown",
   "metadata": {},
   "source": [
    "### Myomectomy model"
   ]
  },
  {
   "cell_type": "code",
   "execution_count": 59,
   "metadata": {
    "collapsed": false
   },
   "outputs": [
    {
     "name": "stdout",
     "output_type": "stream",
     "text": [
      "Applied log-transform to σ and added transformed σ_log_ to model.\n"
     ]
    }
   ],
   "source": [
    "myomectomy_model = specify_model(pm.Model(), 'myomectomy')"
   ]
  },
  {
   "cell_type": "code",
   "execution_count": 60,
   "metadata": {
    "collapsed": false
   },
   "outputs": [
    {
     "name": "stdout",
     "output_type": "stream",
     "text": [
      " [-----------------100%-----------------] 100000 of 100000 complete in 130.1 sec"
     ]
    }
   ],
   "source": [
    "with myomectomy_model:\n",
    "    \n",
    "    trace_myomectomy = pm.sample(n_iterations, step=pm.Metropolis(), \n",
    "                          random_seed=20140925)"
   ]
  },
  {
   "cell_type": "markdown",
   "metadata": {},
   "source": [
    "Baseline estimates on log scale"
   ]
  },
  {
   "cell_type": "code",
   "execution_count": 61,
   "metadata": {
    "collapsed": false
   },
   "outputs": [
    {
     "data": {
      "text/plain": [
       "<matplotlib.gridspec.GridSpec at 0x7f50b9becdd8>"
      ]
     },
     "execution_count": 61,
     "metadata": {},
     "output_type": "execute_result"
    },
    {
     "data": {
      "image/png": "[encoded data removed]",
      "text/plain": [
       "<matplotlib.figure.Figure at 0x7f50b9beccc0>"
      ]
     },
     "metadata": {},
     "output_type": "display_data"
    }
   ],
   "source": [
    "pm.forestplot(trace_myomectomy[n_burn:], varnames=['μ'], ylabels=outcome_cats)"
   ]
  },
  {
   "cell_type": "markdown",
   "metadata": {},
   "source": [
    "Followup time effect"
   ]
  },
  {
   "cell_type": "code",
   "execution_count": 62,
   "metadata": {
    "collapsed": false
   },
   "outputs": [
    {
     "data": {
      "text/plain": [
       "<matplotlib.gridspec.GridSpec at 0x7f50c9f886a0>"
      ]
     },
     "execution_count": 62,
     "metadata": {},
     "output_type": "execute_result"
    },
    {
     "data": {
      "image/png": "[encoded data removed]",
      "text/plain": [
       "<matplotlib.figure.Figure at 0x7f50c9f883c8>"
      ]
     },
     "metadata": {},
     "output_type": "display_data"
    }
   ],
   "source": [
    "pm.forestplot(trace_myomectomy[n_burn:], varnames=['θ_fup'], ylabels=outcome_cats[:-1])"
   ]
  },
  {
   "cell_type": "markdown",
   "metadata": {},
   "source": [
    "Age over 40 effect"
   ]
  },
  {
   "cell_type": "code",
   "execution_count": 63,
   "metadata": {
    "collapsed": false
   },
   "outputs": [
    {
     "data": {
      "text/plain": [
       "<matplotlib.gridspec.GridSpec at 0x7f50c8f8bf98>"
      ]
     },
     "execution_count": 63,
     "metadata": {},
     "output_type": "execute_result"
    },
    {
     "data": {
      "image/png": "[encoded data removed]",
      "text/plain": [
       "<matplotlib.figure.Figure at 0x7f50c8f8b9b0>"
      ]
     },
     "metadata": {},
     "output_type": "display_data"
    }
   ],
   "source": [
    "pm.forestplot(trace_myomectomy[n_burn:], varnames=['θ_age'], ylabels=outcome_cats[:-1])"
   ]
  },
  {
   "cell_type": "markdown",
   "metadata": {},
   "source": [
    "Predicted probabilities for 6 months after followup, 40 years of age."
   ]
  },
  {
   "cell_type": "code",
   "execution_count": 64,
   "metadata": {
    "collapsed": false
   },
   "outputs": [
    {
     "data": {
      "text/plain": [
       "<matplotlib.gridspec.GridSpec at 0x7f50c4dc8eb8>"
      ]
     },
     "execution_count": 64,
     "metadata": {},
     "output_type": "execute_result"
    },
    {
     "data": {
      "image/png": "[encoded data removed]",
      "text/plain": [
       "<matplotlib.figure.Figure at 0x7f50c4dc8fd0>"
      ]
     },
     "metadata": {},
     "output_type": "display_data"
    }
   ],
   "source": [
    "pm.forestplot(trace_myomectomy[n_burn:], varnames=['p_6_40'], ylabels=outcome_cats)"
   ]
  },
  {
   "cell_type": "markdown",
   "metadata": {},
   "source": [
    "Estimated probabilities of follow-up interventions for 12-month followup and age 40."
   ]
  },
  {
   "cell_type": "code",
   "execution_count": 65,
   "metadata": {
    "collapsed": false
   },
   "outputs": [
    {
     "data": {
      "text/plain": [
       "<matplotlib.gridspec.GridSpec at 0x7f50b9f135c0>"
      ]
     },
     "execution_count": 65,
     "metadata": {},
     "output_type": "execute_result"
    },
    {
     "data": {
      "image/png": "[encoded data removed]",
      "text/plain": [
       "<matplotlib.figure.Figure at 0x7f50c4ca0e48>"
      ]
     },
     "metadata": {},
     "output_type": "display_data"
    }
   ],
   "source": [
    "pm.forestplot(trace_myomectomy[n_burn:], varnames=['p_12_40'], ylabels=outcome_cats)"
   ]
  },
  {
   "cell_type": "markdown",
   "metadata": {},
   "source": [
    "Estimated probabilities of follow-up interventions for 24-month followup and age 40."
   ]
  },
  {
   "cell_type": "code",
   "execution_count": 66,
   "metadata": {
    "collapsed": false
   },
   "outputs": [
    {
     "data": {
      "text/plain": [
       "<matplotlib.gridspec.GridSpec at 0x7f50c1235518>"
      ]
     },
     "execution_count": 66,
     "metadata": {},
     "output_type": "execute_result"
    },
    {
     "data": {
      "image/png": "[encoded data removed]",
      "text/plain": [
       "<matplotlib.figure.Figure at 0x7f50c12084a8>"
      ]
     },
     "metadata": {},
     "output_type": "display_data"
    }
   ],
   "source": [
    "pm.forestplot(trace_myomectomy[n_burn:], varnames=['p_24_40'], ylabels=outcome_cats)"
   ]
  },
  {
   "cell_type": "markdown",
   "metadata": {},
   "source": [
    "Estimated probabilities of follow-up interventions for 6-month followup and age 30."
   ]
  },
  {
   "cell_type": "code",
   "execution_count": 67,
   "metadata": {
    "collapsed": false
   },
   "outputs": [
    {
     "data": {
      "text/plain": [
       "<matplotlib.gridspec.GridSpec at 0x7f50c8d10dd8>"
      ]
     },
     "execution_count": 67,
     "metadata": {},
     "output_type": "execute_result"
    },
    {
     "data": {
      "image/png": "[encoded data removed]",
      "text/plain": [
       "<matplotlib.figure.Figure at 0x7f50c8d1f9e8>"
      ]
     },
     "metadata": {},
     "output_type": "display_data"
    }
   ],
   "source": [
    "pm.forestplot(trace_myomectomy[n_burn:], varnames=['p_6_30'], ylabels=outcome_cats)"
   ]
  },
  {
   "cell_type": "markdown",
   "metadata": {},
   "source": [
    "Estimated probabilities of follow-up interventions for 6-month followup and age 50."
   ]
  },
  {
   "cell_type": "code",
   "execution_count": 68,
   "metadata": {
    "collapsed": false
   },
   "outputs": [
    {
     "data": {
      "text/plain": [
       "<matplotlib.gridspec.GridSpec at 0x7f50c8ff5860>"
      ]
     },
     "execution_count": 68,
     "metadata": {},
     "output_type": "execute_result"
    },
    {
     "data": {
      "image/png": "[encoded data removed]",
      "text/plain": [
       "<matplotlib.figure.Figure at 0x7f50c8ff5748>"
      ]
     },
     "metadata": {},
     "output_type": "display_data"
    }
   ],
   "source": [
    "pm.forestplot(trace_myomectomy[n_burn:], varnames=['p_6_50'], ylabels=outcome_cats)"
   ]
  },
  {
   "cell_type": "markdown",
   "metadata": {},
   "source": [
    "Estimated probabilities of follow-up interventions for 24-month followup and age 30."
   ]
  },
  {
   "cell_type": "code",
   "execution_count": 69,
   "metadata": {
    "collapsed": false
   },
   "outputs": [
    {
     "data": {
      "text/plain": [
       "<matplotlib.gridspec.GridSpec at 0x7f50c8e71c88>"
      ]
     },
     "execution_count": 69,
     "metadata": {},
     "output_type": "execute_result"
    },
    {
     "data": {
      "image/png": "[encoded data removed]",
      "text/plain": [
       "<matplotlib.figure.Figure at 0x7f50c8e71e10>"
      ]
     },
     "metadata": {},
     "output_type": "display_data"
    }
   ],
   "source": [
    "pm.forestplot(trace_myomectomy[n_burn:], varnames=['p_24_30'], ylabels=outcome_cats)"
   ]
  },
  {
   "cell_type": "markdown",
   "metadata": {},
   "source": [
    "Estimated probabilities of follow-up interventions for 24-month followup and age 50."
   ]
  },
  {
   "cell_type": "code",
   "execution_count": 70,
   "metadata": {
    "collapsed": false
   },
   "outputs": [
    {
     "data": {
      "text/plain": [
       "<matplotlib.gridspec.GridSpec at 0x7f50c2ab8cf8>"
      ]
     },
     "execution_count": 70,
     "metadata": {},
     "output_type": "execute_result"
    },
    {
     "data": {
      "image/png": "[encoded data removed]",
      "text/plain": [
       "<matplotlib.figure.Figure at 0x7f50c2ab89b0>"
      ]
     },
     "metadata": {},
     "output_type": "display_data"
    }
   ],
   "source": [
    "pm.forestplot(trace_myomectomy[n_burn:], varnames=['p_24_50'], ylabels=outcome_cats)"
   ]
  },
  {
   "cell_type": "code",
   "execution_count": 71,
   "metadata": {
    "collapsed": true
   },
   "outputs": [],
   "source": [
    "myomectomy_table = generate_table(myomectomy_model, trace_myomectomy[n_burn:])"
   ]
  },
  {
   "cell_type": "code",
   "execution_count": 72,
   "metadata": {
    "collapsed": true
   },
   "outputs": [],
   "source": [
    "myomectomy_table_flat = myomectomy_table.reset_index().rename(columns = {'mean':'probability'}).drop(['sd'],\n",
    "                                                                                      axis=1)"
   ]
  },
  {
   "cell_type": "code",
   "execution_count": 73,
   "metadata": {
    "collapsed": false
   },
   "outputs": [
    {
     "data": {
      "image/png": "[encoded data removed]",
      "text/plain": [
       "<matplotlib.figure.Figure at 0x7f50ba31e860>"
      ]
     },
     "metadata": {},
     "output_type": "display_data"
    }
   ],
   "source": [
    "factorplot(myomectomy_table)"
   ]
  },
  {
   "cell_type": "markdown",
   "metadata": {},
   "source": [
    "### Medical management model"
   ]
  },
  {
   "cell_type": "code",
   "execution_count": 74,
   "metadata": {
    "collapsed": false
   },
   "outputs": [
    {
     "name": "stdout",
     "output_type": "stream",
     "text": [
      "Applied log-transform to nu and added transformed nu_log_ to model.\n",
      "Applied log-transform to σ and added transformed σ_log_ to model.\n"
     ]
    }
   ],
   "source": [
    "med_manage_model = specify_model(pm.Model(), 'med_manage')"
   ]
  },
  {
   "cell_type": "code",
   "execution_count": 75,
   "metadata": {
    "collapsed": false
   },
   "outputs": [
    {
     "name": "stdout",
     "output_type": "stream",
     "text": [
      " [-                 4%                  ] 4646 of 100000 complete in 26.2 sec"
     ]
    },
    {
     "ename": "KeyboardInterrupt",
     "evalue": "",
     "output_type": "error",
     "traceback": [
      "\u001b[1;31m---------------------------------------------------------------------------\u001b[0m",
      "\u001b[1;31mKeyboardInterrupt\u001b[0m                         Traceback (most recent call last)",
      "\u001b[1;32m<ipython-input-75-16912629e8a1>\u001b[0m in \u001b[0;36m<module>\u001b[1;34m()\u001b[0m\n\u001b[0;32m      2\u001b[0m \u001b[1;33m\u001b[0m\u001b[0m\n\u001b[0;32m      3\u001b[0m     trace_med_manage = pm.sample(n_iterations, step=pm.Metropolis(), \n\u001b[1;32m----> 4\u001b[1;33m                           random_seed=20140925)\n\u001b[0m",
      "\u001b[1;32m/tmp/src/pymc3/pymc3/sampling.py\u001b[0m in \u001b[0;36msample\u001b[1;34m(draws, step, start, trace, chain, njobs, tune, progressbar, model, random_seed)\u001b[0m\n\u001b[0;32m    149\u001b[0m         \u001b[0msample_func\u001b[0m \u001b[1;33m=\u001b[0m \u001b[0m_sample\u001b[0m\u001b[1;33m\u001b[0m\u001b[0m\n\u001b[0;32m    150\u001b[0m \u001b[1;33m\u001b[0m\u001b[0m\n\u001b[1;32m--> 151\u001b[1;33m     \u001b[1;32mreturn\u001b[0m \u001b[0msample_func\u001b[0m\u001b[1;33m(\u001b[0m\u001b[1;33m**\u001b[0m\u001b[0msample_args\u001b[0m\u001b[1;33m)\u001b[0m\u001b[1;33m\u001b[0m\u001b[0m\n\u001b[0m\u001b[0;32m    152\u001b[0m \u001b[1;33m\u001b[0m\u001b[0m\n\u001b[0;32m    153\u001b[0m \u001b[1;33m\u001b[0m\u001b[0m\n",
      "\u001b[1;32m/tmp/src/pymc3/pymc3/sampling.py\u001b[0m in \u001b[0;36m_sample\u001b[1;34m(draws, step, start, trace, chain, tune, progressbar, model, random_seed)\u001b[0m\n\u001b[0;32m    157\u001b[0m                             tune, model, random_seed)\n\u001b[0;32m    158\u001b[0m     \u001b[0mprogress\u001b[0m \u001b[1;33m=\u001b[0m \u001b[0mprogress_bar\u001b[0m\u001b[1;33m(\u001b[0m\u001b[0mdraws\u001b[0m\u001b[1;33m)\u001b[0m\u001b[1;33m\u001b[0m\u001b[0m\n\u001b[1;32m--> 159\u001b[1;33m     \u001b[1;32mfor\u001b[0m \u001b[0mi\u001b[0m\u001b[1;33m,\u001b[0m \u001b[0mstrace\u001b[0m \u001b[1;32min\u001b[0m \u001b[0menumerate\u001b[0m\u001b[1;33m(\u001b[0m\u001b[0msampling\u001b[0m\u001b[1;33m)\u001b[0m\u001b[1;33m:\u001b[0m\u001b[1;33m\u001b[0m\u001b[0m\n\u001b[0m\u001b[0;32m    160\u001b[0m         \u001b[1;32mtry\u001b[0m\u001b[1;33m:\u001b[0m\u001b[1;33m\u001b[0m\u001b[0m\n\u001b[0;32m    161\u001b[0m             \u001b[1;32mif\u001b[0m \u001b[0mprogressbar\u001b[0m\u001b[1;33m:\u001b[0m\u001b[1;33m\u001b[0m\u001b[0m\n",
      "\u001b[1;32m/tmp/src/pymc3/pymc3/sampling.py\u001b[0m in \u001b[0;36m_iter_sample\u001b[1;34m(draws, step, start, trace, chain, tune, model, random_seed)\u001b[0m\n\u001b[0;32m    241\u001b[0m             \u001b[0mstep\u001b[0m \u001b[1;33m=\u001b[0m \u001b[0mstop_tuning\u001b[0m\u001b[1;33m(\u001b[0m\u001b[0mstep\u001b[0m\u001b[1;33m)\u001b[0m\u001b[1;33m\u001b[0m\u001b[0m\n\u001b[0;32m    242\u001b[0m         \u001b[0mpoint\u001b[0m \u001b[1;33m=\u001b[0m \u001b[0mstep\u001b[0m\u001b[1;33m.\u001b[0m\u001b[0mstep\u001b[0m\u001b[1;33m(\u001b[0m\u001b[0mpoint\u001b[0m\u001b[1;33m)\u001b[0m\u001b[1;33m\u001b[0m\u001b[0m\n\u001b[1;32m--> 243\u001b[1;33m         \u001b[0mstrace\u001b[0m\u001b[1;33m.\u001b[0m\u001b[0mrecord\u001b[0m\u001b[1;33m(\u001b[0m\u001b[0mpoint\u001b[0m\u001b[1;33m)\u001b[0m\u001b[1;33m\u001b[0m\u001b[0m\n\u001b[0m\u001b[0;32m    244\u001b[0m         \u001b[1;32myield\u001b[0m \u001b[0mstrace\u001b[0m\u001b[1;33m\u001b[0m\u001b[0m\n\u001b[0;32m    245\u001b[0m     \u001b[1;32melse\u001b[0m\u001b[1;33m:\u001b[0m\u001b[1;33m\u001b[0m\u001b[0m\n",
      "\u001b[1;32m/tmp/src/pymc3/pymc3/backends/ndarray.py\u001b[0m in \u001b[0;36mrecord\u001b[1;34m(self, point)\u001b[0m\n\u001b[0;32m     64\u001b[0m             \u001b[0mValues\u001b[0m \u001b[0mmapped\u001b[0m \u001b[0mto\u001b[0m \u001b[0mvariable\u001b[0m \u001b[0mnames\u001b[0m\u001b[1;33m\u001b[0m\u001b[0m\n\u001b[0;32m     65\u001b[0m         \"\"\"\n\u001b[1;32m---> 66\u001b[1;33m         \u001b[1;32mfor\u001b[0m \u001b[0mvarname\u001b[0m\u001b[1;33m,\u001b[0m \u001b[0mvalue\u001b[0m \u001b[1;32min\u001b[0m \u001b[0mzip\u001b[0m\u001b[1;33m(\u001b[0m\u001b[0mself\u001b[0m\u001b[1;33m.\u001b[0m\u001b[0mvarnames\u001b[0m\u001b[1;33m,\u001b[0m \u001b[0mself\u001b[0m\u001b[1;33m.\u001b[0m\u001b[0mfn\u001b[0m\u001b[1;33m(\u001b[0m\u001b[0mpoint\u001b[0m\u001b[1;33m)\u001b[0m\u001b[1;33m)\u001b[0m\u001b[1;33m:\u001b[0m\u001b[1;33m\u001b[0m\u001b[0m\n\u001b[0m\u001b[0;32m     67\u001b[0m             \u001b[0mself\u001b[0m\u001b[1;33m.\u001b[0m\u001b[0msamples\u001b[0m\u001b[1;33m[\u001b[0m\u001b[0mvarname\u001b[0m\u001b[1;33m]\u001b[0m\u001b[1;33m[\u001b[0m\u001b[0mself\u001b[0m\u001b[1;33m.\u001b[0m\u001b[0mdraw_idx\u001b[0m\u001b[1;33m]\u001b[0m \u001b[1;33m=\u001b[0m \u001b[0mvalue\u001b[0m\u001b[1;33m\u001b[0m\u001b[0m\n\u001b[0;32m     68\u001b[0m         \u001b[0mself\u001b[0m\u001b[1;33m.\u001b[0m\u001b[0mdraw_idx\u001b[0m \u001b[1;33m+=\u001b[0m \u001b[1;36m1\u001b[0m\u001b[1;33m\u001b[0m\u001b[0m\n",
      "\u001b[1;32m/tmp/src/pymc3/pymc3/model.py\u001b[0m in \u001b[0;36m__call__\u001b[1;34m(self, state)\u001b[0m\n\u001b[0;32m    465\u001b[0m \u001b[1;33m\u001b[0m\u001b[0m\n\u001b[0;32m    466\u001b[0m     \u001b[1;32mdef\u001b[0m \u001b[0m__call__\u001b[0m\u001b[1;33m(\u001b[0m\u001b[0mself\u001b[0m\u001b[1;33m,\u001b[0m \u001b[0mstate\u001b[0m\u001b[1;33m)\u001b[0m\u001b[1;33m:\u001b[0m\u001b[1;33m\u001b[0m\u001b[0m\n\u001b[1;32m--> 467\u001b[1;33m         \u001b[1;32mreturn\u001b[0m \u001b[0mself\u001b[0m\u001b[1;33m.\u001b[0m\u001b[0mf\u001b[0m\u001b[1;33m(\u001b[0m\u001b[1;33m**\u001b[0m\u001b[0mstate\u001b[0m\u001b[1;33m)\u001b[0m\u001b[1;33m\u001b[0m\u001b[0m\n\u001b[0m\u001b[0;32m    468\u001b[0m \u001b[1;33m\u001b[0m\u001b[0m\n\u001b[0;32m    469\u001b[0m \u001b[1;33m\u001b[0m\u001b[0m\n",
      "\u001b[1;32m/usr/local/lib/python3.4/dist-packages/theano/compile/function_module.py\u001b[0m in \u001b[0;36m__call__\u001b[1;34m(self, *args, **kwargs)\u001b[0m\n\u001b[0;32m    922\u001b[0m         \u001b[1;31m#\u001b[0m\u001b[1;33m\u001b[0m\u001b[1;33m\u001b[0m\u001b[0m\n\u001b[0;32m    923\u001b[0m \u001b[1;33m\u001b[0m\u001b[0m\n\u001b[1;32m--> 924\u001b[1;33m         \u001b[0mdt_call\u001b[0m \u001b[1;33m=\u001b[0m \u001b[0mtime\u001b[0m\u001b[1;33m.\u001b[0m\u001b[0mtime\u001b[0m\u001b[1;33m(\u001b[0m\u001b[1;33m)\u001b[0m \u001b[1;33m-\u001b[0m \u001b[0mt0\u001b[0m\u001b[1;33m\u001b[0m\u001b[0m\n\u001b[0m\u001b[0;32m    925\u001b[0m         \u001b[0mself\u001b[0m\u001b[1;33m.\u001b[0m\u001b[0mmaker\u001b[0m\u001b[1;33m.\u001b[0m\u001b[0mmode\u001b[0m\u001b[1;33m.\u001b[0m\u001b[0mcall_time\u001b[0m \u001b[1;33m+=\u001b[0m \u001b[0mdt_call\u001b[0m\u001b[1;33m\u001b[0m\u001b[0m\n\u001b[0;32m    926\u001b[0m         \u001b[1;32mif\u001b[0m \u001b[0mprofile\u001b[0m\u001b[1;33m:\u001b[0m\u001b[1;33m\u001b[0m\u001b[0m\n",
      "\u001b[1;31mKeyboardInterrupt\u001b[0m: "
     ]
    }
   ],
   "source": [
    "with med_manage_model:\n",
    "    \n",
    "    trace_med_manage = pm.sample(n_iterations, step=pm.Metropolis(), \n",
    "                          random_seed=20140925)\n"
   ]
  },
  {
   "cell_type": "markdown",
   "metadata": {},
   "source": [
    "Baseline log-probabilities"
   ]
  },
  {
   "cell_type": "code",
   "execution_count": null,
   "metadata": {
    "collapsed": false
   },
   "outputs": [],
   "source": [
    "pm.forestplot(trace_med_manage[n_burn:], varnames=['μ'], ylabels=outcome_cats)"
   ]
  },
  {
   "cell_type": "markdown",
   "metadata": {},
   "source": [
    "Estimated probabilities of follow-up interventions for 6-month followup and age 40."
   ]
  },
  {
   "cell_type": "code",
   "execution_count": null,
   "metadata": {
    "collapsed": false
   },
   "outputs": [],
   "source": [
    "pm.forestplot(trace_med_manage[n_burn:], varnames=['p_6_40'], ylabels=outcome_cats)"
   ]
  },
  {
   "cell_type": "markdown",
   "metadata": {},
   "source": [
    "Estimated probabilities of follow-up interventions for 12-month followup and age 40."
   ]
  },
  {
   "cell_type": "code",
   "execution_count": null,
   "metadata": {
    "collapsed": false
   },
   "outputs": [],
   "source": [
    "pm.forestplot(trace_med_manage[n_burn:], varnames=['p_12_40'], ylabels=outcome_cats)"
   ]
  },
  {
   "cell_type": "markdown",
   "metadata": {},
   "source": [
    "Estimated probabilities of follow-up interventions for 24-month followup and age 40."
   ]
  },
  {
   "cell_type": "code",
   "execution_count": null,
   "metadata": {
    "collapsed": false
   },
   "outputs": [],
   "source": [
    "pm.forestplot(trace_med_manage[n_burn:], varnames=['p_24_40'], ylabels=outcome_cats)"
   ]
  },
  {
   "cell_type": "markdown",
   "metadata": {},
   "source": [
    "Estimated probabilities of follow-up interventions for 6-month followup and age 30."
   ]
  },
  {
   "cell_type": "code",
   "execution_count": null,
   "metadata": {
    "collapsed": false
   },
   "outputs": [],
   "source": [
    "pm.forestplot(trace_med_manage[n_burn:], varnames=['p_6_30'], ylabels=outcome_cats)"
   ]
  },
  {
   "cell_type": "markdown",
   "metadata": {},
   "source": [
    "Estimated probabilities of follow-up interventions for 6-month followup and age 50."
   ]
  },
  {
   "cell_type": "code",
   "execution_count": null,
   "metadata": {
    "collapsed": false
   },
   "outputs": [],
   "source": [
    "pm.forestplot(trace_med_manage[n_burn:], varnames=['p_6_50'], ylabels=outcome_cats)"
   ]
  },
  {
   "cell_type": "markdown",
   "metadata": {},
   "source": [
    "Estimated probabilities of follow-up interventions for 24-month followup and age 30."
   ]
  },
  {
   "cell_type": "code",
   "execution_count": null,
   "metadata": {
    "collapsed": false
   },
   "outputs": [],
   "source": [
    "pm.forestplot(trace_med_manage[n_burn:], varnames=['p_24_30'], ylabels=outcome_cats)"
   ]
  },
  {
   "cell_type": "markdown",
   "metadata": {},
   "source": [
    "Estimated probabilities of follow-up interventions for 24-month followup and age 50."
   ]
  },
  {
   "cell_type": "code",
   "execution_count": null,
   "metadata": {
    "collapsed": false
   },
   "outputs": [],
   "source": [
    "pm.forestplot(trace_med_manage[n_burn:], varnames=['p_24_50'], ylabels=outcome_cats)"
   ]
  },
  {
   "cell_type": "code",
   "execution_count": null,
   "metadata": {
    "collapsed": true
   },
   "outputs": [],
   "source": [
    "med_manage_table = generate_table(med_manage_model, trace_med_manage[n_burn:])"
   ]
  },
  {
   "cell_type": "code",
   "execution_count": null,
   "metadata": {
    "collapsed": true
   },
   "outputs": [],
   "source": [
    "med_manage_table_flat = med_manage_table.reset_index().rename(columns = {'mean':'probability'}).drop(['sd'],\n",
    "                                                                                      axis=1)"
   ]
  },
  {
   "cell_type": "code",
   "execution_count": null,
   "metadata": {
    "collapsed": false
   },
   "outputs": [],
   "source": [
    "factorplot(med_manage_table)"
   ]
  },
  {
   "cell_type": "markdown",
   "metadata": {},
   "source": [
    "### Summary tables"
   ]
  },
  {
   "cell_type": "code",
   "execution_count": null,
   "metadata": {
    "collapsed": false
   },
   "outputs": [],
   "source": [
    "med_manage_table_flat['initial_treatment'] = 'medical management'\n",
    "uae_table_flat['initial_treatment'] = 'UAE'\n",
    "myomectomy_table_flat['initial_treatment'] = 'myomectomy'"
   ]
  },
  {
   "cell_type": "code",
   "execution_count": null,
   "metadata": {
    "collapsed": false
   },
   "outputs": [],
   "source": [
    "all_tables = [med_manage_table_flat, uae_table_flat, myomectomy_table_flat]"
   ]
  },
  {
   "cell_type": "code",
   "execution_count": null,
   "metadata": {
    "collapsed": false
   },
   "outputs": [],
   "source": [
    "full_table = pd.concat(all_tables)"
   ]
  },
  {
   "cell_type": "code",
   "execution_count": null,
   "metadata": {
    "collapsed": false
   },
   "outputs": [],
   "source": [
    "full_table.head()"
   ]
  },
  {
   "cell_type": "code",
   "execution_count": null,
   "metadata": {
    "collapsed": false
   },
   "outputs": [],
   "source": [
    "full_table['probability (95% CI)'] = full_table.apply(lambda x: '{0:1.2f} ({1:1.2f}, {2:1.2f})'.format(x['probability'], \n",
    "                                                                                        x['hpd_2.5'], \n",
    "                                                                                        x['hpd_97.5']), axis=1)"
   ]
  },
  {
   "cell_type": "code",
   "execution_count": null,
   "metadata": {
    "collapsed": false
   },
   "outputs": [],
   "source": [
    "full_table.head()"
   ]
  },
  {
   "cell_type": "code",
   "execution_count": null,
   "metadata": {
    "collapsed": false
   },
   "outputs": [],
   "source": [
    "full_table['next intervention'].value_counts()"
   ]
  },
  {
   "cell_type": "code",
   "execution_count": null,
   "metadata": {
    "collapsed": false,
    "scrolled": false
   },
   "outputs": [],
   "source": [
    "formatted_tables = {}\n",
    "for inter,table in full_table.groupby('initial_treatment'):\n",
    "    table_pivot = table.assign(age_followup=table.age.astype(str)+'-'+table.followup.astype(str)).pivot(index='age_followup', \n",
    "                                                            columns='next intervention', \n",
    "                                                            values='probability (95% CI)')\n",
    "    age, followup = np.transpose([(int(a), int(f)) for a,f in table_pivot.index.str.split('-').values])\n",
    "    table_pivot = table_pivot.set_index([age, followup])\n",
    "    table_pivot.index.names = 'age', 'followup'\n",
    "    formatted_tables[inter] = (table_pivot[['none', 'uae', 'iud', 'myomectomy', 'hysterectomy', 'MRIgFUS']]\n",
    "                               .sortlevel([0,1]))"
   ]
  },
  {
   "cell_type": "code",
   "execution_count": null,
   "metadata": {
    "collapsed": false
   },
   "outputs": [],
   "source": [
    "formatted_tables['UAE']"
   ]
  },
  {
   "cell_type": "code",
   "execution_count": null,
   "metadata": {
    "collapsed": false
   },
   "outputs": [],
   "source": [
    "formatted_tables['myomectomy']"
   ]
  },
  {
   "cell_type": "code",
   "execution_count": null,
   "metadata": {
    "collapsed": false
   },
   "outputs": [],
   "source": [
    "formatted_tables['medical management']"
   ]
  },
  {
   "cell_type": "markdown",
   "metadata": {},
   "source": [
    "## Model checking\n",
    "\n",
    "Posterior predictive checks for models. We generate simulated datasets using the model, and check where the observed data lies in the distribution of simulated values. Extreme values of the data percentile is suggestive of problems."
   ]
  },
  {
   "cell_type": "code",
   "execution_count": null,
   "metadata": {
    "collapsed": false
   },
   "outputs": [],
   "source": [
    "ppc_uae = pm.sample_ppc(trace_uae, model=uae_model, samples=500)"
   ]
  },
  {
   "cell_type": "code",
   "execution_count": null,
   "metadata": {
    "collapsed": true
   },
   "outputs": [],
   "source": [
    "intervention_data = dataset[(dataset.intervention_cat=='uae')\n",
    "                            & ~dataset[outcome_cats].isnull().sum(axis=1).astype(bool)].copy()\n",
    "    \n",
    "outcomes = intervention_data[[ 'hysterectomy', 'myomectomy', 'uae',\n",
    "       'MRIgFUS', 'ablation', 'iud', 'no_treatment']].values"
   ]
  },
  {
   "cell_type": "code",
   "execution_count": null,
   "metadata": {
    "collapsed": false
   },
   "outputs": [],
   "source": [
    "from scipy.stats import percentileofscore"
   ]
  },
  {
   "cell_type": "markdown",
   "metadata": {},
   "source": [
    "Calculate percentiles of each observation relative to simulated data."
   ]
  },
  {
   "cell_type": "code",
   "execution_count": null,
   "metadata": {
    "collapsed": false
   },
   "outputs": [],
   "source": [
    "percentiles = []\n",
    "\n",
    "for label in ppc_uae:\n",
    "    \n",
    "    if label.startswith('likelihood'):\n",
    "        \n",
    "        tokens = label.split('_')\n",
    "        index = int(tokens[1])\n",
    "        \n",
    "        simvals = ppc_uae[label]\n",
    "        obsvals = outcomes[index]\n",
    "        \n",
    "        p = [percentileofscore(s, o).round(2) for s,o in zip(simvals.T, obsvals)]\n",
    "        \n",
    "        percentiles.append(pd.Series(p, index=outcome_cats))\n",
    "        \n",
    "pd.concat(percentiles, axis=1).T.hist();"
   ]
  }
 ],
 "metadata": {
  "_draft": {
   "nbviewer_url": "https://gist.github.com/43d247a0576991387b43591ccc2a0aeb"
  },
  "anaconda-cloud": {},
  "gist": {
   "data": {
    "description": "UF Interventions Meta-analysis",
    "public": true
   },
   "id": "43d247a0576991387b43591ccc2a0aeb"
  },
  "kernelspec": {
   "display_name": "Python 3",
   "language": "python",
   "name": "python3"
  },
  "language_info": {
   "codemirror_mode": {
    "name": "ipython",
    "version": 3
   },
   "file_extension": ".py",
   "mimetype": "text/x-python",
   "name": "python",
   "nbconvert_exporter": "python",
   "pygments_lexer": "ipython3",
   "version": "3.4.3"
  }
 },
 "nbformat": 4,
 "nbformat_minor": 1
}
